{
  "nbformat": 4,
  "nbformat_minor": 0,
  "metadata": {
    "colab": {
      "name": "LSTM.ipynb",
      "provenance": [],
      "collapsed_sections": []
    },
    "kernelspec": {
      "name": "python3",
      "display_name": "Python 3"
    },
    "language_info": {
      "name": "python"
    }
  },
  "cells": [
    {
      "cell_type": "code",
      "execution_count": 1,
      "metadata": {
        "id": "9rg2T7imi8is"
      },
      "outputs": [],
      "source": [
        "import numpy as np \n",
        "import tensorflow as tf\n",
        "import pickle\n",
        "from tensorflow import keras\n",
        "from tensorflow.keras import layers, activations, models, preprocessing"
      ]
    },
    {
      "cell_type": "code",
      "source": [
        "!pip install kaggle --upgrade"
      ],
      "metadata": {
        "colab": {
          "base_uri": "https://localhost:8080/"
        },
        "id": "K3RTLaIBjO3F",
        "outputId": "a48afdc1-2c59-4b9d-8147-287846697f61"
      },
      "execution_count": 2,
      "outputs": [
        {
          "output_type": "stream",
          "name": "stdout",
          "text": [
            "Looking in indexes: https://pypi.org/simple, https://us-python.pkg.dev/colab-wheels/public/simple/\n",
            "Requirement already satisfied: kaggle in /usr/local/lib/python3.7/dist-packages (1.5.12)\n",
            "Requirement already satisfied: urllib3 in /usr/local/lib/python3.7/dist-packages (from kaggle) (1.24.3)\n",
            "Requirement already satisfied: python-dateutil in /usr/local/lib/python3.7/dist-packages (from kaggle) (2.8.2)\n",
            "Requirement already satisfied: certifi in /usr/local/lib/python3.7/dist-packages (from kaggle) (2022.5.18.1)\n",
            "Requirement already satisfied: six>=1.10 in /usr/local/lib/python3.7/dist-packages (from kaggle) (1.15.0)\n",
            "Requirement already satisfied: tqdm in /usr/local/lib/python3.7/dist-packages (from kaggle) (4.64.0)\n",
            "Requirement already satisfied: requests in /usr/local/lib/python3.7/dist-packages (from kaggle) (2.23.0)\n",
            "Requirement already satisfied: python-slugify in /usr/local/lib/python3.7/dist-packages (from kaggle) (6.1.2)\n",
            "Requirement already satisfied: text-unidecode>=1.3 in /usr/local/lib/python3.7/dist-packages (from python-slugify->kaggle) (1.3)\n",
            "Requirement already satisfied: idna<3,>=2.5 in /usr/local/lib/python3.7/dist-packages (from requests->kaggle) (2.10)\n",
            "Requirement already satisfied: chardet<4,>=3.0.2 in /usr/local/lib/python3.7/dist-packages (from requests->kaggle) (3.0.4)\n"
          ]
        }
      ]
    },
    {
      "cell_type": "code",
      "source": [
        "from google.colab import files\n",
        "files.upload()"
      ],
      "metadata": {
        "colab": {
          "resources": {
            "http://localhost:8080/nbextensions/google.colab/files.js": {
              "data": "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",
              "ok": true,
              "headers": [
                [
                  "content-type",
                  "application/javascript"
                ]
              ],
              "status": 200,
              "status_text": ""
            }
          },
          "base_uri": "https://localhost:8080/",
          "height": 91
        },
        "id": "AwVhrwRTjTGy",
        "outputId": "73f5f326-f723-4530-a254-6da73c39ae3c"
      },
      "execution_count": 3,
      "outputs": [
        {
          "output_type": "display_data",
          "data": {
            "text/plain": [
              "<IPython.core.display.HTML object>"
            ],
            "text/html": [
              "\n",
              "     <input type=\"file\" id=\"files-8f551ea9-d73d-43ee-8c0c-87d86bcd4ea1\" name=\"files[]\" multiple disabled\n",
              "        style=\"border:none\" />\n",
              "     <output id=\"result-8f551ea9-d73d-43ee-8c0c-87d86bcd4ea1\">\n",
              "      Upload widget is only available when the cell has been executed in the\n",
              "      current browser session. Please rerun this cell to enable.\n",
              "      </output>\n",
              "      <script src=\"/nbextensions/google.colab/files.js\"></script> "
            ]
          },
          "metadata": {}
        },
        {
          "output_type": "stream",
          "name": "stdout",
          "text": [
            "Saving kaggle.json to kaggle.json\n"
          ]
        },
        {
          "output_type": "execute_result",
          "data": {
            "text/plain": [
              "{'kaggle.json': b'{\"username\":\"thingcph\",\"key\":\"874752620ff669e2fda909690de005fd\"}'}"
            ]
          },
          "metadata": {},
          "execution_count": 3
        }
      ]
    },
    {
      "cell_type": "code",
      "source": [
        "!mkdir -p ~/.kaggle"
      ],
      "metadata": {
        "id": "C3rrcayBjaVJ"
      },
      "execution_count": 4,
      "outputs": []
    },
    {
      "cell_type": "code",
      "source": [
        "!cp kaggle.json ~/.kaggle/"
      ],
      "metadata": {
        "id": "I2Fjxr4vjcNF"
      },
      "execution_count": 5,
      "outputs": []
    },
    {
      "cell_type": "code",
      "source": [
        "!ls ~/.kaggle"
      ],
      "metadata": {
        "id": "Xro5n4jajfQy",
        "colab": {
          "base_uri": "https://localhost:8080/"
        },
        "outputId": "94ac5d65-522b-4e0a-9b09-20078906c65d"
      },
      "execution_count": 6,
      "outputs": [
        {
          "output_type": "stream",
          "name": "stdout",
          "text": [
            "kaggle.json\n"
          ]
        }
      ]
    },
    {
      "cell_type": "code",
      "source": [
        "!chmod 600 /root/.kaggle/kaggle.json"
      ],
      "metadata": {
        "id": "HlkfUK6SjiIk"
      },
      "execution_count": 7,
      "outputs": []
    },
    {
      "cell_type": "code",
      "source": [
        "from tensorflow.keras import preprocessing, utils\n",
        "import os\n",
        "import pandas as pd"
      ],
      "metadata": {
        "id": "kNG66zipkAfD"
      },
      "execution_count": 8,
      "outputs": []
    },
    {
      "cell_type": "code",
      "source": [
        "import re\n",
        "import pandas as pd\n",
        "from nltk.corpus import stopwords\n",
        "\n",
        "import tensorflow as tf\n",
        "from tensorflow import keras\n",
        "from keras.preprocessing.text import Tokenizer\n",
        "from keras.preprocessing.sequence import pad_sequences\n",
        "\n",
        "import matplotlib.pyplot as plt\n",
        "import seaborn as sns\n",
        "sns.set_style(\"whitegrid\")\n",
        "\n",
        "from keras.layers import Input,Embedding,Bidirectional,LSTM,Dense,Concatenate\n",
        "from keras.models import Model\n",
        "import nltk\n",
        "nltk.download('stopwords')\n",
        "nltk.download('punkt')\n",
        "import numpy as np"
      ],
      "metadata": {
        "colab": {
          "base_uri": "https://localhost:8080/"
        },
        "id": "VU_RS95HnykW",
        "outputId": "af5e5330-7460-4fbc-8895-bbccefb8b50d"
      },
      "execution_count": 9,
      "outputs": [
        {
          "output_type": "stream",
          "name": "stdout",
          "text": [
            "[nltk_data] Downloading package stopwords to /root/nltk_data...\n",
            "[nltk_data]   Unzipping corpora/stopwords.zip.\n",
            "[nltk_data] Downloading package punkt to /root/nltk_data...\n",
            "[nltk_data]   Unzipping tokenizers/punkt.zip.\n"
          ]
        }
      ]
    },
    {
      "cell_type": "code",
      "source": [
        "\n",
        "\n",
        "questions=list()\n",
        "answers=list()\n",
        "\n",
        "filename = 'DataChatbot.csv'\n",
        "df = pd.read_csv(filename,encoding = 'utf8')\n",
        "df = df.astype(str)\n",
        "\n",
        "data = df.values #numpy \n",
        "print(data.shape)\n",
        "questions = data[:,1]# X\n",
        "answers = data[:,-1]# y\n",
        "\n",
        "print(questions[:10])\n",
        "print(answers[:10])"
      ],
      "metadata": {
        "colab": {
          "base_uri": "https://localhost:8080/"
        },
        "id": "16DeBicV7Ic0",
        "outputId": "22dd99d9-ca47-415b-f6b3-c72e30cee370"
      },
      "execution_count": 11,
      "outputs": [
        {
          "output_type": "stream",
          "name": "stdout",
          "text": [
            "(5900, 3)\n",
            "['Thích mẫu người nào' 'Có crush ai không' 'Tại sao lại thích bạn dó'\n",
            " 'Có hay nói chuyện không' 'Bạn kia có bắt chuyện trước không'\n",
            " 'Có định rủ bạn đó về quê dịp Tết không' 'Có hay đi chơi với nhau không'\n",
            " 'Sở thích mày sao?' 'Thích phim gì?' 'Thích chơi gì?']\n",
            "['Dễ thương, tóc dài, da trắng' 'Có 1 bạn cùng lớp'\n",
            " 'Vì đáp ứng những yêu cầu của tao' 'Hay nhắn tin messenger' 'Có đôi khi'\n",
            " 'Có, đang đợi trả lời' 'Thường đi cùng cả nhóm bạn'\n",
            " 'Thích phim, đồ ăn, thể thao' 'Phim ma' 'chơi đá banh']\n"
          ]
        }
      ]
    },
    {
      "cell_type": "code",
      "source": [
        "\n",
        "import glob\n",
        "import os\n",
        "answers_with_tags = list()\n",
        "for i in range( len( answers ) ):\n",
        "    if type( answers[i] ) == str:\n",
        "        answers_with_tags.append( answers[i] )\n",
        "    else:\n",
        "        questions.pop( i )\n",
        "\n",
        "answers = list()\n",
        "for i in range( len( answers_with_tags ) ) :\n",
        "    answers.append( '<START> ' + answers_with_tags[i] + ' <END>' )\n",
        "\n",
        "tokenizer = preprocessing.text.Tokenizer()\n",
        "tokenizer.fit_on_texts( questions + answers )\n",
        "VOCAB_SIZE = len( tokenizer.word_index )+1\n",
        "print( 'VOCAB SIZE : {}'.format( VOCAB_SIZE ))"
      ],
      "metadata": {
        "colab": {
          "base_uri": "https://localhost:8080/"
        },
        "id": "R4EPC5Xdn9D1",
        "outputId": "beb756b0-f788-4402-839c-59b4818c3f53"
      },
      "execution_count": 12,
      "outputs": [
        {
          "output_type": "stream",
          "name": "stdout",
          "text": [
            "VOCAB SIZE : 3098\n"
          ]
        }
      ]
    },
    {
      "cell_type": "code",
      "source": [
        "from gensim.models import Word2Vec\n",
        "import re"
      ],
      "metadata": {
        "id": "5rF2C02Ooat1"
      },
      "execution_count": 13,
      "outputs": []
    },
    {
      "cell_type": "code",
      "source": [
        "vocab = []\n",
        "for word in tokenizer.word_index:\n",
        "  vocab.append(word)\n",
        "\n",
        "def tokenize(sentences):\n",
        "  tokens_list = []\n",
        "  vocabulary = []\n",
        "  for sentence in sentences:\n",
        "    sentence = sentence.lower()\n",
        "    sentence = re.sub('[^a-zA-Z]', ' ', sentence)\n",
        "    tokens = sentence.split()\n",
        "    vocabulary += tokens\n",
        "    tokens_list.append(tokens)\n",
        "  return tokens_list, vocabulary"
      ],
      "metadata": {
        "id": "3auK8T03onYc"
      },
      "execution_count": 14,
      "outputs": []
    },
    {
      "cell_type": "code",
      "source": [
        "#encoder_input_data\n",
        "tokenized_questions = tokenizer.texts_to_sequences( questions )\n",
        "maxlen_questions = max( [len(x) for x in tokenized_questions ] )\n",
        "padded_questions = preprocessing.sequence.pad_sequences( tokenized_questions, maxlen = maxlen_questions, padding = 'post')\n",
        "encoder_input_data = np.array(padded_questions)\n",
        "print(encoder_input_data.shape, maxlen_questions)"
      ],
      "metadata": {
        "colab": {
          "base_uri": "https://localhost:8080/"
        },
        "id": "ufQyHk0ios2V",
        "outputId": "a1a01412-38f9-4429-941f-573faa011a32"
      },
      "execution_count": 15,
      "outputs": [
        {
          "output_type": "stream",
          "name": "stdout",
          "text": [
            "(5900, 93) 93\n"
          ]
        }
      ]
    },
    {
      "cell_type": "code",
      "source": [
        "# decoder_input_data\n",
        "tokenized_answers = tokenizer.texts_to_sequences( answers )\n",
        "maxlen_answers = max( [ len(x) for x in tokenized_answers ] )\n",
        "padded_answers = preprocessing.sequence.pad_sequences( tokenized_answers , maxlen=maxlen_answers , padding='post' )\n",
        "decoder_input_data = np.array( padded_answers )\n",
        "print( decoder_input_data.shape , maxlen_answers )"
      ],
      "metadata": {
        "colab": {
          "base_uri": "https://localhost:8080/"
        },
        "id": "ZPTVWbLaqefb",
        "outputId": "78be9efe-1460-4442-9918-2dad32d22572"
      },
      "execution_count": 16,
      "outputs": [
        {
          "output_type": "stream",
          "name": "stdout",
          "text": [
            "(5900, 62) 62\n"
          ]
        }
      ]
    },
    {
      "cell_type": "code",
      "source": [
        "# decoder_output_data\n",
        "tokenized_answers = tokenizer.texts_to_sequences( answers )\n",
        "for i in range(len(tokenized_answers)) :\n",
        "    tokenized_answers[i] = tokenized_answers[i][1:]\n",
        "padded_answers = preprocessing.sequence.pad_sequences( tokenized_answers , maxlen=maxlen_answers , padding='post' )\n",
        "onehot_answers = utils.to_categorical( padded_answers , VOCAB_SIZE )\n",
        "decoder_output_data = np.array( onehot_answers )\n",
        "print( decoder_output_data.shape )"
      ],
      "metadata": {
        "colab": {
          "base_uri": "https://localhost:8080/"
        },
        "id": "8adNBpQBrKLt",
        "outputId": "431154d9-660c-4868-92a9-d08b27cf3f9e"
      },
      "execution_count": 17,
      "outputs": [
        {
          "output_type": "stream",
          "name": "stdout",
          "text": [
            "(5900, 62, 3098)\n"
          ]
        }
      ]
    },
    {
      "cell_type": "code",
      "source": [
        "encoder_inputs = tf.keras.layers.Input(shape=( maxlen_questions , ))\n",
        "encoder_embedding = tf.keras.layers.Embedding( VOCAB_SIZE, 200 , mask_zero=True ) (encoder_inputs)\n",
        "encoder_outputs , state_h , state_c = tf.keras.layers.LSTM( 200 , return_state=True )( encoder_embedding )\n",
        "encoder_states = [ state_h , state_c ]\n",
        "\n",
        "decoder_inputs = tf.keras.layers.Input(shape=( maxlen_answers ,  ))\n",
        "decoder_embedding = tf.keras.layers.Embedding( VOCAB_SIZE, 200 , mask_zero=True) (decoder_inputs)\n",
        "decoder_lstm = tf.keras.layers.LSTM( 200 , return_state=True , return_sequences=True )\n",
        "decoder_outputs , _ , _ = decoder_lstm ( decoder_embedding , initial_state=encoder_states )\n",
        "decoder_dense = tf.keras.layers.Dense( VOCAB_SIZE , activation=tf.keras.activations.softmax ) \n",
        "output = decoder_dense ( decoder_outputs )\n",
        "\n",
        "model = tf.keras.models.Model([encoder_inputs, decoder_inputs], output )\n",
        "model.compile(optimizer=tf.keras.optimizers.RMSprop(), loss='categorical_crossentropy')\n",
        "\n",
        "model.summary()"
      ],
      "metadata": {
        "colab": {
          "base_uri": "https://localhost:8080/"
        },
        "id": "SeJp53SirMB3",
        "outputId": "ccd967de-b128-4f64-f072-06075468d39b"
      },
      "execution_count": 18,
      "outputs": [
        {
          "output_type": "stream",
          "name": "stdout",
          "text": [
            "Model: \"model\"\n",
            "__________________________________________________________________________________________________\n",
            " Layer (type)                   Output Shape         Param #     Connected to                     \n",
            "==================================================================================================\n",
            " input_1 (InputLayer)           [(None, 93)]         0           []                               \n",
            "                                                                                                  \n",
            " input_2 (InputLayer)           [(None, 62)]         0           []                               \n",
            "                                                                                                  \n",
            " embedding (Embedding)          (None, 93, 200)      619600      ['input_1[0][0]']                \n",
            "                                                                                                  \n",
            " embedding_1 (Embedding)        (None, 62, 200)      619600      ['input_2[0][0]']                \n",
            "                                                                                                  \n",
            " lstm (LSTM)                    [(None, 200),        320800      ['embedding[0][0]']              \n",
            "                                 (None, 200),                                                     \n",
            "                                 (None, 200)]                                                     \n",
            "                                                                                                  \n",
            " lstm_1 (LSTM)                  [(None, 62, 200),    320800      ['embedding_1[0][0]',            \n",
            "                                 (None, 200),                     'lstm[0][1]',                   \n",
            "                                 (None, 200)]                     'lstm[0][2]']                   \n",
            "                                                                                                  \n",
            " dense (Dense)                  (None, 62, 3098)     622698      ['lstm_1[0][0]']                 \n",
            "                                                                                                  \n",
            "==================================================================================================\n",
            "Total params: 2,503,498\n",
            "Trainable params: 2,503,498\n",
            "Non-trainable params: 0\n",
            "__________________________________________________________________________________________________\n"
          ]
        }
      ]
    },
    {
      "cell_type": "code",
      "source": [
        "\n",
        "model.fit([encoder_input_data , decoder_input_data], decoder_output_data, batch_size=50, epochs=100 ) \n",
        "model.save( 'model.h5' )"
      ],
      "metadata": {
        "colab": {
          "base_uri": "https://localhost:8080/"
        },
        "id": "vv3O6elHrPW3",
        "outputId": "f55450a1-2f3b-4bb9-ed30-6b75e7f6c190"
      },
      "execution_count": 19,
      "outputs": [
        {
          "output_type": "stream",
          "name": "stdout",
          "text": [
            "Epoch 1/100\n",
            "118/118 [==============================] - 117s 931ms/step - loss: 0.4134\n",
            "Epoch 2/100\n",
            "118/118 [==============================] - 108s 915ms/step - loss: 0.3623\n",
            "Epoch 3/100\n",
            "118/118 [==============================] - 108s 917ms/step - loss: 0.3519\n",
            "Epoch 4/100\n",
            "118/118 [==============================] - 109s 922ms/step - loss: 0.3413\n",
            "Epoch 5/100\n",
            "118/118 [==============================] - 108s 918ms/step - loss: 0.3305\n",
            "Epoch 6/100\n",
            "118/118 [==============================] - 108s 917ms/step - loss: 0.3201\n",
            "Epoch 7/100\n",
            "118/118 [==============================] - 109s 926ms/step - loss: 0.3104\n",
            "Epoch 8/100\n",
            "118/118 [==============================] - 109s 927ms/step - loss: 0.3012\n",
            "Epoch 9/100\n",
            "118/118 [==============================] - 109s 921ms/step - loss: 0.2921\n",
            "Epoch 10/100\n",
            "118/118 [==============================] - 108s 918ms/step - loss: 0.2834\n",
            "Epoch 11/100\n",
            "118/118 [==============================] - 108s 919ms/step - loss: 0.2750\n",
            "Epoch 12/100\n",
            "118/118 [==============================] - 109s 919ms/step - loss: 0.2668\n",
            "Epoch 13/100\n",
            "118/118 [==============================] - 108s 916ms/step - loss: 0.2588\n",
            "Epoch 14/100\n",
            "118/118 [==============================] - 109s 925ms/step - loss: 0.2506\n",
            "Epoch 15/100\n",
            "118/118 [==============================] - 107s 909ms/step - loss: 0.2427\n",
            "Epoch 16/100\n",
            "118/118 [==============================] - 107s 908ms/step - loss: 0.2349\n",
            "Epoch 17/100\n",
            "118/118 [==============================] - 106s 900ms/step - loss: 0.2277\n",
            "Epoch 18/100\n",
            "118/118 [==============================] - 108s 913ms/step - loss: 0.2200\n",
            "Epoch 19/100\n",
            "118/118 [==============================] - 109s 920ms/step - loss: 0.2127\n",
            "Epoch 20/100\n",
            "118/118 [==============================] - 109s 922ms/step - loss: 0.2056\n",
            "Epoch 21/100\n",
            "118/118 [==============================] - 108s 913ms/step - loss: 0.1984\n",
            "Epoch 22/100\n",
            "118/118 [==============================] - 108s 911ms/step - loss: 0.1917\n",
            "Epoch 23/100\n",
            "118/118 [==============================] - 109s 922ms/step - loss: 0.1853\n",
            "Epoch 24/100\n",
            "118/118 [==============================] - 108s 918ms/step - loss: 0.1789\n",
            "Epoch 25/100\n",
            "118/118 [==============================] - 108s 916ms/step - loss: 0.1723\n",
            "Epoch 26/100\n",
            "118/118 [==============================] - 108s 914ms/step - loss: 0.1662\n",
            "Epoch 27/100\n",
            "118/118 [==============================] - 107s 911ms/step - loss: 0.1599\n",
            "Epoch 28/100\n",
            "118/118 [==============================] - 108s 913ms/step - loss: 0.1541\n",
            "Epoch 29/100\n",
            "118/118 [==============================] - 108s 911ms/step - loss: 0.1481\n",
            "Epoch 30/100\n",
            "118/118 [==============================] - 107s 910ms/step - loss: 0.1426\n",
            "Epoch 31/100\n",
            "118/118 [==============================] - 107s 910ms/step - loss: 0.1369\n",
            "Epoch 32/100\n",
            "118/118 [==============================] - 108s 914ms/step - loss: 0.1317\n",
            "Epoch 33/100\n",
            "118/118 [==============================] - 109s 923ms/step - loss: 0.1264\n",
            "Epoch 34/100\n",
            "118/118 [==============================] - 107s 908ms/step - loss: 0.1211\n",
            "Epoch 35/100\n",
            "118/118 [==============================] - 107s 909ms/step - loss: 0.1159\n",
            "Epoch 36/100\n",
            "118/118 [==============================] - 108s 912ms/step - loss: 0.1112\n",
            "Epoch 37/100\n",
            "118/118 [==============================] - 107s 910ms/step - loss: 0.1065\n",
            "Epoch 38/100\n",
            "118/118 [==============================] - 108s 916ms/step - loss: 0.1019\n",
            "Epoch 39/100\n",
            "118/118 [==============================] - 108s 917ms/step - loss: 0.0977\n",
            "Epoch 40/100\n",
            "118/118 [==============================] - 108s 911ms/step - loss: 0.0932\n",
            "Epoch 41/100\n",
            "118/118 [==============================] - 107s 911ms/step - loss: 0.0894\n",
            "Epoch 42/100\n",
            "118/118 [==============================] - 108s 919ms/step - loss: 0.0854\n",
            "Epoch 43/100\n",
            "118/118 [==============================] - 108s 919ms/step - loss: 0.0816\n",
            "Epoch 44/100\n",
            "118/118 [==============================] - 108s 913ms/step - loss: 0.0782\n",
            "Epoch 45/100\n",
            "118/118 [==============================] - 107s 910ms/step - loss: 0.0748\n",
            "Epoch 46/100\n",
            "118/118 [==============================] - 108s 912ms/step - loss: 0.0713\n",
            "Epoch 47/100\n",
            "118/118 [==============================] - 108s 913ms/step - loss: 0.0684\n",
            "Epoch 48/100\n",
            "118/118 [==============================] - 108s 912ms/step - loss: 0.0655\n",
            "Epoch 49/100\n",
            "118/118 [==============================] - 108s 911ms/step - loss: 0.0626\n",
            "Epoch 50/100\n",
            "118/118 [==============================] - 107s 910ms/step - loss: 0.0599\n",
            "Epoch 51/100\n",
            "118/118 [==============================] - 106s 900ms/step - loss: 0.0574\n",
            "Epoch 52/100\n",
            "118/118 [==============================] - 106s 902ms/step - loss: 0.0552\n",
            "Epoch 53/100\n",
            "118/118 [==============================] - 107s 903ms/step - loss: 0.0527\n",
            "Epoch 54/100\n",
            "118/118 [==============================] - 108s 912ms/step - loss: 0.0506\n",
            "Epoch 55/100\n",
            "118/118 [==============================] - 107s 907ms/step - loss: 0.0485\n",
            "Epoch 56/100\n",
            "118/118 [==============================] - 107s 904ms/step - loss: 0.0466\n",
            "Epoch 57/100\n",
            "118/118 [==============================] - 108s 917ms/step - loss: 0.0449\n",
            "Epoch 58/100\n",
            "118/118 [==============================] - 111s 941ms/step - loss: 0.0432\n",
            "Epoch 59/100\n",
            "118/118 [==============================] - 108s 917ms/step - loss: 0.0415\n",
            "Epoch 60/100\n",
            "118/118 [==============================] - 109s 922ms/step - loss: 0.0398\n",
            "Epoch 61/100\n",
            "118/118 [==============================] - 107s 909ms/step - loss: 0.0379\n",
            "Epoch 62/100\n",
            "118/118 [==============================] - 110s 928ms/step - loss: 0.0367\n",
            "Epoch 63/100\n",
            "118/118 [==============================] - 109s 922ms/step - loss: 0.0353\n",
            "Epoch 64/100\n",
            "118/118 [==============================] - 109s 928ms/step - loss: 0.0344\n",
            "Epoch 65/100\n",
            "118/118 [==============================] - 109s 922ms/step - loss: 0.0332\n",
            "Epoch 66/100\n",
            "118/118 [==============================] - 108s 918ms/step - loss: 0.0322\n",
            "Epoch 67/100\n",
            "118/118 [==============================] - 108s 913ms/step - loss: 0.0313\n",
            "Epoch 68/100\n",
            "118/118 [==============================] - 107s 911ms/step - loss: 0.0301\n",
            "Epoch 69/100\n",
            "118/118 [==============================] - 109s 922ms/step - loss: 0.0294\n",
            "Epoch 70/100\n",
            "118/118 [==============================] - 108s 911ms/step - loss: 0.0285\n",
            "Epoch 71/100\n",
            "118/118 [==============================] - 108s 911ms/step - loss: 0.0278\n",
            "Epoch 72/100\n",
            "118/118 [==============================] - 109s 920ms/step - loss: 0.0271\n",
            "Epoch 73/100\n",
            "118/118 [==============================] - 109s 922ms/step - loss: 0.0263\n",
            "Epoch 74/100\n",
            "118/118 [==============================] - 109s 921ms/step - loss: 0.0257\n",
            "Epoch 75/100\n",
            "118/118 [==============================] - 109s 922ms/step - loss: 0.0251\n",
            "Epoch 76/100\n",
            "118/118 [==============================] - 108s 916ms/step - loss: 0.0244\n",
            "Epoch 77/100\n",
            "118/118 [==============================] - 108s 917ms/step - loss: 0.0239\n",
            "Epoch 78/100\n",
            "118/118 [==============================] - 108s 915ms/step - loss: 0.0232\n",
            "Epoch 79/100\n",
            "118/118 [==============================] - 108s 913ms/step - loss: 0.0228\n",
            "Epoch 80/100\n",
            "118/118 [==============================] - 110s 934ms/step - loss: 0.0224\n",
            "Epoch 81/100\n",
            "118/118 [==============================] - 109s 922ms/step - loss: 0.0219\n",
            "Epoch 82/100\n",
            "118/118 [==============================] - 108s 919ms/step - loss: 0.0214\n",
            "Epoch 83/100\n",
            "118/118 [==============================] - 109s 925ms/step - loss: 0.0209\n",
            "Epoch 84/100\n",
            "118/118 [==============================] - 108s 918ms/step - loss: 0.0205\n",
            "Epoch 85/100\n",
            "118/118 [==============================] - 108s 912ms/step - loss: 0.0201\n",
            "Epoch 86/100\n",
            "118/118 [==============================] - 108s 918ms/step - loss: 0.0196\n",
            "Epoch 87/100\n",
            "118/118 [==============================] - 109s 920ms/step - loss: 0.0192\n",
            "Epoch 88/100\n",
            "118/118 [==============================] - 108s 916ms/step - loss: 0.0189\n",
            "Epoch 89/100\n",
            "118/118 [==============================] - 108s 917ms/step - loss: 0.0185\n",
            "Epoch 90/100\n",
            "118/118 [==============================] - 108s 917ms/step - loss: 0.0183\n",
            "Epoch 91/100\n",
            "118/118 [==============================] - 111s 938ms/step - loss: 0.0179\n",
            "Epoch 92/100\n",
            "118/118 [==============================] - 110s 936ms/step - loss: 0.0176\n",
            "Epoch 93/100\n",
            "118/118 [==============================] - 109s 927ms/step - loss: 0.0172\n",
            "Epoch 94/100\n",
            "118/118 [==============================] - 109s 922ms/step - loss: 0.0170\n",
            "Epoch 95/100\n",
            "118/118 [==============================] - 110s 932ms/step - loss: 0.0167\n",
            "Epoch 96/100\n",
            "118/118 [==============================] - 110s 935ms/step - loss: 0.0164\n",
            "Epoch 97/100\n",
            "118/118 [==============================] - 110s 934ms/step - loss: 0.0162\n",
            "Epoch 98/100\n",
            "118/118 [==============================] - 111s 937ms/step - loss: 0.0159\n",
            "Epoch 99/100\n",
            "118/118 [==============================] - 110s 931ms/step - loss: 0.0156\n",
            "Epoch 100/100\n",
            "118/118 [==============================] - 113s 957ms/step - loss: 0.0155\n"
          ]
        }
      ]
    },
    {
      "cell_type": "code",
      "source": [
        "new_model = tf.keras.models.load_model('model.h5')\n",
        "\n",
        "new_model.summary()"
      ],
      "metadata": {
        "id": "Gwqo36H2RQCW",
        "colab": {
          "base_uri": "https://localhost:8080/"
        },
        "outputId": "43c4f72e-8a13-4566-9891-da84d965bf8e"
      },
      "execution_count": 20,
      "outputs": [
        {
          "output_type": "stream",
          "name": "stdout",
          "text": [
            "Model: \"model\"\n",
            "__________________________________________________________________________________________________\n",
            " Layer (type)                   Output Shape         Param #     Connected to                     \n",
            "==================================================================================================\n",
            " input_1 (InputLayer)           [(None, 93)]         0           []                               \n",
            "                                                                                                  \n",
            " input_2 (InputLayer)           [(None, 62)]         0           []                               \n",
            "                                                                                                  \n",
            " embedding (Embedding)          (None, 93, 200)      619600      ['input_1[0][0]']                \n",
            "                                                                                                  \n",
            " embedding_1 (Embedding)        (None, 62, 200)      619600      ['input_2[0][0]']                \n",
            "                                                                                                  \n",
            " lstm (LSTM)                    [(None, 200),        320800      ['embedding[0][0]']              \n",
            "                                 (None, 200),                                                     \n",
            "                                 (None, 200)]                                                     \n",
            "                                                                                                  \n",
            " lstm_1 (LSTM)                  [(None, 62, 200),    320800      ['embedding_1[0][0]',            \n",
            "                                 (None, 200),                     'lstm[0][1]',                   \n",
            "                                 (None, 200)]                     'lstm[0][2]']                   \n",
            "                                                                                                  \n",
            " dense (Dense)                  (None, 62, 3098)     622698      ['lstm_1[0][0]']                 \n",
            "                                                                                                  \n",
            "==================================================================================================\n",
            "Total params: 2,503,498\n",
            "Trainable params: 2,503,498\n",
            "Non-trainable params: 0\n",
            "__________________________________________________________________________________________________\n"
          ]
        }
      ]
    },
    {
      "cell_type": "code",
      "source": [
        "def make_inference_models():\n",
        "    \n",
        "    encoder_model = tf.keras.models.Model(encoder_inputs, encoder_states)\n",
        "    \n",
        "    decoder_state_input_h = tf.keras.layers.Input(shape=( 200 ,))\n",
        "    decoder_state_input_c = tf.keras.layers.Input(shape=( 200 ,))\n",
        "    \n",
        "    decoder_states_inputs = [decoder_state_input_h, decoder_state_input_c]\n",
        "    \n",
        "    decoder_outputs, state_h, state_c = decoder_lstm(\n",
        "        decoder_embedding , initial_state=decoder_states_inputs)\n",
        "    \n",
        "    decoder_states = [state_h, state_c]\n",
        "\n",
        "    decoder_outputs = decoder_dense(decoder_outputs)\n",
        "    \n",
        "    decoder_model = tf.keras.models.Model(\n",
        "        [decoder_inputs] + decoder_states_inputs,\n",
        "        [decoder_outputs] + decoder_states)\n",
        "    \n",
        "    return encoder_model , decoder_model"
      ],
      "metadata": {
        "id": "BBcRH8rhraOm"
      },
      "execution_count": 22,
      "outputs": []
    },
    {
      "cell_type": "code",
      "source": [
        "def str_to_tokens( sentence : str ):\n",
        "\n",
        "    words = sentence.lower().split()\n",
        "    tokens_list = list()\n",
        "  \n",
        "    for word in words:\n",
        "        tokens_list.append( tokenizer.word_index[ word ] ) \n",
        "    return preprocessing.sequence.pad_sequences( [tokens_list] , maxlen=maxlen_questions , padding='post')"
      ],
      "metadata": {
        "id": "Y7iz6AK3ziej"
      },
      "execution_count": 23,
      "outputs": []
    },
    {
      "cell_type": "code",
      "source": [
        "enc_model , dec_model = make_inference_models()\n",
        "\n",
        "for _ in range(10):\n",
        "    states_values = enc_model.predict( str_to_tokens( input( 'Enter question : ' ) ) )\n",
        "    empty_target_seq = np.zeros( ( 1 , 1 ) )\n",
        "    empty_target_seq[0, 0] = tokenizer.word_index['start']\n",
        "    stop_condition = False\n",
        "    decoded_translation = ''\n",
        "    while not stop_condition :\n",
        "        dec_outputs , h , c = dec_model.predict([ empty_target_seq ] + states_values )\n",
        "        sampled_word_index = np.argmax( dec_outputs[0, -1, :] )\n",
        "        sampled_word = None\n",
        "        for word , index in tokenizer.word_index.items() :\n",
        "            if sampled_word_index == index :\n",
        "                decoded_translation += ' {}'.format( word )\n",
        "                sampled_word = word\n",
        "        \n",
        "        if sampled_word == 'end' or len(decoded_translation.split()) > maxlen_answers:\n",
        "            stop_condition = True\n",
        "            \n",
        "        empty_target_seq = np.zeros( ( 1 , 1 ) )  \n",
        "        empty_target_seq[ 0 , 0 ] = sampled_word_index\n",
        "        states_values = [ h , c ] \n",
        "\n",
        "    print( decoded_translation )"
      ],
      "metadata": {
        "colab": {
          "base_uri": "https://localhost:8080/"
        },
        "id": "SEs4KpX3znzC",
        "outputId": "bbf51a4b-3614-42ea-d1f2-6294b8f5d149"
      },
      "execution_count": null,
      "outputs": [
        {
          "output_type": "stream",
          "name": "stdout",
          "text": [
            "Enter question : bạn có crush ai không\n",
            "WARNING:tensorflow:Model was constructed with shape (None, 62) for input KerasTensor(type_spec=TensorSpec(shape=(None, 62), dtype=tf.float32, name='input_2'), name='input_2', description=\"created by layer 'input_2'\"), but it was called on an input with incompatible shape (None, 1).\n",
            " có end\n",
            "Enter question : bạn thích người như thế nào\n",
            " mình thích người hiền lành end\n",
            "Enter question : bạn thích xem phim gì\n",
            " 18 end\n",
            "Enter question : bạn thích thể loại phim gì\n",
            " kinh dị end\n",
            "Enter question : bạn ghét thể loại phim gì\n",
            " hành động kinh dị end\n"
          ]
        }
      ]
    }
  ]
}