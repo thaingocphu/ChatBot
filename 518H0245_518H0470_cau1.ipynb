{
  "nbformat": 4,
  "nbformat_minor": 0,
  "metadata": {
    "kernelspec": {
      "display_name": "Python 3",
      "language": "python",
      "name": "python3"
    },
    "language_info": {
      "name": "python",
      "version": "3.6.6",
      "mimetype": "text/x-python",
      "codemirror_mode": {
        "name": "ipython",
        "version": 3
      },
      "pygments_lexer": "ipython3",
      "nbconvert_exporter": "python",
      "file_extension": ".py"
    },
    "colab": {
      "name": "518H0245_518H0470_final.ipynb",
      "provenance": []
    }
  },
  "cells": [
    {
      "cell_type": "markdown",
      "metadata": {
        "id": "view-in-github"
      },
      "source": [
        "<a href=\"https://colab.research.google.com/github/nthanhkhang/ChatBots-to-Question-Answer-systems/blob/main/Task1_NLP.ipynb\" target=\"_parent\"><img src=\"https://colab.research.google.com/assets/colab-badge.svg\" alt=\"Open In Colab\"/></a>"
      ]
    },
    {
      "cell_type": "markdown",
      "metadata": {
        "_uuid": "b9463e685f375b3bcb254927c459fc71fd51d45f",
        "id": "hHBmXtqa7X63"
      },
      "source": [
        "# CÂU 1 "
      ]
    },
    {
      "cell_type": "code",
      "metadata": {
        "trusted": true,
        "id": "yObsUMXf7X7P"
      },
      "source": [
        "import numpy as np\n",
        "import pandas as pd\n",
        "import string\n",
        "import gensim\n",
        "from nltk.corpus import stopwords\n",
        "import matplotlib.pyplot as plt\n",
        "from sklearn.preprocessing import LabelEncoder\n",
        "from sklearn.model_selection import train_test_split\n",
        "from sklearn.neighbors import KNeighborsClassifier\n",
        "from sklearn.naive_bayes import GaussianNB\n",
        "from sklearn import svm\n",
        "from sklearn import tree\n",
        "from sklearn.feature_extraction.text import CountVectorizer\n",
        "from sklearn.tree import DecisionTreeClassifier\n",
        "from sklearn.feature_extraction.text import TfidfTransformer,TfidfVectorizer\n",
        "from sklearn.pipeline import Pipeline\n",
        "from sklearn.metrics import classification_report, accuracy_score, precision_score, f1_score, recall_score"
      ],
      "execution_count": 2,
      "outputs": []
    },
    {
      "cell_type": "code",
      "source": [
        "filename = 'data.csv'\n",
        "df = pd.read_csv(filename,encoding = 'utf8',names=[\"id\", \"question\",\"answer\"])\n",
        "\n",
        "print(df.shape)\n",
        "print(df.columns)\n",
        "print(df.head(5))"
      ],
      "metadata": {
        "colab": {
          "base_uri": "https://localhost:8080/"
        },
        "id": "cjHPfBbp0sNC",
        "outputId": "1658df92-c8dd-4378-950f-e7ce6ff76916"
      },
      "execution_count": 21,
      "outputs": [
        {
          "output_type": "stream",
          "name": "stdout",
          "text": [
            "(5901, 3)\n",
            "Index(['id', 'question', 'answer'], dtype='object')\n",
            "    id                  question                            answer\n",
            "0  NaN                    user_a                            user_b\n",
            "1  0.0       Thích mẫu người nào      Dễ thương, tóc dài, da trắng\n",
            "2  1.0         Có crush ai không                 Có 1 bạn cùng lớp\n",
            "3  2.0  Tại sao lại thích bạn dó  Vì đáp ứng những yêu cầu của tao\n",
            "4  3.0   Có hay nói chuyện không            Hay nhắn tin messenger\n"
          ]
        }
      ]
    },
    {
      "cell_type": "code",
      "source": [
        "df.drop([0], axis=0, inplace=True)"
      ],
      "metadata": {
        "id": "krTloxHtc152"
      },
      "execution_count": 22,
      "outputs": []
    },
    {
      "cell_type": "code",
      "source": [
        "print(df.columns)\n",
        "print(df.head(5))"
      ],
      "metadata": {
        "colab": {
          "base_uri": "https://localhost:8080/"
        },
        "id": "JUuk6kKic9vC",
        "outputId": "946d040e-cde1-4f74-88e1-20c1bdb00c68"
      },
      "execution_count": 23,
      "outputs": [
        {
          "output_type": "stream",
          "name": "stdout",
          "text": [
            "Index(['id', 'question', 'answer'], dtype='object')\n",
            "    id                           question                            answer\n",
            "1  0.0                Thích mẫu người nào      Dễ thương, tóc dài, da trắng\n",
            "2  1.0                  Có crush ai không                 Có 1 bạn cùng lớp\n",
            "3  2.0           Tại sao lại thích bạn dó  Vì đáp ứng những yêu cầu của tao\n",
            "4  3.0            Có hay nói chuyện không            Hay nhắn tin messenger\n",
            "5  4.0  Bạn kia có bắt chuyện trước không                        Có đôi khi\n"
          ]
        }
      ]
    },
    {
      "cell_type": "code",
      "source": [
        "print(df.columns)\n",
        "print(df.head(5))"
      ],
      "metadata": {
        "colab": {
          "base_uri": "https://localhost:8080/"
        },
        "id": "le0AOuDtdbST",
        "outputId": "c84a50f4-b0b0-4d2c-d1ed-6307b5744478"
      },
      "execution_count": 24,
      "outputs": [
        {
          "output_type": "stream",
          "name": "stdout",
          "text": [
            "Index(['id', 'question', 'answer'], dtype='object')\n",
            "    id                           question                            answer\n",
            "1  0.0                Thích mẫu người nào      Dễ thương, tóc dài, da trắng\n",
            "2  1.0                  Có crush ai không                 Có 1 bạn cùng lớp\n",
            "3  2.0           Tại sao lại thích bạn dó  Vì đáp ứng những yêu cầu của tao\n",
            "4  3.0            Có hay nói chuyện không            Hay nhắn tin messenger\n",
            "5  4.0  Bạn kia có bắt chuyện trước không                        Có đôi khi\n"
          ]
        }
      ]
    },
    {
      "cell_type": "code",
      "metadata": {
        "trusted": true,
        "id": "rwlHspHp7X7V"
      },
      "source": [
        "def cleaner(x):\n",
        "    return [a for a in (''.join([a for a in x if a not in string.punctuation])).lower().split()]"
      ],
      "execution_count": 25,
      "outputs": []
    },
    {
      "cell_type": "markdown",
      "source": [
        ""
      ],
      "metadata": {
        "id": "1LtHBMYLbjXR"
      }
    },
    {
      "cell_type": "code",
      "metadata": {
        "trusted": true,
        "id": "XOGSk2Rm7X7W"
      },
      "source": [
        "Pipe = Pipeline([\n",
        "    ('bow',CountVectorizer(analyzer=cleaner)),\n",
        "    ('tfidf',TfidfTransformer()),\n",
        "    ('classifier',DecisionTreeClassifier())\n",
        "])"
      ],
      "execution_count": 26,
      "outputs": []
    },
    {
      "cell_type": "code",
      "metadata": {
        "trusted": true,
        "id": "j6fq7mb37X7X",
        "outputId": "8750a172-4334-45d7-ab8e-34f204fc9d17",
        "colab": {
          "base_uri": "https://localhost:8080/"
        }
      },
      "source": [
        "Pipe.fit(df['question'].values.astype('U'),df['answer'].values.astype('U'))"
      ],
      "execution_count": 27,
      "outputs": [
        {
          "output_type": "execute_result",
          "data": {
            "text/plain": [
              "Pipeline(steps=[('bow',\n",
              "                 CountVectorizer(analyzer=<function cleaner at 0x7f0736a26200>)),\n",
              "                ('tfidf', TfidfTransformer()),\n",
              "                ('classifier', DecisionTreeClassifier())])"
            ]
          },
          "metadata": {},
          "execution_count": 27
        }
      ]
    },
    {
      "cell_type": "code",
      "metadata": {
        "trusted": true,
        "id": "Jvz48k5T7X7Y",
        "outputId": "889cd5ed-414f-4396-9bad-c86a12bb5406",
        "colab": {
          "base_uri": "https://localhost:8080/",
          "height": 35
        }
      },
      "source": [
        "Pipe.predict(['Còn tiền không?'])[0]"
      ],
      "execution_count": 28,
      "outputs": [
        {
          "output_type": "execute_result",
          "data": {
            "text/plain": [
              "'Còn'"
            ],
            "application/vnd.google.colaboratory.intrinsic+json": {
              "type": "string"
            }
          },
          "metadata": {},
          "execution_count": 28
        }
      ]
    },
    {
      "cell_type": "code",
      "metadata": {
        "trusted": true,
        "id": "syzlQHrX7X7Z",
        "outputId": "610ed1e1-35c8-4adc-df6f-bc5329535393",
        "colab": {
          "base_uri": "https://localhost:8080/",
          "height": 35
        }
      },
      "source": [
        "Pipe.predict(['Solo yasua không '])[0]"
      ],
      "execution_count": 29,
      "outputs": [
        {
          "output_type": "execute_result",
          "data": {
            "text/plain": [
              "'mày tuổi'"
            ],
            "application/vnd.google.colaboratory.intrinsic+json": {
              "type": "string"
            }
          },
          "metadata": {},
          "execution_count": 29
        }
      ]
    },
    {
      "cell_type": "code",
      "source": [
        "Pipe.predict(['đi ăn lẩu không'])[0]"
      ],
      "metadata": {
        "colab": {
          "base_uri": "https://localhost:8080/",
          "height": 35
        },
        "id": "8g0TpB_ld1Fs",
        "outputId": "b8abf9cd-a680-481b-8136-96e8fe5fa0a5"
      },
      "execution_count": 30,
      "outputs": [
        {
          "output_type": "execute_result",
          "data": {
            "text/plain": [
              "'Quán nào'"
            ],
            "application/vnd.google.colaboratory.intrinsic+json": {
              "type": "string"
            }
          },
          "metadata": {},
          "execution_count": 30
        }
      ]
    },
    {
      "cell_type": "code",
      "source": [
        "Pipe.predict(['bố bạn tên gì'])[0]"
      ],
      "metadata": {
        "colab": {
          "base_uri": "https://localhost:8080/",
          "height": 35
        },
        "id": "2fKGzOIEd4ft",
        "outputId": "04849378-bac3-40f0-e97b-ba689bd8b787"
      },
      "execution_count": 31,
      "outputs": [
        {
          "output_type": "execute_result",
          "data": {
            "text/plain": [
              "'Tự nhiên hỏi bố người ta chi ?'"
            ],
            "application/vnd.google.colaboratory.intrinsic+json": {
              "type": "string"
            }
          },
          "metadata": {},
          "execution_count": 31
        }
      ]
    },
    {
      "cell_type": "code",
      "source": [
        "Pipe.predict(['làm người yêu mình không'])[0]"
      ],
      "metadata": {
        "colab": {
          "base_uri": "https://localhost:8080/",
          "height": 35
        },
        "id": "op7bilgOeWjH",
        "outputId": "91b7e0ec-0502-44a8-ba8c-69f877cc953c"
      },
      "execution_count": 32,
      "outputs": [
        {
          "output_type": "execute_result",
          "data": {
            "text/plain": [
              "'đông, toàn sinh viên.'"
            ],
            "application/vnd.google.colaboratory.intrinsic+json": {
              "type": "string"
            }
          },
          "metadata": {},
          "execution_count": 32
        }
      ]
    },
    {
      "cell_type": "code",
      "source": [
        "Pipe.predict(['yêu người yêu mình không'])[0]"
      ],
      "metadata": {
        "colab": {
          "base_uri": "https://localhost:8080/",
          "height": 35
        },
        "id": "m76V6mhaeg0Q",
        "outputId": "068a50fe-7a44-4418-bb49-5e2a15145eef"
      },
      "execution_count": 33,
      "outputs": [
        {
          "output_type": "execute_result",
          "data": {
            "text/plain": [
              "'Ừm, rảnh.'"
            ],
            "application/vnd.google.colaboratory.intrinsic+json": {
              "type": "string"
            }
          },
          "metadata": {},
          "execution_count": 33
        }
      ]
    },
    {
      "cell_type": "markdown",
      "metadata": {
        "id": "-so__AlP7X7a"
      },
      "source": [
        "# Use Word2Vec"
      ]
    },
    {
      "cell_type": "code",
      "metadata": {
        "trusted": true,
        "id": "YVS6Xxlo7X7a",
        "outputId": "75330adf-2f57-42ca-e43a-c6a20044fd88",
        "colab": {
          "base_uri": "https://localhost:8080/"
        }
      },
      "source": [
        "!pip install srt"
      ],
      "execution_count": 17,
      "outputs": [
        {
          "output_type": "stream",
          "name": "stdout",
          "text": [
            "Looking in indexes: https://pypi.org/simple, https://us-python.pkg.dev/colab-wheels/public/simple/\n",
            "Collecting srt\n",
            "  Downloading srt-3.5.2.tar.gz (24 kB)\n",
            "Building wheels for collected packages: srt\n",
            "  Building wheel for srt (setup.py) ... \u001b[?25l\u001b[?25hdone\n",
            "  Created wheel for srt: filename=srt-3.5.2-py3-none-any.whl size=22487 sha256=40f2ee85a19269a3e1f1ab0fa9c0f60f4cdfaa91a60c2bf2aff7e574c62d4e31\n",
            "  Stored in directory: /root/.cache/pip/wheels/54/c4/ec/4604122e072aebb16803c8297b7cd3f4c72073a3ee58738015\n",
            "Successfully built srt\n",
            "Installing collected packages: srt\n",
            "Successfully installed srt-3.5.2\n"
          ]
        }
      ]
    },
    {
      "cell_type": "code",
      "metadata": {
        "_uuid": "8f2839f25d086af736a60e9eeb907d3b93b6e0e5",
        "_cell_guid": "b1076dfc-b9ad-4769-8c92-a6c4dae69d19",
        "trusted": true,
        "id": "42Xf9C2t7X7b"
      },
      "source": [
        "import re\n",
        "import numpy as np # linear algebra\n",
        "import pandas as pd \n",
        "import os\n",
        "import tensorflow as tf\n",
        "import gensim\n",
        "from nltk import ngrams\n",
        "import srt "
      ],
      "execution_count": 34,
      "outputs": []
    },
    {
      "cell_type": "code",
      "source": [
        "questions=[]\n",
        "answers=[]\n",
        "data = df.values #numpy \n",
        "print(data.shape)\n",
        "questions = data[:,1]# X\n",
        "answers = data[:,-1].astype(str)# y\n",
        "print('Question',questions[:5])\n",
        "print('Answers',answers[:5])"
      ],
      "metadata": {
        "colab": {
          "base_uri": "https://localhost:8080/"
        },
        "id": "baMR6A0X11cY",
        "outputId": "785e1b97-a7a6-4d2b-bb87-a66891f3e30a"
      },
      "execution_count": 35,
      "outputs": [
        {
          "output_type": "stream",
          "name": "stdout",
          "text": [
            "(5900, 3)\n",
            "Question ['Thích mẫu người nào' 'Có crush ai không' 'Tại sao lại thích bạn dó'\n",
            " 'Có hay nói chuyện không' 'Bạn kia có bắt chuyện trước không']\n",
            "Answers ['Dễ thương, tóc dài, da trắng' 'Có 1 bạn cùng lớp'\n",
            " 'Vì đáp ứng những yêu cầu của tao' 'Hay nhắn tin messenger' 'Có đôi khi']\n"
          ]
        }
      ]
    },
    {
      "cell_type": "code",
      "metadata": {
        "trusted": true,
        "id": "32mRll4d7X7d",
        "outputId": "1584e42a-8c46-40e2-97e7-80bfe3acf205",
        "colab": {
          "base_uri": "https://localhost:8080/"
        }
      },
      "source": [
        "!wget https://thiaisotajppub.s3-ap-northeast-1.amazonaws.com/publicfiles/baomoi.model.bin"
      ],
      "execution_count": 36,
      "outputs": [
        {
          "output_type": "stream",
          "name": "stdout",
          "text": [
            "--2022-05-30 12:50:22--  https://thiaisotajppub.s3-ap-northeast-1.amazonaws.com/publicfiles/baomoi.model.bin\n",
            "Resolving thiaisotajppub.s3-ap-northeast-1.amazonaws.com (thiaisotajppub.s3-ap-northeast-1.amazonaws.com)... 52.219.172.46\n",
            "Connecting to thiaisotajppub.s3-ap-northeast-1.amazonaws.com (thiaisotajppub.s3-ap-northeast-1.amazonaws.com)|52.219.172.46|:443... connected.\n",
            "HTTP request sent, awaiting response... 200 OK\n",
            "Length: 708212586 (675M) [application/macbinary]\n",
            "Saving to: ‘baomoi.model.bin.1’\n",
            "\n",
            "baomoi.model.bin.1  100%[===================>] 675.40M  31.5MB/s    in 23s     \n",
            "\n",
            "2022-05-30 12:50:45 (28.9 MB/s) - ‘baomoi.model.bin.1’ saved [708212586/708212586]\n",
            "\n"
          ]
        }
      ]
    },
    {
      "cell_type": "code",
      "metadata": {
        "_uuid": "9ec94ef740da26a5f673cba9b1f5e051b7715854",
        "trusted": true,
        "id": "eKWk1twT7X7e",
        "outputId": "13fe4fd5-a49a-4022-a4f8-663e304e0ba7",
        "colab": {
          "base_uri": "https://localhost:8080/"
        }
      },
      "source": [
        "from gensim.models import KeyedVectors\n",
        "model_path = './baomoi.model.bin'\n",
        "w2v = KeyedVectors.load_word2vec_format(model_path, fvocab=None, binary=True, encoding='utf8')\n",
        "print(w2v.similar_by_word('anh'))\n"
      ],
      "execution_count": 37,
      "outputs": [
        {
          "output_type": "stream",
          "name": "stdout",
          "text": [
            "[('cậu', 0.6509122848510742), ('chị', 0.6356398463249207), ('tôi', 0.6172564029693604), ('cô', 0.5971271991729736), ('ông', 0.5594496726989746), ('hắn', 0.5548809170722961), ('người_yêu', 0.5479433536529541), ('em', 0.5338587760925293), ('anh_trai', 0.5123729109764099), ('vợ', 0.5085247755050659)]\n"
          ]
        }
      ]
    },
    {
      "cell_type": "code",
      "metadata": {
        "_uuid": "a3cb809b66c0369a3c405bd0451020ded395906f",
        "trusted": true,
        "id": "QCMS_wne7X7f",
        "outputId": "523c68b0-265b-46e2-ac59-4ef6d7b77c65",
        "colab": {
          "base_uri": "https://localhost:8080/"
        }
      },
      "source": [
        "keys = list(w2v.vocab.keys())\n",
        "print(keys[0:400])"
      ],
      "execution_count": 38,
      "outputs": [
        {
          "output_type": "stream",
          "name": "stdout",
          "text": [
            "['<punct>', '<number>', 'của', 'và', 'là', 'các', 'trong', 'có', 'được', 'cho', 'đã', 'với', 'không', 'một', 'những', 'người', 'khi', 'này', 'để', ':', 'ở', 'về', 'năm', 'cũng', 'sẽ', 'đến', 'từ', 'vào', 'nhiều', 'tại', 'trên', '”', '“', 'đó', 'ra', 'phải', 'ngày', 'theo', 'nhưng', 'như', 'lại', 'sau', 'còn', 'hơn', 'bị', 'tôi', 'làm', 'anh', 'việc', 'đang', 'thì', 'ông', 'rất', 'việt_nam', 'trước', 'biết', 'chỉ', 'đi', 'có_thể', 'mới', 'sự', 'nhất', 'mình', 'đồng', 'mà', 'bạn', 'vẫn', 'lên', '%', 'nước', 'hai', 'nhà', 'tới', 'nên', 'cùng', 'tháng', ';', 'con', 'vì', 'giá', 'khác', 'qua', 'tăng', 'cả', 'họ', 'bộ', 'rằng', 'cao', 'do', 'cô', 'chưa', 'nói', 'lần', 'nếu', 'số', 'triệu', 'đây', 'lớn', 'thấy', 'công_ty', 'tiền', 'hàng', 'gần', 'cần', 'hay', 'bằng', 'đưa', 'thị_trường', 'bên', 'cuộc', 'đầu', 'giảm', 'mức', 'xe', 'nay', 'thứ', 'thời_gian', 'trận', 'thêm', 'tỷ', 'mua', 'bán', 'tuổi', 'hà_nội', 'đường', 'tổ_chức', 'nào', 'cách', 'mỹ', 'đều', 'khiến', 'chiếc', 'khoảng', 'tuy_nhiên', 'em', 'chính', 'thực_hiện', 'trung_quốc', 'đầu_tư', 'gì', 'nhau', 'bà', 'điểm', 'nhận', 'hoặc', 'tp', 'tỉnh', 'sử_dụng', 'chị', 'usd', 'doanh_nghiệp', 'hoạt_động', 'phát_triển', 'ngân_hàng', 'một_số', 'xem', 'giữa', 'kinh_tế', 'lúc', 'vừa', 'chúng_tôi', 'xây_dựng', 'gia_đình', 'tốt', 'từng', 'thế_giới', 'dự_án', 'vụ', 'mang', 'gây', 'trẻ', 'quá', 'tin', 'ngay', 'tiếp_tục', 'giúp', 'đội', 'rồi', 'điều', 'so', 'vốn', 'mọi', 'muốn', '–', 'mỗi', 'vàng', 'trường', 'đạt', 'thông_tin', 'khu_vực', 'ngoài', 'h', 'bóng', 'dùng', 'ấy', 'Ông', 'loại', 'mùa', 'cái', 'bởi', 'tạo', 'đối_với', 'sáng', 'phía', 'm', 'nơi', 'giờ', 'chương_trình', 'mẹ', 'khá', 'gái', 'nó', 'tham_gia', 'vấn_đề', 'thi', 'phần', 'luôn', 'tìm', 'tên', 'gặp', 'người_dân', 'huyện', 'vn', 'giải', 'ăn', 'diễn', 'khả_năng', 'tính', 'kinh_doanh', 'lấy', 'phim', 'chính_phủ', 'học', 'bé', 'ta', 'tuần', 'quyết_định', 'cơ_quan', 'đầu_tiên', 'không_thể', 'xuống', 'mất', 'hiện', 'sản_phẩm', 'nhỏ', 'ngành', 'thành_phố', 'nguồn', 'chuyện', 'công_an', 'lời', 'cuối', 'giữ', 'phòng', 'đặc_biệt', 'tàu', 'sản_xuất', 'đất', 'cổ_phiếu', 'vòng', 'ai', 'dưới', 'quản_lý', 'nhóm', 'xã', 'thuộc', 'sống', 'nga', 'sang', 'quy_định', 'mạnh', 'biển', 'chủ_tịch', 'cấp', 'dù', 'chủ', 'ba', 'giao_dịch', 'bài', 'kể', 'xảy', 'nữa', 'thế', 'quốc_tế', 'hcm', 'đẹp', 'khu', 'yêu_cầu', 'nhằm', 'nhà_nước', 'hỗ_trợ', 'thành', 'quốc_gia', 'phút', 'khó_khăn', 'đúng', 'Đây', 'hệ_thống', 'tay', 'tất_cả', 'đấu', 'đủ', 'cầu_thủ', 'chiều', 'hiện_nay', 'Ảnh', 'chồng', 'tài_chính', 'nam', 'hết', 'kết_quả', 'bệnh', 'chơi', 'khó', 'vợ', 'nhìn', 'thường', 'rõ', 'đặt', 'vùng', 'liên_quan', 'ít', 'bỏ', 'quan_trọng', 'xã_hội', 'trở_thành', 'quận', 'kế_hoạch', 'sao', 'dành', 'công_tác', 'nữ', 'trung_tâm', 'chia_sẻ', 'thời_điểm', 'ảnh', 'thấp', 'làm_việc', 'khách', 'gửi', 'phó', 'thành_công', 'hlv', 'lượng', 'khỏi', 'riêng', 'yêu', 'phát_hiện', 'cơ_hội', 'chết', 'tiếng', 'thủ_tướng', 'khẳng_định', 'máy_bay', 'nằm', 'sân', 'lực_lượng', 'hình_ảnh', 'đơn_vị', 'phiên', 'việt', 'như_vậy', 'bắt_đầu', 'bảo_vệ', 'màu', 'vay', 'xuất_hiện', 'xin', 'ban', 'đêm', 'buổi', 'hỏi', 'thật', 'mặt', 'nước_ngoài', 'cạnh', 'đứng', 'chung', 'báo', 'thay_đổi', 'tự', 'trường_hợp', 'chạy', 'khách_hàng', 'bước', 'hãng', 'điều_tra', 'tết', 'đôi', 'đáng', 'dẫn', 'chúng_ta', 'phụ_nữ', 'nghĩ', 'chọn', 'gọi', 'viết', 'độ', 'xử_lý', 'dịch_vụ']\n"
          ]
        }
      ]
    },
    {
      "cell_type": "code",
      "metadata": {
        "_uuid": "6f659114bf7f9d3fcafbc4d5fd93f0dbc8ff4074",
        "trusted": true,
        "id": "7bnlpdXs7X7g",
        "outputId": "33304ca2-4300-4d52-e0d1-8d611d4e8f9f",
        "colab": {
          "base_uri": "https://localhost:8080/"
        }
      },
      "source": [
        "vectors = w2v.vectors\n",
        "print(vectors[0:10])"
      ],
      "execution_count": 39,
      "outputs": [
        {
          "output_type": "stream",
          "name": "stdout",
          "text": [
            "[[ 0.29991007 -0.48487732  0.25084263 ... -0.06391991  0.1296555\n",
            "  -1.0371715 ]\n",
            " [ 2.4754343   0.45296562  2.2419798  ... -2.4558136   0.02929016\n",
            "  -2.2507153 ]\n",
            " [-2.640626   -1.7568986   0.17347822 ... -0.98626775  0.4481276\n",
            "  -1.4362826 ]\n",
            " ...\n",
            " [-3.1944964  -1.9406408  -2.2700322  ... -0.04263039  0.26658046\n",
            "   0.49616346]\n",
            " [-1.1480718   2.8294067  -1.4234537  ...  0.8699555   2.3107367\n",
            "   1.3925029 ]\n",
            " [-3.1502907  -1.4287512  -2.6768777  ...  0.11743276 -0.30074748\n",
            "   0.20755762]]\n"
          ]
        }
      ]
    },
    {
      "cell_type": "code",
      "metadata": {
        "_uuid": "25489c648aa156ca72db6d77e57d3d7fc15c717e",
        "trusted": true,
        "id": "H4vG7s7Z7X7g",
        "colab": {
          "base_uri": "https://localhost:8080/"
        },
        "outputId": "cc370ca0-4b68-4122-b8d0-7a8845d45cdd"
      },
      "source": [
        "print(w2v.vocab.keys())"
      ],
      "execution_count": 40,
      "outputs": [
        {
          "output_type": "stream",
          "name": "stderr",
          "text": [
            "IOPub data rate exceeded.\n",
            "The notebook server will temporarily stop sending output\n",
            "to the client in order to avoid crashing it.\n",
            "To change this limit, set the config variable\n",
            "`--NotebookApp.iopub_data_rate_limit`.\n",
            "\n",
            "Current values:\n",
            "NotebookApp.iopub_data_rate_limit=1000000.0 (bytes/sec)\n",
            "NotebookApp.rate_limit_window=3.0 (secs)\n",
            "\n"
          ]
        }
      ]
    },
    {
      "cell_type": "code",
      "metadata": {
        "_uuid": "3590e8ee1881d535b5f85dff448801b6000cf53c",
        "trusted": true,
        "id": "f4XSKVB97X7h",
        "outputId": "233c3b69-2efd-4832-e8b7-c68b07a99ed2",
        "colab": {
          "base_uri": "https://localhost:8080/"
        }
      },
      "source": [
        "#TODO Tokenize with keys\n",
        "def tokenize(s):\n",
        "    result = []\n",
        "    arr = s.split()\n",
        "    for item in arr:\n",
        "        if len(result) > 0:\n",
        "            tmp = result[-1] + '_' + item\n",
        "            if tmp in keys:\n",
        "                result[-1] = tmp\n",
        "            else:\n",
        "                result.append(item)\n",
        "        else:\n",
        "            result.append(item)\n",
        "            \n",
        "    return result\n",
        "print(tokenize('Nhân viên trong không gian thật thân thiện'))"
      ],
      "execution_count": 41,
      "outputs": [
        {
          "output_type": "stream",
          "name": "stdout",
          "text": [
            "['Nhân', 'viên', 'trong', 'không_gian', 'thật', 'thân_thiện']\n"
          ]
        }
      ]
    },
    {
      "cell_type": "code",
      "metadata": {
        "_uuid": "07fbf3469ddf33051f0d31174c7e53222bbc0228",
        "trusted": true,
        "id": "apFb9qBm7X7i"
      },
      "source": [
        "#Create models\n",
        "x_tok = [tokenize(item) for item in questions[:10]]\n",
        "y_tok = [tokenize(item) for item in answers[:10]]"
      ],
      "execution_count": 42,
      "outputs": []
    },
    {
      "cell_type": "code",
      "metadata": {
        "_uuid": "13cf367b0e62c43a5e6bb76ef12ace3a0570cc3a",
        "scrolled": true,
        "trusted": true,
        "id": "b43FXPhT7X7i",
        "outputId": "4c8f5962-38b4-4641-8a81-eb06e59fbaf9",
        "colab": {
          "base_uri": "https://localhost:8080/"
        }
      },
      "source": [
        "print(x_tok[0:10])"
      ],
      "execution_count": 43,
      "outputs": [
        {
          "output_type": "stream",
          "name": "stdout",
          "text": [
            "[['Thích', 'mẫu', 'người', 'nào'], ['Có', 'crush', 'ai', 'không'], ['Tại', 'sao', 'lại', 'thích', 'bạn', 'dó'], ['Có', 'hay', 'nói_chuyện', 'không'], ['Bạn', 'kia', 'có', 'bắt_chuyện', 'trước', 'không'], ['Có', 'định', 'rủ', 'bạn', 'đó', 'về', 'quê', 'dịp', 'Tết', 'không'], ['Có', 'hay', 'đi_chơi', 'với', 'nhau', 'không'], ['Sở', 'thích', 'mày', 'sao?'], ['Thích', 'phim', 'gì?'], ['Thích', 'chơi', 'gì?']]\n"
          ]
        }
      ]
    },
    {
      "cell_type": "code",
      "source": [
        "print(x_tok[0:12])"
      ],
      "metadata": {
        "colab": {
          "base_uri": "https://localhost:8080/"
        },
        "id": "oLwE2gbNGxP7",
        "outputId": "6fcb98b5-f176-465b-9aa3-efebbfdddd60"
      },
      "execution_count": 75,
      "outputs": [
        {
          "output_type": "stream",
          "name": "stdout",
          "text": [
            "[['Thích', 'mẫu', 'người', 'nào'], ['Có', 'crush', 'ai', 'không'], ['Tại', 'sao', 'lại', 'thích', 'bạn', 'dó'], ['Có', 'hay', 'nói_chuyện', 'không'], ['Bạn', 'kia', 'có', 'bắt_chuyện', 'trước', 'không'], ['Có', 'định', 'rủ', 'bạn', 'đó', 'về', 'quê', 'dịp', 'Tết', 'không'], ['Có', 'hay', 'đi_chơi', 'với', 'nhau', 'không'], ['Sở', 'thích', 'mày', 'sao?'], ['Thích', 'phim', 'gì?'], ['Thích', 'chơi', 'gì?']]\n"
          ]
        }
      ]
    },
    {
      "cell_type": "code",
      "source": [
        ""
      ],
      "metadata": {
        "id": "bFBaz2leHBvV"
      },
      "execution_count": null,
      "outputs": []
    },
    {
      "cell_type": "code",
      "metadata": {
        "_uuid": "5f6610116b44815cae47744b0cab129eb36b0237",
        "trusted": true,
        "id": "B_BBfun97X7j",
        "outputId": "9cbc1852-fb0b-4523-f7f1-d6db7c64c997",
        "colab": {
          "base_uri": "https://localhost:8080/"
        }
      },
      "source": [
        "max_len = 0\n",
        "for item in y_tok:\n",
        "    if len(item) > max_len:\n",
        "        max_len = len(item)\n",
        "print(max_len)"
      ],
      "execution_count": 44,
      "outputs": [
        {
          "output_type": "stream",
          "name": "stdout",
          "text": [
            "6\n"
          ]
        }
      ]
    },
    {
      "cell_type": "code",
      "metadata": {
        "_uuid": "7cb47ec1b6f6356b9c09d80c06bf1fd3438f8aaa",
        "trusted": true,
        "id": "Aerfjdue7X7k",
        "outputId": "bfb48e75-92d1-46a2-987e-67868d1a0001",
        "colab": {
          "base_uri": "https://localhost:8080/"
        }
      },
      "source": [
        "vectors = w2v.vectors\n",
        "print(vectors.shape)"
      ],
      "execution_count": 45,
      "outputs": [
        {
          "output_type": "stream",
          "name": "stdout",
          "text": [
            "(439056, 400)\n"
          ]
        }
      ]
    },
    {
      "cell_type": "code",
      "metadata": {
        "_uuid": "437365770b421b0b0980938fc6d21c62745190e0",
        "trusted": true,
        "id": "kB_hUomq7X7k"
      },
      "source": [
        "keys = list(w2v.vocab.keys())\n",
        "vectors = w2v.vectors\n",
        "PAD = np.ones((1,400))\n",
        "UNK = np.zeros((1,400))\n",
        "# print(PAD)\n",
        "keys.append('<PAD>')\n",
        "vectors = np.append(vectors, PAD, axis=0)\n",
        "keys.append('<UNK>')\n",
        "vectors = np.append(vectors, UNK, axis=0)"
      ],
      "execution_count": 46,
      "outputs": []
    },
    {
      "cell_type": "code",
      "metadata": {
        "_uuid": "76dafe40af29ea307838c52107d25baa5efed93a",
        "trusted": true,
        "id": "6EJTg5cX7X7l",
        "outputId": "8ef54f97-d96b-4d7d-c3ba-fbfe616748a5",
        "colab": {
          "base_uri": "https://localhost:8080/"
        }
      },
      "source": [
        "def get_vector_by_key(key):\n",
        "    if key not in keys:\n",
        "        key = '<UNK>'\n",
        "    return vectors[keys.index(key)]\n",
        "get_vector_by_key('người_yêu')"
      ],
      "execution_count": 47,
      "outputs": [
        {
          "output_type": "execute_result",
          "data": {
            "text/plain": [
              "array([-2.74268329e-01,  1.91656783e-01, -7.21289873e-01,  2.53674030e-01,\n",
              "       -1.43376306e-01,  1.57112694e+00,  2.65404272e+00, -1.38281539e-01,\n",
              "       -1.41057864e-01, -1.43045509e+00,  2.39217002e-02,  1.43004760e-01,\n",
              "        2.14619294e-01,  1.41312277e+00,  2.51563698e-01,  1.43755943e-01,\n",
              "        1.90474525e-01, -1.41985446e-01, -9.45661128e-01,  1.82852685e+00,\n",
              "        7.01824307e-01,  1.71576118e+00,  1.30878377e+00,  1.80517483e+00,\n",
              "        2.27643579e-01, -2.51354480e+00, -5.95910013e-01,  6.03104949e-01,\n",
              "        1.94675970e+00, -2.64325619e+00, -1.83519334e-01, -4.08825397e+00,\n",
              "        4.30967093e-01,  8.30371618e-01, -1.08892155e+00,  5.36354482e-01,\n",
              "       -1.41104043e+00, -1.28516901e+00, -4.58042949e-01,  2.84221739e-01,\n",
              "        2.69456238e-01, -2.98275501e-01, -1.72609150e+00,  1.05817512e-01,\n",
              "        1.41816521e+00, -5.25495291e-01,  2.84548879e+00,  1.58646420e-01,\n",
              "       -1.33273518e+00, -1.50343144e+00,  1.54525769e+00,  2.08628488e+00,\n",
              "       -2.30622506e+00, -2.44498467e+00, -4.43750679e-01,  5.14842212e-01,\n",
              "       -4.41178948e-01,  8.32913637e-01, -2.78173065e+00,  5.15340447e-01,\n",
              "       -2.48830295e+00, -1.79855013e+00, -1.41795027e+00,  1.19051356e-02,\n",
              "        3.23852420e-01,  4.44463193e-01, -2.98894823e-01,  4.05403405e-01,\n",
              "       -1.79459059e+00, -1.36085224e+00, -3.61206442e-01,  1.88793874e+00,\n",
              "        3.04196358e+00, -4.45803702e-01, -2.22984838e+00,  2.63550520e+00,\n",
              "        2.84311342e+00,  2.38060927e+00,  1.07598674e+00, -1.96371377e+00,\n",
              "        2.58405519e+00,  1.07273173e+00, -1.71634436e+00,  8.30364764e-01,\n",
              "        5.02959728e-01, -7.81490803e-01,  3.86181569e+00, -5.60243368e-01,\n",
              "       -1.49683154e+00, -1.48258781e+00, -7.39754558e-01,  2.06634879e+00,\n",
              "        1.80035740e-01, -2.67130399e+00,  6.14204109e-01, -1.04389238e+00,\n",
              "        3.23596716e+00, -3.73601604e+00, -9.87999499e-01, -2.09397745e+00,\n",
              "       -1.25532484e+00,  1.41048348e+00,  2.45269045e-01,  2.53157568e+00,\n",
              "       -1.09688914e+00,  1.04946220e+00, -3.06211352e-01, -7.83465445e-01,\n",
              "       -1.14406919e+00,  4.01006937e-01, -6.06472604e-02, -7.04188272e-02,\n",
              "       -4.98950154e-01,  2.39611417e-01, -2.31069350e+00, -1.10232306e+00,\n",
              "       -1.38342619e+00, -3.13438582e+00, -1.30849576e+00, -5.01079321e-01,\n",
              "        1.90994608e+00, -6.91209793e-01,  3.22564572e-01,  5.44170797e-01,\n",
              "       -7.12571800e-01, -4.38564926e-01,  2.21128511e+00,  6.74426734e-01,\n",
              "        5.58460772e-01, -1.57026744e+00, -1.74435270e+00, -2.28360072e-01,\n",
              "        2.80204803e-01, -3.18692780e+00,  2.19369245e+00, -1.31901050e+00,\n",
              "       -1.03774440e+00,  6.88522935e-01, -4.87622827e-01,  2.34557390e+00,\n",
              "        5.87462068e-01,  7.11091220e-01, -1.77922964e+00,  5.53362012e-01,\n",
              "        1.27907634e+00,  2.52022266e+00,  2.22779083e+00,  1.17267215e+00,\n",
              "        2.13983476e-01,  1.81904733e+00,  1.59452355e+00,  2.16177869e+00,\n",
              "        4.44279104e-01,  1.81291074e-01,  1.40353036e+00, -6.79429546e-02,\n",
              "        4.14593983e+00, -1.88079882e+00,  1.43160319e+00, -1.33538544e+00,\n",
              "       -1.06517947e+00,  1.76723850e+00,  5.93563914e-01, -9.12359476e-01,\n",
              "        5.92284381e-01, -3.06777644e+00, -1.84940124e+00, -8.53824377e-01,\n",
              "       -7.84483194e-01,  2.74256229e+00,  2.08675414e-01, -1.00488472e+00,\n",
              "       -8.44379306e-01, -1.93861353e+00,  1.26400018e+00, -5.82697392e-01,\n",
              "       -6.31089032e-01,  2.27151656e+00, -2.31278849e+00,  4.87385988e-01,\n",
              "       -3.59040213e+00,  3.11079550e+00, -2.32833862e-01, -8.01538229e-01,\n",
              "       -9.45477664e-01, -2.74919200e+00, -5.67146614e-02,  4.56675470e-01,\n",
              "        1.40944934e+00, -1.92231274e+00,  7.39400268e-01,  1.98198223e+00,\n",
              "        8.36593747e-01, -1.41976941e+00, -9.02298000e-03,  1.75104260e+00,\n",
              "        1.37146199e+00, -8.94556105e-01, -1.34291917e-01, -1.56102633e+00,\n",
              "        9.33988988e-01,  8.83342400e-02, -1.74540615e+00,  1.43362761e+00,\n",
              "        7.58944631e-01, -8.95148873e-01, -1.79797995e+00, -5.86463928e-01,\n",
              "       -2.41887227e-01,  5.58335721e-01,  8.58209670e-01, -2.94798315e-01,\n",
              "       -2.97518516e+00,  2.56139064e+00,  1.70057940e+00, -7.23916829e-01,\n",
              "        6.73864335e-02,  8.86542916e-01, -1.19117498e+00, -5.25419474e-01,\n",
              "       -1.27820861e+00, -2.31117225e+00, -2.68989414e-01,  3.67658138e-01,\n",
              "        1.42776036e+00,  1.09586744e-02,  3.22634220e+00, -1.32999754e+00,\n",
              "        1.24069631e+00, -1.32882023e+00, -9.85189736e-01, -1.22100925e+00,\n",
              "        1.17371261e+00, -3.84840555e-02, -7.66647637e-01,  6.13748610e-01,\n",
              "        1.61797380e+00,  1.45466208e+00,  5.93699157e-01, -5.50095290e-02,\n",
              "        1.48210406e-01,  7.87410736e-01,  1.94079995e+00,  3.69944721e-01,\n",
              "       -7.93336332e-01,  1.31308600e-01,  1.73527956e+00, -1.18756101e-01,\n",
              "       -2.71667391e-01, -2.09078550e+00, -1.51244330e+00,  1.81549776e+00,\n",
              "        1.24535298e+00,  6.59163058e-01,  4.17661101e-01, -8.50017846e-01,\n",
              "       -1.78230810e+00, -1.22049928e+00,  2.86433554e+00, -1.75615060e+00,\n",
              "        1.53719842e+00, -1.81191516e+00,  4.26333755e-01,  1.28298473e+00,\n",
              "        1.11398792e+00, -2.14195800e+00, -1.13899040e+00,  2.21195221e+00,\n",
              "        1.82173884e+00, -1.35464823e+00,  1.02416611e+00, -5.33755779e-01,\n",
              "       -4.74722475e-01,  1.91132104e+00,  1.29517806e+00, -2.75803715e-01,\n",
              "        7.98064947e-01, -1.68764412e+00,  6.95052505e-01, -2.53621721e+00,\n",
              "        1.05238652e+00, -5.32561004e-01, -1.80620432e+00, -1.12943172e+00,\n",
              "       -8.22810233e-01, -5.89448631e-01,  2.29414248e+00, -7.88548827e-01,\n",
              "       -1.25254703e+00,  4.55051094e-01, -6.71654999e-01, -2.38872838e+00,\n",
              "       -1.76887786e+00,  2.36483955e+00, -1.75759101e+00,  2.07610035e+00,\n",
              "       -1.13558340e+00, -2.06256449e-01,  3.17579055e+00, -6.53776050e-01,\n",
              "        1.00791764e+00,  6.55051291e-01, -1.52456653e+00, -1.16153069e-01,\n",
              "       -1.50212336e+00, -4.12641096e+00, -1.94121933e+00,  1.37029600e+00,\n",
              "        1.47988045e+00, -1.06058085e+00, -1.02431285e+00,  1.42443374e-01,\n",
              "        1.02015507e+00, -9.91198599e-01, -4.30271834e-01,  3.34417152e+00,\n",
              "        2.14199066e+00, -1.88629174e+00, -1.25160432e+00,  1.53693825e-01,\n",
              "        3.49448115e-01,  8.21736097e-01,  4.05952603e-01, -8.68950725e-01,\n",
              "       -1.85185909e+00,  4.81141716e-01,  5.86593807e-01, -2.70922035e-01,\n",
              "        1.52530575e+00, -2.02853751e+00, -7.79376924e-01,  2.19605279e+00,\n",
              "        6.41238153e-01, -7.63139606e-01,  3.58374834e+00, -5.98914130e-03,\n",
              "        1.24331594e-01, -1.72544384e+00,  7.03278109e-02,  4.90622148e-02,\n",
              "        1.29301357e+00, -1.14639723e+00,  1.33739960e+00,  3.99734759e+00,\n",
              "       -2.37708673e-01,  1.24050438e+00, -8.20168734e-01, -1.53666973e+00,\n",
              "        6.24495029e-01, -9.37373042e-01, -1.32231224e+00, -6.66883349e-01,\n",
              "        2.07991552e+00, -1.63727558e+00,  2.06249952e+00,  7.78489113e-01,\n",
              "        1.65696585e+00,  1.38036859e+00,  2.27692103e+00,  1.15867531e+00,\n",
              "       -3.52461815e-01, -7.58470178e-01, -3.31887841e+00,  2.50566506e+00,\n",
              "       -4.32298243e-01, -2.13597345e+00,  1.87021708e+00,  5.56065083e-01,\n",
              "       -4.45257574e-01,  1.03004014e+00, -2.21546912e+00,  9.13028181e-01,\n",
              "       -1.54352665e+00,  2.82105160e+00, -6.06186926e-01,  7.56994188e-01,\n",
              "       -1.79634166e+00,  4.57144678e-01, -9.11635995e-01,  1.23283100e+00,\n",
              "       -1.07758176e+00, -2.17206717e+00, -1.27808464e+00, -1.30285645e+00,\n",
              "       -3.22831941e+00,  2.91969150e-01, -9.13970888e-01, -1.36047781e-01,\n",
              "        1.60572088e+00,  2.12378264e-03, -9.64220583e-01,  2.88031387e+00,\n",
              "       -8.22779953e-01,  3.35745037e-01, -8.94802332e-01, -6.61950052e-01,\n",
              "       -2.34553671e+00,  5.35220742e-01,  4.77456719e-01,  1.23458132e-01])"
            ]
          },
          "metadata": {},
          "execution_count": 47
        }
      ]
    },
    {
      "cell_type": "code",
      "metadata": {
        "_uuid": "65bcc4bf17dbb9f7e54e25eaa0f9bce76a1066f9",
        "trusted": true,
        "id": "SNgQjSxy7X7l"
      },
      "source": [
        "x_train = []\n",
        "y_train = []\n",
        "SENTENCE_LEN = 25\n",
        "for toks in x_tok:\n",
        "    tmp = [get_vector_by_key(words) for words in toks]\n",
        "    tmp += [get_vector_by_key('<PAD>')] * (25 - len(tmp))\n",
        "    if len(tmp) == 25:\n",
        "        x_train.append(tmp)\n",
        "for toks in y_tok:\n",
        "    toks = ['<PAD>'] + toks\n",
        "    tmp = [get_vector_by_key(words) for words in toks]\n",
        "    tmp += [get_vector_by_key('<PAD>')] * (25 - len(tmp))\n",
        "    if len(tmp) == 25:\n",
        "        y_train.append(tmp)\n",
        "    "
      ],
      "execution_count": 48,
      "outputs": []
    },
    {
      "cell_type": "code",
      "metadata": {
        "_uuid": "94c2572a8d9045168fd269bb50e5888f80f012fb",
        "trusted": true,
        "id": "7IklxXfo7X7n",
        "outputId": "3f947b49-01e9-4968-c818-55dae7b01fa5",
        "colab": {
          "base_uri": "https://localhost:8080/"
        }
      },
      "source": [
        "x_train = np.array(x_train).reshape(-1, 25, 400)\n",
        "y_train = np.array(y_train).reshape(-1, 25, 400)\n",
        "print(x_train.shape)\n",
        "print(y_train.shape)"
      ],
      "execution_count": 49,
      "outputs": [
        {
          "output_type": "stream",
          "name": "stdout",
          "text": [
            "(10, 25, 400)\n",
            "(10, 25, 400)\n"
          ]
        }
      ]
    },
    {
      "cell_type": "code",
      "source": [
        "import tensorflow as tf\n",
        "\n",
        "tf.compat.v1.disable_eager_execution()"
      ],
      "metadata": {
        "id": "mt8-qtHihZSz"
      },
      "execution_count": 50,
      "outputs": []
    },
    {
      "cell_type": "code",
      "metadata": {
        "_uuid": "4b512080c49a9fbf48cb7cb0e9535e4c991a5e17",
        "trusted": true,
        "id": "VodLM7L17X7o",
        "colab": {
          "base_uri": "https://localhost:8080/"
        },
        "outputId": "08cf7134-8110-4f2e-c5cc-8fc3b8f404b8"
      },
      "source": [
        "lstm = tf.compat.v1.nn.rnn_cell.LSTMCell(128)\n",
        "dense = tf.compat.v1.layers.Dense(400)\n",
        "init_state = state = lstm.zero_state(x_train.shape[0], dtype=tf.float32)"
      ],
      "execution_count": 51,
      "outputs": [
        {
          "output_type": "stream",
          "name": "stderr",
          "text": [
            "/usr/local/lib/python3.7/dist-packages/ipykernel_launcher.py:1: UserWarning: `tf.nn.rnn_cell.LSTMCell` is deprecated and will be removed in a future version. This class is equivalent as `tf.keras.layers.LSTMCell`, and will be replaced by that in Tensorflow 2.0.\n",
            "  \"\"\"Entry point for launching an IPython kernel.\n"
          ]
        }
      ]
    },
    {
      "cell_type": "code",
      "metadata": {
        "_uuid": "c8605a035c6c034a37e2c0f1598d67a2c491c747",
        "trusted": true,
        "id": "HlYcE-Al7X7p",
        "colab": {
          "base_uri": "https://localhost:8080/"
        },
        "outputId": "db5c809a-98b1-43af-fdd7-4044661832a4"
      },
      "source": [
        "x = x_train\n",
        "y = y_train\n",
        "state = init_state\n",
        "outputs = []\n",
        "# x_arr = \n",
        "for i in range(x.shape[1]):\n",
        "    xi = x[:, i, :]\n",
        "    xi = tf.convert_to_tensor(xi, dtype=tf.float32)\n",
        "    output, state = lstm(xi, state)\n",
        "    logits = dense(output)\n",
        "    outputs.append(logits)\n",
        "\n",
        "outputs = tf.transpose(tf.convert_to_tensor(outputs), perm=[1, 0, 2])\n",
        "loss_op = tf.compat.v1.losses.mean_squared_error(\n",
        "    predictions=outputs, labels=y)\n",
        "optimizer = tf.compat.v1.train.AdamOptimizer()\n",
        "train_op = optimizer.minimize(loss_op)\n",
        "sess = tf.compat.v1.Session()\n",
        "sess.run(tf.compat.v1.global_variables_initializer())"
      ],
      "execution_count": 52,
      "outputs": [
        {
          "output_type": "stream",
          "name": "stdout",
          "text": [
            "WARNING:tensorflow:From /usr/local/lib/python3.7/dist-packages/keras/layers/legacy_rnn/rnn_cell_impl.py:992: calling Zeros.__init__ (from tensorflow.python.ops.init_ops) with dtype is deprecated and will be removed in a future version.\n",
            "Instructions for updating:\n",
            "Call initializer instance with the dtype argument instead of passing it to the constructor\n"
          ]
        },
        {
          "output_type": "stream",
          "name": "stderr",
          "text": [
            "/usr/local/lib/python3.7/dist-packages/keras/layers/legacy_rnn/rnn_cell_impl.py:988: UserWarning: `layer.add_variable` is deprecated and will be removed in a future version. Please use `layer.add_weight` method instead.\n",
            "  partitioner=maybe_partitioner)\n",
            "/usr/local/lib/python3.7/dist-packages/keras/layers/legacy_rnn/rnn_cell_impl.py:996: UserWarning: `layer.add_variable` is deprecated and will be removed in a future version. Please use `layer.add_weight` method instead.\n",
            "  initializer=initializer)\n"
          ]
        }
      ]
    },
    {
      "cell_type": "code",
      "metadata": {
        "_uuid": "cdbdde8fab47437c460fa0d363c8faac3f6eb374",
        "scrolled": true,
        "trusted": true,
        "id": "XwbgleSU7X7q",
        "outputId": "b3e3066e-e202-41d2-c52b-b7f7b887db13",
        "colab": {
          "base_uri": "https://localhost:8080/"
        }
      },
      "source": [
        "for epoch in range(1000):\n",
        "    sess.run(train_op)\n",
        "    loss = sess.run(loss_op)\n",
        "    print(f'epoch: {epoch}      loss: {loss}')"
      ],
      "execution_count": 53,
      "outputs": [
        {
          "output_type": "stream",
          "name": "stdout",
          "text": [
            "epoch: 0      loss: 1.0190578699111938\n",
            "epoch: 1      loss: 0.9447011947631836\n",
            "epoch: 2      loss: 0.8786270022392273\n",
            "epoch: 3      loss: 0.8114751577377319\n",
            "epoch: 4      loss: 0.7448212504386902\n",
            "epoch: 5      loss: 0.6819214224815369\n",
            "epoch: 6      loss: 0.624201774597168\n",
            "epoch: 7      loss: 0.5723304152488708\n",
            "epoch: 8      loss: 0.5266832709312439\n",
            "epoch: 9      loss: 0.4873661696910858\n",
            "epoch: 10      loss: 0.4540732502937317\n",
            "epoch: 11      loss: 0.42600297927856445\n",
            "epoch: 12      loss: 0.4023922383785248\n",
            "epoch: 13      loss: 0.3828680217266083\n",
            "epoch: 14      loss: 0.36718085408210754\n",
            "epoch: 15      loss: 0.354805052280426\n",
            "epoch: 16      loss: 0.3451958894729614\n",
            "epoch: 17      loss: 0.33788496255874634\n",
            "epoch: 18      loss: 0.332466721534729\n",
            "epoch: 19      loss: 0.3285271227359772\n",
            "epoch: 20      loss: 0.3255804777145386\n",
            "epoch: 21      loss: 0.32321473956108093\n",
            "epoch: 22      loss: 0.32117313146591187\n",
            "epoch: 23      loss: 0.31923481822013855\n",
            "epoch: 24      loss: 0.3172954320907593\n",
            "epoch: 25      loss: 0.31534117460250854\n",
            "epoch: 26      loss: 0.3133712410926819\n",
            "epoch: 27      loss: 0.31132251024246216\n",
            "epoch: 28      loss: 0.30917268991470337\n",
            "epoch: 29      loss: 0.30694204568862915\n",
            "epoch: 30      loss: 0.3046855032444\n",
            "epoch: 31      loss: 0.302442342042923\n",
            "epoch: 32      loss: 0.30022841691970825\n",
            "epoch: 33      loss: 0.2980712354183197\n",
            "epoch: 34      loss: 0.2960042357444763\n",
            "epoch: 35      loss: 0.2940514385700226\n",
            "epoch: 36      loss: 0.2922019958496094\n",
            "epoch: 37      loss: 0.2904164791107178\n",
            "epoch: 38      loss: 0.28872278332710266\n",
            "epoch: 39      loss: 0.2871357500553131\n",
            "epoch: 40      loss: 0.28563350439071655\n",
            "epoch: 41      loss: 0.2841915786266327\n",
            "epoch: 42      loss: 0.2827969193458557\n",
            "epoch: 43      loss: 0.28144073486328125\n",
            "epoch: 44      loss: 0.2801112234592438\n",
            "epoch: 45      loss: 0.27879568934440613\n",
            "epoch: 46      loss: 0.27748847007751465\n",
            "epoch: 47      loss: 0.2761901617050171\n",
            "epoch: 48      loss: 0.2748967707157135\n",
            "epoch: 49      loss: 0.27360162138938904\n",
            "epoch: 50      loss: 0.2723020315170288\n",
            "epoch: 51      loss: 0.2709972560405731\n",
            "epoch: 52      loss: 0.26968592405319214\n",
            "epoch: 53      loss: 0.26836758852005005\n",
            "epoch: 54      loss: 0.2670455574989319\n",
            "epoch: 55      loss: 0.26572689414024353\n",
            "epoch: 56      loss: 0.26441627740859985\n",
            "epoch: 57      loss: 0.26311296224594116\n",
            "epoch: 58      loss: 0.26181256771087646\n",
            "epoch: 59      loss: 0.260511577129364\n",
            "epoch: 60      loss: 0.25920936465263367\n",
            "epoch: 61      loss: 0.2579077482223511\n",
            "epoch: 62      loss: 0.2566077411174774\n",
            "epoch: 63      loss: 0.2553088963031769\n",
            "epoch: 64      loss: 0.25401031970977783\n",
            "epoch: 65      loss: 0.2527109980583191\n",
            "epoch: 66      loss: 0.2514086067676544\n",
            "epoch: 67      loss: 0.25010040402412415\n",
            "epoch: 68      loss: 0.2487860918045044\n",
            "epoch: 69      loss: 0.24746756255626678\n",
            "epoch: 70      loss: 0.246146559715271\n",
            "epoch: 71      loss: 0.24482472240924835\n",
            "epoch: 72      loss: 0.24350515007972717\n",
            "epoch: 73      loss: 0.2421918362379074\n",
            "epoch: 74      loss: 0.24088579416275024\n",
            "epoch: 75      loss: 0.23958304524421692\n",
            "epoch: 76      loss: 0.2382781058549881\n",
            "epoch: 77      loss: 0.23696815967559814\n",
            "epoch: 78      loss: 0.23565445840358734\n",
            "epoch: 79      loss: 0.23434238135814667\n",
            "epoch: 80      loss: 0.23303882777690887\n",
            "epoch: 81      loss: 0.23174363374710083\n",
            "epoch: 82      loss: 0.23045054078102112\n",
            "epoch: 83      loss: 0.2291567623615265\n",
            "epoch: 84      loss: 0.22786296904087067\n",
            "epoch: 85      loss: 0.22657647728919983\n",
            "epoch: 86      loss: 0.22530221939086914\n",
            "epoch: 87      loss: 0.2240344136953354\n",
            "epoch: 88      loss: 0.22276511788368225\n",
            "epoch: 89      loss: 0.2214924544095993\n",
            "epoch: 90      loss: 0.2202204316854477\n",
            "epoch: 91      loss: 0.21895307302474976\n",
            "epoch: 92      loss: 0.2176882028579712\n",
            "epoch: 93      loss: 0.21642230451107025\n",
            "epoch: 94      loss: 0.21515558660030365\n",
            "epoch: 95      loss: 0.2138879895210266\n",
            "epoch: 96      loss: 0.2126191407442093\n",
            "epoch: 97      loss: 0.21135102212429047\n",
            "epoch: 98      loss: 0.21008910238742828\n",
            "epoch: 99      loss: 0.20883873105049133\n",
            "epoch: 100      loss: 0.20760047435760498\n",
            "epoch: 101      loss: 0.2063707858324051\n",
            "epoch: 102      loss: 0.20514550805091858\n",
            "epoch: 103      loss: 0.2039220631122589\n",
            "epoch: 104      loss: 0.20270077884197235\n",
            "epoch: 105      loss: 0.2014840990304947\n",
            "epoch: 106      loss: 0.200274258852005\n",
            "epoch: 107      loss: 0.19907218217849731\n",
            "epoch: 108      loss: 0.1978774070739746\n",
            "epoch: 109      loss: 0.19668835401535034\n",
            "epoch: 110      loss: 0.19550319015979767\n",
            "epoch: 111      loss: 0.1943206787109375\n",
            "epoch: 112      loss: 0.1931411325931549\n",
            "epoch: 113      loss: 0.1919655054807663\n",
            "epoch: 114      loss: 0.19079452753067017\n",
            "epoch: 115      loss: 0.18962854146957397\n",
            "epoch: 116      loss: 0.18846847116947174\n",
            "epoch: 117      loss: 0.18731527030467987\n",
            "epoch: 118      loss: 0.1861681491136551\n",
            "epoch: 119      loss: 0.18502528965473175\n",
            "epoch: 120      loss: 0.18388615548610687\n",
            "epoch: 121      loss: 0.1827520728111267\n",
            "epoch: 122      loss: 0.18162433803081512\n",
            "epoch: 123      loss: 0.18050207197666168\n",
            "epoch: 124      loss: 0.17938418686389923\n",
            "epoch: 125      loss: 0.1782713234424591\n",
            "epoch: 126      loss: 0.17716413736343384\n",
            "epoch: 127      loss: 0.17606203258037567\n",
            "epoch: 128      loss: 0.174964040517807\n",
            "epoch: 129      loss: 0.1738700568675995\n",
            "epoch: 130      loss: 0.17278164625167847\n",
            "epoch: 131      loss: 0.1717001348733902\n",
            "epoch: 132      loss: 0.17062562704086304\n",
            "epoch: 133      loss: 0.16955818235874176\n",
            "epoch: 134      loss: 0.16849888861179352\n",
            "epoch: 135      loss: 0.16744811832904816\n",
            "epoch: 136      loss: 0.16640502214431763\n",
            "epoch: 137      loss: 0.16536886990070343\n",
            "epoch: 138      loss: 0.164338618516922\n",
            "epoch: 139      loss: 0.16331326961517334\n",
            "epoch: 140      loss: 0.1622926890850067\n",
            "epoch: 141      loss: 0.16127648949623108\n",
            "epoch: 142      loss: 0.16026407480239868\n",
            "epoch: 143      loss: 0.159255713224411\n",
            "epoch: 144      loss: 0.15825383365154266\n",
            "epoch: 145      loss: 0.15726344287395477\n",
            "epoch: 146      loss: 0.1562841832637787\n",
            "epoch: 147      loss: 0.15530824661254883\n",
            "epoch: 148      loss: 0.1543322503566742\n",
            "epoch: 149      loss: 0.1533598005771637\n",
            "epoch: 150      loss: 0.15239517390727997\n",
            "epoch: 151      loss: 0.15144014358520508\n",
            "epoch: 152      loss: 0.15049470961093903\n",
            "epoch: 153      loss: 0.1495579332113266\n",
            "epoch: 154      loss: 0.1486286073923111\n",
            "epoch: 155      loss: 0.1477053314447403\n",
            "epoch: 156      loss: 0.14678671956062317\n",
            "epoch: 157      loss: 0.14587190747261047\n",
            "epoch: 158      loss: 0.14496074616909027\n",
            "epoch: 159      loss: 0.14405377209186554\n",
            "epoch: 160      loss: 0.14315171539783478\n",
            "epoch: 161      loss: 0.1422552615404129\n",
            "epoch: 162      loss: 0.14136503636837006\n",
            "epoch: 163      loss: 0.14048132300376892\n",
            "epoch: 164      loss: 0.139603853225708\n",
            "epoch: 165      loss: 0.13873191177845\n",
            "epoch: 166      loss: 0.13786494731903076\n",
            "epoch: 167      loss: 0.13700228929519653\n",
            "epoch: 168      loss: 0.13614344596862793\n",
            "epoch: 169      loss: 0.13528817892074585\n",
            "epoch: 170      loss: 0.13443714380264282\n",
            "epoch: 171      loss: 0.13359124958515167\n",
            "epoch: 172      loss: 0.13275089859962463\n",
            "epoch: 173      loss: 0.13191570341587067\n",
            "epoch: 174      loss: 0.1310850828886032\n",
            "epoch: 175      loss: 0.13025878369808197\n",
            "epoch: 176      loss: 0.12943673133850098\n",
            "epoch: 177      loss: 0.12861885130405426\n",
            "epoch: 178      loss: 0.1278049498796463\n",
            "epoch: 179      loss: 0.126994788646698\n",
            "epoch: 180      loss: 0.1261882185935974\n",
            "epoch: 181      loss: 0.12538518011569977\n",
            "epoch: 182      loss: 0.12458561360836029\n",
            "epoch: 183      loss: 0.12378940731287003\n",
            "epoch: 184      loss: 0.12299636006355286\n",
            "epoch: 185      loss: 0.12220621109008789\n",
            "epoch: 186      loss: 0.12141888588666916\n",
            "epoch: 187      loss: 0.1206355169415474\n",
            "epoch: 188      loss: 0.11985919624567032\n",
            "epoch: 189      loss: 0.119090236723423\n",
            "epoch: 190      loss: 0.11832267791032791\n",
            "epoch: 191      loss: 0.11755568534135818\n",
            "epoch: 192      loss: 0.11679423600435257\n",
            "epoch: 193      loss: 0.1160384863615036\n",
            "epoch: 194      loss: 0.11528521776199341\n",
            "epoch: 195      loss: 0.11453476548194885\n",
            "epoch: 196      loss: 0.11378873884677887\n",
            "epoch: 197      loss: 0.11304692178964615\n",
            "epoch: 198      loss: 0.11230920255184174\n",
            "epoch: 199      loss: 0.11157543212175369\n",
            "epoch: 200      loss: 0.11084503680467606\n",
            "epoch: 201      loss: 0.11011786013841629\n",
            "epoch: 202      loss: 0.10939458757638931\n",
            "epoch: 203      loss: 0.10867572575807571\n",
            "epoch: 204      loss: 0.10796133428812027\n",
            "epoch: 205      loss: 0.10725158452987671\n",
            "epoch: 206      loss: 0.10654628276824951\n",
            "epoch: 207      loss: 0.10584463179111481\n",
            "epoch: 208      loss: 0.10514601320028305\n",
            "epoch: 209      loss: 0.10445099323987961\n",
            "epoch: 210      loss: 0.10376033186912537\n",
            "epoch: 211      loss: 0.10307373106479645\n",
            "epoch: 212      loss: 0.1023901179432869\n",
            "epoch: 213      loss: 0.10170886665582657\n",
            "epoch: 214      loss: 0.10103052854537964\n",
            "epoch: 215      loss: 0.10035606473684311\n",
            "epoch: 216      loss: 0.09968603402376175\n",
            "epoch: 217      loss: 0.0990203320980072\n",
            "epoch: 218      loss: 0.09835861623287201\n",
            "epoch: 219      loss: 0.09770046919584274\n",
            "epoch: 220      loss: 0.09704586118459702\n",
            "epoch: 221      loss: 0.09639504551887512\n",
            "epoch: 222      loss: 0.0957481637597084\n",
            "epoch: 223      loss: 0.09510499984025955\n",
            "epoch: 224      loss: 0.0944652333855629\n",
            "epoch: 225      loss: 0.09382861107587814\n",
            "epoch: 226      loss: 0.09319503605365753\n",
            "epoch: 227      loss: 0.09256453067064285\n",
            "epoch: 228      loss: 0.09193717688322067\n",
            "epoch: 229      loss: 0.09131284803152084\n",
            "epoch: 230      loss: 0.09069136530160904\n",
            "epoch: 231      loss: 0.09007269889116287\n",
            "epoch: 232      loss: 0.08945699036121368\n",
            "epoch: 233      loss: 0.08884461224079132\n",
            "epoch: 234      loss: 0.0882362499833107\n",
            "epoch: 235      loss: 0.08763290196657181\n",
            "epoch: 236      loss: 0.0870349183678627\n",
            "epoch: 237      loss: 0.0864417776465416\n",
            "epoch: 238      loss: 0.08585289865732193\n",
            "epoch: 239      loss: 0.08526787161827087\n",
            "epoch: 240      loss: 0.08468644320964813\n",
            "epoch: 241      loss: 0.0841083899140358\n",
            "epoch: 242      loss: 0.08353355526924133\n",
            "epoch: 243      loss: 0.08296183496713638\n",
            "epoch: 244      loss: 0.08239313215017319\n",
            "epoch: 245      loss: 0.08182740956544876\n",
            "epoch: 246      loss: 0.08126459270715714\n",
            "epoch: 247      loss: 0.08070451766252518\n",
            "epoch: 248      loss: 0.08014693111181259\n",
            "epoch: 249      loss: 0.07959135621786118\n",
            "epoch: 250      loss: 0.07903695106506348\n",
            "epoch: 251      loss: 0.07848276942968369\n",
            "epoch: 252      loss: 0.07792869210243225\n",
            "epoch: 253      loss: 0.07737649232149124\n",
            "epoch: 254      loss: 0.07682856172323227\n",
            "epoch: 255      loss: 0.07628587633371353\n",
            "epoch: 256      loss: 0.0757480263710022\n",
            "epoch: 257      loss: 0.07521427422761917\n",
            "epoch: 258      loss: 0.07468404620885849\n",
            "epoch: 259      loss: 0.07415704429149628\n",
            "epoch: 260      loss: 0.07363318651914597\n",
            "epoch: 261      loss: 0.07311268895864487\n",
            "epoch: 262      loss: 0.07259602844715118\n",
            "epoch: 263      loss: 0.07208438217639923\n",
            "epoch: 264      loss: 0.07157527655363083\n",
            "epoch: 265      loss: 0.07106581330299377\n",
            "epoch: 266      loss: 0.07055317610502243\n",
            "epoch: 267      loss: 0.07005175948143005\n",
            "epoch: 268      loss: 0.06955427676439285\n",
            "epoch: 269      loss: 0.06905027478933334\n",
            "epoch: 270      loss: 0.0685555636882782\n",
            "epoch: 271      loss: 0.06806475669145584\n",
            "epoch: 272      loss: 0.06756966561079025\n",
            "epoch: 273      loss: 0.06708399206399918\n",
            "epoch: 274      loss: 0.06659940630197525\n",
            "epoch: 275      loss: 0.06611455976963043\n",
            "epoch: 276      loss: 0.06563939154148102\n",
            "epoch: 277      loss: 0.06516299396753311\n",
            "epoch: 278      loss: 0.06469084322452545\n",
            "epoch: 279      loss: 0.0642252266407013\n",
            "epoch: 280      loss: 0.06375813484191895\n",
            "epoch: 281      loss: 0.06329742819070816\n",
            "epoch: 282      loss: 0.0628385841846466\n",
            "epoch: 283      loss: 0.0623810850083828\n",
            "epoch: 284      loss: 0.06192891672253609\n",
            "epoch: 285      loss: 0.0614769421517849\n",
            "epoch: 286      loss: 0.061029307544231415\n",
            "epoch: 287      loss: 0.06058357283473015\n",
            "epoch: 288      loss: 0.060138601809740067\n",
            "epoch: 289      loss: 0.059696123003959656\n",
            "epoch: 290      loss: 0.05925372987985611\n",
            "epoch: 291      loss: 0.05881572142243385\n",
            "epoch: 292      loss: 0.05838147550821304\n",
            "epoch: 293      loss: 0.0579502135515213\n",
            "epoch: 294      loss: 0.057521969079971313\n",
            "epoch: 295      loss: 0.05709412693977356\n",
            "epoch: 296      loss: 0.056668587028980255\n",
            "epoch: 297      loss: 0.05624527484178543\n",
            "epoch: 298      loss: 0.05582531914114952\n",
            "epoch: 299      loss: 0.055408671498298645\n",
            "epoch: 300      loss: 0.05499362200498581\n",
            "epoch: 301      loss: 0.05458042025566101\n",
            "epoch: 302      loss: 0.054168183356523514\n",
            "epoch: 303      loss: 0.053758084774017334\n",
            "epoch: 304      loss: 0.053350333124399185\n",
            "epoch: 305      loss: 0.05294490233063698\n",
            "epoch: 306      loss: 0.05254191532731056\n",
            "epoch: 307      loss: 0.05214071646332741\n",
            "epoch: 308      loss: 0.05174180492758751\n",
            "epoch: 309      loss: 0.05134492367506027\n",
            "epoch: 310      loss: 0.05095040053129196\n",
            "epoch: 311      loss: 0.05055784061551094\n",
            "epoch: 312      loss: 0.050166886299848557\n",
            "epoch: 313      loss: 0.049777235835790634\n",
            "epoch: 314      loss: 0.049389246851205826\n",
            "epoch: 315      loss: 0.04900550842285156\n",
            "epoch: 316      loss: 0.04862391576170921\n",
            "epoch: 317      loss: 0.04823894053697586\n",
            "epoch: 318      loss: 0.047857362776994705\n",
            "epoch: 319      loss: 0.047478992491960526\n",
            "epoch: 320      loss: 0.047101426869630814\n",
            "epoch: 321      loss: 0.0467243567109108\n",
            "epoch: 322      loss: 0.04634944722056389\n",
            "epoch: 323      loss: 0.045979078859090805\n",
            "epoch: 324      loss: 0.04560992121696472\n",
            "epoch: 325      loss: 0.04524290934205055\n",
            "epoch: 326      loss: 0.0448790118098259\n",
            "epoch: 327      loss: 0.044516220688819885\n",
            "epoch: 328      loss: 0.04415503889322281\n",
            "epoch: 329      loss: 0.043797172605991364\n",
            "epoch: 330      loss: 0.043441396206617355\n",
            "epoch: 331      loss: 0.043086472898721695\n",
            "epoch: 332      loss: 0.04273414984345436\n",
            "epoch: 333      loss: 0.04238371551036835\n",
            "epoch: 334      loss: 0.042034048587083817\n",
            "epoch: 335      loss: 0.041686415672302246\n",
            "epoch: 336      loss: 0.041340868920087814\n",
            "epoch: 337      loss: 0.040996652096509933\n",
            "epoch: 338      loss: 0.04065454751253128\n",
            "epoch: 339      loss: 0.04031464457511902\n",
            "epoch: 340      loss: 0.03997642174363136\n",
            "epoch: 341      loss: 0.03964020311832428\n",
            "epoch: 342      loss: 0.03930599242448807\n",
            "epoch: 343      loss: 0.03897341713309288\n",
            "epoch: 344      loss: 0.03864279016852379\n",
            "epoch: 345      loss: 0.0383140854537487\n",
            "epoch: 346      loss: 0.037987250834703445\n",
            "epoch: 347      loss: 0.03766251355409622\n",
            "epoch: 348      loss: 0.03733993321657181\n",
            "epoch: 349      loss: 0.037019189447164536\n",
            "epoch: 350      loss: 0.03670026361942291\n",
            "epoch: 351      loss: 0.03638222813606262\n",
            "epoch: 352      loss: 0.036064520478248596\n",
            "epoch: 353      loss: 0.0357469879090786\n",
            "epoch: 354      loss: 0.03543107584118843\n",
            "epoch: 355      loss: 0.03511804714798927\n",
            "epoch: 356      loss: 0.034808553755283356\n",
            "epoch: 357      loss: 0.03450210019946098\n",
            "epoch: 358      loss: 0.034197818487882614\n",
            "epoch: 359      loss: 0.03389504551887512\n",
            "epoch: 360      loss: 0.03359285742044449\n",
            "epoch: 361      loss: 0.03329119831323624\n",
            "epoch: 362      loss: 0.03299039229750633\n",
            "epoch: 363      loss: 0.03269123658537865\n",
            "epoch: 364      loss: 0.03239431604743004\n",
            "epoch: 365      loss: 0.03209979459643364\n",
            "epoch: 366      loss: 0.03180738911032677\n",
            "epoch: 367      loss: 0.03151671215891838\n",
            "epoch: 368      loss: 0.031227396801114082\n",
            "epoch: 369      loss: 0.03093912824988365\n",
            "epoch: 370      loss: 0.030651874840259552\n",
            "epoch: 371      loss: 0.030365752056241035\n",
            "epoch: 372      loss: 0.030081093311309814\n",
            "epoch: 373      loss: 0.029798170551657677\n",
            "epoch: 374      loss: 0.029517222195863724\n",
            "epoch: 375      loss: 0.029238322749733925\n",
            "epoch: 376      loss: 0.02896144986152649\n",
            "epoch: 377      loss: 0.0286865234375\n",
            "epoch: 378      loss: 0.028413470834493637\n",
            "epoch: 379      loss: 0.0281422957777977\n",
            "epoch: 380      loss: 0.02787298895418644\n",
            "epoch: 381      loss: 0.027605649083852768\n",
            "epoch: 382      loss: 0.027340266853570938\n",
            "epoch: 383      loss: 0.027076957747340202\n",
            "epoch: 384      loss: 0.026815539225935936\n",
            "epoch: 385      loss: 0.026556067168712616\n",
            "epoch: 386      loss: 0.02629793994128704\n",
            "epoch: 387      loss: 0.026041150093078613\n",
            "epoch: 388      loss: 0.025785092264413834\n",
            "epoch: 389      loss: 0.025530273094773293\n",
            "epoch: 390      loss: 0.02527698315680027\n",
            "epoch: 391      loss: 0.025025811046361923\n",
            "epoch: 392      loss: 0.024776959791779518\n",
            "epoch: 393      loss: 0.02453037165105343\n",
            "epoch: 394      loss: 0.024285849183797836\n",
            "epoch: 395      loss: 0.024043170735239983\n",
            "epoch: 396      loss: 0.023802192881703377\n",
            "epoch: 397      loss: 0.023562680929899216\n",
            "epoch: 398      loss: 0.023324551060795784\n",
            "epoch: 399      loss: 0.023087402805685997\n",
            "epoch: 400      loss: 0.022851254791021347\n",
            "epoch: 401      loss: 0.022615766152739525\n",
            "epoch: 402      loss: 0.02238139696419239\n",
            "epoch: 403      loss: 0.02214842289686203\n",
            "epoch: 404      loss: 0.021917590871453285\n",
            "epoch: 405      loss: 0.021689265966415405\n",
            "epoch: 406      loss: 0.021463613957166672\n",
            "epoch: 407      loss: 0.021240463480353355\n",
            "epoch: 408      loss: 0.02101934514939785\n",
            "epoch: 409      loss: 0.020799648016691208\n",
            "epoch: 410      loss: 0.020581096410751343\n",
            "epoch: 411      loss: 0.02036393992602825\n",
            "epoch: 412      loss: 0.020148493349552155\n",
            "epoch: 413      loss: 0.019935138523578644\n",
            "epoch: 414      loss: 0.019723666831851006\n",
            "epoch: 415      loss: 0.019514277577400208\n",
            "epoch: 416      loss: 0.019305560737848282\n",
            "epoch: 417      loss: 0.019097551703453064\n",
            "epoch: 418      loss: 0.01888798177242279\n",
            "epoch: 419      loss: 0.0186783280223608\n",
            "epoch: 420      loss: 0.018469149246811867\n",
            "epoch: 421      loss: 0.018262794241309166\n",
            "epoch: 422      loss: 0.01806018501520157\n",
            "epoch: 423      loss: 0.01786136068403721\n",
            "epoch: 424      loss: 0.017665212973952293\n",
            "epoch: 425      loss: 0.017470266669988632\n",
            "epoch: 426      loss: 0.01727544516324997\n",
            "epoch: 427      loss: 0.017080217599868774\n",
            "epoch: 428      loss: 0.016885681077837944\n",
            "epoch: 429      loss: 0.016692563891410828\n",
            "epoch: 430      loss: 0.016501812264323235\n",
            "epoch: 431      loss: 0.016313575208187103\n",
            "epoch: 432      loss: 0.01612773910164833\n",
            "epoch: 433      loss: 0.01594391092658043\n",
            "epoch: 434      loss: 0.015761777758598328\n",
            "epoch: 435      loss: 0.01558068860322237\n",
            "epoch: 436      loss: 0.015400541014969349\n",
            "epoch: 437      loss: 0.015221113339066505\n",
            "epoch: 438      loss: 0.01504310593008995\n",
            "epoch: 439      loss: 0.014867396093904972\n",
            "epoch: 440      loss: 0.014694144017994404\n",
            "epoch: 441      loss: 0.014522473327815533\n",
            "epoch: 442      loss: 0.01435171626508236\n",
            "epoch: 443      loss: 0.014182982966303825\n",
            "epoch: 444      loss: 0.014017206616699696\n",
            "epoch: 445      loss: 0.013854814693331718\n",
            "epoch: 446      loss: 0.013694141991436481\n",
            "epoch: 447      loss: 0.013534711673855782\n",
            "epoch: 448      loss: 0.01337413676083088\n",
            "epoch: 449      loss: 0.013214417733252048\n",
            "epoch: 450      loss: 0.013054884970188141\n",
            "epoch: 451      loss: 0.012897931970655918\n",
            "epoch: 452      loss: 0.012741795741021633\n",
            "epoch: 453      loss: 0.012585625052452087\n",
            "epoch: 454      loss: 0.012430279515683651\n",
            "epoch: 455      loss: 0.012277576141059399\n",
            "epoch: 456      loss: 0.012129475362598896\n",
            "epoch: 457      loss: 0.011985224671661854\n",
            "epoch: 458      loss: 0.011842402629554272\n",
            "epoch: 459      loss: 0.01169862411916256\n",
            "epoch: 460      loss: 0.011553713120520115\n",
            "epoch: 461      loss: 0.01140956673771143\n",
            "epoch: 462      loss: 0.011268376372754574\n",
            "epoch: 463      loss: 0.011130210012197495\n",
            "epoch: 464      loss: 0.010994039475917816\n",
            "epoch: 465      loss: 0.010858791880309582\n",
            "epoch: 466      loss: 0.010724829509854317\n",
            "epoch: 467      loss: 0.010592778213322163\n",
            "epoch: 468      loss: 0.010462792590260506\n",
            "epoch: 469      loss: 0.010334491729736328\n",
            "epoch: 470      loss: 0.010206932201981544\n",
            "epoch: 471      loss: 0.010080131702125072\n",
            "epoch: 472      loss: 0.009954249486327171\n",
            "epoch: 473      loss: 0.009830234572291374\n",
            "epoch: 474      loss: 0.009708012454211712\n",
            "epoch: 475      loss: 0.00958746112883091\n",
            "epoch: 476      loss: 0.009467740543186665\n",
            "epoch: 477      loss: 0.009349068626761436\n",
            "epoch: 478      loss: 0.00923139974474907\n",
            "epoch: 479      loss: 0.009115544147789478\n",
            "epoch: 480      loss: 0.009001144208014011\n",
            "epoch: 481      loss: 0.008888358250260353\n",
            "epoch: 482      loss: 0.008776301518082619\n",
            "epoch: 483      loss: 0.008665387518703938\n",
            "epoch: 484      loss: 0.008555159904062748\n",
            "epoch: 485      loss: 0.008446461521089077\n",
            "epoch: 486      loss: 0.008338835090398788\n",
            "epoch: 487      loss: 0.008232606574892998\n",
            "epoch: 488      loss: 0.00812691543251276\n",
            "epoch: 489      loss: 0.008021990768611431\n",
            "epoch: 490      loss: 0.007918045856058598\n",
            "epoch: 491      loss: 0.007815808057785034\n",
            "epoch: 492      loss: 0.0077152736485004425\n",
            "epoch: 493      loss: 0.007616259157657623\n",
            "epoch: 494      loss: 0.007518473081290722\n",
            "epoch: 495      loss: 0.007421823684126139\n",
            "epoch: 496      loss: 0.007326335646212101\n",
            "epoch: 497      loss: 0.007232139352709055\n",
            "epoch: 498      loss: 0.007139329798519611\n",
            "epoch: 499      loss: 0.007047911174595356\n",
            "epoch: 500      loss: 0.00695776054635644\n",
            "epoch: 501      loss: 0.006868688855320215\n",
            "epoch: 502      loss: 0.006780612748116255\n",
            "epoch: 503      loss: 0.0066935596987605095\n",
            "epoch: 504      loss: 0.006607633084058762\n",
            "epoch: 505      loss: 0.00652300426736474\n",
            "epoch: 506      loss: 0.0064401463605463505\n",
            "epoch: 507      loss: 0.006360091734677553\n",
            "epoch: 508      loss: 0.006285692099481821\n",
            "epoch: 509      loss: 0.006221895106136799\n",
            "epoch: 510      loss: 0.006178984884172678\n",
            "epoch: 511      loss: 0.006143342703580856\n",
            "epoch: 512      loss: 0.006078789010643959\n",
            "epoch: 513      loss: 0.0059388927184045315\n",
            "epoch: 514      loss: 0.005821861792355776\n",
            "epoch: 515      loss: 0.005777072627097368\n",
            "epoch: 516      loss: 0.005712371785193682\n",
            "epoch: 517      loss: 0.005609503015875816\n",
            "epoch: 518      loss: 0.005544525105506182\n",
            "epoch: 519      loss: 0.005482771433889866\n",
            "epoch: 520      loss: 0.005384255200624466\n",
            "epoch: 521      loss: 0.005316851660609245\n",
            "epoch: 522      loss: 0.0052722664549946785\n",
            "epoch: 523      loss: 0.0051880041137337685\n",
            "epoch: 524      loss: 0.0051047587767243385\n",
            "epoch: 525      loss: 0.005056973081082106\n",
            "epoch: 526      loss: 0.00499008409678936\n",
            "epoch: 527      loss: 0.00491449935361743\n",
            "epoch: 528      loss: 0.0048580653965473175\n",
            "epoch: 529      loss: 0.004792144056409597\n",
            "epoch: 530      loss: 0.004726122599095106\n",
            "epoch: 531      loss: 0.004673565737903118\n",
            "epoch: 532      loss: 0.004611048381775618\n",
            "epoch: 533      loss: 0.004543555900454521\n",
            "epoch: 534      loss: 0.004491395782679319\n",
            "epoch: 535      loss: 0.0044378358870744705\n",
            "epoch: 536      loss: 0.004375206306576729\n",
            "epoch: 537      loss: 0.00431935116648674\n",
            "epoch: 538      loss: 0.004267337266355753\n",
            "epoch: 539      loss: 0.004210609942674637\n",
            "epoch: 540      loss: 0.0041574230417609215\n",
            "epoch: 541      loss: 0.0041074808686971664\n",
            "epoch: 542      loss: 0.004052738193422556\n",
            "epoch: 543      loss: 0.003999827895313501\n",
            "epoch: 544      loss: 0.003952441271394491\n",
            "epoch: 545      loss: 0.003903272794559598\n",
            "epoch: 546      loss: 0.0038522332906723022\n",
            "epoch: 547      loss: 0.003804426174610853\n",
            "epoch: 548      loss: 0.00375735224224627\n",
            "epoch: 549      loss: 0.0037091339472681284\n",
            "epoch: 550      loss: 0.003663214622065425\n",
            "epoch: 551      loss: 0.003618903225287795\n",
            "epoch: 552      loss: 0.003573644906282425\n",
            "epoch: 553      loss: 0.003528311848640442\n",
            "epoch: 554      loss: 0.0034847413189709187\n",
            "epoch: 555      loss: 0.003442148445174098\n",
            "epoch: 556      loss: 0.0033993127290159464\n",
            "epoch: 557      loss: 0.0033574351109564304\n",
            "epoch: 558      loss: 0.0033168084919452667\n",
            "epoch: 559      loss: 0.003276175819337368\n",
            "epoch: 560      loss: 0.0032355410512536764\n",
            "epoch: 561      loss: 0.003195831086486578\n",
            "epoch: 562      loss: 0.0031570971477776766\n",
            "epoch: 563      loss: 0.0031186414416879416\n",
            "epoch: 564      loss: 0.0030805140268057585\n",
            "epoch: 565      loss: 0.0030433007050305605\n",
            "epoch: 566      loss: 0.0030067998450249434\n",
            "epoch: 567      loss: 0.0029704791959375143\n",
            "epoch: 568      loss: 0.002934536198154092\n",
            "epoch: 569      loss: 0.002899297745898366\n",
            "epoch: 570      loss: 0.002864569192752242\n",
            "epoch: 571      loss: 0.0028302110731601715\n",
            "epoch: 572      loss: 0.0027962634339928627\n",
            "epoch: 573      loss: 0.002762826159596443\n",
            "epoch: 574      loss: 0.0027299632783979177\n",
            "epoch: 575      loss: 0.002697559306398034\n",
            "epoch: 576      loss: 0.0026655131950974464\n",
            "epoch: 577      loss: 0.002633908297866583\n",
            "epoch: 578      loss: 0.002602823544293642\n",
            "epoch: 579      loss: 0.0025722263380885124\n",
            "epoch: 580      loss: 0.002542032627388835\n",
            "epoch: 581      loss: 0.002512250328436494\n",
            "epoch: 582      loss: 0.0024829537142068148\n",
            "epoch: 583      loss: 0.00245422450825572\n",
            "epoch: 584      loss: 0.00242609903216362\n",
            "epoch: 585      loss: 0.002398747019469738\n",
            "epoch: 586      loss: 0.0023723039776086807\n",
            "epoch: 587      loss: 0.0023475398775190115\n",
            "epoch: 588      loss: 0.0023246677592396736\n",
            "epoch: 589      loss: 0.002305889967828989\n",
            "epoch: 590      loss: 0.0022891531698405743\n",
            "epoch: 591      loss: 0.0022780566941946745\n",
            "epoch: 592      loss: 0.0022599061485379934\n",
            "epoch: 593      loss: 0.002236203057691455\n",
            "epoch: 594      loss: 0.002196607878431678\n",
            "epoch: 595      loss: 0.002151582622900605\n",
            "epoch: 596      loss: 0.002114664763212204\n",
            "epoch: 597      loss: 0.002092712791636586\n",
            "epoch: 598      loss: 0.002080748090520501\n",
            "epoch: 599      loss: 0.0020655211992561817\n",
            "epoch: 600      loss: 0.002039512852206826\n",
            "epoch: 601      loss: 0.0020050585735589266\n",
            "epoch: 602      loss: 0.001974075334146619\n",
            "epoch: 603      loss: 0.001953140599653125\n",
            "epoch: 604      loss: 0.0019379963632673025\n",
            "epoch: 605      loss: 0.001919989357702434\n",
            "epoch: 606      loss: 0.001895806286484003\n",
            "epoch: 607      loss: 0.001869979896582663\n",
            "epoch: 608      loss: 0.0018468914786353707\n",
            "epoch: 609      loss: 0.0018272012239322066\n",
            "epoch: 610      loss: 0.0018085194751620293\n",
            "epoch: 611      loss: 0.001789463683962822\n",
            "epoch: 612      loss: 0.001769989961758256\n",
            "epoch: 613      loss: 0.001749754068441689\n",
            "epoch: 614      loss: 0.0017291030380874872\n",
            "epoch: 615      loss: 0.0017087816959246993\n",
            "epoch: 616      loss: 0.0016902111237868667\n",
            "epoch: 617      loss: 0.0016734213568270206\n",
            "epoch: 618      loss: 0.0016566927079111338\n",
            "epoch: 619      loss: 0.0016386242350563407\n",
            "epoch: 620      loss: 0.0016192629700526595\n",
            "epoch: 621      loss: 0.0016004379140213132\n",
            "epoch: 622      loss: 0.0015832934295758605\n",
            "epoch: 623      loss: 0.001567438943311572\n",
            "epoch: 624      loss: 0.0015516607090830803\n",
            "epoch: 625      loss: 0.0015351774636656046\n",
            "epoch: 626      loss: 0.0015183091163635254\n",
            "epoch: 627      loss: 0.0015016456600278616\n",
            "epoch: 628      loss: 0.0014855337794870138\n",
            "epoch: 629      loss: 0.0014698425075039268\n",
            "epoch: 630      loss: 0.0014544015284627676\n",
            "epoch: 631      loss: 0.0014392230659723282\n",
            "epoch: 632      loss: 0.0014243522891774774\n",
            "epoch: 633      loss: 0.0014097288949415088\n",
            "epoch: 634      loss: 0.0013951543951407075\n",
            "epoch: 635      loss: 0.0013805098133161664\n",
            "epoch: 636      loss: 0.001365853939205408\n",
            "epoch: 637      loss: 0.0013513891026377678\n",
            "epoch: 638      loss: 0.0013372758403420448\n",
            "epoch: 639      loss: 0.0013235242804512382\n",
            "epoch: 640      loss: 0.001310028717853129\n",
            "epoch: 641      loss: 0.0012966792564839125\n",
            "epoch: 642      loss: 0.001283438759855926\n",
            "epoch: 643      loss: 0.0012703418033197522\n",
            "epoch: 644      loss: 0.001257434138096869\n",
            "epoch: 645      loss: 0.001244726125150919\n",
            "epoch: 646      loss: 0.0012321957619860768\n",
            "epoch: 647      loss: 0.001219815225340426\n",
            "epoch: 648      loss: 0.0012075771810486913\n",
            "epoch: 649      loss: 0.0011955065419897437\n",
            "epoch: 650      loss: 0.0011836314806714654\n",
            "epoch: 651      loss: 0.0011719930917024612\n",
            "epoch: 652      loss: 0.0011606025509536266\n",
            "epoch: 653      loss: 0.0011495056096464396\n",
            "epoch: 654      loss: 0.0011387275299057364\n",
            "epoch: 655      loss: 0.0011283985804766417\n",
            "epoch: 656      loss: 0.0011186054907739162\n",
            "epoch: 657      loss: 0.0011096529196947813\n",
            "epoch: 658      loss: 0.0011016079224646091\n",
            "epoch: 659      loss: 0.001094906940124929\n",
            "epoch: 660      loss: 0.001088976743631065\n",
            "epoch: 661      loss: 0.0010836810106411576\n",
            "epoch: 662      loss: 0.001076678279787302\n",
            "epoch: 663      loss: 0.0010669128969311714\n",
            "epoch: 664      loss: 0.0010534354951232672\n",
            "epoch: 665      loss: 0.0010374312987551093\n",
            "epoch: 666      loss: 0.001022707554511726\n",
            "epoch: 667      loss: 0.00100972771178931\n",
            "epoch: 668      loss: 0.000999476877041161\n",
            "epoch: 669      loss: 0.0009898691205307841\n",
            "epoch: 670      loss: 0.0009797514649108052\n",
            "epoch: 671      loss: 0.0009690318256616592\n",
            "epoch: 672      loss: 0.0009588930988684297\n",
            "epoch: 673      loss: 0.0009505389607511461\n",
            "epoch: 674      loss: 0.0009436595137231052\n",
            "epoch: 675      loss: 0.0009371883352287114\n",
            "epoch: 676      loss: 0.0009289594017900527\n",
            "epoch: 677      loss: 0.0009188416879624128\n",
            "epoch: 678      loss: 0.0009073985856957734\n",
            "epoch: 679      loss: 0.000896608573384583\n",
            "epoch: 680      loss: 0.0008875787607394159\n",
            "epoch: 681      loss: 0.0008802833617664874\n",
            "epoch: 682      loss: 0.0008737716707400978\n",
            "epoch: 683      loss: 0.0008670146344229579\n",
            "epoch: 684      loss: 0.0008595568360760808\n",
            "epoch: 685      loss: 0.0008514443761669099\n",
            "epoch: 686      loss: 0.0008433219627477229\n",
            "epoch: 687      loss: 0.0008353864541277289\n",
            "epoch: 688      loss: 0.0008278763853013515\n",
            "epoch: 689      loss: 0.0008205340709537268\n",
            "epoch: 690      loss: 0.0008131954818964005\n",
            "epoch: 691      loss: 0.0008057538070715964\n",
            "epoch: 692      loss: 0.00079828139860183\n",
            "epoch: 693      loss: 0.0007909493870101869\n",
            "epoch: 694      loss: 0.0007838985184207559\n",
            "epoch: 695      loss: 0.000777173787355423\n",
            "epoch: 696      loss: 0.0007707113400101662\n",
            "epoch: 697      loss: 0.0007644106517545879\n",
            "epoch: 698      loss: 0.0007581646787002683\n",
            "epoch: 699      loss: 0.0007519336650148034\n",
            "epoch: 700      loss: 0.0007457163883373141\n",
            "epoch: 701      loss: 0.00073956698179245\n",
            "epoch: 702      loss: 0.0007335356785915792\n",
            "epoch: 703      loss: 0.0007276907563209534\n",
            "epoch: 704      loss: 0.0007220639963634312\n",
            "epoch: 705      loss: 0.0007166924187913537\n",
            "epoch: 706      loss: 0.0007116111810319126\n",
            "epoch: 707      loss: 0.0007068372215144336\n",
            "epoch: 708      loss: 0.0007024402730166912\n",
            "epoch: 709      loss: 0.0006984408828429878\n",
            "epoch: 710      loss: 0.000694854708854109\n",
            "epoch: 711      loss: 0.0006917529390193522\n",
            "epoch: 712      loss: 0.0006887483759783208\n",
            "epoch: 713      loss: 0.000686079787556082\n",
            "epoch: 714      loss: 0.0006823799340054393\n",
            "epoch: 715      loss: 0.0006783447461202741\n",
            "epoch: 716      loss: 0.000671821238938719\n",
            "epoch: 717      loss: 0.000664355990011245\n",
            "epoch: 718      loss: 0.0006550046382471919\n",
            "epoch: 719      loss: 0.0006456876290030777\n",
            "epoch: 720      loss: 0.0006371054332703352\n",
            "epoch: 721      loss: 0.0006300441455096006\n",
            "epoch: 722      loss: 0.0006246088887564838\n",
            "epoch: 723      loss: 0.0006204626406542957\n",
            "epoch: 724      loss: 0.0006170074339024723\n",
            "epoch: 725      loss: 0.0006134536815807223\n",
            "epoch: 726      loss: 0.0006096446886658669\n",
            "epoch: 727      loss: 0.0006047835340723395\n",
            "epoch: 728      loss: 0.0005994213279336691\n",
            "epoch: 729      loss: 0.000593462260439992\n",
            "epoch: 730      loss: 0.0005875962087884545\n",
            "epoch: 731      loss: 0.0005821302183903754\n",
            "epoch: 732      loss: 0.000577286584302783\n",
            "epoch: 733      loss: 0.0005730182747356594\n",
            "epoch: 734      loss: 0.0005691418191418052\n",
            "epoch: 735      loss: 0.0005654405686073005\n",
            "epoch: 736      loss: 0.0005615936825051904\n",
            "epoch: 737      loss: 0.0005576217081397772\n",
            "epoch: 738      loss: 0.0005532971117645502\n",
            "epoch: 739      loss: 0.0005488732131198049\n",
            "epoch: 740      loss: 0.0005443378468044102\n",
            "epoch: 741      loss: 0.0005399137153290212\n",
            "epoch: 742      loss: 0.0005356640904210508\n",
            "epoch: 743      loss: 0.0005316415335983038\n",
            "epoch: 744      loss: 0.0005278363241814077\n",
            "epoch: 745      loss: 0.0005242014885880053\n",
            "epoch: 746      loss: 0.0005206847563385963\n",
            "epoch: 747      loss: 0.0005172212258912623\n",
            "epoch: 748      loss: 0.0005137944826856256\n",
            "epoch: 749      loss: 0.0005103351431898773\n",
            "epoch: 750      loss: 0.0005068869795650244\n",
            "epoch: 751      loss: 0.0005033811903558671\n",
            "epoch: 752      loss: 0.0004999025841243565\n",
            "epoch: 753      loss: 0.0004963992396369576\n",
            "epoch: 754      loss: 0.0004929566057398915\n",
            "epoch: 755      loss: 0.0004895540187135339\n",
            "epoch: 756      loss: 0.00048625250929035246\n",
            "epoch: 757      loss: 0.0004830630496144295\n",
            "epoch: 758      loss: 0.0004800217575393617\n",
            "epoch: 759      loss: 0.00047717036795802414\n",
            "epoch: 760      loss: 0.00047453964361920953\n",
            "epoch: 761      loss: 0.0004722063895314932\n",
            "epoch: 762      loss: 0.0004702153673861176\n",
            "epoch: 763      loss: 0.00046863750321790576\n",
            "epoch: 764      loss: 0.00046749733155593276\n",
            "epoch: 765      loss: 0.00046668053255416453\n",
            "epoch: 766      loss: 0.00046603879309259355\n",
            "epoch: 767      loss: 0.00046506241778843105\n",
            "epoch: 768      loss: 0.00046346738236024976\n",
            "epoch: 769      loss: 0.0004610268515534699\n",
            "epoch: 770      loss: 0.00045807380229234695\n",
            "epoch: 771      loss: 0.00045543929445557296\n",
            "epoch: 772      loss: 0.0004536283959168941\n",
            "epoch: 773      loss: 0.0004516205517575145\n",
            "epoch: 774      loss: 0.0004491815925575793\n",
            "epoch: 775      loss: 0.0004434283182490617\n",
            "epoch: 776      loss: 0.0004367292276583612\n",
            "epoch: 777      loss: 0.0004310547956265509\n",
            "epoch: 778      loss: 0.000428405764978379\n",
            "epoch: 779      loss: 0.00042967492481693625\n",
            "epoch: 780      loss: 0.0004300414293538779\n",
            "epoch: 781      loss: 0.0004282425798010081\n",
            "epoch: 782      loss: 0.0004209036997053772\n",
            "epoch: 783      loss: 0.0004121430974919349\n",
            "epoch: 784      loss: 0.00040489196544513106\n",
            "epoch: 785      loss: 0.0004017124592792243\n",
            "epoch: 786      loss: 0.0004015743324998766\n",
            "epoch: 787      loss: 0.0004016303282696754\n",
            "epoch: 788      loss: 0.000400045100832358\n",
            "epoch: 789      loss: 0.00039638596354052424\n",
            "epoch: 790      loss: 0.00039266725070774555\n",
            "epoch: 791      loss: 0.0003898698487319052\n",
            "epoch: 792      loss: 0.000388424756238237\n",
            "epoch: 793      loss: 0.00038686764310114086\n",
            "epoch: 794      loss: 0.00038426124956458807\n",
            "epoch: 795      loss: 0.00038044192478992045\n",
            "epoch: 796      loss: 0.00037630306906066835\n",
            "epoch: 797      loss: 0.00037295467336662114\n",
            "epoch: 798      loss: 0.0003707660362124443\n",
            "epoch: 799      loss: 0.00036925787571817636\n",
            "epoch: 800      loss: 0.0003677114436868578\n",
            "epoch: 801      loss: 0.00036569772055372596\n",
            "epoch: 802      loss: 0.00036338376230560243\n",
            "epoch: 803      loss: 0.00036114820977672935\n",
            "epoch: 804      loss: 0.00035919895162805915\n",
            "epoch: 805      loss: 0.0003575223672669381\n",
            "epoch: 806      loss: 0.00035575416404753923\n",
            "epoch: 807      loss: 0.00035376613959670067\n",
            "epoch: 808      loss: 0.0003514472336973995\n",
            "epoch: 809      loss: 0.00034906750079244375\n",
            "epoch: 810      loss: 0.00034674315247684717\n",
            "epoch: 811      loss: 0.0003446362679824233\n",
            "epoch: 812      loss: 0.00034265234717167914\n",
            "epoch: 813      loss: 0.00034072325797751546\n",
            "epoch: 814      loss: 0.0003387501637917012\n",
            "epoch: 815      loss: 0.0003367325698491186\n",
            "epoch: 816      loss: 0.00033470895141363144\n",
            "epoch: 817      loss: 0.0003327397571410984\n",
            "epoch: 818      loss: 0.00033085132599808276\n",
            "epoch: 819      loss: 0.00032904456020332873\n",
            "epoch: 820      loss: 0.0003272858157288283\n",
            "epoch: 821      loss: 0.00032554336939938366\n",
            "epoch: 822      loss: 0.0003237956261727959\n",
            "epoch: 823      loss: 0.0003220433136448264\n",
            "epoch: 824      loss: 0.0003202969382982701\n",
            "epoch: 825      loss: 0.00031857361318543553\n",
            "epoch: 826      loss: 0.0003168850962538272\n",
            "epoch: 827      loss: 0.0003152363351546228\n",
            "epoch: 828      loss: 0.00031362628214992583\n",
            "epoch: 829      loss: 0.0003120525798294693\n",
            "epoch: 830      loss: 0.0003105145297013223\n",
            "epoch: 831      loss: 0.00030902287107892334\n",
            "epoch: 832      loss: 0.00030759989749640226\n",
            "epoch: 833      loss: 0.0003063005569856614\n",
            "epoch: 834      loss: 0.000305196619592607\n",
            "epoch: 835      loss: 0.0003044621553272009\n",
            "epoch: 836      loss: 0.00030429198523052037\n",
            "epoch: 837      loss: 0.00030523817986249924\n",
            "epoch: 838      loss: 0.0003077591536566615\n",
            "epoch: 839      loss: 0.0003134795115329325\n",
            "epoch: 840      loss: 0.00032263604225590825\n",
            "epoch: 841      loss: 0.0003382657596375793\n",
            "epoch: 842      loss: 0.00035443439264781773\n",
            "epoch: 843      loss: 0.0003698006912600249\n",
            "epoch: 844      loss: 0.0003635566681623459\n",
            "epoch: 845      loss: 0.000339230929967016\n",
            "epoch: 846      loss: 0.00030609258101321757\n",
            "epoch: 847      loss: 0.0002910251496359706\n",
            "epoch: 848      loss: 0.0002998672134708613\n",
            "epoch: 849      loss: 0.0003135711594950408\n",
            "epoch: 850      loss: 0.0003136489540338516\n",
            "epoch: 851      loss: 0.00029690537485294044\n",
            "epoch: 852      loss: 0.00028533401200547814\n",
            "epoch: 853      loss: 0.0002872583572752774\n",
            "epoch: 854      loss: 0.00029157413518987596\n",
            "epoch: 855      loss: 0.0002882243425119668\n",
            "epoch: 856      loss: 0.0002810585719998926\n",
            "epoch: 857      loss: 0.0002800633374135941\n",
            "epoch: 858      loss: 0.00028240284882485867\n",
            "epoch: 859      loss: 0.00027944939211010933\n",
            "epoch: 860      loss: 0.00027224948280490935\n",
            "epoch: 861      loss: 0.00026916302158497274\n",
            "epoch: 862      loss: 0.000271932571195066\n",
            "epoch: 863      loss: 0.0002735056623350829\n",
            "epoch: 864      loss: 0.00026968709426000714\n",
            "epoch: 865      loss: 0.000264700036495924\n",
            "epoch: 866      loss: 0.0002632926043588668\n",
            "epoch: 867      loss: 0.00026370081468485296\n",
            "epoch: 868      loss: 0.0002625301422085613\n",
            "epoch: 869      loss: 0.0002601394953671843\n",
            "epoch: 870      loss: 0.0002588571805972606\n",
            "epoch: 871      loss: 0.000258572050370276\n",
            "epoch: 872      loss: 0.0002572194498497993\n",
            "epoch: 873      loss: 0.00025477827875874937\n",
            "epoch: 874      loss: 0.00025292852660641074\n",
            "epoch: 875      loss: 0.00025240101967938244\n",
            "epoch: 876      loss: 0.00025195267517119646\n",
            "epoch: 877      loss: 0.00025055240257643163\n",
            "epoch: 878      loss: 0.00024874365772120655\n",
            "epoch: 879      loss: 0.00024761667009443045\n",
            "epoch: 880      loss: 0.00024703089729882777\n",
            "epoch: 881      loss: 0.0002460435207467526\n",
            "epoch: 882      loss: 0.0002444856218062341\n",
            "epoch: 883      loss: 0.00024300762743223459\n",
            "epoch: 884      loss: 0.00024212712014559656\n",
            "epoch: 885      loss: 0.00024140272580552846\n",
            "epoch: 886      loss: 0.00024031885550357401\n",
            "epoch: 887      loss: 0.0002390656591160223\n",
            "epoch: 888      loss: 0.0002380931400693953\n",
            "epoch: 889      loss: 0.00023736186267342418\n",
            "epoch: 890      loss: 0.00023642562155146152\n",
            "epoch: 891      loss: 0.00023517075169365853\n",
            "epoch: 892      loss: 0.00023396917094942182\n",
            "epoch: 893      loss: 0.0002330805582460016\n",
            "epoch: 894      loss: 0.00023230919032357633\n",
            "epoch: 895      loss: 0.00023136587697081268\n",
            "epoch: 896      loss: 0.00023027534189168364\n",
            "epoch: 897      loss: 0.00022928524413146079\n",
            "epoch: 898      loss: 0.0002284630754729733\n",
            "epoch: 899      loss: 0.0002276459854329005\n",
            "epoch: 900      loss: 0.00022671630722470582\n",
            "epoch: 901      loss: 0.00022574666945729405\n",
            "epoch: 902      loss: 0.0002248599485028535\n",
            "epoch: 903      loss: 0.00022404994524549693\n",
            "epoch: 904      loss: 0.0002232181723229587\n",
            "epoch: 905      loss: 0.00022232170158531517\n",
            "epoch: 906      loss: 0.00022141211957205087\n",
            "epoch: 907      loss: 0.00022054729925002903\n",
            "epoch: 908      loss: 0.00021972425747662783\n",
            "epoch: 909      loss: 0.00021890467905905098\n",
            "epoch: 910      loss: 0.0002180746669182554\n",
            "epoch: 911      loss: 0.00021724571706727147\n",
            "epoch: 912      loss: 0.00021643424406647682\n",
            "epoch: 913      loss: 0.0002156397677026689\n",
            "epoch: 914      loss: 0.00021486199693754315\n",
            "epoch: 915      loss: 0.00021409823966678232\n",
            "epoch: 916      loss: 0.00021335616474971175\n",
            "epoch: 917      loss: 0.0002126358449459076\n",
            "epoch: 918      loss: 0.00021196118905209005\n",
            "epoch: 919      loss: 0.00021134591952431947\n",
            "epoch: 920      loss: 0.00021084430045448244\n",
            "epoch: 921      loss: 0.00021046276378910989\n",
            "epoch: 922      loss: 0.00021032665972597897\n",
            "epoch: 923      loss: 0.00021043293236289173\n",
            "epoch: 924      loss: 0.00021115876734256744\n",
            "epoch: 925      loss: 0.00021233223378658295\n",
            "epoch: 926      loss: 0.00021489470964297652\n",
            "epoch: 927      loss: 0.0002176331909140572\n",
            "epoch: 928      loss: 0.00022249246831052005\n",
            "epoch: 929      loss: 0.00022480257030110806\n",
            "epoch: 930      loss: 0.00022769891074858606\n",
            "epoch: 931      loss: 0.0002232740371255204\n",
            "epoch: 932      loss: 0.00021730316802859306\n",
            "epoch: 933      loss: 0.00020862335804849863\n",
            "epoch: 934      loss: 0.00020270854292903095\n",
            "epoch: 935      loss: 0.00020077258523087949\n",
            "epoch: 936      loss: 0.0002020276297116652\n",
            "epoch: 937      loss: 0.00020481842511799186\n",
            "epoch: 938      loss: 0.00020669192599598318\n",
            "epoch: 939      loss: 0.00020765858062077314\n",
            "epoch: 940      loss: 0.00020572208450175822\n",
            "epoch: 941      loss: 0.00020261081226635724\n",
            "epoch: 942      loss: 0.0001987740397453308\n",
            "epoch: 943      loss: 0.00019571704615373164\n",
            "epoch: 944      loss: 0.00019414987764321268\n",
            "epoch: 945      loss: 0.0001939647045219317\n",
            "epoch: 946      loss: 0.00019462280033621937\n",
            "epoch: 947      loss: 0.00019521164358593524\n",
            "epoch: 948      loss: 0.00019529819837771356\n",
            "epoch: 949      loss: 0.00019435607828199863\n",
            "epoch: 950      loss: 0.00019278349645901471\n",
            "epoch: 951      loss: 0.00019089187844656408\n",
            "epoch: 952      loss: 0.00018921268929261714\n",
            "epoch: 953      loss: 0.00018801937403623015\n",
            "epoch: 954      loss: 0.00018736209312919527\n",
            "epoch: 955      loss: 0.00018711471057031304\n",
            "epoch: 956      loss: 0.00018704055401030928\n",
            "epoch: 957      loss: 0.00018694152822718024\n",
            "epoch: 958      loss: 0.00018661310605239123\n",
            "epoch: 959      loss: 0.0001860525517258793\n",
            "epoch: 960      loss: 0.00018517991702537984\n",
            "epoch: 961      loss: 0.00018417804676573724\n",
            "epoch: 962      loss: 0.0001831055706134066\n",
            "epoch: 963      loss: 0.00018216099124401808\n",
            "epoch: 964      loss: 0.00018140682368539274\n",
            "epoch: 965      loss: 0.00018087303033098578\n",
            "epoch: 966      loss: 0.00018051869119517505\n",
            "epoch: 967      loss: 0.00018029440252576023\n",
            "epoch: 968      loss: 0.00018017267575487494\n",
            "epoch: 969      loss: 0.0001801665493985638\n",
            "epoch: 970      loss: 0.00018035648099612445\n",
            "epoch: 971      loss: 0.00018083970644511282\n",
            "epoch: 972      loss: 0.00018179802282247692\n",
            "epoch: 973      loss: 0.00018345555872656405\n",
            "epoch: 974      loss: 0.00018599044415168464\n",
            "epoch: 975      loss: 0.00018971748067997396\n",
            "epoch: 976      loss: 0.00019415971473790705\n",
            "epoch: 977      loss: 0.00019894642173312604\n",
            "epoch: 978      loss: 0.0002015004720306024\n",
            "epoch: 979      loss: 0.0002004071866394952\n",
            "epoch: 980      loss: 0.00019381965103093535\n",
            "epoch: 981      loss: 0.0001843436766648665\n",
            "epoch: 982      loss: 0.00017598926206119359\n",
            "epoch: 983      loss: 0.00017233527614735067\n",
            "epoch: 984      loss: 0.00017357814067509025\n",
            "epoch: 985      loss: 0.00017704963102005422\n",
            "epoch: 986      loss: 0.00017957559612113982\n",
            "epoch: 987      loss: 0.00017880207451526076\n",
            "epoch: 988      loss: 0.00017543772992212325\n",
            "epoch: 989      loss: 0.000171512714587152\n",
            "epoch: 990      loss: 0.00016919059271458536\n",
            "epoch: 991      loss: 0.00016909121768549085\n",
            "epoch: 992      loss: 0.00017010104784276336\n",
            "epoch: 993      loss: 0.00017077675147447735\n",
            "epoch: 994      loss: 0.00017003245011437684\n",
            "epoch: 995      loss: 0.00016830797540023923\n",
            "epoch: 996      loss: 0.00016651787154842168\n",
            "epoch: 997      loss: 0.00016545673133805394\n",
            "epoch: 998      loss: 0.00016521131328772753\n",
            "epoch: 999      loss: 0.00016526122635696083\n"
          ]
        }
      ]
    },
    {
      "cell_type": "code",
      "metadata": {
        "_uuid": "d71a83724eadcdfa8cc1eae767e9673a9c5e87b3",
        "trusted": true,
        "id": "DjmhNfNA7X7r",
        "outputId": "30ed9371-683a-46ee-a63e-af020e9bb004",
        "colab": {
          "base_uri": "https://localhost:8080/"
        }
      },
      "source": [
        "print(x_tok[0])\n",
        "print(x_tok[1])"
      ],
      "execution_count": 54,
      "outputs": [
        {
          "output_type": "stream",
          "name": "stdout",
          "text": [
            "['Thích', 'mẫu', 'người', 'nào']\n",
            "['Có', 'crush', 'ai', 'không']\n"
          ]
        }
      ]
    },
    {
      "cell_type": "code",
      "metadata": {
        "_uuid": "ceef669279fdfce7928407c955382a302f8513c1",
        "trusted": true,
        "id": "W5Ptr4a07X7s",
        "outputId": "9e5161c0-4fde-4c71-9bbe-1ce15c03bbc5",
        "colab": {
          "base_uri": "https://localhost:8080/"
        }
      },
      "source": [
        "print(x_tok[0][0])\n",
        "# print(x_tok[0][0])\n",
        "test = get_vector_by_key(x_tok[0][0])\n",
        "# print(keys.index(x_tok[0][0]))\n",
        "# print(test)\n",
        "# print(vectors[7258])\n",
        "# print((test - x[0][0]) ** 2)\n",
        "su = np.sum((vectors - x[0][0]) ** 2, axis=1)\n",
        "# print(np.argmin(su))\n",
        "# print()\n",
        "# print(su[np.argmin(su)])"
      ],
      "execution_count": 55,
      "outputs": [
        {
          "output_type": "stream",
          "name": "stdout",
          "text": [
            "Thích\n"
          ]
        }
      ]
    },
    {
      "cell_type": "code",
      "metadata": {
        "_uuid": "c08e50a77473867bc77cde2a99a85f280695cdac",
        "trusted": true,
        "id": "axxwsqOI7X7s",
        "outputId": "9a0e26ca-b99e-4059-ce35-b16bc13c5d78",
        "colab": {
          "base_uri": "https://localhost:8080/"
        }
      },
      "source": [
        "output = sess.run(outputs)\n",
        "print(output.shape)\n",
        "\n",
        "for j in range(10):\n",
        "    print(y_tok[j])\n",
        "    for i in range(25):\n",
        "        t = np.argmin(np.sum((vectors - output[j][i]) ** 2, axis=1))\n",
        "        if keys[t] != '<PAD>':\n",
        "            print(keys[t], end=' ')\n",
        "    print()"
      ],
      "execution_count": 56,
      "outputs": [
        {
          "output_type": "stream",
          "name": "stdout",
          "text": [
            "(10, 25, 400)\n",
            "['Dễ', 'thương,', 'tóc', 'dài,', 'da_trắng']\n",
            "<UNK> <UNK> tóc <UNK> cao_c&# \n",
            "['Có', '1', 'bạn', 'cùng_lớp']\n",
            "<UNK> <UNK> bạn <UNK> \n",
            "['Vì', 'đáp_ứng', 'những', 'yêu_cầu', 'của', 'tao']\n",
            "<UNK> đáp_ứng những yêu_cầu của tao \n",
            "['Hay', 'nhắn_tin', 'messenger']\n",
            "<UNK> nhắn_tin messenger \n",
            "['Có', 'đôi_khi']\n",
            "<UNK> đôi_khi \n",
            "['Có,', 'đang', 'đợi', 'trả_lời']\n",
            "<UNK> đang đợi trả_lời \n",
            "['Thường', 'đi', 'cùng', 'cả', 'nhóm', 'bạn']\n",
            "<UNK> đi cùng cả nhóm bạn \n",
            "['Thích', 'phim,', 'đồ', 'ăn,', 'thể_thao']\n",
            "<UNK> <UNK> đồ <UNK> thể_thao \n",
            "['Phim', 'ma']\n",
            "la_a ma \n",
            "['chơi', 'đá', 'banh']\n",
            "chơi đá banh \n"
          ]
        }
      ]
    },
    {
      "cell_type": "code",
      "source": [
        "output = sess.run(outputs)\n",
        "print(output.shape)\n",
        "print(x_tok[5])\n",
        "for j in range(1):\n",
        "    print(y_tok[5])\n",
        "    for i in range(25):\n",
        "        t = np.argmin(np.sum((vectors - output[j][i]) ** 2, axis=1))\n",
        "        if keys[t] != '<PAD>':\n",
        "            print(keys[t], end=' ')\n",
        "    print()"
      ],
      "metadata": {
        "id": "C9xgVVUCJ7b-",
        "colab": {
          "base_uri": "https://localhost:8080/"
        },
        "outputId": "99705306-f167-4319-87d2-3e581a3a73f1"
      },
      "execution_count": 61,
      "outputs": [
        {
          "output_type": "stream",
          "name": "stdout",
          "text": [
            "(10, 25, 400)\n",
            "['Có', 'định', 'rủ', 'bạn', 'đó', 'về', 'quê', 'dịp', 'Tết', 'không']\n",
            "['Có,', 'đang', 'đợi', 'trả_lời']\n",
            "<UNK> <UNK> tóc <UNK> cao_c&# \n"
          ]
        }
      ]
    },
    {
      "cell_type": "code",
      "source": [
        "output = sess.run(outputs)\n",
        "print(output.shape)\n",
        "print(x_tok[2])\n",
        "for j in range(1):\n",
        "    print(y_tok[2])\n",
        "    for i in range(25):\n",
        "        t = np.argmin(np.sum((vectors - output[j][i]) ** 2, axis=1))\n",
        "        if keys[t] != '<PAD>':\n",
        "            print(keys[t], end=' ')\n",
        "    print()"
      ],
      "metadata": {
        "colab": {
          "base_uri": "https://localhost:8080/"
        },
        "id": "paQkvu9PJ5Na",
        "outputId": "b4d37939-589f-4bb3-d5c4-58f2d97aded8"
      },
      "execution_count": 60,
      "outputs": [
        {
          "output_type": "stream",
          "name": "stdout",
          "text": [
            "(10, 25, 400)\n",
            "['Tại', 'sao', 'lại', 'thích', 'bạn', 'dó']\n",
            "['Vì', 'đáp_ứng', 'những', 'yêu_cầu', 'của', 'tao']\n",
            "<UNK> <UNK> tóc <UNK> cao_c&# \n"
          ]
        }
      ]
    },
    {
      "cell_type": "code",
      "source": [
        "output = sess.run(outputs)\n",
        "print(output.shape)\n",
        "print(x_tok[7])\n",
        "for j in range(1):\n",
        "    print(y_tok[7])\n",
        "    for i in range(25):\n",
        "        t = np.argmin(np.sum((vectors - output[j][i]) ** 2, axis=1))\n",
        "        if keys[t] != '<PAD>':\n",
        "            print(keys[t], end=' ')\n",
        "    print()"
      ],
      "metadata": {
        "id": "fXbsHCBiKBQ1",
        "colab": {
          "base_uri": "https://localhost:8080/"
        },
        "outputId": "32b393b6-5f32-4c1a-c8db-3210e9b71f26"
      },
      "execution_count": 63,
      "outputs": [
        {
          "output_type": "stream",
          "name": "stdout",
          "text": [
            "(10, 25, 400)\n",
            "['Sở', 'thích', 'mày', 'sao?']\n",
            "['Thích', 'phim,', 'đồ', 'ăn,', 'thể_thao']\n",
            "<UNK> <UNK> tóc <UNK> cao_c&# \n"
          ]
        }
      ]
    },
    {
      "cell_type": "markdown",
      "source": [
        "# WORD2VEC CÁCH 2"
      ],
      "metadata": {
        "id": "ghWkinOUOkE2"
      }
    },
    {
      "cell_type": "code",
      "source": [
        "questions"
      ],
      "metadata": {
        "colab": {
          "base_uri": "https://localhost:8080/"
        },
        "id": "Scyb5CC0UZtj",
        "outputId": "710014a6-9a7a-4f46-edad-248d845421d8"
      },
      "execution_count": 117,
      "outputs": [
        {
          "output_type": "execute_result",
          "data": {
            "text/plain": [
              "array(['Thích mẫu người nào', 'Có crush ai không',\n",
              "       'Tại sao lại thích bạn dó', ..., 'Mày là em út hay anh cả?',\n",
              "       'Bố mày làm nghề gì?', 'Chị mày làm ở đâu?'], dtype=object)"
            ]
          },
          "metadata": {},
          "execution_count": 117
        }
      ]
    },
    {
      "cell_type": "code",
      "source": [
        "#Create models\n",
        "x_token = [tokenize(item) for item in questions]\n",
        "y_token = [tokenize(item) for item in answers]"
      ],
      "metadata": {
        "id": "UaF9H4LhUOw4"
      },
      "execution_count": 116,
      "outputs": []
    },
    {
      "cell_type": "code",
      "source": [
        "x_token[:20]"
      ],
      "metadata": {
        "colab": {
          "base_uri": "https://localhost:8080/"
        },
        "id": "HfdkTNuZWKeq",
        "outputId": "ebd2dd1b-2a84-4f88-e298-29321b1075c2"
      },
      "execution_count": 118,
      "outputs": [
        {
          "output_type": "execute_result",
          "data": {
            "text/plain": [
              "[['Thích', 'mẫu', 'người', 'nào'],\n",
              " ['Có', 'crush', 'ai', 'không'],\n",
              " ['Tại', 'sao', 'lại', 'thích', 'bạn', 'dó'],\n",
              " ['Có', 'hay', 'nói_chuyện', 'không'],\n",
              " ['Bạn', 'kia', 'có', 'bắt_chuyện', 'trước', 'không'],\n",
              " ['Có', 'định', 'rủ', 'bạn', 'đó', 'về', 'quê', 'dịp', 'Tết', 'không'],\n",
              " ['Có', 'hay', 'đi_chơi', 'với', 'nhau', 'không'],\n",
              " ['Sở', 'thích', 'mày', 'sao?'],\n",
              " ['Thích', 'phim', 'gì?'],\n",
              " ['Thích', 'chơi', 'gì?'],\n",
              " ['Thích', 'ăn', 'gì?'],\n",
              " ['mày', 'thích_chơi', 'bi_lắc', 'không?'],\n",
              " ['mày', 'chơi', 'giỏi', 'nhất', 'cây', 'nào?'],\n",
              " ['mày', 'chơi', 'cầu', 'công', 'hay', 'cầu', 'thủ?'],\n",
              " ['có', 'chơi', 'cầu_lông', 'không?'],\n",
              " ['hay', 'chơi_với', 'ai?'],\n",
              " ['chơi', 'ở', 'đâu?'],\n",
              " ['chơi', 'bao_nhiêu', 'lần', 'một', 'tuần?'],\n",
              " ['chơi', 'sân', 'nào?'],\n",
              " ['thích', 'phim', 'nào?']]"
            ]
          },
          "metadata": {},
          "execution_count": 118
        }
      ]
    },
    {
      "cell_type": "code",
      "source": [
        "model = gensim.models.Word2Vec(x_token, size=300, window=8, min_count=1, sg=0, workers=8) # I have 8 cpu cores\n",
        "# sg = {0, 1} – Training algorithm: 1 for skip-gram; otherwise CBOW\n",
        "print(model)"
      ],
      "metadata": {
        "colab": {
          "base_uri": "https://localhost:8080/"
        },
        "id": "ebUKB6xcOp36",
        "outputId": "650ba37d-9a56-49cd-f0e3-e757bae9ea4e"
      },
      "execution_count": 120,
      "outputs": [
        {
          "output_type": "stream",
          "name": "stdout",
          "text": [
            "Word2Vec(vocab=3349, size=300, alpha=0.025)\n"
          ]
        }
      ]
    },
    {
      "cell_type": "code",
      "source": [
        "model.train(x_token, total_examples=len(x_token), compute_loss=True, epochs=150)"
      ],
      "metadata": {
        "colab": {
          "base_uri": "https://localhost:8080/"
        },
        "id": "0uPXfInjnGm1",
        "outputId": "18c0f7f6-61cf-45e1-eac1-64e206eac67b"
      },
      "execution_count": 122,
      "outputs": [
        {
          "output_type": "execute_result",
          "data": {
            "text/plain": [
              "(2896262, 4056300)"
            ]
          },
          "metadata": {},
          "execution_count": 122
        }
      ]
    },
    {
      "cell_type": "code",
      "source": [
        "words = list(model.wv.vocab)\n",
        "print(words)"
      ],
      "metadata": {
        "colab": {
          "base_uri": "https://localhost:8080/"
        },
        "id": "pY26ljdwPFS1",
        "outputId": "6b46594a-8b83-4774-c4a5-63cd0ee35553"
      },
      "execution_count": 123,
      "outputs": [
        {
          "output_type": "stream",
          "name": "stdout",
          "text": [
            "['Thích', 'mẫu', 'người', 'nào', 'Có', 'crush', 'ai', 'không', 'Tại', 'sao', 'lại', 'thích', 'bạn', 'dó', 'hay', 'nói_chuyện', 'Bạn', 'kia', 'có', 'bắt_chuyện', 'trước', 'định', 'rủ', 'đó', 'về', 'quê', 'dịp', 'Tết', 'đi_chơi', 'với', 'nhau', 'Sở', 'mày', 'sao?', 'phim', 'gì?', 'chơi', 'ăn', 'thích_chơi', 'bi_lắc', 'không?', 'giỏi', 'nhất', 'cây', 'nào?', 'cầu', 'công', 'thủ?', 'cầu_lông', 'chơi_với', 'ai?', 'ở', 'đâu?', 'bao_nhiêu', 'lần', 'một', 'tuần?', 'sân', 'diễn_viên', 'hãng', 'chơi_game', 'thể_thao', 'Chơi', 'môn', 'đó?', 'Ghét', 'Hay', 'lúc', 'xem_phim', 'Thường', 'xem', 'thể_loại', 'tthich1', 'làm', 'Mày', 'như', 'Phim', 'bơi', 'Du', 'lịch', 'mấy', 'lần?', 'Đi', 'máy_bay', 'chưa?', 'Nhiêu', 'nước?', 'có_sở', 'gì', 'tui', 'thấy', 'đứa', 'ctrai', ':)))', 'chắc', 'ông', 'cũng', 'zay', 'ha', ':\">', 'đá_bóng', 'Bộ', 'thích', 'nhất?', 'Thích', 'thể', 'thao', 'nào?', 'đi', 'thính', 'hát', 'con', 'Chứ', 'sách', 'gái', '?', 'chung', 'gia_đình', 'một_mình', 'đâu', 'game', 'Cậu', 'đá', 'banh', 'nhân_vật', 'ca_sĩ', 'cầu_thủ', 'Môn', 'yêu_thích_nhất', 'là_gì', 'từng', 'thi_đấu', 'Thể', 'loại', 'là', 'mạo_hiểm', 'đánh', 'Rảnh', 'làm_gì', 'Net', 'khi', 'rảnh', 'thích_nhất', 'tên', 'trong', 'mà', 'thường', 'chụp', 'ảnh', 'nhất?', 'rỗi?', 'Món', 'bóng_rổ', 'du_lịch', 'bạn_bè', 'thời_gian', 'rảnh?', 'producer', 'lĩnh_vực', 'âm_nhạc', 'ghét', 'sầu_riêng', 'người_yêu', 'khoong?', 'biết', 'nhaats?', 'Xem', 'nhà_hay', 'ra', 'rạp', 'nhiều', 'Trong', 'nước', 'nước_ngoài', 'bằng', 'cờ', 'nhạc', 'thích?', 'của', 'huy_chương', 'coi', 'Sao', 'game?', 'nếu', 'rãnh?', 'bao_giờ', 'nghĩ', 'sẽ', 'có_một', 'sợ', 'khác?', 'sở_thích', 'vô_bổ', 'hữu_dụng', 'weibu', 'à', 'này?', 'thể', 'thao?', 'Điều', 'khiến', 'vậy?', 'giải', 'Trường', 'Học', 'vui', 'chi', 'Nợ', 'nhiêu', 'rồi', 'học_hành', 'trường', 'đường', 'quận', 'mấy?', 'thành', 'phố?', 'ngành', 'học_phí', 'nhiêu?', 'tốt', 'học_sinh', 'kết_quả', 'giáo_viên', 'dạy', 'ổn', 'phường', 'học', 'dở?', 'Ở', 'thế', 'phí', 'đắt', 'anh', 'học_trường', 'như_thế', 'Đang', 'cái', 'thế?', 'Đi_học', 'kiểu', 'lận?', 'Rớt', 'môn?', 'năm', 'Nào', 'trường?', 'học_sao', 'rồi?', 'đang', 'đh', 'hả?', 'á?', 'sv', 'gòy?', 'này', 'hồi', 's?', 'Học', 'ngành', 'gì?', 'ở', 'Sắp', 'trường', 'Khi', 'ra_đi', 'làm?', 'rớt', 'được', 'học_lực', 'lớp', 'Giờ', 'đi_học', 'ngu', 'lắm', 'phải', '(gia', 'đình', 'mình)', 'như_thế_nào', '(', 'Giỏi,', 'Khá', ',Trung', 'bình', ',', 'Yếu', ')?', 'Ê', 'khó', 'lực', 'thêm', 'bên', 'ngoài', 'chưa', 'học_chuyên', 'vẫn', 'đại_học', 'đã', 'thành_tích', 'Điểm', 'trung_bình', 'học_kỳ', 'gần', 'điểm?', 'học_bổng', 'khôg?', 'có_học', 'Toán', 'yếu', 'sinh_viên', 'toà', 'cấp', 'ra_sao', 'Áp_lực', 'môn_học', 'Ngành', 'Năm', 'bao', 'Lớp', 'Giỏi', 'cấp_bậc', 'mắc', 'Cơ', 'sở_hạ_tầng', 'xinh', 'có_tính', 'du_học', 'chỗ', 'ê', 'ra_trường', 'tính', 'đông', 'bè', 'áp_lực', 'hoạt_động', 'Ấn_tượng', 'cảm_thấy', 'tự', 'tin?', 'tuổi', 'họ', 'thì_sao', 'cao', 'Chào', 'nhé,', 'nhỉ?', 'tuổi?', 'Quê', 'quán?', 'bạn_gái', 'số', 'điện_thoại', 'nghành', 'học_khoa', 'khoá', 'sinh', 'Tên', 'Địa', 'chỉ?', 'Nhà', 'mày?', 'kí_túc_xá', 'ngoài?', 'xài', 'facebook', 'zalo', 'cho', 'xin', 'nick', 'hem?', 'sđt', 'để', 'tiện', 'liên_lạc', 'Ngoại', 'hình', 'giới_tính', 'Địa_chỉ', 'nhà', 'ước_mơ', 'sau_này', 'bồ', 'người?', 'bạn_thân', 'địa_chỉ', 'nhà_ở', 'chị,', 'em', 'đội_tuyển', 'đổi', 'tuyển', 'hài', 'theo', 'tương', 'lai?', 'sống', 'hiện_tại', 'trọ', 'kí_túc', 'xá?', 'điện', 'thoại?', 'gia', 'đình?', 'em?', 'vào', 'lâu', 'đấy?', 'Cho', 'mình', 'nha', 'Cảm', 'ơn', 'và_tên', 'đi_làm', 'con_thứ', 'nặng', 'sài', 'nghề_nghiệp', 'trường_tên', 'mét', 'cân_nặng', 'nhóm', 'máu', 'thích_ca', 'sĩ', 'Mấy', 'nghề', 'nghiệp', 'tuổi?', 'làm', 'số', 'điện', 'thoại', 'nhạc', 'cụ', 'chỗ', 'thuộc', 'cung', 'khoa', 'chiều', 'cao?', 'cân', 'nặng?', 'nghề', 'kí?', 'còn', 'nhóc', 'sơ', 'nam', 'nữ', 'Chào,', 'là_ai', 'Ồ,', 'Xa', 'đấy,', 'đến', 'Bao', 'Sinh', 'Đến', 'từ', 'Khoa', 'cùng', 'mình?', 'đâu,', 'bển', 'cần', 'hông', 'ba_mẹ', 'sinh_ra', 'viên?', 'và', 'sinh_ngày', 'đầy_đủ', 'kg?', 'rôi?', 'Rồi', 'mệnh', 'tao', 'hỏi', 'Nhóm', 'chọn', '3', 'tín_chỉ', 'vậy', 'Chết', 'bà,', 'lỡ', 'dư', '4', 'Chắc', 'anh_chị', 'cân?', 'uống', 'những', 'nơi', 'nhà_có', 'nuôi', 'chó', 'mèo', 'tiểu_học', 'trường_trung_học', 'cơ_sở', 'phổ_thông', 'nghĩa_vụ', 'quân_sự', 'nhà?', 'bị', 'bệnh', 'nhà_giàu', 'xe', 'tác_phẩm', 'Nam', 'Cao?', 'name?', 'old?', 'come', 'frome?', '12', 'con_trai', 'gái?', 'làm_việc', 'xa', 'Khóa', 'Chuyên', 'kì', 'đạt', 'dùng', 'laptop', 'Dòng', 'thế_nào', 'Mua', 'nữa', 'Tầm', 'giá', 'Core', 'i', 'thì', 'chạy', 'SSD', 'mới', 'à,', 'cu?', 'tỉnh', 'lên', 'à?', 'mạc', 'đĩnh', 'đúng', 'mới,', 'mong', 'giúp', 'đỡ?', 'Tên?', 'Tuổi?', 'Làm', 'Chiều', 'Sống', 'Cha', 'Mẹ', 'quán', 'viên', 'Lý', 'do', 'tại', 'dại', 'Tôn', 'Dức', 'thắng', 'độc_thân', 'giàu', 'nghèo?', 'việc?', 'bồ_bịch', 'béo_phì', 'giảm', 'Nặng', 'nhiu?', 'Cao', 'ký?', 'chú', 'mét?', 'nữ?', 'Ông', 'nhiểu?', 'biệt_danh', '20', 'tủi', 'nek', 'nhiu', 'hmmmm', 'khoảng', '65kg', 'ha?', 'bnhiu', 'nhìn', 'quá', 'ha,', 'lận', 'á???', 'của', 'bạn?', 'tuổi', 'mua', 'giề?', 'hôi', 'cá', 'lùn', 'kí', 'Tuổi', 'Trai', 'Hiện', 'Họ', 'tên?', 'cao,', 'Số', 'Mình', 'có_thể', 'ngày_sinh', 'câu', 'Năng', 'Trình', 'độ', 'vấn?', 'chiều_cao', 'khùng', 'Mét', 'có_vợ', 'chừng', 'cưới', 'vợ', 'Quên', 'Đù', 'nhà_mày', 'tới', 'lâu?', 'bỏ', 'muốn', 'tao?', 'giờ', 'thằng', 'đàn_ông', 'chồng', 'cách', 'chết', 'ăn_thịt', 'Từ', 'đến?', 'việc', 'sống?', 'Tình', 'trạng', 'quan', 'hệ?', 'yêu', 'ba', 'mẹ', 'nhà', 'anh_chị_em', 'Sắp', 'tốt_nghiệp', 'kg', 'SĐT', 'Nickname', 'Nơi', 'ở?', 'SĐT?', 'vien', 'thành_phố', 'tỉnh?', 'năm_nay', 'sắp', '25', 'Gia', 'làm_quen', 'nhé', 'Thế', 'chuẩn_bị', 'thế?', 'Thế', 'mày', 'Con', 'một', 'hả', 'người', 'Mày', 'học', 'Quao..', 'Ngàng', 'gì', 'Nghe', 'đó,', 'nào', 'gặp', 'Chị', 'chuyên_ngành', 'tham_gia', 'sau', 'tụi', 'Wassup', 'bro!', 'khỏe', 'Cân', 'quận?', 'tháng_sinh', 'năm_sinh', 'của_cậu', 'Ngày', 'tháng_năm', 'Ước_mơ', 'mô?', 'có', 'giới', 'tính', 'chuyên', 'ngành?', 'cậu', 'biết_bao_nhiêu', 'ngoại', 'ngữ?', 'SDT', 'lương', 'cực', 'công_việc', 'CNTT', 'công_ty', 'Đồng_nghiệp', 'Công', 'ty', 'đồng_nghiệp', 'đem', 'nhà_làm', 'họp', 'giải_quyết', 'vấn_đề', 'hoà_đồng', 'làm_khó_dễ', 'á', 'công_tác', 'freelancer', 'thế_thì', 'như_vậy', 'thoải_mái', 'có_khi', 'máy_tính', 'thường_xuyên', 'thức_khuya', 'bài', 'Cty', 'Nay', 'Sếp', 'khó_tính', 'nhỉ', 'tan', 'Dạo', 'Chi', 'nhánh', 'ku?', 'Bên', 'NKKN', 'tình_hình', 'dịch', 'ảnh_hưởng', 'đợt', 'liên_miên', 'thế_này', 'chắc_hẳn', 'mệt_mỏi', 'thê', 'với?', 'sếp', 'dữ', 'part', 'time', 'được?', 'giùm', 'nha?', 'CV', 'tiếng?', 'tình_trạng', 'quan_hệ', 'mọi', 'dễ', 'mơ_ước', 'tháng', 'đủ', 'Người', 'Đã', 'Lương', 'OT', 'tình', 'trạn', 'Ổn_định', 'tháng?', 'làm_công', 'yêu_thích', 'mốt', 'dị', 'Tương', 'lai', 'Lập', 'trình_viên', 'kiếm', 'tiền?', 'của_mình', \"'ăn\", 'ngồi', \"rồi'\", 'nghiệp?', 'dạo', 'tương_lai', 'việc_làm', 'bao_lâu', 'đuổi', 'Nghề', 'hợp', 'khá', 'khác', 'khó_khăn', 'trái', 'Muốn', 'đa_cấp', '1', 'tỷ', '/', 'hot', 'hiện', 'nay,', 'dự_định', 'vị_trí', 'tay_trái', 'Khó', 'nghiệp', 'nhàm_chán', 'việc_gì', 'đàng_hoàng', 'chứ?', 'vừa_học_vừa', 'm', 'ổn_định', 'lương_lậu', 'Chỗ', 'ngon', 'Khác', 'phòng', 'mà?', 'ngày', 'chủ', 'nhật?', 'thứ', 'bảy?', 'sáu?', 'năm?', 'tư?', 'ba?', 'hai?', 'an_nghỉ', 'gặp', 'tình_huống', 'xử', 'Đợt', 'thực_tập', 'Thực', 'tập', 'mà.', 'Vậy', 'à.', 'Quán', 'net', 'máy_chủ', 'tại?', 'mơ', 'ước?', 'đam_mê', 'bổng?', 'Môi', 'Dễ', 'hòa_nhập', 'code', 'môi', 'hả', 'info', 'cụ_thể', 'Quen', 'Dạy', 'Sáng', 'nay', 'tiết', 'BA', 'ok', 'Những', 'hòa_đồng', 'vẽ', 'khồng?', 'nghĩ_mình', 'nghề?', 'thuận_lợi', 'phiền', 'Lead', 'team', 'làm_chủ', 'mảng', 'Hello,', 'quá', 'thấy', 'rồi?', 'Làm', 'việc', 'Sếp', 'dí', 'task', 'hả?', 'Mà', 'cty', 'Chỗ', 'thân', 'thiện', 'mới', 'trọng?', 'Vui', ':>', 'Còn', 'đồng', 'Ủa', 'thật', 'à?', ':))', 'Haha', 'vậy', 'được', 'rồi', 'Thu', 'nhập_thế', 'Tìm', 'được_việc', 'mệt', 'hong?', 'Chủ', 'mầy', 'Gò', 'Vấp', 'lương_thế', 'chức', 'giảng_viên', 'chỉ', 'phần', 'cảm_xúc', 'thân_thiện', 'tâm_lí', 'nhân_viên', 'chứ', 'còn', 'đó', 'buồn', 'quá?', 'xếp', 'mắng', 'đấy?', 'thế', 'con?', 'thất_nghiệp', 'chán', 'thấyđồng', 'buồn?', 'tết', '8', 'giỗ_tổ', 'Hùng', 'Vương', '30', 'tháng_tư', 'Mỗi', 'nghỉ', 'lễ', 'Dịp', 'dịp_lễ', 'dịp_tết', 'đón', 'năm_mới', 'ngày_tết', 'Về', 'Nghĩ', 'kéo_dài', 'tầm', 'vậy_thì', 'tiền', 'khô', 'quyết_tâm', 'hết', 'thưởng_tết', 'Lì', 'xì', 'Nghỉ', 'Noel', 'Đánh_bài', 'ngày?', 'mua_đồ', 'mua?', 'ăn_tết', 'tối', 'tết_tây', 'xe_máy', 'đặt', 'vé', 'vô_lại', 'chơi_tết', 'ít', 'Mai', 'lên?', 'Sơn?', 'Còn', 'không.', 'Việt', 'ngày_lễ', 'tết?', 'hay_ăn', 'việt_nam', 'lì_xì', 'tết_năm', 'corona', 'hoa', 'tàu', 'ăn_bánh', 'tét', 'Nước', 'lớn', 'món_ăn', 'truyền_thống', 'hi_vọng', 'vui_vẻ', 'tí.', 'Quang?', 'đi_chùa', 'nhà_thờ', 'Chúc', 'nghỉ_tết', 'vẻ.', 'thăm', 'ý_nghĩa', 'Vào', 'Lên', 'sòng?', 'Trang', 'trí', 'cửa?', 'Khùng', 'Quốc', 'khánh', 'âm_lịch', 'dương_lịch', 'tế', 'lao_động', 'Dọn', 'dẹp', 'Hội', 'chợ', 'xuân', 'ông_bà', 'đồ', 'nhé?', 'shop', 'kế', 'đi?', 'giày', 'quê?', 'Lễ', '20/11', 'thăm_trường', 'qua', 'thì_có', 'vui?', 'chơi?', '30/4-1/5', 'giải_phóng', 'miền_nam', 'hương', 'ta', 'Đón', 'giao_thừa', 'này,', 'Tính', '49', 'đâu_đấy', '28,', '29,', 'Đêm', 'nhà_phụ', 'Sau', 'mùng', 'kèo', 'Mừng', 'group', 'nhắn', 'nó', 'nghỉ?', 'nhận', 'Nghỉ', 'nhiều', 'mà', 'làm?', 'Cày', 'dữ,', 'Không', 'nhận', 'lì', 'xì', 'lễ_tình_nhân', 'phụ_nữ', 'quốc_khánh', 'Nam?', 'nhà_giáo', 'Chẩm', 'hỏi?', 'thông_báo', 'Chừng', 'lại?', 'tranh_thủ', 'nhen?', 'Ê,', 'chợ_tết', 'nè?', '2021', '30/4', '1/5', 'Chiến', 'chúc', 'bánh_chưng', 'các_bạn', 'pháo_hoa', 'Các', 'Được', 'dài', 'đâu_đó', 'xa_xa', 'tết', 'này', 'nghỉ', 'mấy', 'ngày?', 'về', 'sắp', 'tới', '8/3', 'đến', 'valentine', '2/9', '14', '2', 'kẹo', 'hoa_mai', 'cá_chép', 'ông_công', 'ông_táo', 'mâm', 'ngũ_quả', 'gồm', 'quả', 'Trạng', 'Tí', 'mai', 'Mười', 'Ba', 'chưa,', 'bóng_đá', 'tuần', 'kiểu_như_thế', 'kinh_dị', 'xong', 'nãy', 'eei', 'vừa_mới', 'công_chiếu', 'á.', 'nè', 'không_biết', 'okay', 't', 'sau.', 'vô', 'thôi', 'Ai', 'đóng', 'triển', 'ngay', 'mang', 'thẻ', 'bộ_phim', 'các', 'lmht', 'bắn', 'csgo', 'bán', 'netflix', 'caro', 'ván', 'rank', 'gi', 'cuối_năm', '2020', 'kingsman', 'sáng', '7', 'nhà_hát', 'ca_nhạc', 'trời,', 'chút', 'rãnh', 'vé?', 'combo?', 'Tối', 'cà_phê', '20h', 'giờ?', 'Ừ,', 'cũ', 'đi.', 'Chốt', 'đơn', 'bro', 'nao', 'liên_minh', 'tìm', 'hành_động', 'galaxy', 'Nguyễn', 'join', 'quit', 'xuất', '1h', 'tiếng', 'ca', 'học?', 'giám_thị', 'bắt', 'mất', 'đặc', 'biệt?', 'trung_tâm', 'đi_ở', 'Rap', 'concert', 'sự_kiện', 'online', 'đọc', 'Tao', 'cùng?', 'Cuối', 'bây?', 'bữa', 'OK,', 'Coi', 'Rạp', 'quẩy', 'nhất_là', 'cuốn_sách', 'trò_chơi', 'cảnh_tượng', 'món_đồ', 'gameshow', 'hoạt_hình', 'chương_trình', 'Tuần', 'lễ_hội', 'luôn', 'Lúc', 'Anime', 'con_nít', 'Liên', 'Minh', 'Minecraft', 'vuông_vuông', 'Genshin', 'Impact', 'World', 'of', 'Warships', 'Máy', 'Cyberpunk2077', 'Kerbal', 'Space', 'Program', 'thiết_kế', 'tàu_bè', 'Program?', 'Phasmophobia', 'Ngoài', 'đống', 'cuối_tuần', 'mê', 'khoái', 'sản', 'xuất?', 'Nhân', 'vật', 'Diễn', 'LOL', 'đoán', 'Rủ', 'Tớ', 'cặp', 'phim,', 'nhật', 'Tom', 'Jerry', 'bắp', 'hôm_qua', 'nào_hay', 'Tết?', '6h', 'mai?', 'dài_tập', 'ấn_tượng', 'j?', 'kình', 'Doremon', 'nhe', '19h30', 'Alo!', 'Có', 'tuần', 'vậy?', 'suất', 'giờ', 'đó?', 'Okay', ':)', 'Chốt', 'nhá?', 'Biết', 'bóng_chuyền', 'Godzilla', 'vs', 'Kong', 'Muỗn', '18g', 'CGV', 'Cresent', 'Mall', 'Bắp,', 'Rank', 'chess', '5v5', 'OK', 'Lát', 'Bận', 'nhá?', 'chị', '13', 'hay?', 'phim_tình', 'cảm', 'tội_phạm', 'viễn_tưởng', 'nàyđi', 'đầu?', 'chơikhông?', 'khúc', 'gây', 'thích_thú', 'chiếu_phim', 'lui_tới', 'endgame', 'infinity', 'war', 'ván', 'liên_quân', 'nghe_nhạc', 'đêm', 'rap', 'mở', 'Gái', 'già', 'lắm_chiêu', 'tôi', 'Lê', 'Văn', 'nữa?', 'Đà', 'Nẵng', 'cuối', 'dự', 'Hà', 'Nội', 'Cà', 'Mau', 'Hàn', 'Quốc?', 'Nhật?', 'biển', 'leo', 'núi', 'đà_lạt', 'Lạt', 'Tây', 'Bắc', 'tốn', 'Đà_lạt', 'Phượt', 'miền', 'Sapa', 'Huế', 'Cảnh', 'đẹp', 'Long', 'An', 'Thì', 'Ừa', 'mày,', 'Vũng', 'Tàu', 'chốt', 'tây?', 'dắt', 'sắm', 'áo_ấm', 'khách_sạn', 'đấy', 'đâu.', 'trên', 'hoài', 'mồng_một_tết', 'mồng', 'hai_tết', 'ba_tết', 'ngày_sinh_nhật', 'ý_định', 'Hè', 'đi_biển', 'Với', 'Quà?', 'về?', 'báo', 'cảnh_sát', 'Đặt', 'Mặc', 'concept', 'Bơi', 'Nha', 'chung?', 'Leo', 'Ok.khi', 'ngủ', 'chuyến', 'đáng', 'nhớ', 'một_lần', 'mãi?', 'dẫn', 'trải_nghiệm', 'đc', 'tới,', 'Tour', 'ăn,', 'hè', 'đây?', 'Máu', 'gần?', 'đi_ngủ', 'SaPa', 'đặc_sản', 'an_toàn', 'Phú', 'Thái', 'Lan', 'nghỉ_hè', 'Trung', 'Campuchia', 'nhưng', 'đi_vào', 'Vì', 'du', 'lịch', 'họp', 'lớp', 'chùa', 'phượt', 'đẹp?', 'lạnh', 'chất_liệu', 'vải', 'áo', 'dãn', 'giặc', '63', 'mặc', 'size', 'giảm_giá', 'tối_đa', 'quần_áo', 'sắm_sửa', 'bản_thân', 'iphone', 'samsung', 'nâng_cấp', 'ram', 'mua_laptop', 'sắm_tết', 'ấy?', 'vài', 'hay_sao', 'mà_sao', 'nghe', 'máy', 'giữ', 'chàng_trai', 'giỡn', 'thiệt', 'haha,', 'chớ', 'huawei', 'tí', 'ghế', 'TGDĐ', 'thử', 'đồng_hồ', 'ra_mắt', 'nên', 'áo_thun', 'bây', 'hàng_không', 'Quần', 'Áo', 'Size', '128GB', 'Xanh', '19.5', 'triệu', 'Mac', 'M1', 'chip', 'sắm_đồ', 'đâu_đây', 'pass', 'Ip', 'pro', 'max,', 'triệu,', 'lấy', 'mã', 'freeship', 'shoppee', 'nè,', 'váy', 'đầm', 'xịn', 'thanh_toán', 'thanh', 'toán?', 'shop?', 'size?', '1m7,', '63kg', 'màu', 'mặt_hàng', 'bảo_hành', 'cấu_hình', 'hơn', 'giao_hàng', 'ngoại_thành', '23.5', 'shopee', 'sale', 'nhanh', 'hạn', 'sử_dụng', 'sản_xuất', 'xuất_xứ', 'uy', 'tín?', 'Anh', 'tai_nghe', 'hiệu', 'guitar', 'đây', 'áo_khoác', 'đen', 'Chất', 'liệu', 'Giá', 'form', 'rộng', 'Gía', 'chiếc_váy', 'Vải', 'dày', 'Shop', 'nhận_ship', 'cod', 'Ship', 'Sài', 'Gòn', 'kiểm_tra', 'hàng', 'ạ?', 'giá', 'áo', 'thun', 'uống', 'vị', 'quần', 'lớn', 'nhỏ', 'ly', 'đôi', 'giày', 'giày_sneaker', 'có_của', 'Nike', 'Air', 'đôi?', 'ship', 'tới?', 'Than', 'toán', 'tư_vấn', 'laptop_dell', 'công_nghệ_thông_tin', 'dưới', '15', 'triệu?', 'khuyến_mãi', 'mức_giá', 'có_tình', 'năng', 'yêu_cầu', 'quần', 'dép', 'bền', 'tận_nhà', 'uy_tín', 'Polo', 'Và', 'chiếc', 'tất', 'cổ', 'Tôi', 'treo', 'thay_đồ', 'cho_tôi', 'mượng', 'móc', 'Chiếc', 'ban_đầu', 'tiện_dụng', 'mạy?', 'Tiệm', 'tạp_hóa', 'giấy', 'A4', 'Bóp', 'viết', 'đo', 'mắt_kính', 'Giày', 'dòng', 'dell', 'hp', 'kingston', 'quần_tây', 'jordan', 'cáp', 'chuyển_đổi', 'cổng', 'MacBook', 'TGB', 'đợi', 'check', 'kho', 'giới_thiệu', 'lap', 'Laptop', 'ASUS', 'A512FA', 'EJ2005T', 'địa', 'Cửa', 'thiết_bị', 'hỗ_trợ', 'gói', 'phẩm?', 'hổ_trợ', 'lắp_đặt', 'asus', 'IT', 'Asus', 'ROG', 'Strix', 'G-531', 'core', 'i7', '10300H', 'm76', '55kg', 'palm', 'tree', 'shirt', 'Giá?', 'Đổi', 'Dell', 'cở', 'quà_tặng', 'xxx', 'Ram', 'quá?', 'chất', 'son', 'eyeliner', 'lười', 'lựa', 'cách_ly', 'xã', 'hội?', 'đểu', 'thì_phải', 'đồ_ăn', 'mạng', 'may', 'áo_dài', 'thể_dục', 'giáo_dục', 'thể_chất', 'môn_bơi', 'bắt_buộc', 'lập_trình', 'tòa', 'thực_hành', 'F', 'Iphone', '11', 'Màu', 'đỏ', 'tính?', 'Asus?', 'trung', 'bình?', 'i3', 'chi_nhánh', 'cửa', 'hàng?', '78kg', 'vừa?', 'máy_hút_bụi', 'giao', 'nhầm', 'Xài', 'Cấu', 'hình_như_thế', 'bộ_nhớ_trong', 'ssd', 'giá?', 'đặc_biệt', 'Bảo', 'hành', 'tặng', 'kèm', 'có_chất', 'lượng', 'quần?', 'thường?', 'đăng_kí', 'ạ', 'tổ_chức', 'tình_nguyện', 'nghe_nói', 'điểm', 'rèn_luyện', 'xét', 'tường', 'bán_đồ', 'dụng', 'học_tập', 'khu', 'm2?', 'phòng?', 'chua', 'cây_xanh', 'an_ninh', 'hồ_bơi', 'đường_xá', 'quá,', 'nhưng_mà', 'khoác?', 'Hãng', 'tốt?', 'adidas', 'Gundam', 'ráp', 'ngon?', 'chia', 'Bữa', 'mua.', 'Tưởng', 'ĐT?', 'vỏ', 'màn_hình', 'nền', 'mũ', 'mặt', 'còn_samsung', 'j7', 'nhũng', 'trả_góp', 'Tư', 'vấn', 'game.', '10', 'triệu.', 'Thấp', 'cỡ', 'thấp.', 'best', 'selling', 'thay_vì', 'HDD', 'ttots', 'mua_hàng', 'rẻ', 'Android', 'iOS?', 'Phí', 'ship?', 'Giao', 'Nguồn', 'Nokia', 'iPhone', 'mua_mã', 'bộ', 'nhớ?', 'SamSung', 'ngân_hàng', 'chào', 'ngắn', 'Tơ', 'Áo_dài', 'cách_tân', 'vầy', 'Thấy', 'thoại', 'Xiaomi', 'mặc_áo', 'sơ-mi', 'jean', 'tây', 'GB?', 'Thanh', 'Điện_thoại', 'Adidas', 'XL', 'Tiền', 'Gu', 'thời_trang', 'sạc', 'dự_phòng', 'nhỏ', 'màu_xám', '12?', 'Shop!', 'mún', 'cái', 'này?', 'hum?', 'Này', 'vải', 'mẫu', 'khác', 'Áo', 'giặt', 'bảo', 'hành', 'khuyến', 'mãi', 'nè', 'lấy', 'Đúng', '32', 'ạ,', 'Samsung', 'Galaxy', 'S20', 'màu_xanh', 'cho_em', 'ốp', 'lưng', 'cục', 'phòng,', 'tổng', 'hóa_đơn', 'của_em', 'sơ_mi', 'jean?', 'Chuột', 'mau', 'ok?', 'k', 'thế_giới', 'di_động', 'đi,', 'shopping', 'điện_tử', 'hiệu_năng', 'camera', 'oke', 'tiên', 'nó?', 'Nếu', 'IOS', 'secondhand', 'iphone?', 'rách', 'chụp', 'hình', 'xịn?', 's10', 'hàng_hiệu', 'tốt,', 'lướt', 'web,', 'tải', 'ứng_dụng', 'tớ', 'android', 'sang', 'chảnh', 'ra?', 'con_gái', 'dự_tiệc', 'hơi', 'mập', 'mặc_đồ', 'Tốc', 'trà_sữa', 'nhậu', 'tỏ_tình', 'uncrush', 'chia_tay', 'chủ_nhật', 'nấu_ăn', 'Nấu', 'món', 'Đẹp_trai', 'Nó', 'cafe', 'café', 'mỗi', 'thú_vui', 'Đó', 'hẹn_hò', 'chiếu', 'bạn_trai', 'ấy_là', 'ấy', 'rảnh', 'vẽ', 'lúc', 'nấu', 'đọc', 'sách', 'giờ?', 'gái', 'bạn', 'trai', 'đeo', 'mắt', 'kiếng', 'để', 'mình?', 'lần', 'đầu', 'hẹn', 'hò', 'rỗi', 'Ra', 'ư', 'Thất', 'quen', 'dễ_thương', 'tiếp_tục', 'công_viên_nước', 'nên_làm', 'chối?', 'làm_sao', 'thay_đổi', 'vì', 'cơ_hội', 'tạo', 'crush?', 'yêu?', 'ấn', 'tượng?', 'bắt_cá', 'tay', 'giải_trí', 'ăn_uống', 'lý_tưởng', 'dỗi', 'không_ngủ', 'dám', 'Êu', 'Nhật', 'Ủa', 'Buồn', 'thế,', 'Đi,', 'Hương', 'Quỳnh', 'Oke', 'cảm_ơn', 'nhá', 'À', 'Ờ', 'tập_thể_dục', 'Tập', 'Mẫu', 'bạn_đời', 'Crush', 'đồng', 'giới?', 'quan_điểm', 'LGBT?', 'thân?', 'đá?', 'buồn', 'Quan', 'trà', 'xanh?', 'Tặng', 'từ_chối', 'ăn_tối', 'thất_tình', 'con_nhỏ', 'tán', 'Lan?', 'ưa', 'liệt_kê', 'tiệm', 'Café', 'ưng', 'ý?', 'bạn,', 'nói', 'thì_thôi', 'tâm_sự_chuyện', 'tình_cảm', 'chuyện?', 'sưu_tầm', 'hai', 'bay', 'ăn_đêm', 'vậy,', 'cua', 'Bình', 'Nhi', 'tâm_sự', 'bò', 'nhà_sách', 'mua_sắm', 'ăn?', 'thấp?', 'cách?', 'thế_thao', 'quyển_sách', 'thực', 'hành?', 'hôn_nhân', 'nhau?', 'sẻ', 'cô_ấy', 'nhát', 'thói_quen', 'dậy?', 'ngủ?', 'lẩu', 'thư', 'giãn?', 'vơi', 'đẹp_trai', 'quà', 'quên', 'cuộc_thi', 'nét', 'Game', 'trận', 'Chờ', 'tao,', 'máy_cái', 'Hỏi', 'Ngại', 'chơi,', 'ngủ,', 'xem_youtube', 'thỉnh_thoảng', 'quan_trọng', 'đều', 'ăn_không', 'bao?', 'uống_nước', 'tao_thích', 'bên,', 'đi_đá', 'Đá', 'Chuyện', 'hình_như', 'đi_tập', 'lý', 'tưởng?', 'chủ_động', 'đi_về', 'pubg', 'thua?', 'lớp_trưởng', 'nảy', 'gu', 'để_ý', 'không_học', 'anh/chị', 'tìm_thấy', 'chạy_bộ', 'bạn?', 'thấp', 'ốm', 'cảu', 'anh?', 'bạn_bè_bạn', 'có_tâm', 'Ít', 'Nhiều', 'Gặp', 'cáu', 'bẩn', 'nhìu', 'thường_thường', 'zới', 'zay?', 'Bạn', 'Lần', 'cuối', 'lợi_dụng', 'tậm', 'rộng?', 'tâm', 'trạng?', 'khứa', 'dở_người', 'Tâm', 'thi', 'ny', 'tụ_tập', 'bè?', 'một_vài', 'ông?', 'trông', 'gầy', 'Liệt', 'kê', 'homies', 'tệ_nạn', 'tình_bạn', 'Khang', 'hút', 'thuốc', 'ko', 'Đô', 'lon', 'dơ', 'mượn', 'cúp', 'dài?', 'mối', 'giúp_đỡ', 'ký_túc_xá', 'câu_lạc_bộ', 'TDTU', 'cơ', 'sở?', 'căntin', 'sở', 'vật_chất', 'TRường', 'TĐT', 'phục', 'Ở', 'trường', 'mặc', 'đồng', 'phục', 'của_trường', 'lễ_phép', 'phí', 'phòng', 'tư', 'vấn', 'ký', 'túc', 'xá', 'điểm', 'vào', 'chuyển', 'địa', 'chỉ', 'là', 'thang', 'máy', 'tín', 'Ký', 'túc_xá', 'mở_cửa', 'đa_ngành', 'trường_học', 'thầy_cô', 'trường_dạy', 'thư_viện', 'người_ngoài', 'hồ', 'bơi?', 'riêng', 'chất_lượng', 'dạy_học', 'TDTU?', 'wifi', 'nhà_xe', 'kẹt', 'phí?', 'tiện_ích', 'tổng_cộng', 'trương_trình', 'đại_trà', 'Thư', 'viện', 'chị?', 'nghệ_thông_tin', 'Đức', 'Thắng', 'Cần', 'học_bạ', 'căn', 'tin', 'nay?', 'thây', 'cô', 'xuyêt', 'duyệt', 'xét_tuyển', 'thức?', 'phong_trào', 'thiện_nguyện', 'trang_phục', 'khoa?', 'ích?', 'Nghệ', 'Thông', 'Tin', 'đào_tạo', 'liệt', 'kê?', 'đào', 'tạo?', 'giáo', 'công_nhân', 'chất?', 'dép?', 'sách?', 'thêm?', 'xây', 'mỹ_thuật', 'công_nghiệp', 'khóa', 'trường_tư', 'lạ', 'Đồng_phục', 'ảo', 'tiếng_anh', 'chuẩn', 'đầu_ra', 'trình_độ', 'đăng_ký', 'ktx', 'đóng_học', 'Em', 'Xin', 'Giữ', 'Ok,', 'Mạng', 'thầy', 'cô?', 'thầy?', 'có_học_bổng', 'tuyến', 'xe_buýt', 'dạy?', 'KTX', 'trang', 'khuôn_viên', 'gửi', 'nổi', 'bật?', 'học_kì', 'thang_máy', 'vật_tư', 'giải_đáp', 'thắc_mắc', 'quy_định', 'view', 'Lần', 'sao_á', 'ế', 'bây_giờ', 'yêu_anh', 'Chia', 'vãi', 'chưởng', 'Ừm', 'có_dễ', 'thương', 'người_yêu_cũ', 'có?', 'kể', 'xem_hình', 'ê,', 'đối_tượng', 'độc', 'trò_chuyện', 'hey', 'tại_sao', 'ngầu', 'ghệ', 'trai?', 'người_ở', 'tính_cách', 'hãm', 'trà_xanh', 'điệm', 'đương?', 'Yêu', 'chân_dài', 'ngắn?', 'ốm?', 'dọ', ':3', 'cách', 'tình?', 'single', 'date', 'mờ?', 'or', 'ế?', 'lúc_nào', 'chuyện', 'tình_yêu', 'Chọn', 'lý_trí', 'con_tim', 'Bồ', 'cơm', 'chiền', 'siêu', 'to', 'khổng_lồ', 'cũ?', 'Là', 'yêu_đương', 'Mô', 'tả', 'ngoại_hình', 'cãi', 'nhau,', 'huề?', 'Đẹp', 'hay_là', 'canh', 'rau_dền', 'thực_sự', 'quan_tâm', 'cô_đơn', 'giác', 'Mục', 'tiêu', 'giới', 'tínhi?', 'Hôm', 'làm_thế', 'xấu?', 'nghèo', 'thương?', 'ăn_món', 'nhắm', 'trải', 'mối_tình', 'ca_hát', 'Thổ', 'lộ', 'bồ?', 'ơi', 'cười', 'cả_anh', 'yêu_rồi', 'Cố', 'rất', 'Lại', 'nũa', 'N', 'xạo', 'Kiếm', 'Cô', 'bro?', 'vừa', 'nhắn_tin', 'không_công', 'khai', 'Nhắn', 'trể', 'Bệnh', 'khỏi', 'hẵn', 'ăn_ở', 'Oh,', 'tình_người', 'lâu_nay', 'kím', 'Chứ', 'mối', 'ngại', 'ko?', 'nhĩ?', 'Giống', 'Eii', 'yo!', 'Chỉ', 'quạo', 'giận', 'hẹn', 'tiếp', 'T', 'tỏ', 'Hai', 'chia_sẻ', 'ghen', 'cuới', 'fa', 'hoài', 'cưa', 'dược', 'ấy?', 'ấy', 'duyên_số_không', 'dùm', 'thời_tiết', 'hôm_nay', 'cộng', 'đằng', 'đói', '100', 'thông_minh', 'trời', 'Biết', '1+2010', 'mặc', 'đám', 'cưới', 'đau', 'ăn_cơm', 'gạo?', 'nhà_tôi', 'Sáu', 'Phở', 'Tam', 'cạnh?', 'Hình', 'cạnh', 'đối', 'song_song', '5', '...', 'Nghĩa', 'main', 'Đỉnh', 'núi_cao', 'hôm', 'mãi_mãi', 'sữa?', 'uống_trà', 'sữa', 'con_vịt', 'vịt,', 'đi_sau', 'vịt.', 'âm', 'u,', 'gió', 'hù', 'hù,', 'mù,', 'dù.', 'ướt?', 'sơn', '6', 'nhà,', 'cầm', 'tay_phải', 'hiểu', 'súc', 'con_người', 'bài_toán', 'người_kiến', 'robot', 'tự_tạo', 'đất_nước', 'đầu', 'robot?', 'cuộc_sống', 'rằng', 'bằng?', 'châu_lục', 'đại', 'dương?', 'Cực', 'hơn?', '809', 'số_nguyên', 'tố?', 'Tổng', 'Bí', 'đầu_tiên', 'Đảng', 'Cộng', 'Bác', 'Hồ', 'ngôn', 'thiên_niên_kỷ', 'cực_kỳ', 'chuột?', 'chuột', 'mèo?', 'miệng', 'càng', 'to_càng', 'nhỏ?', 'quoay?', 'đếm', 'số?', 'I', 'love_you', 'Karen,', 'tôi?', 'rau', 'mưa', 'ướt', 'phân_biệt', 'tính_toán', 'cánh_gà', 'chiên', 'nước_mắm', '121,123', '321', 'nào_là', 'đối_xứng', 'thyết', 'tương_đối', 'sóng', 'bắt_đầu', 'gió,', 'giây?', 'nhuận', 'có_thể_xác', 'điều', 'trả_lời', 'câu_đố', '+', 'làm_ra', 'phục_vụ', 'mục_đích', 'thơ', 'ý_tưởng', 'án?', 'kia?', 'sức', 'khỏe?', 'thống_trị', 'loài', 'Ăn', 'cháo', 'lỗi?', 'làm_giàu', 'vé_số', 'hack', 'order', 'bánh_pizza', 'Hát', 'bye', 'chào.', 'Trái', 'Đất?', 'Thời', 'giao_thông', 'Chí', 'bài_hát', 'chill', 'cuộc_gọi', 'nhỡ', 'hộp_thư', 'pin?', 'hot?', 'Xóa', 'Trời', 'dọn_dẹp', 'vịt', 'đô', 'VNĐ?', 'nhiệt_độ', 'trời?', 'gà', 'ăn_no', 'Siêu', 'thị', 'Lotte', 'Quận', 'ăn_chung', 'ưa_thích', 'nhảy', 'hầm', 'bụng', 'hủ_tiếu', 'lun', 'trứng', 'tàu_hủ', 'ăn_đồ', 'thèm', 'ăn_sushi', 'Ăn_ở', 'Haidilao', 'trả', 'chầu', 'Ăn_không', 'ăn_phở', '10p', 'bia', 'rượu', 'cậu.', 'rẻ?', 'quán_ăn', 'hải_sản', 'NTT', 'chờ', 'bia?', 'tráng_miệng', 'combo', 'bánh_tráng_trộn', 'chiên?', 'xèo', 'ăn_bún', 'Chút', 'cử?', 'zậy?', 'ăn_sáng', 'trưa?', 'ăn_cùng', 'phim?', 'chè', 'chổ', 'ghiền', 'bún_đậu', 'best?', 'trưa', 'Bia/', 'cùng_với', 'sáng', 'tối', 'chưa_biết', 'ý_kiến', 'haha.', 'thôi.', 'phở', 'luôn?', 'cả', 'Bún', 'đậu', 'Trà', 'gà_rán', 'KFC', 'dị_ứng', 'chả', 'phút', 'cơm_tấm', 'Hello', 'my', 'friend,', 'Ở', 'mày?', 'Okay!', 'cùng', 'Mấy', 'đón', 'nè?', 'Bò', 'Nướng', 'Phố', '19g', 'Em!', 'GoGi', 'nhé!', 'bò?', 'ăn_ốc', 'XYZ', 'ừ', 'rũ', 'đặt_đồ', 'app', 'nổi_tiếng', 'quán_anh', 'giá_cả', 'khẩu_vị', 'Ẩm_thực', 'hấp_dẫn', 'tôm', 'hùm', 'hàng', 'newworld', 'pha', 'canteen', 'bobabop', '3h', 'hệ_thống', 'ống', 'nội_thất', 'giới_nghiêm', 'thuê', 'Phòng', 'Tháng', 'tính_tình', 'gian', 'thoáng', 'ngủ?', 'xa?', 'màu', 'cậu', 'sống', 'với', 'phơi_đồ', 'bếp', 'trạm', 'buýt?', 'với.', 'siêu_thị', 'gần_đây', 'lợi_ích', 'ghép', 'kw?', 'yên_tĩnh', 'Ồ', 'so_với', 'nhà_như', 'Thuê', 'phòng_giá', 'hoạt', 'Nên', 'thú_vị', 'nước_máy', 'sân_thượng', 'vuông?', 'trọ?', 'nhà_trọ', 'nàocó', 'dọn', 'quy_tắc', 'đặt_cọc', 'Chung', 'cư', 'tiện_nghi', 'cọc', 'sạch_sẽ', 'trật_tự', 'siết', 'chặt', 'giờ_giấc', 'Điện_nước', 'cả?', 'uống?', 'trí?', 'lưu', 'hẻm.', 'ở_không', 'đèn', 'đoạn', 'Gần', 'ăn_ngon', 'Cách', 'km', 'trống_không', '7m,', 'ngang', '4m', '1tr5/', 'người_thân', 'Khu', 'trở', 'xuống', 'trống', '1,', 'free', 'điện,', 'Trọ', 'vói', 'thuê_bao', 'tầng', 'Xung', 'quanh', 'nhà_khó', 'tấm?', 'Dài', 'Rộng', 'Chứa', 'tắm?', 'tầng?', 'nhà_anh', 'Đặc', 'sản?', 'Hiện', 'tại', 'sống_chung', 'sài_gòn', 'Nổ', 'chị_em_gái', 'Đường', 'ở_riêng', 'Đến_trường', 'bố_mẹ', 'riêng?', 'Miêu', 'Bà', 'nội', 'khỏa?', 'tệ', 'nạn?', 'bang', 'ăn_bám', 'lập?', 'má', 'quốc_ca', 'chủ_tịch', 'Nam.', 'Nội?', 'miền_bắc', 'miền_trung', 'yêu_nước', 'Đất_nước', 'trái_cây', 'Mì', 'Quảng', 'mệt_nghỉ', 'được.', 'VietNam', 'hiện_như', 'dân', 'vietnam', 'lòng', 'phòng_chống', 'đón_tiếp', 'khách', 'nước_ngoài_ra', 'đặc_sắc', 'VN', 'Đại_hội_Đảng', 'vừa_rồi', 'hoành_tráng', 'ngắm_cảnh', 'quê_hương', 'địa_điểm', 'tập_hợp', 'đỡ', 'gánh', 'không_vận', 'động', 'Chùa', 'Bà?', 'ngọt', 'hiền', 'VN?', 'mắm_tôm', 'ae', 'DUBAI', 'danh_lam', 'thắng_cảnh', 'Vĩnh', 'tp', 'thì_là', 'tự_hào', 'Việt?', 'Dân', 'tiết?', 'cho_qua', 'mồi', 'di_sản', 'văn_hóa', 'Nằm', 'Hạ', 'Miền', 'Covid', 'Đặc_sản', 'Bến', 'Tre?', 'Giỗ', 'tổ', 'Thành', 'phố', 'Đồng', 'Nai', 'con_nai', 'Hoàng', 'Sa', 'Ninh', 'có_anh', 'hùng', 'cống_hiến', 'đất', 'tham_quan', 'đám', 'cho_biết', 'tịch', 'đặc', 'sản?', 'Châu', 'lục', 'Thật', 'nhe?', 'miền_tây', 'đồng_ruộng', 'nhiều?', 'Phan', 'Thiết', 'your', 'country?', 'thôn', 'tin_tức', 'đẹp', 'đất', 'nước', 'mình', 'đẹp?', 'Việt', 'địch', 'lớn_lên', 'diện_tích', 'dân_số', 'cảnh', 'suối', 'chai', 'Một', 'con_gà', 'xoè', 'cánh?', 'Cái', 'bàn', 'đứng', 'nằm,', 'nằm', 'đứng?', 'Chim', 'hót?', 'phát_minh', 'bánh', 'xe?', 'giàu?', 'sim?', 'bến_xe', 'miền_Đông', 'Hong', 'mì', 'mì,', 'Thị', 'Nghè', 'ei?', 'dê', 'CTDLGT', 'PTTKYC', 'Chán', 'cơm?', 'thích_thì', 'hoan', 'đây,', 'yeah,', 'Kênh', 'Tẻ', 'né', 'chim', 'gọi_là', 'chim?', 'hong,', 'trend', 'gđinh', 'so', 'Machine', 'learning', 'Phân', 'biệt', 'Learning', 'AI?', 'sao,', '\"What\"', 'trước?', '1+1', 'Fe', 'hóa_trị', 'byte', 'bit?', 'chính', 'ném', 'dùng,', 'nhặt', 'cắm_sừng', 'Cuộc', 'không,', 'giống', 'hi', 'vọng?', 'trận_đấu', 'tối_qua', 'ngựa', 'con_ngựa', 'lí_tưởng', 'khái_niệm', 'dầu', 'té', '.', 'Chú', 'ếch', 'làm_chi', 'le_le', 'thổi', 'kèn', 'bìm_bịp', 'tò', 'te', 'tò_te', 'ô_tô', 'lái', 'vỉa_hè', 'bờ_hồ', 'chứa', 'xăng?', 'tháng,', 'Cầu', 'thủ', 'đội', 'bóng', 'nào,', 'clb', 'tròn', 'góc_vuông', 'tam', 'giác?', 'elip', 'hình_tròn', 'vuông', 'góc', '180', 'Vũ', 'trụ', 'quá_chén', 'trị', 'thặng_dư', 'loại?', 'chức_năng', 'tệ?', 'series', 'Avengers,', 'Theo', 'Hãy', 'nêu', 'cảm_nhận', 'đoạn_văn', 'sau:', '\"Chúng', 'tại.', 'dành', 'thanh_xuân', 'anh.', 'em.', 'Chúng', 'nhau.', 'Mà', 'hề', 'suy.', 'là_duyên', 'phận.', 'duyên', 'Chẳng', 'này.', 'Dù', 'không_thể', 'Cũng', 'đừng', 'rằng.', 'tất_cả', 'tuyệt_vời', 'Thương', 'em\"', 'cảm_giác', 'lịch?', 'sòng', 'ước_tính', 'thu_nhập', 'miêu_tả', 'chơi_đùa', 'cảm,', 'cũ,', 'người_yêu_mới', 'tao.', 'X', '=', 'Hidro', '5,', 'Diện', 'tích', 'méo?', 'Tự', 'nhiên', 'quá.', '16h00', 'giờ.', 'quen?', 'bận', ',lần', 'vắng', 'bù', 'hãy', 'chứng', 'nếu_không', 'đồng_ý', 'vì_sao', 'phản_đối', 'Chiến', 'thắng', 'Điện', 'Biên', 'Phủ', 'ngày,', 'tháng,', 'trực', 'tiếp', 'huy?', 'Trước', 'gọi', 'thoại,', 'sắp_xếp', 'Quả', '“Bắp”', 'bặm', 'Sương', 'phủ', 'đời', 'nhờ', '….,', 'điền', '...?', 'bất_lực', 'trẻ', 'trâu', 'cay', 'đồng_đội', 'feed', 'xiên', 'Y', 'nhiệt_lượng', 'mặt_trời', 'tam_giác', 'Qua', 'hông?', 'thỏ', 'liêm_sỉ', 'mỏi?', '300k', 'tất_niên', 'điên', 'meo', 'mẻo', 'meo?', 'Đánh', 'Hải', 'Đăng', 'Giảm', 'cắm', 'sừng?', 'Cắm', 'sừng', 'Bắn', 'bi', 'Chạy', 'bốc', 'sướng', 'Nhớ', 'cấm', 'thi_môn', 'Web', 'hong', 'nói_gì', 'đê', 'điếu', 'mới?', 'Happy', 'sad?', 'Money', 'love?', 'Safe', 'challenge?', 'bài_tập', 'Solo', 'Susan', '0175', 'trốn', 'khỏi_phải', 'Hẹn', 'hò', 'vui_tính', 'quá!', 'SIMP', 'liền', 'Cúp', 'Thầy', 'Cường', 'vặc', '16', 'dằn', 'rút?', 'bida', 'bảnh', 'Đố', 'ăn_cắp', 'rang', 'giáo?', 'lá,', 'lớp,', 'đấm', 'bí_quyết', 'ơi?', 'sớm', 'bước', 'nha,', 'va', 'vấp', 'tim', 'Cãi', 'đòi', 'Quánh', 'bặc', 'co?', 'xao', 'xuyên', 'Ngủ', 'Hey', 'Đầu', 'cắt', 'moi', 'Rãnh', 'quánh', 'm?', '50', 'giật_đồ', 'hã', 'Dô', 'dô', 'dách?', 'nhảy_cầu', 'M', '1tr4', 'sẵn_sàng', '2tr', 'hỗm', 'khác_biệt', 'TP.HCM', 'bao_xa', 'nhớ_quê', 'chế_biến', 'nhớ', 'chắc', 'lắm', 'bằng', 'dâu', 'lụt', 'mặn', 'Lợi', 'gốc', 'sinh_sống', 'rời_xa', 'những_ai', 'hà_nội', 'gòn?', 'phút?', 'ách', 'mát', 'hay_học', 'tiếp?', 'một_số', 'nội_ngoại', 'phong_cảnh', 'thiên_nhiên', 'nổi_bật', 'đầu_đến', 'giữ_chân', 'du_khách', 'xe_khách', 'thành_thị', 'nông_thôn', 'sông', 'đắc', 'Vịnh', 'mực', 'kinh_doanh', 'giọng', 'hồ_chí_minh', 'Di', 'chuyển', 'từ_trường', 'ruộng', 'Anh/chị', 'Bố', 'ba_má', 'ruột?', 'họ?', 'bố_anh', 'chị_em', 'họ_hàng', 'của_anh', 'nội,', 'ngoại?', 'bme', 'Tuổi', 'Số', 'thành', 'đình?', 'Thân', 'hạnh_phúc', 'vô_duyên', 'chị_gái', 'hoặc', 'em_gái', '(anh', '/em)', '(chị', 'bố', 'em_út', 'họ_hàng_không', 'có_em', 'Bố,', 'Anh/', 'Chị/', 'Chị/em', 'của_mẹ', 'đón_tết', 'anh_họ']\n"
          ]
        }
      ]
    },
    {
      "cell_type": "code",
      "source": [
        "len_vocab = len(model.wv.vocab)\n",
        "print(len_vocab)"
      ],
      "metadata": {
        "colab": {
          "base_uri": "https://localhost:8080/"
        },
        "id": "sR3hqNLiWn_t",
        "outputId": "dadeb99e-2c49-4628-bf5c-6ab8d03df884"
      },
      "execution_count": 124,
      "outputs": [
        {
          "output_type": "stream",
          "name": "stdout",
          "text": [
            "3349\n"
          ]
        }
      ]
    },
    {
      "cell_type": "code",
      "source": [
        "question_test  = 'Thích bơi không?'\n",
        "\n",
        "\n",
        "p = 0\n",
        "index = 0\n",
        "for i, q in enumerate(words):\n",
        "    sentence1 = question_test\n",
        "    sentence2 = q\n",
        "    values = 0\n",
        "    try:\n",
        "        values = model.wv.n_similarity(sentence1.lower().split(), sentence2.lower().split())\n",
        "    except:\n",
        "        pass\n",
        "    if p < values:\n",
        "        p = values\n",
        "        index = i\n",
        "answer_test = ' '.join(y_token[index])\n",
        "\n",
        "\n",
        "print('Question: ',question_test)\n",
        "print('Answer: ',answer_test)"
      ],
      "metadata": {
        "colab": {
          "base_uri": "https://localhost:8080/"
        },
        "id": "cr6E_RkCZKem",
        "outputId": "ae72ada3-f769-42dd-85bd-ad7c93068d87"
      },
      "execution_count": 153,
      "outputs": [
        {
          "output_type": "stream",
          "name": "stdout",
          "text": [
            "Question:  Thích bơi không?\n",
            "Answer:  Có.\n"
          ]
        }
      ]
    },
    {
      "cell_type": "code",
      "source": [
        "question_test  = 'Có chơi thể thao không?'\n",
        "\n",
        "\n",
        "p = 0\n",
        "index = 0\n",
        "for i, q in enumerate(words):\n",
        "    sentence1 = question_test\n",
        "    sentence2 = q\n",
        "    values = 0\n",
        "    try:\n",
        "        values = model.wv.n_similarity(sentence1.lower().split(), sentence2.lower().split())\n",
        "    except:\n",
        "        pass\n",
        "    if p < values:\n",
        "        p = values\n",
        "        index = i\n",
        "answer_test = ' '.join(y_token[index])\n",
        "\n",
        "\n",
        "print('Question: ',question_test)\n",
        "print('Answer: ',answer_test)"
      ],
      "metadata": {
        "colab": {
          "base_uri": "https://localhost:8080/"
        },
        "id": "oFc27qD4Ykde",
        "outputId": "da83383b-492f-4c31-d66d-906967eb48ce"
      },
      "execution_count": 142,
      "outputs": [
        {
          "output_type": "stream",
          "name": "stdout",
          "text": [
            "Question:  Có chơi thể thao không?\n",
            "Answer:  Bóng đá.\n"
          ]
        }
      ]
    },
    {
      "cell_type": "code",
      "source": [
        "question_test  = 'Hay chơi lúc nào? ?'\n",
        "\n",
        "\n",
        "p = 0\n",
        "index = 0\n",
        "for i, q in enumerate(words):\n",
        "    sentence1 = question_test\n",
        "    sentence2 = q\n",
        "    values = 0\n",
        "    try:\n",
        "        values = model.wv.n_similarity(sentence1.lower().split(), sentence2.lower().split())\n",
        "    except:\n",
        "        pass\n",
        "    if p < values:\n",
        "        p = values\n",
        "        index = i\n",
        "answer_test = ' '.join(y_token[index])\n",
        "\n",
        "\n",
        "print('Question: ',question_test)\n",
        "print('Answer: ',answer_test)"
      ],
      "metadata": {
        "colab": {
          "base_uri": "https://localhost:8080/"
        },
        "id": "XcvEGiwSX0RX",
        "outputId": "2d1eefc7-ad97-43fa-fb9d-4d6e12788671"
      },
      "execution_count": 141,
      "outputs": [
        {
          "output_type": "stream",
          "name": "stdout",
          "text": [
            "Question:  Hay chơi lúc nào? ?\n",
            "Answer:  Không thường_xuyên\n"
          ]
        }
      ]
    },
    {
      "cell_type": "code",
      "source": [
        "question_test  = 'đi ăn gì không'\n",
        "\n",
        "\n",
        "p = 0\n",
        "index = 0\n",
        "for i, q in enumerate(words):\n",
        "    sentence1 = question_test\n",
        "    sentence2 = q\n",
        "    values = 0\n",
        "    try:\n",
        "        values = model.wv.n_similarity(sentence1.lower().split(), sentence2.lower().split())\n",
        "    except:\n",
        "        pass\n",
        "    if p < values:\n",
        "        p = values\n",
        "        index = i\n",
        "answer_test = ' '.join(y_token[index])\n",
        "\n",
        "\n",
        "print('Question: ',question_test)\n",
        "print('Answer: ',answer_test)"
      ],
      "metadata": {
        "colab": {
          "base_uri": "https://localhost:8080/"
        },
        "id": "Gg3mGNXwXvH3",
        "outputId": "c2541c2b-42c0-44e4-9414-2e7d28813103"
      },
      "execution_count": 134,
      "outputs": [
        {
          "output_type": "stream",
          "name": "stdout",
          "text": [
            "Question:  đi ăn gì không\n",
            "Answer:  có\n"
          ]
        }
      ]
    },
    {
      "cell_type": "code",
      "source": [
        "question_test  = 'ghét chơi môn gì?'\n",
        "\n",
        "\n",
        "p = 0\n",
        "index = 0\n",
        "for i, q in enumerate(words):\n",
        "    sentence1 = question_test\n",
        "    sentence2 = q\n",
        "    values = 0\n",
        "    try:\n",
        "        values = model.wv.n_similarity(sentence1.lower().split(), sentence2.lower().split())\n",
        "    except:\n",
        "        pass\n",
        "    if p < values:\n",
        "        p = values\n",
        "        index = i\n",
        "answer_test = ' '.join(y_token[index])\n",
        "\n",
        "\n",
        "print('Question: ',question_test)\n",
        "print('Answer: ',answer_test)"
      ],
      "metadata": {
        "colab": {
          "base_uri": "https://localhost:8080/"
        },
        "id": "vjmFPyNFY_F3",
        "outputId": "80e0089a-46d8-4d71-f395-dc074b363819"
      },
      "execution_count": 172,
      "outputs": [
        {
          "output_type": "stream",
          "name": "stdout",
          "text": [
            "Question:  ghét chơi môn gì?\n",
            "Answer:  Bóng đá.\n"
          ]
        }
      ]
    },
    {
      "cell_type": "code",
      "source": [
        "hypo=answer_test\n",
        "print(hypo)"
      ],
      "metadata": {
        "colab": {
          "base_uri": "https://localhost:8080/"
        },
        "id": "sGvxuJ06bP2w",
        "outputId": "0d173947-2c28-475f-c141-ef6a34415b46"
      },
      "execution_count": 173,
      "outputs": [
        {
          "output_type": "stream",
          "name": "stdout",
          "text": [
            "Bóng đá.\n"
          ]
        }
      ]
    },
    {
      "cell_type": "code",
      "source": [
        "c=y_token\n",
        "print(c)"
      ],
      "metadata": {
        "colab": {
          "base_uri": "https://localhost:8080/"
        },
        "id": "a5kbCIvfbamZ",
        "outputId": "98cc4346-98a5-4d8c-fb7c-37c4f05bbd95"
      },
      "execution_count": 175,
      "outputs": [
        {
          "output_type": "stream",
          "name": "stdout",
          "text": [
            "[['Dễ', 'thương,', 'tóc', 'dài,', 'da_trắng'], ['Có', '1', 'bạn', 'cùng_lớp'], ['Vì', 'đáp_ứng', 'những', 'yêu_cầu', 'của', 'tao'], ['Hay', 'nhắn_tin', 'messenger'], ['Có', 'đôi_khi'], ['Có,', 'đang', 'đợi', 'trả_lời'], ['Thường', 'đi', 'cùng', 'cả', 'nhóm', 'bạn'], ['Thích', 'phim,', 'đồ', 'ăn,', 'thể_thao'], ['Phim', 'ma'], ['chơi', 'đá', 'banh'], ['Ăn', 'cơm', 'sườn'], ['có'], ['một,', 'năm'], ['thủ'], ['Không', 'thường_xuyên'], ['Đồng_nghiệp'], ['quận', '10'], ['1', 'lần'], ['sân', 'kỳ_hòa'], ['quái_vật'], ['không', 'có'], ['marvel'], ['không'], ['có', 'chơi', 'đâu', 'giỏi'], ['có', 'chơi', 'đâu', 'hỏi', 'hoài'], ['có', 'chứ'], ['chơi_với', 'hội'], ['sân', 'cầu_lông'], ['mỗi_ngày'], ['sân_nhà', 'thi_đấu', 'phú_thọ', 'quận', '11'], ['phim', 'giả_tưởng'], ['không'], ['không_biết'], ['thích'], ['game', 'người_lớn'], ['Có.'], ['Bóng', 'đá.'], ['Tương', 'tác', 'cao.'], ['Bóng', 'rổ.'], ['Cuối', 'tuần.'], ['Có.'], ['Có.'], ['Hành', 'động.'], ['chơi', 'đá_bóng'], ['hành_động', 'kinh_điển'], ['tôi', 'thích_chơi', 'game', 'và', 'học', 'code'], ['tôi', 'rất', 'thích', 'phim_hài'], ['tôi', 'thích', 'đô_vật', 'mỹ'], ['thích', 'đá_bóng'], ['tao', 'đá', 'banh', 'hơi', 'cùi'], ['phim', 'lãng_mạn'], ['chơi_game', 'bắn_súng'], ['không', 'thích', 'cho', 'lắm'], ['mỗi', 'năm', 'một_lần'], ['rồi', 'nha'], ['chưa', 'ra_nước', 'ngoài'], ['ăn_sushi'], ['đá_bóng', 'và', 'fitness'], ['kinh_dị'], ['Đọc', 'truyện'], ['Không'], ['Cầu', 'lông'], ['đúng', 'dồi'], ['tui', 'thích_chơi', 'bóng_đá', 'nhất,', 'hồi', 'đó', 'tui', 'còn', 'đi', 'thi_đấu', 'bán', 'chuyên', 'nữa'], ['forest_gump'], ['bóng', 'bàn'], ['Thích', 'đi', 'du_lịch'], ['Thích'], ['Có,', 'hàng', 'tuần'], ['Có,', 'tao', 'hay_hát', 'lắm'], ['đi_chơi'], ['ăn_cơm', 'nhà.'], ['phim', 'heo.'], ['lâu_lâu', 'thì', 'đánh_bóng', 'rổ,', 'cầu', 'lông.'], ['Chơi'], ['Ngủ', 'ngày.'], ['Phim'], ['thích', 'thể_thao', '2', 'người.'], ['Kó'], ['Thích', 'crush'], ['Hỏi', 'gì', 'hỏi', 'lắm', 'vậy?'], ['có', 'nhá'], ['có'], ['có'], ['hỏi', 'chi', 'mà', 'lắm', 'nhờ'], ['nói', 'ít', 'hiểu', 'nhiều'], ['Không', 'thích'], ['Không', 'thích', 'rồi', 'mà_còn', 'hỏi', 'nữa'], ['Hỏi', 'nhây', 'vậy'], ['Chơi', 'với', 'mày'], ['Tao', 'thích', 'mày.'], ['Có', 'ai', 'mà', 'không', 'chơi', 'đâu'], ['Có.'], ['Tao', 'thích', 'mày.'], ['Có', 'ai', 'mà', 'không', 'chơi', 'đâu'], ['Có.'], ['Coi', 'phim,', 'nghe', 'nhạc,', 'chơi', 'bóng', 'đá,...'], ['Transformers'], ['Optimus', 'Prime'], ['Isaac'], ['Cristiano', 'Ronaldo'], ['đương_nhiên', 'là', 'có'], ['môn', 'nào', 'cũng', 'thích'], ['có', '2', 'lần', 'giải_nhất', 'thành_phố', 'rồi'], ['xem_phim', 'là', 'trùm'], ['gây', 'cấn,', 'hack', 'não,', 'khoa_học', 'viễn_tưởng'], ['Nhiều', 'loại', 'lắm'], ['Bóng', 'đá'], ['Chơi', 'lúc', 'rảnh_rỗi'], ['Sân', 'bóng_đá'], ['Không.', 'Mình', 'hơi', 'nhát'], ['Phim', 'gì', '?'], ['Không'], ['Ở', 'đâu,', 'mấy', 'giờ'], ['Chơi', 'game'], ['Chừng', 'nào'], ['thể_thao', 'điện_tử'], ['giải', 'ao', 'làng'], ['abc', 'xyz'], ['tui', 'thích', 'đá_bóng'], ['Ăn'], ['Hơi', 'hơi'], ['Cầu', 'lông'], ['Món', 'nào', 'nào', 'ngon', 'là', 'thích'], ['Có'], ['Điều', 'tuyệt_vời', 'nhất', 'của', 'chúng_ta', '(With', 'you)'], ['Dư', 'Hoài', 'và', 'Cảnh', 'Cảnh'], ['Hành', 'động'], ['Lúc', 'cảnh', 'đẹp'], ['Cầu', 'lông'], ['Coi', 'phim,', 'nghe_nhạc'], ['Chả', 'giò,', 'cơm_tấm'], ['nghe', 'nhạc.'], ['đá', 'bóng,thứ', '3', 'hàng', 'tuần.'], ['không_biết', 'chơi.'], ['vừa', 'đi', 'đà_lạt', 'hồi', 'tháng', '6.'], ['xem', 'phim,', 'nghe_nhạc', 'học', 'một_số', 'nhạc', 'cụ.'], ['thích'], ['không', 'sầu_riêng', 'ngon', 'gần', 'chết.'], ['Có'], ['Có'], ['Đá', 'banh'], ['đá', 'banh'], ['thích'], ['hài'], ['nhà'], ['cả', 'hai'], ['có'], ['cả', 'hai'], ['cả', 'hai'], ['tùy'], ['đá', 'banh'], ['thích'], ['hài'], ['nhà'], ['cả', 'hai'], ['có'], ['cả', 'hai'], ['cả', 'hai'], ['tùy'], ['đá', 'banh'], ['thích'], ['hài'], ['nhà'], ['cả', 'hai'], ['có'], ['cả', 'hai'], ['cả', 'hai'], ['tùy'], ['Thích'], ['Cờ', 'bạc'], ['Sắp', 'bay', 'mấy', 'cái', 'nhà'], ['Kó'], ['nhạc', 'đám'], ['thể_thao'], ['thích'], ['kinh_dị'], ['thích'], ['Có'], ['18+'], ['thích'], ['vui'], ['thể_dục'], ['không'], ['Tao', 'thích', 'mày.'], ['Có', 'ai', 'mà', 'không', 'chơi', 'đâu'], ['Có.'], ['mavel'], ['mèo'], ['ngủ'], ['không'], ['vô_dụng', 'cứt'], ['yup'], ['Đủ', 'thứ', 'hết'], ['Lúc', 'rãnh', 'thì_có'], ['Ma'], ['Titanic'], ['Cảnh', 'đẹp'], ['Có', 'chứ'], ['Cho', 'khoẻ', 'người'], ['Tại', 'thấy', 'người', 'khác', 'tập', 'cũng', 'vui'], ['Kó'], ['Chơi', 'tất_tay'], ['1', 'giải', 'ao', 'làng', 'với', '1', 'giải', 'giếng', 'làng'], ['Chúa', 'phim', 'đây'], ['gì', 'cũng', 'coi'], ['TĐT'], ['CNTT'], ['Vui'], ['Đi', 'làm'], ['Nhiều'], ['ổn'], ['Tôn', 'Đức', 'Thắng'], ['Nguyễn', 'Hữu', 'Thọ'], ['Bảy'], ['Hồ', 'Chí', 'Minh'], ['Kỹ', 'thuật', 'phần_mềm'], ['Mười', 'mấy', 'triệu', 'một', 'kỳ'], ['Cũng', 'ổn'], ['Khá'], ['Cũng', 'được'], ['Tùy', 'người'], ['Cũng', 'ổn'], ['Bình', 'thường'], ['trung_bình_cộng'], ['TÔn', 'đức', 'thắng'], ['Nguyễn', 'Hữu', 'Thọ'], ['quận', '7'], ['tân_phong'], ['hồ_chí_minh'], ['Công', 'nghệ_thông_tin'], ['16', 'triệu', '1', 'kỳ'], ['cũng', 'bình_thường'], ['học_sinh', 'trunh', 'bình'], ['7.0'], ['giáo_viên', 'ổn'], ['dạy', 'cũng', 'bình_thường'], ['bạn_bè', 'cũng', 'tuyệt_vời'], ['Học', 'hành'], ['Ở', 'đây'], ['học', 'hay'], ['Công', 'nghệ_thông_tin'], ['Tôn', 'Đức_thắng'], ['Quận', '7'], ['Bình', 'thường'], ['Rồi.'], ['Khá', 'đắt'], ['tôi', 'học_trường', 'Đại', 'Học', 'Sài', 'Gòn'], ['trường', 'đó', 'ở', 'Sài', 'Gòn'], ['tôi', 'học', 'rất', 'sad'], ['học', 'kinh_doanh'], ['Đại_học', 'Thủy', 'Lợi'], ['bắt', 'xe_buýt'], ['quận', 'Bình', 'Thạnh', 'lận'], ['5', 'môn', 'rồi'], ['tao', 'năm', '2'], ['may', 'thì', '2', 'năm', 'nữa'], ['học', 'Công', 'Nghệ', 'Thông', 'Tin'], ['học', 'Tôn', 'Đức', 'Thắng'], ['sắp', 'tốt_nghiệp'], ['IOT'], ['TDT'], ['Tôn', 'Đức', 'Thắng'], ['Quận', '7'], ['Không'], ['Khoa', 'học_máy_tính'], ['Năm', '3'], ['đúng', 'rồi', 'nè,', 'học', '3', 'năm', 'rồi', 'á'], ['tui', 'học_khoa', 'học_máy_tính'], ['tui', 'học', 'tdtu', 'á'], ['tui', 'sv', 'năm', '3', 'rồi'], ['học', 'ngành', 'này', 'là', 'do', 'đam_mê', 'từ', 'hồi', 'nhỏ', 'á'], ['IT'], ['TDTU'], ['Chưa'], ['Lập', 'trình', 'OOP'], ['Xử', 'lý', 'ngôn_ngữ', 'tự_nhiên'], ['Khi', 'có', 'tiền', 'mua', 'bằng'], ['Học', '3', 'môn', 'rớt', '1', 'môn'], ['học', 'giỏi'], ['Tôn', 'đức', 'thắng'], ['học', 'giỏi'], ['đại', 'học.'], ['ở', 'thành', 'phố.'], ['học', 'được'], ['t', 'học', 'cntt', 'á'], ['t', 'học', 'ở', 'tdtu', ':))))'], ['cũng', 'okie', 'thôi', 'à', ':))))', 'hơi', 'quằng'], ['hồi', 'học_kì', 'trước', 'tui', 'loại', 'khá', ':\">'], ['tao', 'học', 'lớp', '303'], ['Đi_học'], ['Hỏi', 'làm_gì'], ['3'], ['Rớt', 'môn', 'như', 'lá', 'mùa_thu'], ['Hỏi', 'rồi', 'mày', 'cũng', 'có', 'biết_đâu'], ['khôn', 'hơn', 'mày', 'là', 'được'], ['đại_học', 'TDT'], ['18h50302'], ['no', 'comment'], ['no', 'comment'], ['IT'], ['ở', 'đâu', 'còn', 'lâu', 'mới', 'nói'], ['học', 'bình_thường'], ['Tớ', 'đang', 'học', 'Xử', 'lý', 'ngôn_ngữ'], ['Đủ', 'qua', 'môn'], ['Học', 'ở', 'Đại', 'Học', 'Tôn', 'Đức', 'Thắng.'], ['Nghĩ', 'về', 'tương_lai', 'mái', 'nhà', 'và', 'những', 'đứa', 'trẻ.'], ['Tớ', 'đang', 'học', 'Xử', 'lý', 'ngôn_ngữ'], ['Đủ', 'qua', 'môn'], ['Học', 'ở', 'Đại', 'Học', 'Tôn', 'Đức', 'Thắng.'], ['Nghĩ', 'về', 'tương_lai', 'mái', 'nhà', 'và', 'những', 'đứa', 'trẻ.'], ['IT'], ['Cũng', 'tạm'], ['Đại_học', 'Tôn', 'Đức', 'Thắng'], ['Dễ'], ['8', 'môn'], ['học', 'lớp', '5'], ['ở', 'Việt', 'Nam'], ['học_sinh', 'xuất_sắc'], ['tiếng_việt'], ['ghét', 'tất_cả'], ['Đại_học', 'Tôn', 'Đức', 'Thắng'], ['Khoa', 'học_máy_tính'], ['Là', 'học_sinh', 'giỏi', 'ở', 'trường'], ['Học', 'tiếng_anh', 'ở', 'ngoài'], ['Java'], ['Rớt', '2', 'môn'], ['Học', 'Mỹ', 'Thuật', 'Công', 'Nghiệp'], ['Tao', 'không_học', 'đại_học'], ['Có', 'học', 'đâu', 'mà', 'có'], ['Năm', '12', 't', '8.7'], ['T', 'đang', 'học', 'ở', 'TDT'], ['năm', '3'], ['2', 'cái'], ['ghét', 'tất_cả'], ['Đại_học', 'Tôn', 'Đức', 'Thắng'], ['Công', 'nghệ_thông_tin'], ['Trường', 'đại_học', 'Buôn', 'Ma', 'Thuột'], ['Dược'], ['Dược', 'liệu.'], ['Hóa', 'sinh'], ['Học', 'làm', 'người'], ['Tất', 'nhiên', 'là', 'không'], ['Môn', 'xử_lý', 'ngôn_ngữ', 'tự_nhiên'], ['Môn', 'Văn', 'vở'], ['Mình', 'sinh_viên', 'năm', '3'], ['Mình', 'học', 'lớp', '15'], ['ngành', 'công_nghệ_thông_tin'], ['toà', 'D'], ['học_khoa', 'học_máy_tính'], ['năm', '3'], ['có'], ['Học', 'ở', 'học_viện', 'RMIT.'], ['Cấp', 'Đại', 'Học'], ['TDTU'], ['Khá', 'Giỏi', 'nha'], ['Rất'], ['Kỹ', 'năng', 'phát_triển', 'bền', 'vừng'], ['Tôn', 'Đức_thắng'], ['Công', 'Nghệ', 'Thông', 'Tin'], ['năm', '3'], ['không'], ['hỏi', 'chi'], ['Tôn', 'Đức_thắng'], ['Công', 'Nghệ', 'Thông', 'Tin'], ['năm', '3'], ['không'], ['hỏi', 'chi'], ['Tôn', 'Đức_thắng'], ['Công', 'Nghệ', 'Thông', 'Tin'], ['năm', '3'], ['không'], ['hỏi', 'chi'], ['lớp', '1'], ['Sài', 'gòn'], ['giỏi'], ['giỏi', 'chơi'], ['mọi', 'thứ'], ['Đại_học'], ['TDT'], ['Q7'], ['trung'], ['tốt'], ['nhiều'], ['Mỹ'], ['ngu'], ['12'], ['Không'], ['Học', 'NLP'], ['Đủ', 'qua', 'môn'], ['Đại', 'Học', 'Tôn', 'Đức', 'Thắng.'], ['cs'], ['tdt'], ['ổn'], ['nlp'], ['chưa'], ['ổn'], ['RMIT'], ['Không,rất', 'tốt'], ['Tp.HCM'], ['Giỏi'], ['20', 'người'], ['câu_hỏi', 'không', 'rõ_ràng', 'không', 'trả_lời'], ['áp', 'lưc', 'quá_đi_chứ'], ['ko'], ['Giàu'], ['Phòng', 'máy'], ['Tương', 'lai', 'của', 'nhân_loại'], ['lớp', '15'], ['Ở', 'đây'], ['Thích', 'học_sao', 'học'], ['tiếng', 'Việt'], ['ghét', 'hết'], ['Hùng'], ['20'], ['Hà', 'Công', 'Thành'], ['22'], ['chơi_game', 'với', 'xem_phim'], ['Đà', 'Nẵng'], ['trường', 'đại_học', 'Tôn', 'Đức', 'Thắng,', 'quận', '7'], ['1', 'mét', '63'], ['tên', 'Cường', 'nhé'], ['năm_nay', 'là', '22', 'tuổi'], ['Thái', 'Bình'], ['thích', 'ăn', 'nhiều', 'món', 'lắm,', 'ngon', 'là', 'ăn.'], ['Chưa!!!'], ['đang', 'học', 'ở', 'trường', 'Tôn', 'Đức', 'Thắng'], ['0938410364.'], ['nghành', 'khoa_học_máy', 'tinh'], ['khoa', 'công_nghệ_thông_tin'], ['trường', 'đại_học', 'Tôn', 'Đức_thắng', 'và', 'khoá', '21'], ['Khoa'], ['1999'], ['21', 'tuổi'], ['Lan', 'Anh.'], ['Tuấn', 'Duy.'], ['Kha', 'Vạn', 'Cân.'], ['Gò', 'Vấp.'], ['Trái', 'Đất.'], ['Việt', 'Nam.'], ['Nhật', 'Bản.'], ['Lan', 'Anh.'], ['Tuấn', 'Duy.'], ['Kha', 'Vạn', 'Cân.'], ['Gò', 'Vấp.'], ['Trái', 'Đất.'], ['Việt', 'Nam.'], ['Nhật', 'Bản.'], ['Tôi', 'tên', 'Tuấn'], ['Tôi', 'năm_nay', '21', 'tuổi'], ['Ninh', 'Thuận'], ['Ăn', 'kem.'], ['Chưa', 'có', 'nha!'], ['Hưng'], ['21'], ['đang', 'học'], ['Đại_học', 'Tôn', 'Đức', 'Thắng'], ['công_nghệ_thông_tin'], ['Quảng', 'Nam'], ['Kí', 'túc_xá'], ['có', 'xài', 'facebook', 'nhen'], ['okay,', 'nick', 'face', 'là', 'nxhung0405.'], ['0917234872.'], ['Quang', 'Minh'], ['CMT8.'], ['Tân', 'Bình.'], ['Sài', 'Gòn.'], ['Việt', 'Nam.'], ['Nhật', 'Bản.'], ['Cường'], ['20'], ['Ổn'], ['XY'], ['không', 'nhớ'], ['0120000'], ['TDTU'], ['Phúc'], ['20'], ['TDTU'], ['Đang', 'học', 'ở', 'TDTU'], ['Lập', 'trình_viên', 'làm', 'về', 'web', 'lương', 'nghìn', 'đô'], ['Nam'], ['22'], ['CNTT'], ['năm', 'sau'], ['có', 'rồi'], ['Hùng'], ['20'], ['Hồ', 'Chí', 'Minh'], ['sinh_viên'], ['Hùng'], ['20'], ['5'], ['Mai', 'Anh'], ['đại_học', 'năm', '4.'], ['quận', '4', 'tphcm'], ['có', 'chị', 'và', 'em.'], ['có'], ['có'], ['hóa'], ['CNTT'], ['chơi', 'game,', 'đọc', 'sách,', 'nghe_nhạc'], ['tương_đối', 'thích'], ['Kinh', 'tế'], ['Bình', 'Thuận'], ['Sài', 'Gòn'], ['Lan'], ['20'], ['quận', '7'], ['trọ'], ['Lai', 'Châu'], ['Tiến'], ['22'], ['Đồng', 'Tháp'], ['0792240342'], ['7', 'người'], ['3'], ['2', 'năm', 'rồi'], ['Nam'], ['0123456789'], ['Không', 'có', 'gì'], ['Tùng'], ['21'], ['nguyễn', 'Thanh', 'Tùng'], ['đang', 'đi_học'], ['đại_học', 'Tôn', 'Đức', 'Thắng'], ['Hà', 'Nội'], ['bốn', 'người'], ['con_cả'], ['một', 'mét', 'tám'], ['65kg'], ['có'], ['tungtungtung'], ['kỹ_thuật', 'phần_mềm'], ['1999'], ['sinh_viên'], ['sài_gòn'], ['Đại_học', 'Tôn', 'Đức', 'Thắng'], ['1', 'mét', '5'], ['60', 'ký'], ['rồi'], ['thích'], ['4', 'người'], ['18'], ['4'], ['Dũng'], ['2002'], ['19'], ['Vĩnh', 'Long'], ['con', 'út'], ['nhóm', 'máu', 'A'], ['chơi_game'], ['chưa'], ['đại_học', 'năm', '3'], ['sắp', 'rớt', 'một', 'môn'], ['học', 'ở', 'TDTU'], ['Mỹ', 'Tâm'], ['Huyền'], ['21'], ['Sóc', 'Trăng'], ['TDTU'], ['Mạng', 'máy_tính', 'và', 'truyền_thông', 'dữ_liệu'], ['Hùng'], ['20'], ['sinh_viên'], ['20'], ['thất', 'nghiệp'], ['0925632541'], ['guitar'], ['ở', 'An', 'Giang'], ['2000'], ['Hùng'], ['20'], ['song_tử'], ['Hà', 'Nội'], ['khoa', 'công_nghệ_thông_tin'], ['1', 'mét', '7'], ['từ_chối', 'trả_lời'], ['Hiếu'], ['22'], ['Cà', 'Mau'], ['sinh_viên'], ['Tôn', 'Đức', 'Thắng'], ['Công', 'nghệ_thông_tin'], ['quận', '7'], ['75'], ['mét', '75'], ['4'], ['mình', 'tên', 'Duy'], ['mình', 'sinh', 'năm', '2000'], ['mình', '21', 'tuổi'], ['mình', 'đang', 'học', 'đại_học'], ['mình', 'học_trường', 'Tôn', 'Đức', 'Thắng'], ['mình', 'quê', 'ở', 'Tiền', 'Giang'], ['mình', 'đang', 'ở', 'thành_phố', 'Hồ', 'Chí', 'Minh'], ['Bình'], ['2001'], ['kỹ_thuật', 'phần_mềm'], ['chơi', 'bóng_đá'], ['nam'], ['Hùng'], ['20'], ['Hồ', 'Chí', 'Minh'], ['chơi_game'], ['sinh_viên'], ['Tôi', 'là', 'Long'], ['Tôi', 'nay', '21'], ['Ừm', 'mình', 'sinh_viên', 'năm', '3'], ['Bên', 'quận', 'Bình', 'tân'], ['Mình', 'đi', 'xe_máy', 'tới'], ['Tên', 'Tiến'], ['21'], ['Ở', 'Sài', 'Gòn'], ['Đọc', 'sách'], ['Sinh', 'viên'], ['Khoa'], ['20'], ['1m79'], ['Lan'], ['15'], ['chưa'], ['công_nghệ_thông_tin'], ['Tphcm'], ['Hùng'], ['20'], ['Hùng'], ['20'], ['Duy'], ['2000'], ['Trà', 'Vinh'], ['Học', 'đại_học'], ['Tôn', 'Đức', 'Thắng'], ['IT,', 'Mạng', 'máy_tính', 'và', 'Truyền', 'thông', 'dữ_liệu'], ['tp', 'Hồ', 'Chí', 'Minh'], ['IT'], ['Một', 'mình'], ['Hưng'], ['sinh', 'năm', '2001'], ['lotte,', 'đủ', 'người', 'rồi', 'mày'], ['chưa'], ['cũng', 'định'], ['làm_ruộng', 'mày', 'ơi'], ['Hùng'], ['20'], ['Lợi'], ['1999'], ['Phan', 'Thiết,', 'Bình', 'Thuận.'], ['4'], ['chơi', 'game,', 'nghe', 'nhạc,...'], ['bơi_lội'], ['thành_phố', 'hcm', 'và', 'học', 'công_nghệ_thông_tin'], ['Ly'], ['19'], ['2001'], ['1', 'tháng', '9'], ['Nguyễn', 'Thị', 'Ly', 'Ly'], ['1m68'], ['45kg'], ['Tao', 'tên', 'là', 'Mèo'], ['Tao', 'năm_nay', '20', 'rồi.'], ['Cung', 'Kim', 'Ngưu'], ['Mệnh', 'kim', 'hay_sao', 'á.'], ['mét', 'sáu'], ['TDTU'], ['Sa', 'Pa'], ['Lễ'], ['21'], ['công_nghệ_thông_tin'], ['nghe', 'nhạc,', 'chơi', 'game,', 'du', 'lịch,', 'thích', 'được', 'yêu,', 'sự', 'giàu', 'có,', 'ghét', 'sự', 'nhòm', 'ngó,', 'yêu_hòa', 'bình'], ['Gì'], ['Hỏi', 'đi'], ['6'], ['Chắc', 'chưa,', 'coi', 'lại', 'đi'], ['Vậy', 'giờ', 'sao'], ['Hùng'], ['20'], ['Đức'], ['21'], ['Hà', 'Nội'], ['2'], ['Đan'], ['21'], ['Thủ', 'Đức'], ['Hồ', 'Chí', 'Minh'], ['78'], ['1m82'], ['cơm,', 'cháo,', 'phở'], ['Đại_học', 'Tôn', 'Đức', 'Thắng'], ['Quảng', 'Ninh'], ['chưa'], ['cà_phê', 'sữa'], ['có'], ['bóng_rổ'], ['có'], ['Liên', 'minh_huyền', 'thoại'], ['Quảng', 'Ninh,', 'Vũng', 'Tàu,', 'Long', 'Hải,', 'Q7,', 'Q1,', 'Q3,...'], ['có', 'nuôi', 'chó'], ['Alaska'], ['2'], ['10'], ['Đại_học', 'Tôn', 'Đức', 'Thắng,', 'quận', '7'], ['Tam', 'Bình'], ['Tam', 'Bình'], ['Tam', 'Phú,', 'Thủ', 'Đức'], ['không_biết'], ['thể_dục'], ['chưa'], ['ở', 'nhà'], ['không'], ['không'], ['wave_alpha'], ['Chí', 'Phèo'], ['ngủ,', 'xem_youtube'], ['Đức'], ['21'], ['Quảng', 'Bình'], ['Tam', 'Phú'], ['con_trai'], ['nam'], ['bình_thường'], ['rồi'], ['phục_vụ'], ['vừa_học_vừa', 'làm'], ['rồi'], ['Bảo'], ['Công', 'nghệ_thông_tin'], ['k22'], ['Khoa', 'học_máy_tính'], ['Sài', 'Gòn'], ['Rồi'], ['Quận', '2'], ['Năm', '2000'], ['Xe', 'máy'], ['Khá'], ['AUSUS'], ['Nitro', '5'], ['Mượt,', 'chạy', 'tốt'], ['Năm', 'ngoái'], ['MSI'], ['Cỡ', '19', 'đến', '26', 'triệu'], ['i5', 'gen', '10', 'trở_lên'], ['Cũng', 'không', 'đắt'], ['256Gb', 'trở_lên', 'là', 'được'], ['Trung,', 'còn', 'mày'], ['chưa'], ['không', 'tao', 'ở', 'đây'], ['ừ', 'sao', 'mày', 'biết'], ['ừ'], ['Hùng'], ['20'], ['Hùng'], ['20'], ['Huy'], ['22'], ['Sinh', 'viên'], ['Đại_học', 'Tôn', 'Đức', 'Thắng'], ['1m6'], ['Đâu_đó', 'ở', 'Việt', 'Nam'], ['Ăn'], ['Hùng'], ['20'], ['Long', 'An'], ['4'], ['Nông'], ['Công', 'nhân'], ['Công', 'nghệ_thông_tin'], ['có'], ['đi'], ['Hùng'], ['21'], ['thành_phố', 'Hồ', 'chí_minh'], ['Năm', '3'], ['Công', 'nghệ_thông_tin'], ['Do', 'đủ', 'điểm', 'vào', 'đây'], ['Hùng'], ['20'], ['Cà', 'Mau'], ['có'], ['TDTU'], ['sinh_viên'], ['Hùng'], ['20'], ['mét', '7'], ['65', 'kí'], ['Khải'], ['21'], ['Thành', 'phố', 'Hồ', 'Chí', 'Minh'], ['Nghèo'], ['Lập', 'trình_viên'], ['Ế'], ['Mét', 'bảy'], ['Tám', 'chục'], ['MỘt', 'chút'], ['Nào', 'rảnh', 'đã'], ['Tài'], ['21'], ['Quảnng', 'Ngãi'], ['Nghèo'], ['Chưa', 'có'], ['Chưa', 'có'], ['1m75'], ['98kg'], ['có'], ['sắp', 'tới', 'rồi'], ['Hỏi', 'làm_gì'], ['2k3'], ['0.08', 'tấn'], ['3m', 'chia', 'đôi'], ['Toàn'], ['21'], ['1m80'], ['70'], ['Không'], ['Hùng'], ['20'], ['Hùng'], ['20'], ['John', 'Cena'], ['22', 'tuổi'], ['70', 'ký'], ['1', 'mét', '80'], ['Ngân'], ['18', 'thôi'], ['tầm', '60kg'], ['một', 'mét', 'sáu_mươi'], ['nữ'], ['Bảo'], ['21'], ['Minh', 'Thư', '(Vince)'], ['mét', '688'], ['1', 'mét', '50'], ['45', 'kí'], ['Đạt'], ['Không'], ['Tui', 'tên', 'Nam', 'á'], ['Tui', 'cũng', '20', 'nèk'], ['hong,', 'tui', 'nặng', 'lém'], ['tui', 'cao', '1m75', 'á'], ['tui', 'cao', '1m75', 'lận', 'á'], ['Phát'], ['21'], ['1m7'], ['Khanh'], ['20'], ['56kg'], ['ĐH', 'TĐT'], ['100', 'triệu_bằng', 'cử', 'nhân,', '200', 'triệu_bằng', 'thạc', 'sĩ,', '100', 'tỷ', 'làm', 'phó', 'hiệu_trưởng'], ['Thụy'], ['22'], ['Bean'], ['20'], ['Hùng'], ['20'], ['t', 'tên', 'Loan'], ['tui', '20', 'tủi', 'gòy'], ['tui', 'm67'], ['hong', 'nhớ', 'nữa,', 'tầm', '56kg', 'gì', 'đó'], ['Hùng'], ['20'], ['Tuấn'], ['21'], ['tao', 'tuổi_thìn'], ['Tên', 'Tín'], ['Vũng', 'Tàu'], ['Bằng', 'tuổi', 'mày'], ['Mày', 'ngứa', 'mỏ', 'à'], ['Cũng', 'chả', 'nhớ', 'chắc', 'tầm', '65', 'kí'], ['Nhơn'], ['20'], ['1m80'], ['70kg'], ['có'], ['tên', 'Khoa'], ['21', 'tuổi'], ['1m8'], ['hỏi', 'làm_gì'], ['Giang'], ['Tuổi', 'Thìn.'], ['Cao', 'hơn', 'mày'], ['100kg'], ['Giang'], ['Tuổi', 'Thìn.'], ['Cao', 'hơn', 'mày'], ['100kg'], ['Diiko,', 'tui', 'gay'], ['21'], ['Trai'], ['1m80'], ['35kg'], ['Điệp'], ['12', 'tuổi'], ['chưa'], ['nửa', 'mét'], ['50', 'kí'], ['tớ', 'tên', 'Hùng,', 'Phạm', 'Mạnh', 'Hùng'], ['mình', 'sinh', 'năm', '2001'], ['Nguyễn', 'Trần', 'Nhật', 'Đức'], ['20'], ['40kg'], ['1m68'], ['Mình', 'tên', 'Chupi'], ['Mới', '20'], ['Không', 'biết', 'hỏi', 'chi'], ['Tao', 'nặng', 'nhiêu', 'kệ', 'tao', 'chứ'], ['Kidz'], ['20', 'tuổi'], ['mét', '7'], ['80kg'], ['Nam'], ['20'], ['Nguyễn', 'Thị', 'Thu', 'Huyền'], ['2000'], ['1m59,', '51kg'], ['0782513xxx'], ['Có.'], ['Bưởi', 'Bưởi'], ['22/02/2000'], ['2met'], ['50kg'], ['20'], ['Tài,', 'Dương', 'Trọng', 'Tài'], ['20'], ['1m68'], ['ăn', 'rồi,', 'còn', 'bạn?'], ['20'], ['Tôi', 'Tên', 'là', 'Khang'], ['Ok', 'bạn,', 'mình', 'là', 'Anh', 'Đoàn.'], ['Mai', 'dễ_thương'], ['Bằng', 'Cún'], ['Bằng', 'Cún'], ['Của', 'm', 'trừ', 'đi', '20cm'], ['Bằng', 'Cún'], ['Phát'], ['20'], ['1m7'], ['54kg'], ['0793736xxx'], ['nam'], ['Phát'], ['20'], ['1m7'], ['54kg'], ['0793736xxx'], ['nam'], ['Phát'], ['20'], ['1m7'], ['54kg'], ['0793736xxx'], ['nam'], ['Minh'], ['mười', 'mấy', 'tuổi', 'rồi'], ['mới', 'chia_tay'], ['mét', '9'], ['mấy', 'chục'], ['Nam'], ['20'], ['72kg'], ['1m73'], ['12/12'], ['Khoa'], ['2002'], ['100', 'kg'], ['170cm'], ['khùng'], ['Kít'], ['Tuổi', 'Thìn.'], ['Cao', 'gấp', 'đôi', 'mài'], ['100kg'], ['Tý'], ['22'], ['22'], ['Mình', 'tên', 'Hạnh'], ['Tầm', '20', 'tuổi'], ['52kg'], ['1m7'], ['Nguyên'], ['20'], ['mét', 'tám'], ['75'], ['Lộc'], ['mười', 'mấy', '2', '3', 'tuổi'], ['Rồi'], ['mét', '8'], ['9', 'chục'], ['tớ', 'tên', 'Hùng,', 'Phạm', 'Mạnh', 'Hùng'], ['mình', 'sinh', 'năm', '2001'], ['Hùng'], ['20'], ['chưa'], ['mét', '74'], ['70kg'], ['không_biết'], ['Hùng'], ['20'], ['Khoa.'], ['17.'], ['CNTT.'], ['TP.', 'HCM.'], ['Tân', 'Bình.'], ['Tầm', 'nửa', 'tiếng.'], ['Hùng'], ['20'], ['chưa', 'có', 'nhé', 'pro'], [\"it's\", 'sad', 'story'], ['muốn', 'bồ', 'mày'], ['tao', 'muốn', 'tiền'], ['tao', 'là', 'tân', 'tổng_thống_mỹ'], ['có', 'rồi', 'nhé'], ['chết', 'trên', 'mặt_trăng'], ['thịt', 'gà', 'thì_có', 'mà', 'thịt_lợn', 'thì', 'không'], ['Quang'], ['2001'], ['20'], ['Hồ', 'Chí', 'Minh'], ['Đang', 'là', 'sinh_viên'], ['Khoa', 'học_máy_tính'], ['Tôn', 'Đức', 'Thắng'], ['Khá', 'là', 'khó'], ['Ba', 'mẹ'], ['Ít', 'khi', 'đi'], ['tên', 'Vân'], ['21', 'tuổi'], ['TP.HCM'], ['cung', 'Song', 'Ngư'], ['năm', '3'], ['TDTU'], ['Tôn', 'Đức', 'Thắng'], ['Sinh', 'ra', 'và', 'lớn_lên', 'tại', 'TPHCM'], ['Thời', 'trang'], ['Độc_thân'], ['Cầu', 'lông'], ['Hùng'], ['20'], ['không'], ['Ninh', 'Thuận'], ['2'], ['Tôn', 'Đức', 'Thắng'], ['quận', '1'], ['Hùng'], ['Thắng'], ['Ngân'], ['20'], ['Bình', 'Dương'], ['Quảng', 'Bình'], ['4'], ['Tôn', 'Đức', 'Thắng'], ['quận', '9'], ['Đức'], ['Bình', 'Tân', '-', 'bò', 'nhiều', 'hơn', 'dân'], ['3'], ['chưa'], ['75'], ['Hùng'], ['20'], ['Ở', 'tim', 'cậu'], ['Viêt', 'Nam'], ['019091019019'], ['Quang'], ['20'], ['Hồ', 'Chí', 'Minh'], ['Công', 'nghệ_thông_tin'], ['Đang', 'thực_tập', 'thôi'], ['Cũng', 'được.'], ['Trà', 'Lipton'], ['Rau', 'muống', 'xào', 'tỏi.'], ['Hùng'], ['20'], ['Sài', 'Gòn'], ['Truc', 'Nguyen'], ['20'], ['Quận', '7'], ['0977736413'], ['CNTT'], ['Cường'], ['Tam', 'kỳ'], ['25'], ['ĐH', 'Tôn', 'Đức', 'Thắng'], ['CNTT'], ['Lan'], ['Kế', 'toán'], ['Sinh', 'viên', 'năm', '4'], ['Mình', 'có', 'tập', 'yoga.'], ['Mình', 'ở', 'thành', 'phô.'], ['quận', '9'], ['sắp', '22'], ['không', 'nhé'], ['kỹ_thuật', 'phần_mềm'], ['quận', '7'], ['Hồ', 'Chí', 'Minh'], ['Nhí'], ['22'], ['4'], ['Công', 'Nghệ', 'Thông', 'Tin'], ['Khoa', 'Học', 'Máy', 'Tính'], ['Trường', 'đại_học', 'Tôn', 'Đức', 'Thắng'], ['Hùng'], ['20'], ['Hùng'], ['20'], ['Ừ'], ['0123456789'], ['Dương'], ['21'], ['Quận', '7'], ['còn'], ['Đại_học', 'Tôn', 'Đức', 'Thắng'], ['Công', 'nghệ_thông_tin'], ['Kỹ', 'thuật', 'phần_mềm'], ['năm', '4'], ['hết', 'năm_nay'], ['Quảng', 'Ngãi'], ['Tên', 'Nam'], ['20', 'nha', 'ml'], ['Ở', 'Gò', 'Vấp', 'nè'], ['Có', 'em_trai', 'nữa', 'nha'], ['Trường', 'TDT', 'quận', '7', 'ấy'], ['Kĩ', 'thuật', 'phần', 'mềm', 'nha'], ['Okay', 'lun', 'chứ'], ['Nhi'], ['1999'], ['Biên', 'Hoà', '-', 'Đồng', 'Nai'], ['Tôn', 'Đức', 'Thắng', 'University'], ['Năm', '4'], ['Công', 'nghệ_thông_tin'], ['Hùng'], ['2k2,', 'sinh_viên', 'năm', 'nhất'], ['Khoa', 'Công', 'nghệ_thông_tin'], ['ngành', 'Khoa', 'học_máy_tính'], ['Hay', 'chơi', 'đá', 'banh,', 'bóng', 'rổ,', 'cầu', 'lông,', 'bơi', 'lội,...'], ['Nào', 'rãnh', 'thì', 'tao', 'sẽ', 'tham_gia'], ['Ehh', 'yo!', 'Wassup?'], ['Bắc'], ['99'], ['Bình', 'Phước'], ['không'], ['An'], ['184cm'], ['58kg'], ['Bóng', 'chuyền'], ['Hùng'], ['20'], ['sài_gòn'], ['Bình', 'Thạnh'], ['làm'], ['Hùng'], ['20'], ['Ở', 'tim', 'cậu'], ['Viêt', 'Nam'], ['019091019019'], ['Hùng'], ['20'], ['1m7'], ['60kg'], ['Khánh', 'Hòa'], ['công_nghệ_thông_tin'], ['Hùng'], ['20'], ['Lan'], ['Nam'], ['30'], ['29'], ['4(April)'], ['4(April)'], ['2001'], ['giống', 'mày'], ['0123456798'], ['0234567891'], ['Có', 'rồi', 'nha.'], ['31/02/1999'], ['4'], ['Thành', 'phố', 'Hồ', 'Chí', 'Minh'], ['O'], ['Đậu', 'đại_học'], ['tao', 'học', 'nghành', 'khoa', 'học', 'máy', 'tính'], ['1999', 'còn', 'bạn?'], ['Tphcm', 'còn', 'bạn?'], ['TDTU'], ['nhà', 'bao', 'việc'], ['hỏi', 'vậy', 'chi', 'vậy', 'ba'], ['17050202'], ['Năm', '4'], ['1m7'], ['Ninh', 'bình'], ['nam'], ['1999'], ['17050202'], ['Năm', '4'], ['1m7'], ['Ninh', 'bình'], ['Minh'], ['1999'], ['công_nghệ_thông_tin'], ['kỹ_thuật', 'phần_mềm'], ['cà_mau'], ['năm', '4'], ['chỉ', '2'], ['Hiếu'], ['22'], ['nam'], ['TDTU'], ['0902622737'], ['rồi'], ['quận', 'Tân', 'Phú'], ['phục_vụ'], ['không', 'cao', 'lắm'], ['không'], ['quán', 'ế'], ['Rồi', 'chứ,', 'vào', 'năm_ba', 'có', 'đi_làm', 'thêm.'], ['Rồi,', 'một', 'công_ty', 'fpt_software'], ['họ', 'rất', 'chuyên_nghiệp', 'và', 'thân_thiện', 'với', 'đồng', 'nghiệp.'], ['FPT', 'Software'], ['Quận', 'thủ_đức'], ['vui_tính', 'và', 'hoà_đồng'], ['không'], ['có'], ['có'], ['không'], ['Ở', 'nhà.'], ['Không.'], ['Không', 'có.'], ['Ở', 'nhà.'], ['Không.'], ['Không', 'có.'], ['Rồi', 'chứ,', 'vào', 'năm', 'nhất', 'có', 'đi_làm', 'thêm.'], ['Rồi,', 'một', 'công_ty', 'out', 'source', 'lập_trình', 'web.'], ['Toàn', 'là', 'đồng_nghiệp', 'trẻ', 'và', 'họ', 'rất', 'chuyên_nghiệp', 'và', 'thân_thiện', 'với', 'đồng', 'nghiệp.'], ['Apps', 'Cyclone'], ['Quận', 'Tân', 'Bình'], ['ở', 'đâu?'], ['mày', 'thấy', 'chỗ', 'đó', 'như_thế', 'nào?'], ['ý', 'là', 'cảm', 'xúc,', 'vị', 'trí,', 'thái_độ', 'của', 'đồng_nghiệp', 'á', 'mày'], ['Công', 'ty', 'tư', 'vấn.'], ['Không.'], ['Không.'], ['mình', 'làm', 'ở', 'nhà'], ['đúng', 'vậy'], ['chịu', 'thôi'], ['tất_nhiên'], ['thỉnh_thoảng'], ['đúng', 'vậy'], ['có'], ['đang', 'đi', 'dạy', 'thêm', 'về', 'lập_trình', 'cho', 'các', 'em', 'cấp', '2', 'cấp', '3', 'nè'], ['làm', 'ở', 'học_viện', 'công_nghệ', 'TEKY'], ['vui', 'chứ,', 'dạy', 'lập_trình', 'mà'], ['ai', 'cũng', 'dễ_thương', 'từ', 'sếp', 'cho', 'tới', 'các', 'giảng_viên', 'làm', 'chung'], ['cũng', 'ổn,', 'đủ', 'để', 'tiêu', 'vặt'], ['Tân', 'bình'], ['Coder'], ['Mới', 'lãnh_lương'], ['Chịu', 'thôi'], ['5', 'giờ', 'chiều'], ['Thường', 'xuyên'], ['Sacombank', 'á.'], ['Hội', 'sở'], ['Ừa', 'mày.'], ['dạo', 'này', 'công_việc', 'hơi', 'nhiều,', 'dễ', 'stress', 'lắm'], ['khá', 'nặng_nề', 'đó'], ['chắc', 'chỉ', 'có', 'bán_hàng', 'onl', 'thôi.'], ['Đúng', 'rồi.'], ['part', 'time'], ['ổn_định'], ['quận', '7'], ['lâu', 'rồi'], ['vui'], ['oke'], ['vui', 'lắm'], ['không'], ['được'], ['lúc_nào', 'cũng', 'được'], ['oke'], ['CMND'], ['ừ,', 'làm_công', 'ty'], ['ở', 'quận', 'Tân', 'Bình'], ['ổn'], ['có,', 'thoải_mái'], ['8', 'tiếng'], ['ổn'], ['dev'], ['quận', '10'], ['phúc_lợi', 'tốt'], ['tốt'], ['Sacombank', 'á.'], ['Hội', 'sở'], ['Ừa', 'mày.'], ['ổn'], ['devops'], ['dễ', 'vl'], ['dễ'], ['vui', 'vãi'], ['Làm', 'Sinh', 'viên'], ['Nghề', 'nghiệp'], ['Lập', 'trình_viên'], ['quận', '3'], ['tốt'], ['ổn'], ['ổn'], ['độ', 'bi_lắc'], ['đầu_bếp'], ['2', 'triệu'], ['cũng', 'đủ'], ['ăn_bám', 'gia_đình'], ['tại', 'nhà'], ['không', 'có'], ['không', 'có'], ['không', 'có'], ['thích', 'làm_việc', 'sáng_tạo'], ['công_việc', 'luôn', 'refresh,', 'sáng_tạo'], ['ba_mẹ', 'cho', '10', 'triệu', 'tháng.'], ['đủ', 'chứ'], ['có', 'nhiều', 'rồi'], ['đủ', 'tuổi'], ['làm', 'nhiều', 'rồi'], ['Có', 'rồi.'], ['Lập', 'trình', 'viên.'], ['FPT', 'Software.'], ['Quận', '9.'], ['Không', 'nói.'], ['Khá', 'căng', 'thẳng.'], ['Thình', 'thoảng.'], ['hiphop', 'boi'], ['làm', 'ông_chủ', 'lớn'], ['khá', 'tệ,', 'toàn', 'lỗ'], ['tôi', 'là', 'đô_vật', 'nhà_nghề', 'chuyên_nghiệp', 'Mỹ'], ['tôi', 'thích', 'diễn', 'hề', 'chuyên_nghiệp'], ['tiến_triển', 'khá', 'tốt,', 'tôi', 'sắp', 'được', 'đấu', 'với', 'undertaker'], ['làm', 'phục_vụ'], ['chưa'], ['trái', 'ngành'], ['làm', 'kinh_tế'], ['không', 'được', 'ổn_định', 'lắm'], ['5', 'triệu', 'tháng'], ['xa', 'nhà'], ['đi', 'xe_máy'], ['chưa', 'và', 'đang', 'độc_thân'], ['con_gái', 'là', 'được'], ['có'], ['làm', 'ở', 'một', 'tiệm', 'cà_phê'], ['Không'], ['Bán', 'hàng'], ['Không'], ['thiết_kế', 'trang_web'], ['cũng', 'làm', 'một', 'lập_trình_viên', 'thôi'], ['tui', 'thích', 'làm', 'chính_trị_gia', 'hơn'], ['hồi', 'đó', 'thích', 'làm', 'kỹ_sư', 'hoặc', 'chính_trị_gia'], ['đi', 'học'], ['dev'], ['Còn', 'đang', 'đi_học'], ['CNTT'], ['Lập', 'trình_viên'], ['Tuỳ', 'vào', 'kinh_nghiệm'], ['đi_học'], ['thất_nghiệp'], ['biết_đâu', 'ba'], ['còn', 'đang', 'đi', 'học.'], ['đã', 'bảo', 'là', 'còn', 'đi', 'học.'], ['IT', 'never', 'die.'], ['nói_lại', 'lần', 'cuối', 'là', 'còn', 'đi', 'học.'], ['Thế', 'tao', 'học', 'ngành', 'gì'], ['Cả', 'hai', 'nhé'], ['Có', 'chứ'], ['Đúng', 'không', 'ta'], ['tàm_tạm', 'ban', 'ơi'], ['Nghề', 'gì', 'nhiều', 'tiền', 'thì', 'chỉ', 'tao', 'cái'], ['có'], ['làm', 'phục_vụ'], ['có'], ['mới_đây'], ['mém', 'ổn'], ['còn', 'lâu', 'lắm', 'con_giai'], ['Có'], ['Làm', 'nghề', 'kiếm_tiền'], ['Làm', 'nghề', 'gì', 'mà', 'nhiều', 'tiền'], ['Đang', 'làm_công', 'dân', 'Việt', 'Nam'], ['Nghề', 'buôn', 'bất_động', 'sản.'], ['Rất', 'là', 'hợp', 'luôn.'], ['Cha', 'truyền_con', 'nối.'], ['Thu', 'nhập', 'ổn_định', 'lắm.'], ['Ai', 'cũng_như', 'hoa', 'hậu.'], ['Nghề', 'buôn', 'bất_động', 'sản.'], ['Rất', 'là', 'hợp', 'luôn.'], ['Cha', 'truyền_con', 'nối.'], ['Thu', 'nhập', 'ổn_định', 'lắm.'], ['Ai', 'cũng_như', 'hoa', 'hậu.'], ['Lập', 'trình_viên'], ['Ca', 'sĩ'], ['30', 'triệu/tháng'], ['Dễ'], ['Thân', 'thiện'], ['đang', 'làm_công_an'], ['trăm', 'củ'], ['ở', 'quận', '1'], ['có'], ['dễ', 'lắm'], ['Làm', 'ở', 'FPT'], ['Có'], ['Cùng', 'ngành'], ['Khá', 'ổn'], ['Hơn', '1', 'năm'], ['Cũng', 'được'], ['Đang', 'làm', 'web', 'bên', 'quận', '1'], ['Lâu', 'rồi'], ['Cũng', 'được', 'không', 'cực', 'lắm'], ['6', 'tháng'], ['trăm', 'củ'], ['ở', 'quận', '1'], ['có'], ['dễ', 'lắm'], ['cũng', 'làm', 'một', 'lập_trình_viên', 'thôi'], ['tui', 'thích', 'làm', 'một', 'doanh_nhân'], ['hồi', 'đó', 'thích', 'làm', 'kỹ_sư', 'hoặc', 'bác_sĩ'], ['Sinh', 'viên'], ['Dược', 'sĩ'], ['Mình', 'là', 'sinh_viên'], ['Kinh', 'doanh'], ['Không', 'ạ'], ['Tất', 'nhiên', 'là', 'có'], ['Lập', 'trình', 'viên,', 'kinh', 'doanh,', 'marketing'], ['trở_thành', 'một', 'nghệ_sĩ_chuyên', 'nghiệp', 'trong', 'lĩnh_vực', 'âm', 'nhạc.'], ['trở_thành', 'một', 'lập_trình', 'viên.'], ['vừa', 'đi_làm', 'ban', 'ngày,', 'ban_đêm', 'đi', 'biểu_diễn'], ['Làm', 'sinh_viên'], ['ở', 'trường'], ['Làm', 'một', 'sinh_viên', 'bình_thường'], ['Không', 'thích', 'lắm'], ['Đi_học', 'là', 'lương', 'đâu_ra'], ['Làm', 'sinh_viên'], ['ở', 'trường'], ['Làm', 'một', 'sinh_viên', 'bình_thường'], ['Không', 'thích', 'lắm'], ['Đi_học', 'là', 'lương', 'đâu_ra'], ['Làm', 'sinh_viên'], ['ở', 'trường'], ['Làm', 'một', 'sinh_viên', 'bình_thường'], ['Không', 'thích', 'lắm'], ['Đi_học', 'là', 'lương', 'đâu_ra'], ['Đa_cấp'], ['cả', 'tỷ'], ['Gần', 'nhà', 'tao'], ['Ghi', 'đề'], ['Cũng', 'kha_khá'], ['coach'], ['đi_học'], ['không'], ['có'], ['chạy', 'xe'], ['chưa'], ['Dealer.'], ['Rất', 'là', 'hợp', 'luôn.'], ['Cha', 'truyền_con', 'nối.'], ['Thu', 'nhập', 'ổn_định', 'lắm.'], ['Ai', 'cũng_như', 'hoa', 'hậu.'], ['cs'], ['ổn'], ['tỉ_phú'], ['ổn'], ['dev'], ['Làm', 'thêm', 'linh_tinh', 'thôi'], ['Có', 'nè'], ['Có', 'chứ'], ['Dĩ', 'nhiên', 'là', 'không'], ['Tàm', 'tạm', 'à'], ['Cực'], ['Công', 'chúa'], ['Nhiều'], ['Đâu', 'kệ', 'tao'], ['buôn_lậu'], ['Lâu', 'lâu', 'đi', 'tù', 'cũng', 'zui'], ['rồi'], ['rồi', 'nhưng', 'vẫn', 'còn', 'đang', 'khó_khăn'], ['FPTS'], ['cũng', 'khá', 'ổn'], ['gần', '1', 'năm'], ['Tester'], ['Tân', 'Bình'], ['Thích'], ['rất', 'tốt'], ['Tao', 'làm', 'chung', 'chổ', 'với', 'mày', 'đó.'], ['Chung', 'luôn', 'mẹ.'], ['Được,', 'ổng', 'là', 'danh_hài', 'đó.'], ['Nhiêu', 'đó', 'là', 'ổn', 'rồi.'], ['ngủ'], ['chơi_game'], ['du_lịch'], ['ăn'], ['làm_việc'], ['shopping'], ['đi_làm'], ['đi', 'vũng_tàu'], ['quê', 'tui', 'pro'], ['thể_dục'], ['Quán', 'cây_khế'], ['Quản', 'lý', 'quán'], ['Rất', 'vui'], ['Hòa', 'đồng', ',', 'vui_vẻ'], ['Có'], ['Bèo', 'lắm,', 'làm', 'nhiều', 'mà', 'lương', 'có', 'bao', 'nhiêu.'], ['Có', 'lương', 'mới', 'hăng', 'làm.'], ['Tao', 'làm', 'kỹ_thuật', 'quán', 'net.'], ['Làm', 'nhiều', 'lắm,', 'lo', 'sửa', 'máy', 'đến', 'lo', 'máy', 'chủ.'], ['Quán', 'nét', 'này', 'đưa', 'tất_cả', 'ứng_dụng', 'và', 'windows', 'lên', 'máy', 'chủ,', 'máy', 'con', 'lên', 'lấy', 'về', 'qua_mạng', 'LAN.'], ['nhân_viên', 'văn_phòng'], ['bán', 'thời_gian', 'bên', 'Hinglands'], ['tiếp_viên', 'hàng_không'], ['thấy', 'cũng', 'được'], ['hình_như', 'có'], ['Lập', 'trình', 'Web'], ['DVS'], ['15tr'], ['Cũng', 'được'], ['Dễ'], ['IT'], ['quận', '1'], ['Legato', 'Technologi'], ['Web'], ['nhiều'], ['1', 'củ', 'ăn'], ['vui'], ['chuyên_nghiệp'], ['IT'], ['quận', '9'], ['FPT', 'Software'], ['ERP'], ['nhiều'], ['chục', 'củ', 'khoai'], ['vui'], ['chuyên_nghiệp'], ['cài', 'win', 'dạo'], ['gần', 'nhà'], ['làm', 'chung', 'với', 'chị', 'kia'], ['ngon', 'lắm'], ['mày', 'bị', 'ngáo', 'hả'], ['IT'], ['DVS'], ['Developer', 'API', 'Facebook'], ['Không'], ['20'], ['700k'], ['Công', 'ty', 'gần', 'nhà'], ['Lập', 'trình', 'thôi.'], ['Cũng', 'được.'], ['Chưa', 'quen', 'lắm'], ['Chuyên', 'nghiệp', 'lắm.'], ['Khá', 'ổn.', 'Có', 'lương.'], ['Giang', 'viên'], ['TDT'], ['CNTT'], ['Chiều', '4', 'tiết'], ['40', 'sinh', 'viênn'], ['cũng', 'bình_thường'], ['Đủ', 'xài'], ['Quận', '1'], ['Cũng', 'dễ'], ['Code', 'dạo'], ['Lập', 'trình', 'web'], ['Viettel'], ['Code', 'web'], ['Không'], ['3', 'triệu'], ['quận', '3'], ['gần', '2', 'năm'], ['BA'], ['google', 'đi'], ['ok'], ['FPT'], ['Có'], ['Có'], ['Không'], ['Có'], ['Lúc', 'chạy', 'deadline', 'một_mình'], ['Rồi,', 'từ', 'hồi', 'đợt', 'thực_tập'], ['Ở', 'Cyberlogitec', 'Việt', 'Nam,', 'Cộng', 'Hòa'], ['Làm', 'part', 'time', 'nên', 'việc', 'cũng', 'nhẹ'], ['Thoải', 'mái', 'lắm'], ['có'], ['Đồng', 'cafe'], ['cao'], ['có'], ['mới', '2', 'tháng'], ['kỹ_sư', 'phần_mềm'], ['backend'], ['quận', '3'], ['gần', '1', 'năm', 'rồi'], ['tầm', '100', 'người'], ['Thấy', 'gì', 'haha'], ['Làm', 'bên', 'cty', 'FWB'], ['Gần', '1', 'năm', 'đấy'], ['Cũng', 'chạy', 'sml'], ['Khách', 'hàng', 'và', 'sếp', 'lun'], ['Gần', 'nhà', 'à'], ['Quá', 'okay', 'lun', 'ấy'], ['Đúng', 'rồi', 'nên', 'cũng', 'cố', 'gắng'], ['Thân', 'ai', 'nấy', 'lo', 'haha'], ['Đùa', 'thoi,', 'quan_tâm', 'nhau', 'lắm'], ['Cũng', 'mừng', 'lắm'], ['Quận', '1'], ['Kinh', 'doanh', 'khách_sạn'], ['Gần'], ['Tạm', 'được'], ['Đủ', 'sống'], ['Rồi,', 'từ', 'hồi', 'đợt', 'thực_tập'], ['Ở', 'Cyberlogitec', 'Việt', 'Nam,', 'Cộng', 'Hòa'], ['Làm', 'part', 'time', 'nên', 'việc', 'cũng', 'nhẹ'], ['Thoải', 'mái', 'lắm'], ['Thất', 'nghiệp!!!!!'], ['Ờ'], ['Phục', 'vụ'], ['Quán', 'nước', 'Lê', 'Văn', 'Lương'], ['Hơi', 'hơi'], ['Cũng', 'dễ_tính'], ['công_ty', 'ABC'], ['ừm', 'nó', 'đó'], ['đủ', 'sống', 'à'], ['chạy', 'grab'], ['làm', 'lính', 'à'], ['IT'], ['DVS'], ['Developer', 'API', 'Facebook'], ['Không'], ['20'], ['700k'], ['sinh_viên'], ['Đại_học', 'Tôn', 'Đức', 'Thắng'], ['công_nghệ_thông_tin'], ['khá', 'vui'], ['tốt_bụng'], ['dễ_mến'], ['cũng', 'ổn'], ['không'], ['khoảng', '3', 'tháng', 'thôi', 'nếu', 'có', 'kiến_thức', 'nền'], ['được'], ['tao', 'thấy', 'rất', 'là', 'hứng_khởi', 'khi', 'làm'], ['Rồi'], ['Có', ',', 'mọi', 'người', 'rất', 'vui_vẻ', 'hòa', \"đồng'\"], ['Đúng', 'vậy'], ['Khác', 'với', 'lúc', 'học,', 'môi_trường', 'chuyên_nghiệp', 'và', 'kỷ_luật', 'hơn'], ['Thỉnh', 'thoảng'], ['còn', 'làm'], ['sao', 'vậy?'], ['mắng', 'gì?'], ['đang', 'làm', 'báo', 'cáo'], ['dạ', 'ổn', 'mẹ', 'ạ'], ['ôi', 'bán', 'quần_áo'], ['10', 'củ'], ['ừm'], ['ừm'], ['không'], ['bình_thường'], ['có'], ['phục_vụ_bàn'], ['phục_vụ_bàn', 'ở', 'KFC'], ['cực'], ['nhận', 'order', 'từ', 'khách,', 'đưa', 'order', 'cho', 'bếp', 'và', 'đem', 'món', 'ra,', 'dọn_dẹp'], ['có', 'vui_có', 'buồn'], ['do', 'hậu_đậu', 'đổ', 'đồ', 'bị', 'chửi'], ['cũng', 'thân_thiện'], ['IT'], ['DVS'], ['Developer', 'API', 'Facebook'], ['Không'], ['20'], ['700k'], ['chưa_biết'], ['quốc_tế', 'phụ_nữ'], ['mùng', '10', 'tháng', '3'], ['giải_phóng', 'miền_nam'], ['ngày', 'nói_dối'], ['Về', 'quê', 'gặp', 'ông_bà', 'và', 'gia', 'đình.'], ['Có', 'chứ,', 'bạn_bè', 'và', 'gia_đình', 'đông_đủ', 'khiến', 'tôi', 'vui', 'lắm'], ['Về', 'quê', 'hoặc', 'là', 'đi_chơi', 'với', 'những', 'người', 'bạn', 'của', 'tôi?'], ['Kì', 'nghỉ', 'TẾT'], ['không'], ['gia_đình'], ['không'], ['gia_đình'], ['có'], ['14', 'ngày'], ['OK.'], ['2', 'tuần.'], ['OK.'], ['2', 'tuần.'], ['Về', 'quê', 'gặp', 'ông_bà', 'và', 'gia', 'đình.'], ['Có', 'chứ,', 'bạn_bè', 'và', 'gia_đình', 'đông_đủ', 'khiến', 'tôi', 'vui', 'lắm'], ['Về', 'quê', 'hoặc', 'là', 'đi_chơi', 'với', 'những', 'người', 'bạn', 'của', 'tôi?'], ['Kì', 'nghỉ', 'TẾT'], ['sao', 'trễ', 'vậy'], ['à', 'à,', 'rồi', 'mua', 'vé', 'chưa'], ['okay.'], ['OK.'], ['3', 'tuần.'], ['cả', 'tháng'], ['cho', 'đã'], ['vừa_chơi', 'vừa_học'], ['rồi', 'chứ'], ['quyết_tâm', 'quyết_tâm'], ['không', 'về', 'không', 'về'], ['chắc', 'là', 'có', 'nếu', 'tình_hình', 'dịch', 'không', 'quá', 'căng'], ['mới', 'mua', 'được', 'vài', 'cái', 'áo', 'mới', 'thôi', 'à'], ['chắc', '4', 'ngày', 'rồi', 'lên', 'Sài', 'Gòn', 'lại'], ['Có'], ['2', 'xị'], ['2', 'tuần'], ['Về', 'quê'], ['Không'], ['Đi'], ['Đánh'], ['30', 'ngày'], ['Không', 'mày'], ['Covid', 'tới', 'kìa'], ['tụ_tập', 'bạn_bè'], ['chưa'], ['hết', 'tiền'], ['chưa'], ['15', 'ngày'], ['chưa_biết'], ['du_lịch', 'với', 'gia_đình'], ['Nha', 'Trang'], ['hải_sản'], ['tắm', 'biển'], ['lướt_sóng'], ['đi', 'nhà_hàng'], ['30', 'ngày'], ['Không', 'mày'], ['Covid', 'tới', 'kìa'], ['được'], ['được', 'luôn'], ['tết_ta'], ['có', 'chứ'], ['24', 'tết'], ['không,', 'xe_khách'], ['rồi'], ['mùng', '10'], ['vô_lại', 'để', 'học'], ['Đúng', 'rồi'], ['Tất', 'nhiên', 'rồi'], ['Mùng', '10'], ['Lễ', 'gì', 'trên', 'Chùa', 'Bà.'], ['Chắc', 'đua', 'bò', 'cũng', 'là', 'lễ'], ['khoảng', 'hơn', 'chục', 'ngày'], ['thịt', 'chó'], ['vui', 'chứ', 'mày'], ['có_ăn', 'có', 'trả', 'á', 'nha'], ['100', 'ngày'], ['không'], ['thịt', 'chó'], ['hoa_đào'], ['đắt', 'thôi', 'rồi'], ['có'], ['Tết', 'truyền_thống'], ['Trẻ', 'nhỏ', ',', 'học_sinh', '16', 'ngày', 'và', 'người_lớn', '12', 'Ngày'], ['Thịt', 'kho_tàu'], ['Đi', 'chúc_tết', 'và', 'nhận', 'lì_xì', 'từ', 'người_lớn'], ['Tao', 'vui', 'đủ', 'rồi,', 'tao', 'cần', 'yên', 'tỉnh.'], ['Chơi', 'game,', 'ăn_ngủ', 'nghỉ.'], ['Mùng', '5', 'là', 'tao', 'bị', 'lôi', 'đi_chùa', 'thăm', 'bà', 'cô.'], ['Tao', 'muốn', 'năm_mới', 'an_lành', '2020', 'vui', 'đủ', 'rồi.'], ['Mày', 'cũng', 'vậy,', 'nghỉ_tết', 'vui', 'vẻ.'], ['phải', 'ở', 'lại', 'thành_phố'], ['dĩ_nhiên', 'là', 'có'], ['dành', 'thời_gian', 'với', 'gia_đình'], ['không,', 'ở', 'nhà'], ['đi', 'Đà', 'Lạt'], ['Tết', 'nguyên_đán'], ['Mùng', '1', 'tháng', 'Giêng', '(Âm', 'lịch)'], ['Chúc', 'Tết,', 'nhận', 'lì', 'xì,', 'đi', 'chùa...'], ['Không'], ['Có'], ['21'], ['có'], ['Ninh', 'Thuận'], ['14'], ['có'], ['quê'], ['Có'], ['Đà', 'Lạt'], ['Ăn', 'cẩu', 'lương'], ['Xong', 'xem', 'tụi', 'nó', 'chia_tay'], ['FA', 'chỉ', 'có', 'vậy'], ['2/9'], ['Tháng', '2'], ['14', 'ngày'], ['1/5'], ['Không'], ['Chơi', 'là', 'chính'], ['Có', 'chứ.'], ['Mệt', 'chứ.'], ['Ừm', 'đi.'], ['con', 'Trâu'], ['2', 'ngày', 'nữa.'], ['Có', 'chứ.', 'Ngày', 'mai', 'về.'], ['Chắc', 'chắn', 'có.'], ['Không.', 'Miễn', 'bàn.'], ['Được.'], ['Chưa'], ['Ok.', 'Vạn', 'Hanh', 'Mall', 'nha.'], ['Cũng', 'được'], ['Áo_khoác', 'với', 'quần_jean'], ['Mua'], ['T7', 'tuần', 'này'], ['Xe', 'giường_nằm'], ['Du', 'lịch'], ['Có'], ['Không'], ['Ở', 'nhà'], ['ok'], ['2/9'], ['Tháng', '2'], ['14', 'ngày'], ['1/5'], ['Không'], ['14', 'ngày'], ['đương_nhiên', 'có'], ['26', 'âm_lịch'], ['có'], ['gặp', 'dòng_họ', 'và', 'được', 'lì_xì', ':))'], ['Về', 'quê', 'thăm', 'nội', 'và', 'ngoại', 'mình', 'thôi'], ['Về', 'quê'], ['Quà', 'bánh', 'và', 'trái_cây'], ['Ngày', 'giải_phóng', 'miền_nam', 'là', 'ngày', '30/4'], ['Bánh', 'tét', 'và', 'bánh_chưng'], ['Gia', 'đình'], ['Quê', 'nội'], ['49', 'ngày', 'mày', 'ơi'], ['Đi', 'chơi', 'tứ_phương'], ['Đà', 'Lạt', '-', 'Nha', 'Trang'], ['Ở', 'nhà_phụ', 'ba_mẹ', 'dọn_dẹp', 'nhà_cửa'], ['Chắc', 'ở', 'nhà'], ['Mùng', '1', 'về', 'nội,', 'mùng', '2', 'về', 'ngoại,', 'mùng', '3', 'đi_chơi', 'với', 'gia', 'đình,', 'sau', 'mùng', '4', 'nằm', 'nhà_chơi'], ['Cũng', 'được,', 'dù', 'gì', 'cũng', 'rãnh'], ['Okay', 'nhá'], ['Có'], ['25', 'tết'], ['2', 'tuần'], ['mùng', '8', 'tết'], ['có'], ['về', 'quê'], ['2', 'tuần'], ['vui', 'lắm'], ['đi', 'thăm', 'họ_hàng'], ['hết', 'rồi'], ['Đi', 'làm'], ['2', 'tuần', 'à'], ['Không,', 'chán', 'lắm'], ['Hết', 'rồi', ':<'], ['Không'], ['Covid'], ['Ngủ'], ['Hong'], ['Xa', 'cách', 'người_yêu'], ['49', 'ngày', 'mày', 'ơi'], ['Đi', 'chơi', 'tứ_phương'], ['Đà', 'Lạt', '-', 'Nha', 'Trang'], ['Ở', 'nhà_phụ', 'ba_mẹ', 'dọn_dẹp', 'nhà_cửa'], ['Chắc', 'ở', 'nhà'], ['Mùng', '1', 'về', 'nội,', 'mùng', '2', 'về', 'ngoại,', 'mùng', '3', 'đi_chơi', 'với', 'gia', 'đình,', 'sau', 'mùng', '4', 'nằm', 'nhà_chơi'], ['Cũng', 'được,', 'dù', 'gì', 'cũng', 'rãnh'], ['Okay', 'nhá'], ['14/02'], ['08/03'], ['02/09'], ['20/11'], ['Hên', 'xui'], ['Đang', 'dịch', 'mà'], ['Quên', 'rồi'], ['6/2'], ['Nghỉ', 'dịch'], ['26', 'á'], ['mùng', '4'], ['ok', 'để', 'sắp_xếp'], ['Không'], ['xíu', 'nữa', 'đi'], ['hông', 'biết', 'luôn'], ['2/9'], ['Tháng', '2'], ['14', 'ngày'], ['1/5'], ['Không'], ['6/2/2021', 'đến', '21/2/2021'], ['21/4/2021'], ['thứ', '5'], ['thứ', '6', 'và', 'thứ', '7'], ['thứ', '7'], ['thứ', '6'], ['có'], ['không'], ['không'], ['có'], ['có'], ['lễ', 'thì', 'đi', 'vòng_vòng', ',', 'tết', 'về', 'quê'], ['Rủ', 'các_bạn', 'đi', 'cf'], ['Có'], ['7', 'ngày'], ['có', 'chứ'], ['mua', 'hoa', 'thôi'], ['chưa', 'có', 'bồ', ':('], ['hoan_hô', 'lễ', 'Quốc', 'Khánh'], ['có'], ['lễ_tình_nhân'], ['chưa'], ['rồi'], ['rồi'], ['23', 'tháng_chạp'], ['mãng_cầu', 'Xiêm,', 'dừa', '(hay', 'dưa),', 'đu', 'đủ,', 'xoài,dưa', 'hấu'], ['không'], ['rồi'], ['tớ', 'không', 'tính'], ['2/9'], ['Tháng', '2'], ['3', 'tháng'], ['1/5'], ['Không'], ['không'], ['đi', 'chứ'], ['rồi,', 'cũng', 'được'], ['nếu', 'nước_ngoài', 'thì', 'John', 'Legend,', 'còn', 'Việt', 'Nam', 'thì', 'Vũ'], ['không'], ['Hành', 'động,', 'logic,', 'ảo_thuật'], ['CGV', 'quận', 'Tân', 'Bình'], ['Bạn', 'cùng_với', 'những', 'bạn', 'trong', 'lớp', 'và', 'những', 'người', 'bạn_thân'], ['Tôi', 'không', 'muốn', 'ra', 'ngoài'], ['Vui', 'và', 'giúp_ích', 'cho', 'việc', 'giải_trí'], ['hành_động'], ['không'], ['\"Kỳ', 'nghỉ', 'nhớ', 'đời\"'], ['bạn_bè'], ['không'], ['bổng', 'ngô'], ['Đi.'], ['Phim', 'hoạt_hình', 'anime.'], ['OK.'], ['Xuất', 'sắc.'], ['Đi.'], ['Phim', 'hoạt_hình', 'anime.'], ['OK.'], ['Xuất', 'sắc.'], ['Hành', 'động'], ['CGV', 'ViVo', 'quận', '7'], ['Bạn', 'cùng_lớp', 'với', 'tôi'], ['Tôi', 'không', 'muốn', 'ra', 'ngoài'], ['Vui', 'và', 'giúp_ích', 'cho', 'việc', 'giải_trí'], ['thích', 'đi', 'xem_phim', 'nha'], ['tao_thích', 'kiểu', 'phim', 'siêu', 'anh_hùng', 'giống', 'marvel', 'hay', 'dc', 'comic', 'á'], ['ừ', 'tao', 'biết,', 'sao_á'], ['okay', 'mày,', 'chiều', 'nay', 'hay', 'sao.'], ['okay'], ['vừa_mới', 'tới', 'rồi', 'nè', 'mày'], ['t', 'cũng', 'thấy', 'mày', 'rồi'], ['okay', 'đi'], ['OK.'], ['Phim', 'hành', 'động.'], ['OK.'], ['Hay', 'tuyệt.'], ['không'], ['Tây', 'du_ký'], ['diễn_viên'], ['CGV'], ['ok'], ['rồi'], ['rồi'], ['có', 'chứ'], ['nhiều', 'lắm', 'kể', 'hong', 'hết,', 'phim', 'nào', 'cũng', 'thích'], ['hành_động'], ['mỗi', 'tối', 'luôn'], ['CSGO', 'với', 'LMHT'], ['hoi', 'không', 'đi_chơi', 'net', 'đâu,', 'có', 'máy', 'xịn', 'ở', 'nhà', 'rồi'], ['lên', 'web', 'coi', 'i,', 'ai', 'nhớ', 'hết', 'đâu'], ['thôi', 'đang', 'dịch', 'COVID-19', 'mà', 'đi', 'đâu,', 'muốn', 'bị', 'cách_ly', 'à'], ['thôi', 'đang', 'dịch,', 'tao', 'sẽ', 'ở', 'nhà', 'coi', 'netflix'], ['game', 'gì', 'mày'], ['ok', 'go_go'], ['hoi', 'tối', 'nay', 'bận', 'học', 'web', 'rồi'], ['còn', 'nha,', 'cần', 'thì', 'cứ', 'hú'], ['đi'], ['duyệt'], ['mày', 'tuổi'], ['ok', 'mở', 'đi'], ['vô', 'mày'], ['xem'], ['tối', 'nay'], ['batman'], ['ok'], ['\"lừa', 'đểu', 'gặp', 'lừa', 'đảo\"', 'đấy.'], ['nó', 'bị', 'dịch', 'nên', 'dời', 'miết', 'à'], ['đây', 'đủ', '5', 'thằng', 'nè.'], ['thôi', 'tao', 'lười', 'lắm', 'mày.'], ['vui'], ['Không'], ['không'], ['đang', 'bận'], ['oke'], ['vui'], ['rảnh'], ['xem_phim'], ['hành_động'], ['cậu'], ['bốn', 'giờ'], ['ok'], ['Hùng', 'Vương', 'Plaza'], ['kinh_dị', 'đi'], ['được'], ['ok'], ['Mấy', 'giờ', 'mày?'], ['Trễ', 'vậy?'], ['19h', 'đi'], ['Mà', 'đi', 'quán', 'nào?'], ['Hay', 'đi', 'TCH', 'bên', 'NAT', 'đi'], ['Okie'], ['ok'], ['chỗ', 'cũ', 'đi', 'bro'], ['nào', 'cũng', 'được'], ['ok', 'phim', 'gì', 'bro'], ['phim', 'hành_động', 'bro'], ['ok', 'coi', 'ở', 'đâu', 'bro'], ['ok', 'phim', 'gì', 'xuất', 'mấy', 'giờ'], ['ok', 'chốt', 'bro'], ['đọc', 'sách,', 'nấu', 'ăn,', 'dọn_dẹp', 'nhà', 'cửa,', 'ngủ,', 'nghe_nhạc'], ['có'], ['nhà_hàng', 'món_ăn', 'Thái'], ['5'], ['2', 'tiếng', '15', 'phút'], ['năn', 'nỉ,', 'khóc', 'lóc,', 'kí_tên', 'vô_biên', 'bản'], ['liên_hệ', 'phòng', 'A003,', 'đóng', '50', 'nghìn', 'làm_lại', 'thẻ'], ['mỗi_ngày', 'là', 'một', 'fashion', 'show.'], ['kẹt', 'xe', 'mỗi', 'ngày,', 'kẹt', 'thang_máy', 'mỗi_ngày'], ['thư_viện', 'hơn', '120', 'tỉ,', '5', 'lầu,', 'chứa', 'được', '3000', 'người', 'cùng', 'lúc.'], ['Có,', 'thường_xuyên', 'đi'], ['Cũng', 'hay', 'đi'], ['Phố', 'đi', 'bộ,', 'hồ', 'con_rùa'], ['Bạn', 'trên', 'đại_học'], ['Có'], ['Rap', 'và', 'indie'], ['Có', 'vé', 'nhưng', 'đang', 'bị', 'hoãn', 'nên', 'chưa', 'đi'], ['Không,', 'mình', 'yêu_nước'], ['Có', 'mà_còn', 'tùy', 'dịch'], ['Không', 'thích', 'lắm'], ['Sách', 'thì', 'thích'], ['đi'], ['lotte_cinema'], ['ok'], ['LoL'], ['khoảng', '3', 'tiếng'], ['bom_tấn'], ['Đi'], ['Xem'], ['Ok'], ['Cuối', 'tuần_không', 'giảm', 'giá.'], ['Tầm', 'thứ', '4', 'hay', 'thứ', '5', 'đi.'], ['Chắc', '1', 'mấy', '2', 'giờ.'], ['Godzilla.'], ['CGV', 'Vạn', 'Hạnh', 'đi', 'cho', 'gần', 'nhà', 'mày.'], ['Đi', 'thì', 'đi.'], ['hulk'], ['hãy', 'đợi', 'đấy'], ['clash', 'of', 'lord', '2'], ['đá_bóng'], ['viễn_tưởng'], ['hành_động'], ['laptop'], ['hỏi_xoáy', 'đáy', 'xoay'], ['doremon'], ['thời_sự'], ['Để', 'xem_lại', 'côi', 'rãnh', 'không'], ['Đi'], ['Đi', 'chứ'], ['Không.'], ['Có', 'ít', 'lắm.'], ['Anime.'], ['Mày', 'nghĩ', 'chỉ', 'có', 'thế', 'thôi', 'à?'], ['Tao', 'chơi', 'nhiều', 'lắm,', 'World', 'of', 'Warships,', 'Minecraft,', 'Genshin', 'Impact,', 'Cyberpunk2077,', 'Kerbal', 'Space', 'Program,', 'Phasmophobia,...'], ['Không,', 'bỏ', 'lâu', 'rồi.'], ['Ờ,', 'kỹ_sư', 'chơi', 'cũng', 'được,', 'mày', 'càng', 'giỏi', 'lập_trình', 'hoặc', 'mạch', 'điện', 'thì', 'cách', 'chơi', 'minecraft', 'của', 'mày', 'sẽ', 'càng', 'thâm.'], ['Game', 'weeb', 'làm', 'mày', 'viêm_màng', 'túi', 'và', 'dồn', 'máu', 'não.'], ['Bằn', 'tàu,', '2016', 'chơi', 'vui', 'chứ', '2021', 'mày', 'càng', 'chơi', 'càng', 'teo', 'não.'], ['Ờ,', 'nhưng', 'phải', 'chỉnh', 'cấu_hình', 'thấp', 'mới', 'mượt', 'được', '60fps.'], ['Mô', 'phỏng', 'việc', 'du_hành', 'ngoài', 'không', 'gian,', 'thiết_kế', 'xây_dựng', 'tên', 'lữa', 'các', 'kiểu,', 'nhưng', 'giờ', 'tao', 'chủ_yếu', 'thiết_kế', 'tàu,', 'bè', 'chiến_đấu', 'trên', 'mặt', 'nước.'], ['Tao', 'thích.'], ['Đi', 'lòng_vòng', 'la_làng', 'bắt', 'ma,', 'bị', 'ma', 'dí', 'thì', 'chạy.'], ['Tao', 'chơi', 'nhiều', 'lắm,', 'ước', 'gì', 'tao', 'cũng', 'học', 'nhiều', 'như_vậy_mà', 'đời', 'không', 'như', 'mơ.'], ['mai', 'bận', 'rồi'], ['ok'], ['mê', 'phim', 'hành_động'], ['khoái', 'phim', 'kinh_dị'], ['thích', 'đi', 'sở', 'thú'], ['đi', 'nhà_sách'], ['CGV'], ['Avengers'], ['Marvel', 'Studios'], ['Iron', 'Man'], ['Robert', 'Downey,', 'Jr.'], ['rồi'], ['hay', 'lắm'], ['laptop'], ['coi'], ['chơi'], ['đi'], ['chưa'], ['đi'], ['Xgame'], ['nói', 'tao', 'chi'], ['đi', 'xem', '2', 'lần', 'hả'], ['chúc', 'đi', 'vui_vẻ'], ['sao', 'chửi', 'tao'], ['Ơ...'], ['OK'], ['Đi'], ['OK'], ['Không,', 'cậu', 'có_thể', 'xem', '2', 'lần', 'mà'], ['Tớ', 'thì', 'không'], ['Ừm,', 'rảnh.'], ['OK.', 'Được.'], ['Drama', 'là', 'được.'], ['Có', 'chứ.'], ['Kinh', 'dị.'], ['Ok.', 'Mai', 'chơi', 'chung.'], ['Có', 'phim', 'gì?'], ['Ok', 'mai', 'đi'], ['Lotte', 'Cinema'], ['Xe', 'máy'], ['Lấy', 'combo', 'hai_người', 'đi'], ['hết', 'tiền', 'rồi'], ['bình_thường'], ['Bao', 'thì', 'đi'], ['xem_phim'], ['không_biết'], ['Xem', 'phim', 'gì.'], ['OK,', 'coi', 'mấy', 'giờ'], ['Ok'], ['Đi', '2', 'người', 'thôi.'], ['thôi'], ['không'], ['quận', '3'], ['không'], ['Minh', 'Lan', 'truyện'], ['Hành', 'động,', 'hài', 'kịch,', 'phim', 'ma', 'và', 'tu_tiên'], ['Doremon'], ['Mình', 'thích', 'đến', 'quán', 'nước', 'và', 'những', 'khu_vực', 'ngắm_cảnh'], ['Đi', 'luôn'], ['Không'], ['Xem'], ['Cũng', 'được'], ['Ok'], ['ok'], ['Mai', 'nhé'], ['Cậu', 'vàng'], ['3h', 'nhé'], ['Không'], ['khoa_học', 'viễn_tưởng'], ['CGV'], ['có'], ['Liên', 'minh_huyền', 'thoại'], ['không'], ['Đợi', 'chút,', 'check', 'lịch', 'phim'], ['Thấy', 'có', 'phim', 'ma', 'này', 'được', 'này'], ['10h30', 'đi', 'cho', 'kịch', 'tính', ':))'], ['Okay!', 'Nhớ', '9h', 'đến', 'rạp'], ['Done'], ['ok'], ['ok'], ['được'], ['Bấm', 'điện_thoại'], ['Đợi', 'tí', 'coi', 'trailer.', 'Okay', 'đi'], ['Mày', 'chọn', 'đi,', 'mấy', 'giờ', 'cũng', 'được,', 'đang', 'rãnh'], ['Okay', 'nhá'], ['Okay', 'luôn', 'nhá'], ['Có'], ['Kim', 'cương'], ['Tao', 'hay', 'chơi', 'chess'], ['Lụm!'], ['Rảnh'], ['Ok'], ['không'], ['ờ'], ['Mai'], ['ok'], ['ok'], ['Rạp', 'nào?', 'mấy', 'giờ?'], ['OK'], ['Đi'], ['OK'], ['Không,', 'cậu', 'có_thể', 'xem', '2', 'lần', 'mà'], ['Tớ', 'thì', 'không'], ['hành', 'động,', 'kinh_dị'], ['the', 'saw'], ['kẻ', 'hủy_diệt'], ['crash', 'landing', 'on_you'], ['extracurricular'], ['avengers'], ['có'], ['avendture'], ['9', 'giờ'], ['thích'], ['có'], ['Đầm', 'Sen', 'park.'], ['Hoà', 'Bình', 'Quận', '11'], ['Hành', 'động', ',', 'viễn_tưởng'], ['2', 'tuần', '1', 'lần'], ['bạn_bè', ',', 'người_yêu', '(', 'nếu', 'có', ')'], ['CGV', ',', 'Galaxy', '...'], ['Có', 'chứ.'], ['phim', 'gì?'], ['hay', 'đấy'], ['thor', 'nên', 'nhắm', 'vào', 'đầu'], ['solo', 'nè'], ['ok,', 'phim', 'gì?'], ['có'], ['có'], ['oke'], ['đi', 'luôn'], ['oke'], ['có'], ['có'], ['oke'], ['đi', 'luôn'], ['oke'], ['không'], ['không'], ['xem'], ['mùng', '1', 'tết'], ['không'], ['đi'], ['không', 'đi', 'đâu'], ['đi'], ['OK'], ['Đi'], ['OK'], ['Không,', 'cậu', 'có_thể', 'xem', '2', 'lần', 'mà'], ['Tớ', 'thì', 'không'], ['đi', 'đâu', '?'], ['được'], ['hè'], ['tầm', '10', 'triệu'], ['giờ', 'đặt'], ['Chắc', 'vài', '3', 'tỉnh', 'gì', 'đó'], ['Tôi', 'thích', 'đi', 'Vũng', 'Tàu.'], ['Đi', 'với', 'bạn', 'bè.'], ['Mỗi', 'đợt', 'thời_gian', 'giữa', 'và', 'cuối', 'năm.'], ['Đà', 'Nẵng'], ['không'], ['có'], ['chưa'], ['đã', 'đi'], ['chưa'], ['chưa'], ['Đi', 'biển.'], ['Tết', 'năm', 'sau.'], ['Đi', 'biển.'], ['Tết', 'năm', 'sau.'], ['Chắc', 'là', '15', 'tỉnh', 'trên', 'nước', 'rồi.'], ['Tôi', 'thích_nhất', 'là', 'đi', 'du_lịch', 'ở', 'Đà', 'Lạt.'], ['Đi', 'với', 'bạn_bè', 'là', 'thích_nhất', 'nhá.'], ['Mỗi', 'đợt', 'thời_gian', 'giữa', 'và', 'cuối', 'năm.'], ['muốn', 'đi', 'chung', 'không'], ['tầm', 'thi', 'giữa', 'kì', 'xong', 'là', 'đi', 'Đà', 'Lạt'], ['vậy', 'đi', 'chung', 'luôn', 'nha'], ['Đi', 'Vũng', 'Tàu.'], ['Tết', 'năm', 'sau.'], ['đi_biển'], ['có', 'biển', 'là', 'thích'], ['có', 'luôn'], ['đúng', 'vậy'], ['1', 'ngày_trước'], ['Chưa', 'được', 'đi'], ['có'], ['mới', 'đi', 'đà_lạt', 'hồi', 'noel', 'nè'], ['đi', 'với', 'nhóm', 'bạn_thân', 'trên', 'đại_học'], ['đi', 'đà_lạt', '4', 'ngày', '3', 'đêm'], ['trời_ơi', 'tốn', 'lắm', 'luôn'], ['quất', 'luôn'], ['Tiền', 'đâu'], ['Lạnh', 'lắm'], ['Tuần', 'sau'], ['Bí', 'mật'], ['Đi', 'chi', 'mày?'], ['Xe', 'máy', 'hả?'], ['Ừ,', 'đi.'], ['là', 'đi', 'đâu', 'cụ_thể', 'đi', 'ông.'], ['Cũng', 'ổn', 'đây.', 'Đi', 'gần', 'cho', 'dễ_bề', 'quản', 'lý.'], ['kì', 'này', 'tao', 'hơi', 'kẹt', 'tiền', 'rồi.'], ['cho', 't', 'ké', 'một_chân', 'với', 'nha'], ['Tết', 'kì', 'này', 'được', 'không', 'mọi', 'người.'], ['lên', 'lịch', 'luôn,', 'tết', 'này', 'mình', 'triển.'], ['nhiều'], ['không'], ['ở', 'nhà_ngủ'], ['xa', 'lắm'], ['nghỉ_tết'], ['đẹp'], ['ổn_định'], ['gia_đình'], ['oke'], ['được'], ['có'], ['đi', 'Sapa'], ['tớ', 'có', 'áo_ấm', 'rồi'], ['5', 'ngày', '4', 'đêm'], ['tùy', 'mày'], ['rảnh'], ['ok'], ['Đà', 'Lạt'], ['6', 'người'], ['rồi'], ['Đi', 'chi', 'mày?'], ['Xe', 'máy', 'hả?'], ['Ừ,', 'đi.'], ['đi'], ['Đà', 'Lạt'], ['lễ', '30', 'tháng', '4'], ['cắm', 'trại'], ['chụp', 'hình', 'ăn_uống'], ['có'], ['đà_lạt'], ['không,', 'đi', 'với', 'người_yêu'], ['xe_máy'], ['tận_hưởng', 'cái', 'không_khí', 'thôi'], ['Ở', 'đâu'], ['Được'], ['Mai'], ['Bạn', 'tao'], ['Có', 'năm', 'nào', 'tao', 'chả', 'về?'], ['Năm', 'nay', 'tao', 'đi', 'Đà', 'Lạt.'], ['Kệ', 'tao.'], ['Đám', 'bạn', 'cấp', 'hai', 'rủ', 'nên', 'tao', 'đi', 'thôi.'], ['sapa'], ['vũng_tàu'], ['đà_lạt'], ['bạn_bè'], ['gia_đình'], ['bồ'], ['đi', 'thật_xa'], ['nhà'], ['ngủ'], ['chuối'], ['Ít', 'khi', 'đi'], ['Nha', 'Trang'], ['Hè'], ['Khoảng', '2', 'tuần'], ['Covid', 'tùm_lum', 'đi', 'gì', 'ở', 'nhà.'], ['Không.'], ['Tại', 'sao', 'phải', 'chán,', 'ở', 'nhà', 'là', 'sướng', 'nhất.'], ['Đà', 'Lạt'], ['không', 'thích', 'mấy'], ['biển', 'Nha', 'Trang'], ['nước', 'Nhật'], ['đi_rồi'], ['Nước', 'ngoài'], ['Tết', 'nguyên_đán'], ['Gia', 'đình'], ['7', '-', '9', 'ngày'], ['Không'], ['chưa'], ['Tết', 'về'], ['một_mình'], ['chưa'], ['Tết', 'về'], ['gia_đình'], ['Hà', 'Nội'], ['về', 'nhà_ăn', 'tết...', 'tết'], ['dịch', 'thì', 'dịch,', 'về', 'thì', 'về'], ['không', 'pass', 'vé', 'được'], ['Phan', 'thiết'], ['Mùng', '3', 'tết'], ['Tụi', 'mình'], ['Rồi'], ['Trắng', 'đen'], ['Đi', 'biển', 'thôi.'], ['Ừm.', 'Đang', 'hè', 'mà.'], ['Vũng', 'Tàu', 'thôi.'], ['Thôi.', 'Xa', 'lắm.'], ['Cuối', 'tuần.'], ['Để', 'tao', 'rủ', 'cho.'], ['Được', '1', 'lần'], ['Thôi', 'dẹp'], ['Đi', 'Đà', 'Lạt', 'nha'], ['Cuối', 'tuần'], ['3', 'ngày'], ['Homestay'], ['Không,', 'đi', 'xem', 'hoa'], ['Vườn', 'ươm', 'Đà', 'Lạt'], ['Vũng', 'tàu'], ['chưa'], ['6', 'tháng'], ['Vịnh', 'Hạ', 'Long'], ['tao', 'hết', 'tiến', 'rồi'], ['Phan', 'thiết'], ['Mùng', '3', 'tết'], ['Tụi', 'mình'], ['Rồi'], ['Trắng', 'đen'], ['Hà', 'Giang'], ['đẹp', 'và', 'đặc_biệt'], ['có'], ['Tết', 'và', 'nghỉ_hè'], ['không', 'đi', 'đâu'], ['Tết,', 'quốc_khánh', 'và', 'noel.'], ['Đà', 'Lạt,', 'Nha', 'Trang,', 'Đà', 'Nẵng', 'và', 'Hà', 'Nội.'], ['Đà', 'Lạt'], ['Đến', 'Đà', 'Lạt'], ['Lối', 'sống', 'của', 'địa_phương', 'đó,', 'lịch_sử', 'cũng_như', 'các', 'phong_cảnh', 'mới'], ['Đang', 'tính', 'đi', 'Tây', 'Bắc'], ['Tham', 'quan', 'Mộc', 'Châu', 'với', 'Sapa'], ['Đi', 'máy_bay', 'từ', 'Sài', 'Gòn', 'đến', 'Hà', 'Nội,', 'Mộc', 'Châu', '2', 'ngày,', 'ở', 'Sapa', '2', 'ngày,', 'Hà', 'Nội', '1', 'ngày'], ['Khoảng', '10', 'triệu'], ['Không,', 'chỉ', 'tiền', 'khách_sạn'], ['có'], ['Tháng', '4'], ['1', 'tuần'], ['Đi', 'Hà', 'Nội'], ['Có'], ['Đà', 'Lạt'], ['tháng', '6', 'đi'], ['chắc', 'khoảng', '1', 'tuần'], ['lên', 'đó', 'tránh', 'nóng'], ['biển', 'đi', 'hoài', 'à'], ['Đà', 'Lạt'], ['tháng', '6', 'đi'], ['1', 'tuần', 'đi'], ['Haha', 'thích', 'vậy'], ['Không', 'thích', 'nha'], ['Đi'], ['Đà', 'Lạt'], ['Thi', 'xong'], ['Ngắm', 'cảnh,', 'ăn', 'đặc_sản'], ['ok'], ['Đang', 'tính', 'đi', 'Tây', 'Bắc'], ['Tham', 'quan', 'Mộc', 'Châu', 'với', 'Sapa'], ['Đi', 'máy_bay', 'từ', 'Sài', 'Gòn', 'đến', 'Hà', 'Nội,', 'Mộc', 'Châu', '2', 'ngày,', 'ở', 'Sapa', '2', 'ngày,', 'Hà', 'Nội', '1', 'ngày'], ['Khoảng', '10', 'triệu'], ['Không,', 'chỉ', 'tiền', 'khách_sạn'], ['Covid', 'thì', 'ở', 'nhà', 'chứ', 'chơi_bời', 'gì'], ['Không'], ['Hết', 'tiền'], ['Ờ'], ['Hè'], ['Dịch', 'quá', 'không', 'đi.'], ['vote', 'Đà', 'Lạt'], ['ngủ', 'mát', 'mà'], ['hì_hì'], ['cũng', 'ok', 'đó'], ['đi', 'sớm', 'sớm', 'đi'], ['20', 'tết'], ['Phan', 'thiết'], ['Mùng', '3', 'tết'], ['Tụi', 'mình'], ['Rồi'], ['Trắng', 'đen'], ['Nha', 'Trang'], ['Sau', 'Tết'], ['mực,', 'ốc'], ['tham_quan', 'Vinpearl'], ['dạo', 'biển'], ['có'], ['có'], ['ừ'], ['có'], ['có'], ['có'], ['Daklak', ',', 'Ninh', 'Thuận', ',', 'Đà', 'Nẵng', '...'], ['Có', 'nhưng', 'đi', 'hết', 'trong_nước', 'đã.'], ['Hè,', 'các', 'ngày_lễ', 'đc', 'nghỉ', 'dài'], ['bạn_bè'], ['Vì', 'thích', 'không_khí', 'ở', 'những', 'nơi', 'đi', 'qua,', 'mát', 'mẻ,', 'trong', 'lành...'], ['ok', 'ở', 'đâu'], ['vịnh', 'hạ', 'long', 'được', 'đó'], ['làm', 'chuyến', 'du', 'lịch', 'luôn', 'thôi'], ['đi', 'luôn'], ['ok', 'dạo', 'này', 'tao', 'hơi', 'nghiệp'], ['không'], ['tết'], ['không'], ['không'], ['không'], ['2', 'thàng', 'trước'], ['Bà', 'Nà', 'Hill'], ['phong_cách', 'châu_âu'], ['rồi'], ['đi', 'rồi,', '4', 'tháng', 'trước'], ['có', 'cảnh', 'đẹp,', 'không_khí', 'tốt'], ['lạnh'], ['Phan', 'thiết'], ['Mùng', '3', 'tết'], ['Tụi', 'mình'], ['Rồi'], ['Trắng', 'đen'], ['cotton'], ['có'], ['M'], ['mua', '5', 'cái', 'trở_lên', 'thì', 'được', 'giảm_giá'], ['69', 'phần_trăm'], ['Chưa', 'đâu,', 'hiện_tại', 'tôi', 'vẫn', 'thích', 'chiếc', 'điện_thoại', 'của', 'tôi.'], ['Không'], ['Tôi', 'mua', 'vào', 'cuối_năm'], ['Tôi', 'chỉ', 'sắm', 'khi', 'cần_thiết'], ['không'], ['không'], ['samsung'], ['có'], ['không'], ['có'], ['Chưa.'], ['iPhone', '8', 'plus'], ['Chưa.'], ['iPhone', '8', 'plus'], ['Chưa', 'đâu,', 'hiện_tại', 'tôi', 'vẫn', 'thích', 'chiếc', 'điện_thoại', 'của', 'tôi.'], ['Không', 'đâu,', 'tôi', 'ít', 'khi', 'đi', 'mua', 'quần_áo', 'lắm.'], ['Tôi', 'chỉ', 'đi', 'mua', 'quần_áo', 'vào_khoảng', 'thời_gian', 'cuối', 'năm.'], ['Tôi', 'chỉ', 'sắm_sửa', 'khi', 'thấy', 'món_đồ', 'đó', 'thật_sự', 'cần', 'thiết.'], ['mày', 'biết', 'chỗ', 'nào', 'bán_đồ', 'okay', 'không'], ['okay', 'vậy', 'đi', 'thử'], ['biết'], ['vậy', 'cũng', 'được'], ['điện_thoại', 'tao', 'mới', 'hư', 'rồi'], ['ừ', 'mày'], ['ừ', 'tao', 'đang', 'phân_vân', 'con', 'iphone', '12', 'promax', 'với', 'con', 's21', 'ultra', 'đây'], ['haha'], ['giỡn', 'á'], ['chắc', 'mua', 'tầm', '5', 'triệu', 'đổ', 'lại', 'thôi'], ['ừ', 'mày'], ['okay', 'mày'], ['Chưa.'], ['SamSung', 'Note', '9.'], ['ip', 'mới', 'ra', 'thị_trường'], ['cũng', 'thường', 'thôi'], ['nokia'], ['chưa'], ['ok'], ['tao_thích', 'mặc', 'sơ_mi', 'nên', 'hay', 'mua', 'ở', 'MAZZOLA'], ['ra', 'uniqlo', 'đi'], ['tao', 'không', 'khoái', 'apple', 'lắm', 'nên', 'sẽ', 'ủng_hộ', 'samsung.'], ['samsung_galaxy_note', '20', 'ultra', 'nha'], ['ra', 'store', 'mua,', 'đừng_có', 'shoppee', 'hay', 'tiki', 'là', 'được'], ['Còn'], ['300k', 'ạ'], ['Ib', 'ạ'], ['Không', 'ạ'], ['Có', 'ạ'], ['Màu', 'gì', 'đấy?'], ['Nhiêu', 'tiền?'], ['Rửa', 'nhanh', 'còn', 'kịp'], ['chip', 'ok', 'luôn,', 'chơi_game', 'mượt'], ['tao', 'thấy', 'shop', 'kia', 'bán', 'háng', 'onl', 'khá', 'ổn', 'nè.'], ['ngon', 'đấy,', 'cho', 'cái', 'địa_chỉ', 'bạn', 'ơi.'], ['được', 'nha,', 'cho', 'tao', 'thông_tin', 'ổng', 'với.'], ['chốt', 'cho', 'tao', 'cái', 'quần_jean', 'đen', 'với.'], ['500', 'ngàn'], ['không'], ['xịn'], ['10', 'triệu'], ['không'], ['dịp_lễ'], ['tiền_mặt'], ['ngay', 'bây_giờ'], ['vẫn', 'còn'], ['áo_len', 'dày_dặn'], ['có', 'đầy_đủ', 'size'], ['size', 'xxl'], ['có', '3', 'màu,', 'đen,', 'trắng,', 'xanh_đen'], ['299k'], ['vẫn', 'còn'], ['12', 'tháng'], ['có'], ['3', 'ngày'], ['50000'], ['Màu', 'gì', 'đấy?'], ['Nhiêu', 'củ?'], ['Rửa', 'nhanh', 'còn', 'kịp'], ['mua', 'rồi'], ['shopee'], ['nhiều', 'lắm'], ['có'], ['sịp', 'ren'], ['có'], ['chuột', 'không', 'dây'], ['giày', 'chạy_bộ'], ['có'], ['freeship'], ['nhanh', 'lắm'], ['200', 'nghìn_đồng'], ['có'], ['6', 'tháng'], ['1', 'tháng', 'trước'], ['polyme'], ['việt_nam'], ['không'], ['ở', 'Aeon', 'Tân', 'Phú'], ['vải', 'cotton'], ['mua', 'ở', 'Phong', 'Vũ'], ['hàng', 'của', 'Nike'], ['mày', 'lên', 'thư_viện', 'mua'], ['hãng', 'Marshall'], ['ở', 'ChoiGuitarShop'], ['Có', 'nhiều', 'lắm'], ['Có'], ['Jean,', 'len,...'], ['Tùy', 'loại'], ['Có'], ['400000'], ['Len'], ['Có'], ['Có'], ['30000'], ['Không'], ['55', 'Phan', 'Châu', 'Trinh,', 'Đà', 'Nẵng'], ['90', 'nghìn', 'đồng'], ['size', 'vừa', 'và', 'nhỏ'], ['vị', 'dâu'], ['lớn', 'thoải', 'mái', 'hơn', 'nhỏ', 'đẹp', 'hơn'], ['ngon', 'mà', 'mua', '2', 'ly', 'đi'], ['mua', 'đi', 'đẹp', 'mà'], ['Có', 'bạn', 'nhé.'], ['Bạn', 'tham_khảo', 'vài', 'đôi', 'giày', 'của', 'Adidas', 'nhé.'], ['Có', 'chứ.'], ['Hàng', 'vừa', 'về', 'luôn', 'bạn.'], ['1', 'triệu_rưỡi', 'một_đôi'], ['Ở', 'Sài', 'Gòn'], ['Ship', 'toàn_quốc', 'nhé.'], ['Phí', 'ship', 'ngoại_thành', 'Sài', 'Gòn', 'là', '30k.'], ['Trong', 'vòng', '3', 'ngày'], ['Thanh', 'toán', 'trực_tiếp', 'cho', 'shipper'], ['tao', 'không', 'biết,', 'ra', 'thế_giới', 'di_động', 'mà', 'xem.'], ['ngon,', 'bền'], ['Macbook', 'hoặc', 'Dell'], ['tao', 'quên', 'rồi'], ['được', 'thì', 'Macbook'], ['tùy', 'theo', 'nhà_sản_xuất'], ['ra', 'thế_giới', 'di_động', 'hỏi'], ['18', 'triệu'], ['ổn'], ['2', 'năm'], ['không'], ['đang', 'khuyến_mãi', 'tết'], ['mình', 'muốn', 'mua_laptop'], ['mình', 'muốn', 'mua', 'của', 'Dell'], ['mình', 'muốn', 'mua_laptop', 'dòng', 'gaming'], ['mình', 'có_thể', 'mua', 'tầm', '15-20', 'triệu'], ['mình', 'cần', 'nó', 'đủ', 'mạnh', 'để', 'học', 'IT'], ['mình', 'cần', 'mấy', '8gb', 'và', 'ở', 'cứng', 'SSD'], ['250k'], ['bền'], ['không'], ['5'], ['không'], ['2'], ['20', 'triệu'], ['core', 'i9'], ['máy', 'cũ'], ['amd'], ['uy_tín', 'luôn'], ['Vâng', 'để', 'mình', 'kiểm_tra', 'kho', 'ạ'], ['Ở', 'cuối', 'dãy', 'quần', 'kaki'], ['Dĩ', 'nhiên', 'rồi'], ['Của', 'bạn', 'đây'], ['Rất', 'tiếc,', 'trong', 'kho', 'không', 'còn', 'loại', 'màu', 'bạn', 'yêu_cầu'], ['Phong', 'Vũ'], ['Tiệm', 'tạp_hóa', 'chứ', 'đâu'], ['Thử', 'đi_rồi', 'biết'], ['Đẹp', 'thế,', 'đưa', 'tao'], ['Siêu', 'thị,', 'văn_phòng_phẩm', 'chứ', 'đâu'], ['mua', 'ở', 'GearVN'], ['bệnh_viện', 'Điện', 'Biên', 'Phủ'], ['ZombieShop'], ['YameShop'], ['Bitis'], ['có'], ['có'], ['có'], ['500', 'dollar'], ['cotton'], ['rất', 'sẵn', 'lòng.'], ['vẫn', 'còn', 'ạ.'], ['đúng', 'rồi'], ['cần', 'mua', '1', 'con', 'lap', 'giá', 'cỡ', '13', '14', 'triệu'], ['cỡ', 'i5', 'đời', '9', 'trở_lên'], ['những', 'con', 'lap', 'cỡ', 'đó', 'là', 'từ', '16', 'tr', 'đổ', 'lên'], ['đợi', 'chút'], ['cũng', 'được,', 'mình', 'đặt', '1', 'cái', 'này'], ['26/19/57/6', 'lâm_hoành', 'phường', 'an_lạc', 'quận', 'bình_tân'], ['Đồ', 'điện_tử'], ['Asus,', 'MSi,', 'Apple,', 'Acer,', 'Lenovo,...'], ['Có'], ['Có'], ['6', 'tháng,', '12', 'tháng', 'đến', '3', 'năm'], ['Có'], ['asus'], ['cân_bằng', 'giữ', 'học', 'và', 'chơi'], ['tao', 'nghĩ', 'là', 'Macbook'], ['còn'], ['size', 'L'], ['sản_phẩm', 'nào'], ['480k', 'sale', 'còn', '480k'], ['mua.'], ['áo', 'len.'], ['vitage.'], ['XL.'], ['250k.'], ['Được.'], ['Đâu', 'cũng', 'được.'], ['không', 'đổi', 'được.'], ['Asus,', 'Acer,', 'Dell,...'], ['Có'], ['trên', '20', 'triệu.'], ['tai', 'nghe,', 'chuột,', 'và', 'lót', 'chuột'], ['Được.'], ['225', 'ngàn'], ['giá', 'vậy', 'hợp', 'rồi'], ['đẹp'], ['ổn'], ['lâu', 'khô', 'lắm'], ['Mua', 'đồ', 'online', 'đi', 'nè.'], ['Mua', 'đồ', 'online', 'đi', 'nè.'], ['Mua', 'lựa', 'shop', 'cho', 'đổi', 'trả,', 'hoàn', 'tiền.'], ['Bóc', 'phốt.'], ['Tìm', 'mã', 'giảm_giá', 'hoặc', 'là', 'không', 'mua', 'nữa.'], ['đăng_ký', 'tại', 'phòng'], ['110', 'nghìn'], ['gdtc', '1', 'và', '2'], ['có'], ['phòng', 'thể_dục_thể_thao', 'sau', 'sân', 'bóng'], ['trên', '20', 'triệu'], ['tòa', 'A,', 'F'], ['đem', 'theo', 'laptop'], ['điện_thoại', 'hãng', 'gì'], ['Loại', 'gì', 'bạn'], ['Bạn', 'chọn', 'màu', 'gì'], ['Bộ', 'nhớ', 'bao_nhiêu'], ['Thanh', 'toán', 'như_thế_nào'], ['Asus,', 'Dell,', 'macbook,...'], ['Asus', 'inspire,', 'Asus', 'v100,...'], ['chọn', 'thế_hệ', 'core:', 'i3,', 'i5,', 'i7,...'], ['5-7', 'triệu', 'cho', 'máy', 'cũ,', 'và', '9-11', 'triệu', 'cho', 'máy', 'mới'], ['Nha', 'Trang,', 'Hồ', 'Chí', 'Minh,', 'Hà', 'Nội,', 'Bình', 'Dương'], ['S,', 'M,', 'L,', 'XL'], ['500000', 'đồng'], ['XL', 'hoặc', 'XXL', 'tùy', 'vào', 'chiều_cao'], ['còn', 'nha', 'bạn'], ['tphcm,', 'hà_nội', 'thì', 'có,', 'còn', 'lại', 'không'], ['2', 'ngày', 'nữa', 'nhé'], ['mẫu', 'này', 'được', 'nhiều', 'người_mua', 'nè', 'bạn'], ['chụp', 'giúp', 'ad', 'hóa_đơn'], ['Hp'], ['Phong', 'Vũ'], ['15', 'triệu'], ['RAM', '8G,', 'core', 'i5'], ['Hơn', '1', 'năm'], ['laptop'], ['acer'], ['Phong', 'Vũ'], ['1', 'năm'], ['8gb'], ['256gb'], ['có'], ['Phải'], ['20', 'triệu', 'đổ', 'lại'], ['Bền'], ['Nhẹ'], ['1', 'năm'], ['Có'], ['ngoài', 'chợ'], ['200k'], ['vải', 'ok', 'lắm'], ['quần'], ['thường'], ['13', 'triệu'], ['không', 'mắc', 'đâu'], ['hết', 'rồi'], ['Laptop'], ['lúc_nào', 'cũng', 'có'], ['có_em', 'ạ'], ['có'], ['thảo', 'điền', 'q2'], ['100m2'], ['5', 'phòng'], ['tầm', '5', 'tỷ'], ['nhiều'], ['có', 'chứ'], ['rất', 'rộng'], ['sang_trọng'], ['ừ,', 'đời_mới', 'mà'], ['nếu', 'mày', 'giàu', 'thì', 'mày', 'mua'], ['thì', 'mày', 'đi_làm'], ['không', 'làm', 'mà', 'muốn', 'có_ăn', 'thì', 'chỉ', 'có_ăn', 'chực', 'ăn', 'ké'], ['tự', 'kiếm', 'đi', 'mày'], ['Hãng', 'nào', 'mày'], ['Nhiều', 'lắm'], ['Mặc', 'đi_chơi'], ['Được'], ['Dòng', 'nào?'], ['Có', 'chứ.'], ['HG.'], ['250k', 'tới', '1', 'củ.'], ['OK', 'man.'], ['Không', 'mua', 'trả', 'góp.'], ['đỏ'], ['vàng'], ['đen'], ['cam'], ['trắng'], ['trắng'], ['trắng'], ['đen'], ['xanh_lá'], ['hồng'], ['Còn'], ['Đen', 'và', 'trắng'], ['2', 'năm'], ['Balo', 'samsung', 'với', 'dán', 'màn_hình', 'miễn_phí'], ['Tiền', 'mặt', 'hoặc', 'qua', 'thẻ'], ['Có', 'trả_góp', 'lãi_suất', '0%'], ['Được.', 'Giờ', 'mày', 'cần', 'máy', 'để', 'làm', 'gì?'], ['Budget', 'mua', 'máy', 'của', 'mày', 'là', 'bao', 'nhiêu?'], ['10', 'triệu', 'chắc', 'đủ', 'mua', 'máy', 'tằm', 'thấp.'], ['Chơi', 'game', 'nhẹ', 'được,', 'game', 'nặng', 'là', 'phải', 'giảm', 'đồ_họa', 'hết', 'cót', 'có_khi', 'vẫn', 'còn', 'lết.'], ['Máy', '10', 'triểu', 'cao', 'lắm', 'chi', 'được', 'CPU', '4', 'nhân,', 'GPU', 'tầm', 'AMD', 'rx470', 'hoặc', 'Nvidia', 'GTX1050.'], ['Máy', '15', 'triệu', 'có_thể', 'mua', 'được', 'best', 'selling', 'trên_amazon', 'rồi.'], ['CPU', '6', 'nhân,', 'GPU', 'RX580', 'hoặc', 'GTX1660,', 'RAM', '16GB.'], ['Tùy,', 'SSD', 'làm', 'ổ', 'boot', 'máy,', 'chơi_game', 'với', 'làm_việc', 'rất', 'trơn', 'chu.'], ['Mua', 'SSD', 'Sata3', 'truyền_thống', 'thôi,', 'M.2', 'PCI-e', 'chỉ', 'khi', 'mày', 'cần', 'truy', 'xuất,di', 'chuyển', 'dữ_liệu', 'nhanh_nhất', 'hoặc', 'muốn', 'đốt', 'tiền.'], ['iPhone'], ['trên', 'Shopee'], ['trên', 'Shopee'], ['mua', 'Android'], ['Uniqlo'], ['120k'], ['Còn'], ['Nội', 'địa', '15k,', 'Tỉnh', 'lẻ', '35k'], ['Chuyển', 'khoản'], ['Trung', 'Quốc'], ['không'], ['mua'], ['11', 'Pro'], ['đen'], ['512', 'GB'], ['Trả', 'góp'], ['không'], ['mua'], ['12', 'Promax'], ['xanh_đen'], ['512', 'GB'], ['Trả', 'góp'], ['Vietcombank'], ['không'], ['bạn', 'muốn', 'mua', 'gì'], ['dài', 'hay', 'ngắn'], ['lên', 'tầng', '1', 'đi'], ['chúc', 'ngày_mới', 'vui', 'vể'], ['Iphone', '12', 'PROMAX', 'đi'], ['Cực', 'mạnh'], ['35', 'triệu'], ['Mua', 'áo_dài', 'đi'], ['Cách', 'Tân'], ['500.000', 'đ'], ['Ổn', 'đấy'], ['Adidas', 'được', 'đó.'], ['Xiaomi.'], ['Cũng', 'tạm', 'ổn.'], ['Ừm.', 'Không', 'thích', 'áo', 'thun.'], ['Ừm,', 'thích.'], ['Không', 'thích.'], ['Iphone', '12'], ['128gb'], ['Thế', 'giới', 'di_động'], ['Quận', '1'], ['Tiền', 'mặt'], ['còn'], ['hết', 'rồi'], ['12', 'tháng'], ['Free', 'ship'], ['2-3'], ['Iphone', '12', 'PROMAX', 'đi'], ['Cực', 'mạnh'], ['35', 'triệu'], ['Mua', 'áo_dài', 'đi'], ['500.000', 'đ'], ['ừa'], ['oppo'], ['ok'], ['Nguyễn', 'Kim'], ['đẹp'], ['Đúng', 'vậy'], ['Kiểu', 'đường_phố'], ['Không'], ['iphone', '12'], ['Cửa', 'hàng', 'LEVIS', 'gần', 'trung_tâm', 'Quận', '1'], ['không'], ['mua'], ['11', 'Pro'], ['đen'], ['512', 'GB'], ['Trả', 'góp'], ['Ở', 'phong_vũ'], ['21', 'triệu'], ['Cũng', 'được'], ['Được', '1', 'tháng'], ['có'], ['có'], ['tuỳ', 'vào', 'dung_lượng'], ['có'], ['hết', 'hàng', 'rồi'], ['đợi', 'chút'], ['Dạ,', 'xin', 'chào'], ['Dạ,', 'có'], ['Dạ,', 'cotton'], ['Dạ,', 'nhiều', 'ạ'], ['Lần', 'đầu', 'anh', 'nên', 'giặt', 'tay'], ['Vấn', 'đề', 'này', 'có', 'ạ'], ['Hiện', 'tại', 'bên_em', 'mua', '1', 'tặng', '1', 'ạ'], ['Dạ,', '2', 'áo', 'XL', 'nha', 'anh'], ['Dạ'], ['700k'], ['1500k'], ['Có'], ['Có'], ['Mở', 'nguồn', 'lên', 'sài'], ['Chào', 'bạn,', 'hiện', 'tại,', 'shop', 'vẫn', 'còn', 'Samsung', 'Galaxy', 'S20', 'với', 'các', 'màu', 'xanh,', 'hồng', 'và', 'đen'], ['13', 'triệu', 'nha', 'bạn'], ['Đúng', 'rồi', 'bạn'], ['Tổng', 'hóa_đơn', 'là', '13,2', 'triệu.', 'Tổng', 'tiền', 'cho', 'ốp', 'lưng', 'và', 'sạc', 'dự_phòng', 'là', '400k,', 'áp_dụng', 'khuyến_mãi', 'còn', '200k'], ['Đơn', 'hàng', 'của', 'bạn', 'là', '13,2', 'triệu', 'gồm', '1', 'Samsung', 'Galaxy', 'S20,', '1', 'ốp', 'lưng,', '1', 'cục', 'sạc', 'dự_phòng'], ['Ốm', 'thì', 'mua', 'áo', 'tay', 'dài,', 'mập', 'thì', 'mua', 'áo', 'tay', 'ngắn'], ['A&G,', 'Mr.Simple,', 'Routine,...'], ['jean', 'tao', 'không_biết', ':))'], ['Thử', 'G102'], ['Tiki'], ['Tao', 'hong', 'biết'], ['Thế', 'giới', 'di_dộng'], ['Lên', 'mấy', 'shop_online', 'coi', 'thử'], ['để', 'tao', 'kím', 'cho', 'vài', 'dòng'], ['tiền', 'đâu', 'mua.', 'cho', 'tiền', 'tao', 'mua', 'đi'], ['trâu_bò', 'lắm', 'luôn'], ['ok,', 'mai', '9h', 'đi'], ['Iphone', '12', 'PROMAX', 'đi'], ['Cực', 'mạnh'], ['35', 'triệu'], ['Mua', 'áo_dài', 'đi'], ['Cách', 'Tân'], ['500.000', 'đ'], ['có', 'tiền', 'mới', 'đi'], ['quần', 'áo,', 'đồ', 'điện_tử'], ['áo_thun'], ['jeans', 'dài'], ['Vincom', 'Đồng', 'Khởi'], ['iphone'], ['được'], ['3', 'năm', 'rồi'], ['tầm_trung', 'của_thị', 'trường', 'smnartphone', 'hiện_giờ'], ['camera', 'nó', 'chân_thực'], ['6', 'tr'], ['3', 'tr'], ['300k'], ['IOS', 'vẫn', 'tốt'], ['Gặp', 'đâu', 'sale', 'vào', 'đó', 'mua'], ['Có'], ['tao', 'đổi', 'qua', 'iphone', '13', 'rồi'], ['hãng', 'nào', 'cũng', 'tốt'], ['áo', 'này', 'dược', 'đó'], ['mua', 'cái', 'mới', 'đi'], ['iphone'], ['không'], ['cho', 'tao', 'xem'], ['cho', 'tao', 'xem', 'đã'], ['Size', 'bao_nhiêu'], ['samsung'], ['cho', 'tao', 'xem_đi'], ['Chọn', 'Xiaomi', 'redmi_note', '8', 'đi'], ['chọn', 'Samsung', 'Galaxy', 'A12', 'đi'], ['mặc_đầm', 'hơi', 'xiết', 'eo', 'để', 'dấu', 'bụng', 'á'], ['Macbook', 'đi'], ['Cực', 'mạnh'], ['50', 'triệu'], ['Mua', 'áo_dài', 'đi'], ['Cách', 'Tân'], ['500.000', 'đ'], ['hết', 'tiền', 'rồi'], ['làm_biếng', 'lắm'], ['đi', 'mà', 'mày', 'bao'], ['đi'], ['quất'], ['đi', 'đâu'], ['ai', 'biết', 'nó'], ['rồi'], ['rồi'], ['mốt'], ['không'], ['oke'], ['không'], ['đọc', 'sách,', 'nghe_nhạc'], ['ở', 'Cộng', 'cà_phê'], ['rồi'], ['trường', 'Hùng', 'Vương'], ['ngày', 'nào', 'rảnh', 'thì', 'dẫn', 'đi'], ['đi', 'coi', 'phim'], ['không'], ['Đi', 'chơi'], ['Ăn', 'uống,', 'chơi_game'], ['Ngoài', 'đường'], ['Thỉnh', 'thoảng'], ['Mì', 'tôm'], ['Có'], ['Bạn', 'chung', 'lớp'], ['Tất', 'nhiên', 'là', 'đẹp'], ['Rồi'], ['Không', 'biết'], ['Đi', 'cafe'], ['Thỉnh', 'thoảng'], ['Gần', 'nhà'], ['Bạn', 'bè'], ['Còn'], ['Xem', 'phim'], ['Ấm', 'áp,', 'thông', 'minh.'], ['Nơi', 'náo', 'nhiệt.'], ['Thỉnh', 'thoảng'], ['Chưa'], ['Có'], ['Là', 'người', 'thông_minh'], ['Có'], ['đi', 'ăn'], ['nghe', 'chứ'], ['không', 'bao', 'giờ'], ['đọc', 'sách'], ['KFC', 'đi'], ['thích', 'con', 'gái', 'dễ', 'thương'], ['có', 'thích'], ['tên', 'Long'], ['bày', 'tỏ', 'đi'], ['thử', 'cho', 'biết'], ['Ngồi', 'không', 'thôi'], ['Chút', 'nữa', 'đi', 'ăn_vặt', 'uống', 'cà', 'phê.'], ['Ừ.', 'Cho', 'thư_giãn', 'ấy', 'mà.'], ['Yên', 'tĩnh', 'lắm.'], ['Lâu', 'lâu', 'có', 'đi', 'xem_phim', 'hoặc', 'phượt.'], ['Không.', 'Đi', 'với', 'bạn_bè', 'này', 'kia.'], ['Xem', 'ở', 'rạp', 'cho', 'đã'], ['Có', 'phim', 'hay', 'thì', 'đi', 'coi.'], ['Đang', 'buồn'], ['Ừ'], ['Nhân', 'viên', 'ở', 'quán', 'cà_phê', 'tao', 'hay', 'đến.'], ['Quen', 'lâu', 'rồi.', 'Quán', 'quen', 'mà.'], ['Từ', 'vóc_dáng', 'đến', 'tính', 'cách.'], ['ừ'], ['Tỏ', 'tình', 'nó', 'mà', 'nó', 'bảo', 'chưa', 'quyết_định', 'được'], ['Đến', 'khi', 'nào', 'nó', 'đưa_ra', 'câu', 'trả_lời', 'thì', 'thôi.'], ['ở', 'nhà_ngủ'], ['bài_tập', 'còn', 'nhiều', 'lắm'], ['không', 'mày'], ['ở', 'nhà', 'xem_phim'], ['đi', 'mua_sắm'], ['đi', 'du_lịch'], ['có', 'chứ'], ['nghe_nhạc'], ['chơi_với', 'mèo'], ['quên', 'nó', 'đi'], ['chắc', 'là', 'có'], ['gây', 'ấn_tượng', 'tốt'], ['hãy', 'là', 'chính_mình'], ['có', 'nha'], ['nói', 'về', 'những', 'điều', 'nó', 'thích'], ['mày', 'không', 'phải', 'gu', 'nó'], ['crush', 'người', 'khác'], ['chơi_game', 'hoặc', 'xem_phim'], ['hành_động'], ['avenger', 'end', 'game'], ['có'], ['có'], ['tạo', 'cảm_giác', 'an_tâm', 'cho', 'người', 'ta'], ['nói', 'cái', 'gì', '2', 'bay', 'thích?'], ['ăn', 'với', 'xem_phim'], ['tự_lập'], ['không'], ['mình', 'thường', 'đi_chơi'], ['mình', 'thường', 'đi_chơi', 'net'], ['có', 'mình', 'thường', 'đi_chơi', 'với', 'bạn_bè'], ['mình', 'đọc', 'truyện', 'xem_phim'], ['mình', 'xem', 'bài_học', 'cho', 'ngày_mai'], ['có', 'mình', 'hay', 'đi', 'ăn', 'với', 'bạn_bè'], ['mình', 'chưa', 'có', 'crush'], ['mình', 'thích', 'người', 'hiền_lành'], ['là', 'người', 'hoạt', 'bát,vui', 'vẻ,', 'hiền_lành'], ['khi', 'mình', 'học', 'xong'], ['mình', 'thích', 'con_gái'], ['chơi_game'], ['không'], ['có'], ['chơi_game'], ['chạy_bộ'], ['có'], ['đi', 'shopping'], ['có'], ['chưa'], ['có'], ['chơi_game'], ['lâu_lâu', 'đi'], ['không', 'thích'], ['có', 'chứ'], ['không', 'đi'], ['đẹp'], ['chưa', 'có'], ['mày', '<3'], ['không'], ['yêu', 'luôn'], ['Tao', 'chơi_game'], ['Chơi', 'ở', 'nhà', 'chứ', 'ở', 'đâu'], ['Không', 'm'], ['Tao', 'lười', 'lắm'], ['Oke', 'luôn'], ['Quỳnh', 'thích', 'ăn_bánh', 'tráng', 'trộn'], ['Chắc', 'là', 'trà', 'tắc'], ['Sao', 'mày', 'hỏi', 'về', 'cái', 'Quỳnh', 'vậy', '?'], ['Á_à', 'thì_ra', 'mày', 'crush', 'Quỳnh', 'phải', 'không', '?'], ['Oke', 'he_he'], ['Đọc', 'sách'], ['Đôi_khi'], ['Tiệm', 'cà_phê'], ['Đang', 'muốn', 'thử', 'đây'], ['Ở', 'nhà', 'chứ', 'ở', 'đâu'], ['Đọc', 'sách'], ['Có'], ['Thường', 'xuyên', 'luôn'], ['Nếu', 'có', 'tiền', 'chứ'], ['Điều', 'hiển_nhiên'], ['Đã', 'từng'], ['Đẹp,', 'siêng', 'năng,', 'có', 'chí'], ['Đẹp_trai', 'lắm', 'mày', 'ạ'], ['Nhiều', 'lần', 'lắm', 'mày', 'ơi'], ['Tao', 'nghĩ', 'là', 'không_thể'], ['Không', 'có', 'quan_điểm'], ['Có', 'lẽ'], ['Tất', 'nhiên', 'rồi'], ['Nhiều', 'lắm', 'mày', 'ạ'], ['Ghét'], ['chơi', 'game,', 'nghe_nhạc'], ['thỉnh_thoảng'], ['CGV'], ['GTAV'], ['Rap'], ['Trừ', 'nó', 'ai', 'cũng', 'biết'], ['chân_thành'], ['Không'], ['fix', 'bug'], ['Dễ', 'thương'], ['mình', 'rảnh'], ['ok'], ['yes'], ['đang', 'bận', 'học', 'bài'], ['đang', 'bận'], ['đi', 'nhậu', 'nhé'], ['cưa', 'đổ', 'đi'], ['nó', '21'], ['đừng', 'mơ'], ['nó', 'có', 'người_yêu', 'rồi'], ['ngủ,', 'đi', 'Café'], ['những', 'quán', 'lề', 'đường.'], ['the', 'banned.'], ['có', 'nhưng', 'ít', 'khi', 'chơi.'], ['tới', 'thôi.'], ['làm', 'nhiều', 'việc', 'lắm'], ['xem', 'tivi,', 'chơi_game', 'và', 'nghe_nhạc'], ['bạn', 'rủ', 'tao', 'mới', 'đi'], ['để', 'làm', 'khảo_sát', 'cho', 'môn', 'tao', 'đang', 'học'], ['ok'], ['cũng', 'được'], ['dễ', 'mà'], ['khoa_lao', 'động', 'công_đoàn'], ['lúc', 'học', 'thái_độ', 'sống', '3'], ['chưa', 'luôn'], ['chơi_game', 'và', 'nghe_nhạc'], ['ở', 'nhà'], ['Nấu', 'ăn'], ['Đúng'], ['Có'], ['Học', 'bài', 'là', 'bận', 'rồi'], ['gia_đình'], ['đi', 'ăn_cùng', 'người_yêu'], ['Măn', 'lẩu,', 'món', 'lề_đường'], ['Có'], ['hoa_hồng'], ['không', 'có'], ['đi', 'cafe,', 'chơi_game'], ['có', 'chứ'], ['có,', 'cờ', 'nhân_phẩm'], ['tao', 'hay', 'đi', 'Đà', 'Lạt'], ['tao', 'đang', 'sưu_tầm', 'lego'], ['tao', 'cũng', 'hay', 'nấu_ăn', 'nếu', 'rãnh', 'mày', 'ơi'], ['hay', 'đi', 'phượt', 'chung'], ['có', 'chứ'], ['mới', 'tỏ_tình', 'bị', 'từ_chối'], ['bên', 'ngoài', 'đẹp_trai', 'bên', 'trong', 'nhiều', 'tiền'], ['friend', 'zone'], ['có', 'hay', 'nói', 'với', 'mấy', 'thằng', 'cùng', 'phòng'], ['đọc', 'sách.'], ['xem', 'phim.'], ['khoa_học', 'viễn', 'tưởng.'], ['rạp', 'hoặc', 'nhà.'], ['thỉnh', 'thoảng.'], ['không', 'thường_xuyên', 'lắm.'], ['có.'], ['bạn', 'bè.'], ['con', 'trai.'], ['cao.'], ['học', 'giỏi.'], ['ưa', 'nhìn.'], ['hiền,', 'ít', 'nói,', 'biết', 'quan', 'tâm.'], ['đọc', 'truyện,', 'xem', 'videos', 'và', 'chơi_game'], ['quán', 'cà', 'phê?'], ['đi', 'bơi'], ['Ở', 'hồ', 'bơi.'], ['chưa', 'đọc', 'bao', 'giờ.'], ['có'], ['Thanks.'], ['đã', 'có', 'người_yêu'], ['Chả', 'ai', 'yêu', 'người', 'xấu', 'cả'], ['2', 'năm'], ['ăn_uống', 'và', 'nói', 'chuyện.'], ['Không', 'biết'], ['có'], ['lâu', 'rồi'], ['không', 'dám'], ['không_biết'], ['tôn', 'trọng,', 'tinh', 'tế,', 'biết', 'để', 'ý,', 'rõ', 'ràng,', 'dứt', 'khoác.'], ['cao,', 'đẹp,', 'dễ', 'thương,', 'hơi', 'ngố'], ['không_biết'], ['cái', 'gì', 'ngon', 'là', 'ăn'], ['đồ', 'ngọt,', 'rau'], ['ngủ', 'nhiều'], ['gần', 'nhà', 'tớ'], ['8'], ['12'], ['đi', 'ăn_chung'], ['đi,', 'ăn', 'lẩu', 'teokbokki', 'đi'], ['đúng', 'rồi'], ['lười', 'nên', 'chưa', 'đánh', 'được'], ['không', 'thích', 'nấu'], ['mr.queen'], ['không'], ['nghe_nhạc', 'hoặc_ngủ'], ['nghe', 'nhạc,', 'xem_phim', 'hoặc', 'chơi_game'], ['thích', 'nhưng', 'vẽ', 'xấu', 'nên', 'không', 'vẽ'], ['xem', 'phim,', 'đi', 'ăn', 'hoặc', 'đi', 'du_lịch', 'cùng', 'nhau'], ['gì', 'cũng', 'được', 'miễn_là', 'cùng', 'người_yêu'], ['đâu', 'cũng', 'muốn'], ['không'], ['quan_tâm', 'và_yêu', 'thương', 'tao'], ['Tao', 'xem_phim', 'hoặc', 'chơi_game', 'gì', 'đó.'], ['Ngủ', 'hoặc', 'đi', 'ăn', 'gì', 'đó', 'ngon.'], ['Có', 'chứ,', 'mà', 'ai', 'thân', 'rủ', 'tao', 'mới', 'đi.'], ['Ăn', 'gì_thì', 'tùy_tâm', 'trạng', 'vui', 'buồn.'], ['Ai', 'rủ', 'thì', 'tao', 'đi,', 'chứ', 'đi', 'mình', 'buồn', 'lắm.'], ['Đi', 'ăn', 'gì', 'đó', 'ngon.'], ['Trong', 'tim', 'tao', 'nè.'], ['Mày', 'đoán', 'xem.'], ['Tặng', 'gì', 'ăn', 'ké', 'được'], ['Học', 'NLP'], ['cần', 'để', 'xét', 'tốt_nghiệp'], ['tham_gia', 'hoạt_động'], ['trên', 'hệ_thống', 'thông_tin', 'sinh_viên'], ['thỉnh_thoảng'], ['quán', 'cà_phê'], ['cảng', 'nhà_rồng'], ['thình', 'thoảng'], ['mobile'], ['độc_thân'], ['rồi'], ['có'], ['cuối', 'tháng'], ['không'], ['Chơi', 'game'], ['Liên', 'minh'], ['Không,', 'đánh', 'hạng'], ['Chưa'], ['Ok'], ['Rảnh'], ['Hỏi', 'đi'], ['Chung', 'lớp', 'hả'], ['Inbox', 'hỏi', 'bài', 'đi'], ['Thì', 'hỏi', 'bài_tập', 'trên', 'lớp,', 'rồi', 'bắt_chuyện'], ['Ngại', 'gì,', 'mạnh_dạn', 'lên'], ['thích', 'làm_gì', 'khi', 'rảnh', 'rỗi?'], ['thích_chơi', 'game', 'không?'], ['thích_chơi', 'bóng_rổ', 'hay', 'thích_chơi', 'game?'], ['có', 'hay', 'đi', 'coffee', 'với', 'bạn_bè', 'không?'], ['có', 'hay', 'đi', 'shopping', 'không?'], ['có', 'người_yêu', 'chưa?'], ['mẫu', 'người', 'lý', 'tưởng?'], ['thích', 'gái', 'cao', 'hay', 'gái', 'thấp?'], ['thích', 'gái', 'Bắc', 'hay', 'gái', 'Nam?'], ['có', 'người_yêu_cũ', 'không?'], ['tỏ_tình', 'với', 'ai', 'chưa?'], ['thích', 'đi', 'đâu', 'chơi_với', 'người', 'yêu?'], ['ok', 'bro'], ['nghe_nhạc', 'thôi'], ['thôi', 'tao', 'hết', 'tiền', 'rồi'], ['ok', 'luôn', 'nè'], ['the', 'coffee_house'], ['mày', 'xấu', 'như', 'chó', 'thì', 'ai', 'thèm', 'quen'], ['tự', 'nói_chuyện', 'một_mình', 'đi'], ['son', 'đi'], ['chưa', 'mày'], ['hình_như', 'rồi'], ['Xem', 'phim'], ['Có'], ['Bạn'], ['tối', 'thứ', '4', 'hàng', 'tuần'], ['Khu', 'Trung', 'sơn'], ['Đang', 'Crush', 'bạn', 'kia'], ['Bạn', 'nữ', 'phòng', 'bên'], ['đang', 'tìm_hiểu'], ['Tóc', 'ngắn,', 'cute'], ['Luật'], ['chơi_game'], ['nghe_nhạc'], ['có'], ['có'], ['nhà'], ['thỉnh_thoảng'], ['có'], ['chưa'], ['đứa', 'bạn_thân'], ['đẹp', 'gái,', 'hiền_lành'], ['có'], ['muốn'], ['có'], ['Covid', 'ở', 'nhà'], ['Covid', 'ở', 'nhà'], ['Covid', 'ở', 'nhà'], ['Covid', 'ở', 'nhà'], ['Ở', 'nhà'], ['Có'], ['Có'], ['Covid', 'ở', 'nhà'], ['Ngồi', 'trả_lời', 'bạn'], ['chơi'], ['đi'], ['có', 'chứ'], ['trong', 'trường'], ['vô', 'đi', 'đang', 'chờ'], ['đi'], ['thắng'], ['tụi', 'xóm', 'trên'], ['trong', 'cũng', 'xinh'], ['thôi', 'mày', 'ơi'], ['nhìn', 'cũng', 'ngon', 'đó'], ['chắc', 'không'], ['đẹp', 'với', 'ngoan'], ['nó', 'chả', 'thèm', 'nhìn', 'tao', 'nữa'], ['Đầy', 'chỗ', 'bạn', 'ạ.'], ['nhà', 'B', 'lầu', '5'], ['đi', 'đâu', 'cũng', 'thấy', 'nhé'], ['Dễ', 'nếu', 'bạn', 'giói', 'tán', 'gái'], ['chưa'], ['Không'], ['chơi_game'], ['liên_minh'], ['ở', 'nhà'], ['cũng', 'tạm'], ['đá_bóng'], ['không'], ['thỉnh_thoảng'], ['chưa'], ['có'], ['đẹp', 'chứ'], ['không'], ['công_viên'], ['xem_phim'], ['ăn_uống'], ['hơn', '5'], ['Có'], ['Nhiều'], ['Rất', 'tốt'], ['Vui', 'chứ'], ['Có', 'cũng', 'vui'], ['Cũng', 'được'], ['Không', 'đến_nỗi'], ['Đạt'], ['Trường'], ['Đi', 'ăn'], ['Cũng', 'không'], ['Mập'], ['Bến', 'Tre'], ['đi', 'ăn_chung', 'là', 'được'], ['cũng', 'nhiều'], ['chơi', 'được'], ['nhiều', 'quá', 'nhớ', 'không', 'hết'], ['thân', 'với', 'gái.'], ['buồn', 'thì', 'ăn', 'cho', 'hết', 'buồn'], ['cũng', 'có'], ['người', 'nhiều', 'tiền', 'dẫn', 'tao', 'đi', 'ăn'], ['Hồ', 'Chí', 'Minh'], ['chơi', 'được', 'thì', 'chơi'], ['ăn_uống'], ['thân', 'ai_nấy', 'lo'], ['Nhiều', 'bạn,'], ['1', 'vài', 'người.'], ['Không', 'có.'], ['1', 'người.'], ['1', 'vài', 'người'], ['Có.'], ['là', 'giang_hồ', 'nhất', 'xóm'], ['là', 'anh_em', 'có', 'họa', 'cùng', 'chỉa,', 'có', 'sướng', 'cùng', 'hường.'], ['tuy', 'không', 'nhiều', 'nhưng', 'được_cái', 'ít'], ['họ', 'nghĩ', 'tôi', 'là', 'một', 'chú_hề'], ['đó', 'là', 'sự', 'tấu', 'hài', 'của', 'những', 'chú_hề'], ['họ', 'diễn', 'hề', 'cho_tôi', 'vui'], ['bạn', 'tao', 'ở', 'Sài', 'Gòn', 'luôn'], ['không', 'nhiều'], ['tâm', 'chục', 'đứa'], ['ít', 'bạn', 'vui'], ['nhiều', 'bạn', 'hơi', 'chán'], ['nhiều', 'chứ'], ['đi', 'ăn_đi', 'cà_phê', 'thôi'], ['chơi', 'chung', 'bạn', 'cấp', '3', 'ở', 'đây'], ['gặp', 'nhiều'], ['điên_điên', 'khùng_khùng'], ['đám', 'bạn', 'mình', 'là', 'dơ'], ['tên', 'Đạt'], ['Có'], ['Tốt'], ['bạn', 'thì', 'ít', 'nhưng', 'bè', 'thì', 'nhiều', ':))'], ['thường', 'tui', 'đi_chơi', 'với', 'mấy', 'đứa', 'bạn', 'tui', 'thân', 'nhất'], ['game'], ['hôm_qua'], ['Ít', 'lắm'], ['Thà', 'ít', 'mà', 'chất_lượng'], ['Bị', 'rồi', ':)))'], ['Rồi'], ['không'], ['như', 'cớt'], ['chán'], ['hơi', 'rộng.'], ['hút', 'thuốc.'], ['có', 'thuốc', 'là', 'được.'], ['No', 'idea'], ['Không', 'đếm', 'được'], ['Có'], ['nó', 'đi_bán', 'muối', 'rồi'], ['Ui', 'nguyên', 'một', 'đám'], ['Một', 'lũ', 'nghiện', 'game', 'thì', 'mày', 'nghĩ', 'nó', 'hay', 'chơi', 'thể_thao', 'lắm', 'à'], ['Hầu', 'hết', 'đều', 'bị', 'lên', 'cơn,', 'một_ngày', 'chục', 'lần', 'là', 'đã', 'ít', 'lắm', 'rồi'], ['tạch_tạch', 'tạch'], ['biết_điều'], ['có'], ['có'], ['nó', 'cắn', 'chứ', 'không', 'có', 'chơi', 'chó', 'với', 'tao'], ['15', 'năm'], ['Cũng', 'không_biết', 'nữa'], ['Khùng', 'điên'], ['Đi', 'cà_phê'], ['Tớ', 'xem', 'cậu', 'là', 'tri', 'kỉ.'], ['Luôn', 'cho', 'vay', 'tiền', 'trong', '1', 'nốt', 'nhạc.'], ['Cảm', 'thấy_an', 'toàn', 'và', 'thư', 'thái.'], ['Tốt', 'như', 'cậu', 'đó.'], ['Tên', 'Nguyễn', 'Thanh', 'Tùng', ',', 'ba', 'tên', 'Nguyễn', 'Thanh', 'Nguyễn', ',', 'má', 'tên', 'Lê', 'Thị', 'Lê.'], ['Tớ', 'xem', 'cậu', 'là', 'tri', 'kỉ.'], ['Luôn', 'cho', 'vay', 'tiền', 'trong', '1', 'nốt', 'nhạc.'], ['Cảm', 'thấy_an', 'toàn', 'và', 'thư', 'thái.'], ['Tốt', 'như', 'cậu', 'đó.'], ['Tên', 'Nguyễn', 'Thanh', 'Tùng', ',', 'ba', 'tên', 'Nguyễn', 'Thanh', 'Nguyễn', ',', 'má', 'tên', 'Lê', 'Thị', 'Lê.'], ['Nhiều', 'lắm'], ['My', 'Talking', 'Tom'], ['No,', 'Im', 'fine'], ['Không,', 'nó', 'nhại', 'tiếng', 'tao'], ['2', 'năm'], ['nhiều', 'lắm'], ['học', 'chung', 'với', 'mày'], ['hơn', '20', 'năm', 'rồi'], ['chung', 'trường', 'luôn'], ['thích', 'xài', 'tiền'], ['Nhiều', 'chứ'], ['Ai', 'cũng', 'chơi'], ['Hoàng'], ['Có'], ['Cũng', 'hay', 'đi', 'lắm'], ['Không', 'ít', 'à'], ['Hỏi', 'chi'], ['Có', '4', 'người'], ['Những', 'người', 'vui_vẻ', 'biết', 'lắng', 'nghe.'], ['Bình', 'thường'], ['Ở', 'chắc_ít', 'người', 'nhưng', 'thân.'], ['nhiều', 'lắm'], ['học', 'chung', 'với', 'mày'], ['hơn', '20', 'năm', 'rồi'], ['chung', 'trường', 'luôn'], ['Không', 'ông', 'à'], ['Đi', 'đá', 'banh', 'ông'], ['Phải', 'uy_tín'], ['Không'], ['Chắc', 'do', 'gen', 'bạn', 'đó'], ['Béo', 'như', 'heo', 'luôn', 'chứ', 'gầy', 'gì'], ['Thân', 'thiện,', 'vui', 'tánh'], ['Cà', 'phê'], ['Không', 'ạ'], ['2.'], ['1', 'tuần', 'đi', '3', 'lần.'], ['bị', 'khùng,', 'hay', 'giỡn', '.'], ['có,', 'học', 'chung', 'lớp'], ['chưa'], ['đi', 'cà_phê', '.'], ['rất', 'quý', 'bọn', 'nó.'], ['trung', 'thực.'], ['không', 'vì', 'mình', 'đánh_giá', 'theo', 'chủ_quan', 'là', 'người', 'hỏi', 'câu', 'này', 'không', 'dễ_thương', 'rồi.'], ['năm', 'nhất', 'tới', 'giờ'], ['hỏi', 'quài', 'mày'], ['rồi'], ['bình_thường'], ['không'], ['không'], ['không_biết', 'uống'], ['năm', 'nhất', 'tới', 'giờ'], ['hỏi', 'quài', 'mày'], ['rồi'], ['bình_thường'], ['không'], ['không'], ['không_biết', 'uống'], ['năm', 'nhất', 'tới', 'giờ'], ['hỏi', 'quài', 'mày'], ['rồi'], ['bình_thường'], ['không'], ['không'], ['không_biết', 'uống'], ['Ít'], ['Nhà', 'nó'], ['lúc', 'lọt_lòng'], ['Ở_trường', 'nó', 'học'], ['ai', 'thích', 'gì', '?'], ['nhiều'], ['không'], ['có'], ['chơi'], ['có'], ['có'], ['có'], ['khùng'], ['bét', 'fen.'], ['rảnh', 'không', 'có', 'j', 'làm', 'cho', 'tiền', 'tớ', 'sài.'], ['Cảm', 'thấy', 'zui.'], ['Tốt', 'như', 'cậu', 'đó.'], ['Tên', 'j', 'kệ', 'bạn', 't'], ['hông', 'nói'], ['đẹp'], ['hông'], ['tuyêtk'], ['chơi_game'], ['nói_chuyện'], ['nhiều'], ['khá', 'cá_tính'], ['ko'], ['Cũng', 'bình_thường'], ['Thường', 'xuyên'], ['Cũng', 'có'], ['nhiều'], ['đoán', 'xem'], ['gần', '30', 'năm'], ['Ở_trường'], ['hỏi', 'nó', 'đó'], ['có'], ['khoảng', '600', 'nghìn_đồng'], ['3', 'chỉ'], ['có'], ['dưới', '5'], ['dao_động_từ', '10', 'triệu', 'tới', '20', 'triệu'], ['TDTU', 'có', '5', 'cơ_sở'], ['có'], ['có'], ['đi_học', 'quân_sự', 'ở', 'Bảo', 'Lộc'], ['Rộng'], ['Có'], ['Tốt'], ['Có'], ['Nữ', 'mặc_áo', 'dài,', 'nam', 'mặc', 'sơ_mi', 'quần_tây'], ['Thứ', '2', 'và', 'thứ', '5'], ['Đạt', 'chuẩn', '5/5', 'sao', '(', 'theo', 'QS', 'Star', 'Anh', 'Quốc)', 'đảm_bảo', 'cho', 'sự', 'phát_triển', 'toàn_diện', 'của', 'sinh_viên'], ['Có'], ['650000', 'đồng', 'một', 'tín', 'chỉ'], ['phòng', 'E001'], ['6', 'giờ', '50', 'phút'], ['khu', 'H'], ['16', 'khoa'], ['khá', 'cao'], ['được,', 'nếu', 'đơn', 'được', 'duyệt'], ['19', 'Nguyễn', 'Hữu', 'Thọ', 'quận', '7'], ['thang', 'máy', 'không', 'đông', 'lắm'], ['20', 'triệu', 'một', 'năm.'], ['700', 'nghìn'], ['Đầy_đủ', 'tiện_nghi'], ['Hỗ', 'trợ', 'cho', 'sinh_viên', 'trong', '2', 'năm', 'đầu'], ['Có', 'nha'], ['Giờ', 'hành_chính', 'từ', '6', 'giờ', 'đến', '22', 'giờ'], ['tùy', 'ngành', 'nữa'], ['ừ'], ['cũng', 'rộng'], ['có', 'nha'], ['cũng', 'vui'], ['không'], ['tùy', 'mày', 'như_thế_nào'], ['tại_trường'], ['3', 'chuyên_ngành', 'chính'], ['nhiệt', 'tình,', 'tận_tâm'], ['có', 'nhiều', 'từ', 'các', 'khoa'], ['khá', 'ok'], ['vui'], ['39'], ['nhiệt_tình'], ['99', 'phần_trăm', 'có', 'việc_làm'], ['5', 'sao', 'chuẩn_quốc', 'tế'], ['trong_top', 'đông_nam', 'á'], ['có'], ['có', 'nhưng', 'bảo_vệ', 'phải', 'cho_phép'], ['2'], ['nhiều'], ['nó', 'ở', 'mức', 'trung_bình', 'không', 'quá', 'mắc'], ['thầy_cô', 'rất', 'tâm_huyết', 'với', 'sinh_viên'], ['trường', 'mình', 'có', 'thư_viện', 'tốt_nhất', 'nước'], ['trường', 'có', '3', 'kí_túc_xá', 'riêng'], ['phòng', 'học', 'đầy_đủ', 'tiện', 'nghi,', 'ánh', 'sáng,', 'tới', 'máy_lạnh', 'không', 'thiếu_gì', 'cả'], ['có', '3', 'hệ', 'chương_trình', 'ở', 'TDTU'], ['có'], ['không'], ['bình_thường'], ['giỏi,', 'yêu', 'sinh_viên'], ['tốt'], ['tùy', 'phòng'], ['50', 'triệu'], ['thư_viện'], ['gần', 'thành_phố'], ['rất', 'tốt'], ['Hiện', 'tại', 'gồm', '39', 'ngành', 'theo', 'chất_lượng', 'tiêu_chuẩn'], ['Gồm', '1320', 'giảng_viên'], ['Thư', 'viện', 'của_trường', 'tự_hào', 'là', 'một', 'trong', 'những', 'thư_viện', 'hiện_đại', 'và', 'đầy_đủ', 'tài_liệu', 'nhất', 'của', 'TP', 'Hồ', 'Chí', 'Minh'], ['Mỗi', 'năm', 'dao_động_từ', '40-50', 'triệu,', 'và', 'có', 'nhiều', 'chính_sách', 'học', 'bổng.'], ['Bên', 'trái', 'nhà', 'C'], ['Tầm', 'trung', 'nha', 'em'], ['Nhiều', 'ngành', 'lắm', 'em'], ['Mọi', 'nơi', 'em'], ['3'], ['mặc', 'đồng_phục', 'thứ', '2', 'và', 'thứ', '5', 'hằng', 'tuần.'], ['Cần'], ['Có'], ['4'], ['1000000', 'vnd'], ['142'], ['có'], ['trung_bình', '20', 'triệu.'], ['trung_bình', '4', 'năm.'], ['cũng', 'được'], ['giáo_viên', 'công_nghệ_thông', 'tin.'], ['giao_động', 'từ', '20', '-24', 'triệu', 'mỗi', 'năm'], ['có_có', 'thư_viện', 'xin', 'nhất', 'trong', 'các', 'trường', 'đại_học'], ['IT,', 'điện_điện', 'tử,', 'marketing,...'], ['đều', 'có', 'kiến_thức', 'chuyên_môn', 'cao,', 'tận_tình'], ['học_lực', 'từ', '8.0', 'trở_lên', 'và', 'điểm', 'hoạt_động', 'trên', '80', 'thì_có', 'thể', 'nhận', 'được'], ['cái', 'này', 'thì', 'lên_trang', 'chủ', 'của_trường', 'học'], ['Có'], ['Học', 'bạ', 'và', 'điểm', 'thi', 'tốt_nghiệp'], ['Có'], ['Có'], ['Tùy'], ['thư_viện', '129', 'tỷ'], ['kỉ', 'luật,', 'lễ', 'phép,', 'chuyên', 'nghiệp,', 'sáng', 'tạo,', 'phụng_sự'], ['tại', 'máy_lạnh', 'nhiều', 'mà_còn', 'bật', 'suốt'], ['tùy'], ['có,', 'thứ', '2', 'thứ', '5', 'nam', 'sơ_mi', 'nữ', 'áo_dài'], ['16', 'khoa.'], ['hơn', '44', 'ngành.'], ['thân', 'thiện.'], ['luôn', 'hỗ', 'trợ.'], ['đắt.'], ['đầy', 'đủ.'], ['CNTT.'], ['chưa', 'biết.'], ['chưa.'], ['bình', 'thường.'], ['Có'], ['thân', 'thiện,', 'nhiệt_tình', '.'], ['căn', 'tin,', 'ký_túc_xá', 'và', 'còn', 'nhiều', 'thứ', 'khác', 'nữa.'], ['đắt.'], ['4', 'năm', 'và', '138', 'tín_chỉ'], ['17'], ['công_nghệ_thông', 'tin,', 'mỹ_thuật', 'công', 'nghiệp,', 'kỹ_thuật', 'công', 'trình,', 'điện', '-', 'điện', 'tử,', 'tài_chính', 'ngân', 'hàng,', 'toán', '-', 'thống', 'kê,', 'quản_trị', 'kinh', 'doanh,', 'kế', 'toán,', 'giáo_dục', 'quốc', 'tế,', 'khoa_học', 'ứng', 'dụng,', 'luật,', 'khoa_học', 'thể', 'thao,', 'dược,', 'khoa_học_xã_hội', '&', 'nhân', 'văn,', 'ngoại', 'ngữ,', 'môi_trường', '&', 'bảo_hộ_lao', 'động,', 'lao_động', 'công_đoàn'], ['tiêu', 'chuẩn:', 'từ', '8', 'triệu', 'một', 'học', 'kì,', 'chất_lượng', 'cao:', 'từ', '20', 'triệu', 'một', 'học_kì'], ['giáo_trình', 'từ', 'các', 'trường', 'nước_ngoài'], ['chuyên_môn', 'cao,', 'nhiệt', 'tình,', 'dễ_thương'], ['thư_viện', 'to,', 'trường', 'rộng,', 'nhiều', 'cây', 'xanh,', 'sạch', 'sẽ,', 'phòng', 'học', 'rộng', 'có', 'máy', 'lạnh,', 'canteen', 'to', 'đồ_ăn', 'ngon...'], ['thân', 'thiện,', 'tự', 'giác,', 'đẹp', 'trai,', 'xinh', 'gái,.....'], ['thân', 'thiện,', 'vui', 'vẻ,', 'trách', 'nhiệm,....'], ['khang', 'trang,', 'hiện', 'đại,', 'sạch', 'đẹp,....'], ['Yame,', 'Uniqlo,', 'Adidas,', 'chợ', 'đồ', 'si,', 'trước', 'mặt', 'Lotte', 'quận', '7'], ['Yame,', 'Uniqlo,', 'Nike,', 'chợ', 'Tân', 'Mỹ,...'], ['Phong', 'Vũ,', 'GEARVN,', 'Thế', 'giới', 'di', 'động,', 'FPT', 'shop'], ['nhà_sách', 'Nguyễn', 'Văn', 'Cừ,', 'nhà_sách', 'trong', 'Lotte', 'quận', '7...'], ['seven-eleven,', 'circle', 'K,', 'family', 'mark,', 'The', 'Coffee', 'House,...'], ['40', 'ngành'], ['129', 'tỷ'], ['dạ'], ['là', 'trường_công', 'lập'], ['19', 'Nguyễn', 'Hữu', 'Thọ', 'phường', 'Tân', 'Phong', 'quận', '7'], ['Đẹp', 'lắm.'], ['Không', 'nha,', 'phải', 'ra', 'chỗ', 'bác', 'bảo_vệ', 'xin', 'cái', 'gì', 'đó', 'mới', 'vào', 'được.'], ['Thứ', '2', 'hoặc', 'thứ', '5', 'tới', 'thấy', 'rồi', 'tự', 'nhận', 'xét.'], ['Rẻ', 'lắm.'], ['Chỗ', 'nào', 'cũng', 'sống', 'ảo', 'được', 'hết.'], ['Có', 'thi', 'đầu_vào', 'và', 'chia', 'lớp_học', 'tiếng_anh', 'nè.'], ['khoa_học_máy', 'tính,', 'mạng', 'và', 'truyền_thông'], ['toeic', '550'], ['có'], ['thỉnh_giảng', 'và', 'giáo_viên', 'cơ_hữu'], ['phục_vụ', 'hàng_nghìn', 'sinh_viên', 'và', 'tài_liệu'], ['đại_trà', 'và', 'chất_lượng', 'cao'], ['cao', 'và', 'chất_lượng'], ['tìm_hiểu', 'form', 'trên', 'page'], ['hướng_dẫn', 'trên', 'hệ_thống', 'thông_tin', 'sinh_viên'], ['Xin', 'thẻ', 'khách', 'nha', 'em'], ['Gặp', 'bảo_vệ'], ['Tòa', 'G', 'nha', 'em'], ['Không', 'có', 'gì'], ['network,', 'packet', 'tracer,', 'AI,...'], ['10-15', 'triệu', '/', 'học_kì'], ['cơ_sở', 'vật_chất', 'cao', 'cấp,', 'lớp_học', 'đầy_đủ', 'tiện', 'nghi,'], ['Nha', 'Trang,', 'Hồ', 'Chí', 'Minh,...'], ['thầy_cô', 'nhiệt', 'tình,', 'thân_thiện'], ['tối_đa', '7', 'năm'], ['Mạng', 'máy', 'tình', 'và', 'truyền_thông', 'dữ', 'liệu,', 'công_nghệ', 'phần', 'mềm,', 'khoa_học_máy', 'tính,....'], ['khuyến_khích', 'thôi', 'em'], ['có_em'], ['trong', 'trường'], ['4', 'tuyến'], ['thầy', 'Trí'], ['Có'], ['Có'], ['Tạm', 'ổn'], ['Đi', 'thẳng,', 'tòa', 'nhà', 'màu', 'cam'], ['4', 'tòa'], ['20', 'triệu', '1', 'kỳ'], ['có'], ['ổn'], ['rộng_rãi'], ['có'], ['tâm', 'huyết,', 'tận_tình'], ['Rất', 'nhiệt_tình', 'và', 'tận_tụy'], ['Có'], ['Thư', 'viện', 'được', 'trang_bị', 'hiện_đại'], ['Có'], ['không'], ['bao', 'rộng'], ['hơn', '10', 'triệu', 'gì', 'đó'], ['thầy', 'Cường'], ['ừa'], ['chờ', 'thang_máy', 'còn', 'lâu_hơn', 'thang_bộ'], ['Công', 'nghệ_thông_tin'], ['khoảng', '20', 'triệu'], ['tốt'], ['có'], ['E001', 'hoặc', 'A003'], ['có', 'và', 'được', 'ghi', 'rõ', 'trong', 'mục', 'quy_định', 'trường.'], ['tầm_trung'], ['gần', '20'], ['bao', 'đẹp'], ['bảy'], ['đầy'], ['chưa'], ['rồi'], ['không', 'nói'], ['dễ_thương'], ['không_biết'], ['không_biết', 'luôn'], ['Đầu_năm', '2020'], ['Crush', 'của_mình', 'nhiều', 'lắm.'], ['Nếu', 'có', 'thì', 'mình', 'sẽ', 'chọn', 'Đà', 'Lạt'], ['chưa'], ['chưa'], ['Chưa.'], ['OK.'], ['Mình', 'thích', 'bạn', 'Duy.'], ['Cao', 'Trần', 'Tuấn', 'Duy.'], ['Khỏe.'], ['Tốt.'], ['Vui.'], ['Chưa.'], ['OK.'], ['Mình', 'thích', 'bạn', 'Duy.'], ['Cao', 'Trần', 'Tuấn', 'Duy.'], ['Khỏe.'], ['Tốt.'], ['Vui.'], ['Đầu_năm', '2020'], ['Crush', 'của_mình', 'nhiều', 'lắm.'], ['Nếu', 'có', 'thì', 'mình', 'sẽ', 'chọn', 'Đà', 'Lạt'], ['thì', 'hỏi', 'chơi_chơi', 'vậy', 'thôi', 'à'], ['chưa', 'mày', 'nhưng', 'crush', 'một', 'người'], ['con_nhỏ', 'ở', 'chỗ', 'làm', 'thêm'], ['ừ', 'mày'], ['Chưa.'], ['OK.'], ['Mình', 'chưa', 'thích', 'ai.'], ['Ronaldo.'], ['Khỏe.'], ['Tốt.'], ['Vui.'], ['chưa'], ['chắc', 'ế'], ['vì', 'là', 'xu_thế'], ['đi_về', 'nhà'], ['rồi'], ['rồi', 'ế', 'tiếp'], ['chậu', 'này', 'đã', 'có', 'hoa', 'nha'], ['có', 'rồi', 'nha', 'hihi'], ['có', 'rồi', 'nha'], ['hoi', 'bí_mật', 'hong', 'nói', 'đâu', 'liu', 'liu'], ['người_yêu', 'tao', 'bây_giờ'], ['là', 'bạn_gái', 'tao', 'ở', 'hiện_tại'], ['Đang', 'ăn_cơm'], ['Có'], ['Không'], ['Cũng', 'được'], ['Đi', 'ăn'], ['xinh'], ['Ừ,', 'xinh', 'thật'], ['Đoouuuu,', 'thật', 'à?'], ['Ngon,', 'thời', 'tới'], ['Mày', 'còn', 'hỏi', ':))'], ['chưa'], ['chưa'], ['Không', 'có', 'người_yêu'], ['cực', 'dễ_thương'], ['cũng', 'có_đôi', 'lúc'], ['không,', 'nhưng', 'đôi_lúc', 'lại', 'nhớ'], ['chưa'], ['không', 'thích'], ['có'], ['bí_mật'], ['không', 'kể'], ['bình_thường'], ['không'], ['chưa'], ['có'], ['21', 'tuổi'], ['khoa', 'CNTT'], ['nhỏ', 'nhắn,', 'xinh', 'xắn,', 'hiền'], ['ừ'], ['tình_cờ', 'học', 'chung', 'lớp'], ['ừ'], ['rồi'], ['rất', 'vui_tính'], ['Ừ,', 'xinh', 'thật'], ['Đoouuuu,', 'thật', 'à?'], ['Ngon,', 'thời', 'tới'], ['Mày', 'còn', 'hỏi', ':))'], ['nghe', 'bro'], ['không', 'bro'], ['bận', 'học'], ['để', 'giúp', 'đất_nước', 'sánh_vai', 'với_cường', 'quốc', 'năm_châu'], ['giúp_dân', 'tộc', ',', 'người_dân', 'tốt', 'hơn'], ['giúp', 'nhân_loại', 'tiến_lên', 'có', 'cuộc_sống', 'tốt', 'hơn'], ['yup', 'nigga'], ['chưa'], ['Miền', 'tây'], ['Không'], ['Gái'], ['chưa', 'có'], ['chưa', 'có', 'người_yêu'], ['chưa', 'có', 'người_yêu'], ['chưa', 'có', 'người_yêu'], ['chưa', 'có', 'người_yêu'], ['chưa', 'có', 'người_yêu'], ['chưa', 'có', 'người_yêu'], ['tao', 'còn', 'sợ', 'ế', 'đây', 'này'], ['người_yêu', 'tương_lai', 'xinh', 'chắc', 'rồi'], ['chưa', 'biể'], ['chưa_biết', 'luôn'], ['chưa_biết'], ['chưa_biết'], ['không'], ['Đã', 'có.'], ['Khá', 'đẹp.'], ['Hơi', 'cao.'], ['Có.'], ['Quán', 'cà', 'phê.'], ['không'], ['một', 'thứ', 'kinh_tởm'], ['yêu_thương', 'nhau'], ['vẫn', 'chưa'], ['em', 'đẹp', 'lắm'], ['không', 'quan_trọng', 'giới_tính'], ['yêu_rồi'], ['Thanh'], ['nữ'], ['ngắn'], ['tầm', '18'], ['ốm'], ['cáo', 'mét_rưỡi'], ['gần', 'xịt'], ['không', 'yêu', 'ai'], ['Chưa'], ['có', 'rồi', 'nè'], ['có', 'luôn', 'rồi', 'nè'], ['được', '4', 'năm', 'rồi', 'nè'], ['tui', 'quen', 'từ_đầu', 'năm', '12', 'đến', 'giờ'], ['ấm', 'áp,', 'tình', 'cảm,', 'biết', 'cảm_thông'], ['chưa'], ['cá', 'tính'], ['Đang', 'ế', 'này'], ['Chung', 'thuỷ', 'là', 'được'], ['Đánh', 'ghen,', 'chia_tay', ':)))'], ['bố', 'm', 'giết', 'm'], ['chưa', 'có', 'mờ'], ['còn', 'lẻ', 'bóng.'], ['đã', 'nói', 'là', 'còn', 'lẻ', 'bóng.'], ['có', 'thì', 'vui,', 'không', 'có', 'thì', 'không', 'vui.'], ['Đéo', 'nói'], ['Đéo', 'nói'], ['Troái'], ['chục', 'đứa', 'rồi'], ['Nhìn', 'mặt', 'tao', 'có', 'giống', 'đứa', 'có', 'bồ', 'không?'], ['Im', 'đi.', 'Động_chạm', 'nỗi', 'đau.'], ['Không', 'cần', 'gì', 'nhiều', 'chỉ', 'cần', 'như_tiên', 'nữ', 'là', 'được'], ['hỏi', 'làm_chi'], ['không', 'ai', 'thích', 'mày', 'đâu', 'mà', 'hỏi'], ['ở', 'nhà', 'tao'], ['vì', 'tao', 'có', 'trà_xanh'], ['lớp_học'], ['Có', 'rồi'], ['ốm'], ['Thỏa', 'mái', 'về', 'việc_gì'], ['Chọn', 'người_đẹp'], ['Có', 'rồi', 'nè.'], ['Thì', 'cứ', 'yêu', 'thôi.'], ['Xinh', 'như', 'em_gái', 'cậu', 'ý.'], ['Có', 'chứ'], ['Ngon', 'như', 'má', 'làm', 'luôn.'], ['Có', 'rồi', 'nè.'], ['Thì', 'cứ', 'yêu', 'thôi.'], ['Xinh', 'như', 'em_gái', 'cậu', 'ý.'], ['Có', 'chứ'], ['Ngon', 'như', 'má', 'làm', 'luôn.'], ['Chưa'], ['Xinh'], ['Sự', 'chân_thành'], ['Không', 'có'], ['Nữ'], ['Lan'], ['30', 'tuổi'], ['con_trai'], ['thích', 'tao'], ['mày', 'hỏi', 'cái', 'gì', 'vậy?'], ['Có', 'rồi'], ['Trường', 'Nguyễn', 'Tất', 'Thành'], ['Chung', 'thủy', 'là', 'được'], ['Khá', 'lâu', 'rồi'], ['Hỏi', 'làm_gì'], ['Hỏi', 'chi'], ['Chưa'], ['Chưa', 'có', 'thích', 'ai', 'hết'], ['Bình', 'thường', 'dễ_thương', 'là', 'được'], ['Lan'], ['30', 'tuổi'], ['con_trai'], ['thích', 'tao'], ['mày', 'hỏi', 'cái', 'gì', 'vậy?'], ['có', 'ròi', 'nè'], ['cũng', '3', 'năm', 'òi'], ['Rồi'], ['Cao', 'nhưng', 'không', 'to,', 'đen', 'nhưng', 'không', 'hôi'], ['Đối_với', 'mình', 'về', 'tình_yêu', 'là', 'không', 'quá', 'ràng_buộc', 'nhưng', 'phải', 'rõ_ràng'], ['Tốt,', 'xinh,', 'giỏi'], ['Đừng', 'cắm_sừng', 'nhau', 'là', 'được'], ['Cả', 'hai'], ['Cả', 'hai'], ['Mình'], ['Mình', 'chỉ', 'yêu', 'bản_thân'], ['Chưa', 'ạ'], ['có.'], ['thật', 'lòng.'], ['nhẫn', 'nhịn.'], ['đi', 'mua', 'trà', 'sữa.'], ['học', 'còn', 'không', 'xong', 'làm', 'thêm', 'cho', 'chết', 'à.'], ['rồi'], ['đẹp'], ['đang', 'học'], ['Đẹp', 'gái'], ['Chọn', 'con_tim'], ['rồi'], ['đẹp'], ['đang', 'học'], ['Đẹp', 'gái'], ['Chọn', 'con_tim'], ['rồi'], ['đẹp'], ['đang', 'học'], ['Đẹp', 'gái'], ['Chọn', 'con_tim'], ['Lan,', 'ĐIệp,', 'Huệ,', 'My,', 'Hoa'], ['18', 'cái', 'xuân_xanh'], ['Tao', 'không', 'gay'], ['không'], ['Không', 'thì', 'yêu', 'làm_gì'], ['chưa'], ['Không'], ['không'], ['xinh_đẹp'], ['có'], ['muốn'], ['Mệt'], ['Có', 'rồi', 'nè.'], ['THÍCH', 'thì', 'iu.'], ['Xinh', 'như_chị', 'gái', 'bạn', 'ý.'], ['Có', 'chứ'], ['Ngon', 'như', 'má', 'làm', 'luôn.'], ['có'], ['tuyệt'], ['10', 'năm'], ['có'], ['không'], ['Không', 'hề'], ['Sắp'], ['Có', 'người', 'quan_tâm', 'mỗi_ngày'], ['Cũng', 'bình', 'thường,', 'chả', 'làm_sao'], ['Có', 'cũng', 'được', 'không', 'có', 'cũng', 'không', 'sao'], ['Thoải', 'mái', 'với', 'nhau', 'là', 'được'], ['Hạnh', 'phúc', 'bền', 'lâu'], ['Mồ', 'côi', 'người_yêu'], ['17', 'tuổi'], ['bê', 'đê'], ['thích', 'bồ', 'nó'], ['Đoán', 'xem'], ['có', 'đâu,', 'tào_lao'], ['yêu'], ['cũng', 'bình_thường'], ['hơn', 'nửa', 'năm'], ['vì', 'anh', 'đẹp_trai'], ['Dạ', 'tốt'], ['Dạ'], ['Có', 'đâu.'], ['Không.'], ['nguyệt'], ['21', 'tuổi'], ['60'], ['1m70'], ['vừa', 'đủ', 'dùng'], ['có', 'tiền', 'mới', 'sống', 'được', 'chứ', 'pro'], ['có'], ['thịt'], ['vàng'], ['con', 'corona', 'virus'], ['Rồi'], ['2', 'tháng'], ['23'], ['Ngôn', 'ngữ', 'anh'], ['Chưa.'], ['Có', 'để', 'làm', 'gì?'], ['đang', 'ế'], ['có', 'nhưng', 'bí_mật', 'không', 'bật_mí'], ['đang', 'nhắm', 'một', 'đứa', 'cùng_lớp'], ['vô_số', 'kể'], ['rất', 'tiếc', 'là', 'chưa'], ['Tâm', 'hồn', 'mỏng_manh'], ['Có'], ['Không', 'rõ'], ['Cũng', 'được'], ['Chưa'], ['chưa'], ['có'], ['chưa'], ['nghèo'], ['không'], ['ai', 'rảnh'], ['sao'], ['sao', 'buồn'], ['haha'], ['người_yêu', 'nó', 'là', 'tao', 'đó'], ['xin_lỗi'], ['Lan', 'chứ', 'gì'], ['Nhìn', 'là', 'biết'], ['Ừm'], ['Ừm'], ['Ra', 'vậy'], ['Chưa.'], ['Làm', 'gì', 'có.'], ['Thôi.', 'Nhà', 'bao', 'việc.'], ['Tao', 'có', 'niềm_vui', 'khác', 'rồi.'], ['Ừm.', 'Buồn', 'lắm.'], ['Cũng', 'quên', 'rồi.'], ['Chưa,', 'mà', 'có', 'crush.'], ['Hùng'], ['Nhìn', 'cũng', 'được'], ['1m7'], ['CNTT'], ['xin', 'info'], ['ừ'], ['nói_gì', '?'], ['sao', '?'], ['Chưa'], ['Lan', 'hả?'], ['Nghe', 'Lan', 'kể'], ['Đẹp', 'với', 'dễ_thương'], ['Học', 'kế_toán'], ['Có', 'rồi.'], ['3', 'năm'], ['3'], ['có', 'đâu', 'mà', 'công_khai'], ['có', '^^'], ['không', 'nói', 'đâu'], ['ok'], ['Phải', 'tăng', 'ca'], ['Điện_thoại', 'bị_mất', 'sóng'], ['Ở', 'lại', 'trường', 'làm', 'bài_tập', 'với', 'bạn'], ['Chưa'], ['Cũng', 'bình_thường', 'thôi'], ['Có,', 'nào', 'rãnh', 'cũng', 'đi'], ['Đi', 'ăn'], ['Thấy', 'trên_instagram', 'chỗ', 'nào', 'ngon', 'thì', 'đi', 'ăn', 'thôi'], ['Đi', 'dạo_phố', 'với_trung', 'tâm', 'thương_mại'], ['Dễ', 'thương,', 'hiền', 'lành,', 'dễ', 'tính,', 'cũng', 'có', 'chung', 'sở_thích'], ['Còn', 'ngại,', 'nhưng', 'cũng', 'sắp'], ['Có', 'rồi'], ['Hồng'], ['20'], ['ở', 'sài_gòn'], ['1', 'năm'], ['rồi'], ['6', 'tháng'], ['không,', 'lớn', 'hơn'], ['không,', 'ở', 'cùng', 'khu', 'trọ'], ['Cà', 'Mau'], ['chưa', ':<'], ['Chưa', 'lun', 'TT'], ['Không', 'rãnh', 'yêu_đương'], ['Lo', 'học,', 'lo', 'kím', 'tiền', 'nha'], ['Có', 'chứ', 'haha'], ['Thích', 'crush', 'tóc', 'dài'], ['Hỏi', 'thừa', 'vl', ':))', 'thích', 'nha'], ['Okay', 'đi'], ['ừ'], ['20t'], ['1m7'], ['Siêu', 'giàu'], ['ừ'], ['Cũng', 'bình_thường', 'thôi'], ['Có,', 'nào', 'rãnh', 'cũng', 'đi'], ['Đi', 'ăn'], ['Thấy', 'trên_instagram', 'chỗ', 'nào', 'ngon', 'thì', 'đi', 'ăn', 'thôi'], ['Đi', 'dạo_phố', 'với_trung', 'tâm', 'thương_mại'], ['Dễ', 'thương,', 'hiền', 'lành,', 'dễ', 'tính,', 'cũng', 'có', 'chung', 'sở_thích'], ['Còn', 'ngại,', 'nhưng', 'cũng', 'sắp'], ['Chưa.', '22', 'nồi', 'bánh_chưng', 'vẫn', 'chưa_biết', 'mùi', 'nắm', 'tay', 'người_yêu', 'nó', 'như_thế_nào', ':(('], ['Chưa'], ['Cũng', 'chưa'], ['Cũng', 'được'], ['Chịu'], ['Thử', 'dắt', 'ẻm', 'đi', 'ăn_đi'], ['crush', 'thôi'], ['méo'], ['giận', 'miết', 'chán', 'ghê'], ['yêu_đương', 'gì', 'tầm', 'này'], ['ngại', 'lắm'], ['nồ', 'nố', 'nô'], ['Lan', 'chứ', 'gì'], ['Nhìn', 'là', 'biết'], ['Ừm'], ['Ừm'], ['Ra', 'vậy'], ['rồi'], ['XXX'], ['chưa'], ['chưa'], ['2', 'năm'], ['không'], ['có'], ['chưa'], ['còn'], ['tầm', '3', '4', 'năm'], ['thiếu', 'can_đảm', 'và', 'tự_tin'], ['vẫn', 'vậy'], ['ít', 'lắm'], ['Người', 'yêu'], ['Đi', 'chơi', 'gặp'], ['Có'], ['Thỉnh', 'thoảng'], ['Thường', 'xuyên'], ['nhậu', 'không'], ['tại', 'mặt', 'mụn'], ['giàu'], ['có', 'nhiều', 'tiền'], ['tao', 'cũng', 'vậy', ':)'], ['mới', 'chia_tay'], ['không'], ['sao', 'mày', 'biết', 'hay', 'vậy'], ['không'], ['Mày', 'có', 'tin', 'vào', 'duyên_số_không'], ['sao', 'mày', 'biết', 'hay', 'vậy'], ['không'], ['có'], ['Linh'], ['Ngọc'], ['đang', 'làm', 'bài_tập'], ['ăn', 'rồi'], ['nhớ'], ['1', 'tháng'], ['Lan', 'chứ', 'gì'], ['Nhìn', 'là', 'biết'], ['Ừm'], ['Ừm'], ['Ra', 'vậy'], ['oke'], ['nắng'], ['vui'], ['học_toán', 'lại', 'đi'], ['chào', 'bạn'], ['đi', 'mua', 'cơm_tấm', 'ăn_đi'], ['200'], ['rất', 'thông_minh'], ['đẹp'], ['biết'], ['Trả', 'lời', 'những', 'câu_hỏi', 'của', 'bạn'], ['2011'], ['Làm', 'việc', 'nhà'], ['mặc', 'suit'], ['đừng', 'lo', 'lắng'], ['cái', 'gì', 'ngon?'], ['không', 'sao', 'đâu', 'hết', 'đau', 'ngay', 'ấy', 'mà'], ['gạo', 'sao', 'mà', 'ăn'], ['Tôi', 'không_biết'], ['Không'], ['2'], ['11'], ['Đây', 'là', 'một_số', 'quán', 'phở', 'được', 'rating', 'cao', 'ở', 'Sài', 'Gòn'], ['Tôi', 'tên', 'Robot', 'AN'], ['3', 'cạnh'], ['Hình', 'bình', 'hành'], ['Dãy', 'Fibonacci'], ['Chủ', 'yếu', '(Chính)'], ['Đỉnh', 'Everest'], ['tự', 'tra', 'google'], ['không', 'tính', 'được'], ['không', 'có', 'tiền'], ['ăn', 'trái_cây', 'đi'], ['3'], ['không', 'thằng', 'nào', 'ướt'], ['9'], ['cổ_tay_phải'], ['cảm', 'súc', 'là', 'khái_niệm', 'không_thể', 'định_nghĩa', 'với', 'robot'], ['mình', 'thích', 'con_người'], ['mình', 'có_thể', 'giải_đáp', 'thắc_mắc', 'của', 'bạn'], ['mình', 'tên', 'là', 'robotxyz'], ['ok', 'đợi', 'chút'], ['dễ,', 'nếu', 'siêng'], ['không,', 'đẹp_trai', 'đẹp', 'gái', 'là', 'được'], ['có', 'trả', 'tiền', 'không'], ['robot'], ['đáng', 'tin'], ['chắc_chắn', 'được'], ['mỹ'], ['Cách', 'đây', '1', 'năm'], ['Tôi', 'thích', 'được', 'giúp_đỡ', 'con_người'], ['Tôi', 'muốn', 'chứng_minh', 'bản_thân'], ['Tôi', 'chắc_chắn'], ['Bốn'], ['Kẻ', 'thông_minh_hơn', 'mày'], ['Kẻ', 'ít', 'thông_minh_hơn', 'tao'], ['Mày'], ['6', 'châu', 'lục,', '5', 'đại_dương'], ['Nam', 'Cực'], ['Đúng'], ['Laugh', 'out', 'loud'], ['Trần', 'Phú'], ['29'], ['1000'], ['đường', 'đời'], ['Doremon'], ['Tất', 'cả', 'chuột'], ['Áo'], ['Cua'], ['dạ', ',', 'chủ_nhân'], ['thấy', 'gái'], ['đã', 'quoay'], ['1,2,3,4'], ['I', 'love_you'], ['chào,', 'tối', 'là', 'Karen.'], ['không', 'gì', 'ngoài', 'tên.'], ['nên.'], ['2', 'chồng'], ['nếu', 'có', 'che', 'ô', 'thì', 'không', 'bị', 'ướt'], ['đồ', 'bơi,', 'kính', 'bơi', 'và', 'tiền'], ['làm', 'những', 'gì', 'thấy', 'thích'], ['Tất', 'cả'], ['Tất', 'nhiên'], ['Tôi', 'có_thể'], ['Chắc', 'chắn'], ['Bất', 'kỳ', 'bài', 'nào'], ['chuẩn_bị', 'cánh_gà', 'với', 'nước_mắm', 'rồi', 'chiên'], ['năm'], ['điều', 'anh', 'luôn', 'giữ', 'kín', 'trong_tim'], ['121'], ['tự', 'lên', 'wikipedia', 'tìm'], ['em', 'cũng', 'không_biết', 'nữa,', 'khi', 'nào', 'ta_yêu', 'nhau'], ['3600', 'giây.'], ['365', 'ngày.'], ['366', 'ngày.'], ['Có'], ['Thích'], ['Rất', 'sẳn', 'lòng'], ['2'], ['Có'], ['Không!', 'Tại', '1', '!=', '0'], ['mình', 'là', 'robot', 'tiếp_tân', 'tại_trường', 'ĐH', 'Tôn', 'Đức', 'Thắng'], ['hướng_dẫn', 'các_bạn', 'tân_sinh_viên', 'và', 'du_khách', 'tham_quan', 'trường'], ['trả_lời', 'câu_hỏi', 'về', 'lịch_sử', 'trường,', 'quá_trình', 'hình', 'thành,', 'thông_tin', 'các', 'tòa', 'nhà,', 'nội', 'quy,...'], ['có,', '(sau', 'đó', 'hát', 'một', 'đoạn)'], ['có,', '(sau', 'đó', 'làm', 'một', 'đoạn', 'thơ)'], ['tự', 'đi', 'mà', 'nghĩ'], ['ra', 'mà', 'xin'], ['cứ', 'bảo', 'mệt', 'là', 'được'], ['ăn', 'đấm'], ['robot', 'không', 'thông_minh', 'được', 'đến', 'thế', 'đâu'], ['Ok', 'thôi,', 'tao', 'đi', 'mày', 'trả', 'tiền.'], ['Đá', 'bát.'], ['Tao', 'ăn_năn', 'khi', 'cảm_thấy', 'có', 'lỗi.'], ['đẹp'], ['trong', 'xưởng', 'sản_xuất'], ['lấy_vợ', 'giàu', 'và', 'trúng', 'vé_số'], ['1233311'], ['trái', 'cây,', 'rau', 'củ', 'quả'], ['xong'], ['xong'], ['Niềm', 'tin', 'đã', 'mất,', 'Giọt', 'nước_mắt', 'cuốn', 'kí_ức', 'anh', 'chìm', 'sâu', '...'], ['Một', 'hai', 'nghiêng', 'nước', 'nghiêng', 'thành,', 'Sắc', 'đành', 'đòi', 'một,', 'tài', 'đành', 'hoạ', 'hai.'], ['Tôi', 'sinh_ra', 'từ', 'những', 'người', 'có_đôi', 'bàn_tay', 'đẹp', 'với', 'cặp', 'mắt', 'long_lanh'], ['Ây.', 'Tính', 'từ', 'thuở', 'sơ_khai', 'đến', 'nay', 'là', 'được', '20', 'cái', 'xuân_thanh', 'rồi'], ['tạm_biệt'], ['nhiêu', 'tuổi', 'rồi?'], ['1+1', '?'], ['100', 'triệu', '+', '1', 'tỷ', '=', '?'], ['1/3', '=', '?'], ['Chào', 'bạn,', 'bạn', 'muốn', 'tôi', 'giúp', 'gì?'], ['Bằng', '2'], ['Có', '6'], ['Trưa', 'nắng,', 'chiều', 'mát,', 'nhiệt_độ', 'trung_bình', '27', 'độ', 'C.'], ['Đường', 'thông', 'thoáng,', 'có_thể', 'có', 'kẹt', 'xe', 'vào', 'giờ', 'cao', 'điểm.'], ['365'], ['tôi', 'chưa', 'được', 'đặt_tên'], ['không,', 'tôi', 'là', 'người_máy'], ['từ', 'phòng', 'thí_nghiệm'], ['tôi', 'không_biết'], ['Robot'], ['Thứ', '2'], ['Có', 'Thể', 'của', 'Cá', 'Hồi', 'Hoang'], ['Mát', 'mẻ'], ['trời', 'đẹp'], ['4', 'tháng', '2'], ['không'], ['không', 'có', 'gì'], ['21%'], ['đã', 'phòng', 'chỗng', 'được', 'dịch', 'covid'], ['Đừng', 'làm_thế'], ['Cửa', 'sổ', 'bên', 'trái'], ['chở', 'crush', 'đi_học'], ['yêu_đương', 'gì', 'tầm', 'này'], ['rồi'], ['coi', 'đồng_hồ', 'đi'], ['mèo', '4', 'chân_vịt', '2', 'chân'], ['23', 'nghìn'], ['không', 'mưa'], ['30', 'độ'], ['2', 'mét'], ['tôi', 'là', 'robot'], ['cũng', 'được'], ['gì', 'cũng', 'được'], ['ok', 'luôn'], ['KFC', 'chứ', 'đâu'], ['không'], ['vì', 'nó', 'ngon'], ['Có', 'chứ'], ['Rồi', 'chứ'], ['Thường', 'xuyên'], ['Thỉnh', 'thoảng', 'vào', 'những', 'dịp', 'quan_trọng', 'thôi'], ['bạn_bè'], ['gia_đình'], ['gà_rán'], ['bánh', 'trán', 'trộn'], ['bánh_canh'], ['cá', 'kho'], ['Ăn', 'thịt', 'kho', 'hột', 'vịt', 'đi.'], ['Đi', 'chứ.'], ['Muốn.'], ['Ăn', 'thịt', 'kho', 'hột', 'vịt', 'đi.'], ['Đi', 'chứ.'], ['Muốn.'], ['Có', 'chứ'], ['Rồi', 'chứ'], ['Thường', 'xuyên'], ['Thỉnh', 'thoảng', 'vào', 'những', 'dịp', 'quan_trọng', 'thôi'], ['đói'], ['đi'], ['tao', 'sao', 'cũng', 'được'], ['okay', 'vậy', 'cũng', 'được'], ['kiếm', 'quán', 'nào', 'gần', 'gần', 'trường', 'hỉ'], ['mày', 'muốn', 'ăn', 'hủ_tiếu', 'gì'], ['okay'], ['ừ', 'tao', 'cũng', 'vậy'], ['Ăn', 'bún_đậu', 'đi.'], ['OK.'], ['OK.'], ['đi'], ['gì', 'cũng', 'được'], ['ok'], ['ok'], ['ok'], ['ok'], ['tao', 'dễ', 'nuôi', 'nên', 'món', 'nào', 'cũng', 'thích', 'hết'], ['tao', 'ăn', 'gì', 'cũng', 'được'], ['có', 'buffet', 'dookki', 'nè,', 'không', 'thì', 'ăn', 'busan', 'cũng', 'được'], ['ok', 'duyệt,', 'đi', 'ăn', 'kichi_kichi', 'nha'], ['thèm', 'gà', 'sốt', 'mật_ong', 'hoặc', 'gà', 'sốt', 'cay'], ['ok', 'go_go'], ['đi', 'ăn_sushi', 'ở', 'quận', '5', 'đi'], ['Gì', 'cũng', 'được'], ['Chỗ', 'cũ'], ['Bao', 'thì', 'đi'], ['Chia', 'đều', 'đi'], ['Ăn'], ['Đi', 'anh', 'ơi'], ['Dạ', 'anh'], ['ok', 'bạn', 'nhá.'], ['nhà', 'm', 'đi', 'để', 'còn', 'karaoke.'], ['2', 'chai', 'rượu', 'thôi,', 'còn', 'lại', 'bia', 'cho', 'khỏe', 'người.'], ['càng', 'đông', 'càng', 'nhiệt.'], ['đi'], ['ở', 'chợ'], ['bạn', 'rủ', 'đi'], ['gì', 'cũng', 'được'], ['phở'], ['không'], ['rảnh'], ['quán', 'gì,', 'ở', 'đâu'], ['ok.đi'], ['tùy', 'mày'], ['tại', 'quán'], ['12', 'giờ'], ['ok'], ['đang', 'chạy_qua'], ['hiểu', 'rồi'], ['ok'], ['được'], ['Đi', 'anh', 'ơi'], ['Dạ', 'anh'], ['đói', 'vl', 'bro'], ['ok', 'bro'], ['ăn', 'gà_rán', 'đi'], ['kfc', 'gần', 'nhà'], ['rẻ', 'lắm'], ['tầm', '100k'], ['rồi'], ['ngon'], ['ok', 'bro'], ['đi', 'luôn'], ['bánh_tráng_trộn', 'đi'], ['với', 'mày', 'thì', 't', 'không', 'đi'], ['tao', 'thèm', 'ăn_cơm', 'tấm'], ['không', 'thích', 'vì', 'quá', 'thích'], ['ừ,', 'đỉnh', 'của', 'chóp'], ['Quán', 'nào'], ['ok', 'm'], ['Ừ', 'đi', 'ăn.'], ['Tao', 'tính', 'ăn_sáng', 'với', 'ăn', 'trưa', 'với', 'ăn', 'sáng.'], ['Tiền', 'là', 'biển.'], ['Ăn', 'sáng', 'đi', 'trưa', 'khỏi', 'ăn.'], ['Ra', 'quán', 'hủ_tiếu', 'đi.'], ['Thôi', 'ăn_cái', 'đó', 'cho', 'có', 'nước.'], ['ăn_thịt', 'lợn?'], ['cocacola'], ['gia_đình'], ['gia_đình'], ['bạn_bè'], ['ăn', 'gà_rán'], ['chơi', 'cờ_vây'], ['học', 'và_ngủ'], ['ngủ'], ['cơm', 'bố', 'nấu'], ['Lẩu', 'bò', 'đi'], ['Quán', 'gần', 'trường', 'đó'], ['Để', 'rủ', 'thêm'], ['Ăn', 'gì', 'ngọt_ngọt'], ['Ăn'], ['Vậy', 'ăn', 'quán', 'gần', 'trường', 'đi'], ['Đi.'], ['Cơm', 'tắm.'], ['Biết.'], ['Cuối', 'đường', 'quẹo', 'phải.'], ['ghiền', 'bún_đậu'], ['ăn_bún', 'đậu'], ['best', 'là', 'bún_đậu', 'Tiến', 'Hải'], ['tối', 'bận', 'rồi'], ['ok', 'luôn'], ['Fastfood'], ['Không'], [\"McDonald's\"], ['2-2A', 'Đ.', 'Trần', 'Hưng', 'Đạo,', 'Phường', 'Phạm', 'Ngũ', 'Lão,', 'Quận', '1,', 'Thành', 'phố', 'Hồ', 'Chí', 'Minh', '700000'], ['Bạn', 'bè'], ['mì_tôm'], ['nhà'], ['gì', 'cũng', 'được'], ['bún', 'bò'], ['ăn_cơm'], ['cơm', 'tấm'], ['nhà'], ['đi'], ['ăn_ở', 'đâu'], ['vậy_sao', 'rủ'], ['tao', 'cũng', 'không_biết', 'nữa'], ['vậy', 'thôi', 'nghỉ', 'khỏe'], ['ok'], ['OK'], ['Đâu', 'cũng', 'được'], ['Gì', 'cũng', 'được'], ['Ai', 'cũng', 'được'], ['OK'], ['Ok,', 'rảnh.'], ['Được.', 'Mai', 'tao', 'đi.'], ['Thịt', 'bò.'], ['Quán', 'gần', 'nhà', 'tao', 'nè.'], ['Ừm.', 'Được', 'luôn.'], ['Ok,', 'để', 'tao', 'mời.'], ['đi', 'chứ'], ['Cơm', 'tấm'], ['Kí', 'túc_xá'], ['25k'], ['Đủ', 'loại'], ['10-15k'], ['Bún', 'đậu'], ['Gà', 'rán'], ['Không', 'biết'], ['ok'], ['9h'], ['OK'], ['Đâu', 'cũng', 'được'], ['Gì', 'cũng', 'được'], ['Ai', 'cũng', 'được'], ['OK'], ['chời', 'ơi', 'tha', 'cho', 'tao', 'đi'], ['chuối', 'chiên', ':))'], ['chổ', 'cũ', 'nha'], ['nấm'], ['đồ', 'uống', 'ít', 'ngọt'], ['Canh', 'gà', 'tiềm,', 'thịt', 'nướng,', 'lẩu.'], ['Thịt', 'sườn', 'nướng'], ['Nhà', 'hàng', 'đối_diện', 'đi'], ['Không', 'đi', 'được'], ['Bún', 'than'], ['Uh', 'bún_chả'], ['Ok'], ['Có'], ['Ok'], ['Ăn', 'gì', 'cũng', 'được'], ['ok'], ['ok'], ['gì', 'cũng', 'được'], ['không'], ['qua', 'quận', '10', 'đi'], ['bò'], ['Thị', 'trấn', 'bò'], ['Okay', 'ăn'], ['Ăn', 'gà', 'đi'], ['Ăn', 'ở', 'Texas'], ['Đón', 'tao', 'nha'], ['Giờ', 'đi'], ['Okay'], ['ok'], ['Quận', '7'], ['Cơm', 'tấm'], ['Đi'], ['ok'], ['Chưa,', 'đang', 'làm', 'vài', 'trận', 'game'], ['Cũng', 'được,', 'ăn_đồ', 'nướng', 'đi'], ['Okay,', 'nghe', 'đồn', 'ngon'], ['Đâu', 'cũng', 'được'], ['Okay'], ['Okay', 'luôn'], ['Ăn', 'gì', 'cũng', 'được'], ['Thôi!', 'GoGi', 'ngán', 'lắm'], ['Ăn', 'lẩu', 'nóng'], ['Ok!!!'], ['Bún', 'bò', 'Xưa'], ['chưa'], ['Không'], ['Rồi'], ['Quán', 'bà', '6'], ['chưa'], ['biến'], ['ăn'], ['ừ'], ['thấy', 'cũng', 'nhiều', 'người', 'khen'], ['để', 'kêu', 'thằng', 'em', 'di', 'cùng'], ['bao', 'thì', 'uống'], ['OK'], ['Đâu', 'cũng', 'được'], ['Gì', 'cũng', 'được'], ['Ai', 'cũng', 'được'], ['OK'], ['cơm_tấm'], ['ngoài', 'đường'], ['OK'], ['Lê', 'Văn', 'Lương,', 'Quận', '7'], ['Now'], ['lẩu', 'chay', 'làng', 'đại_học'], ['có'], ['có'], ['bánh_xèo', 'hoặc', 'lẩu'], ['được'], ['oke'], ['quán', 'sạch'], ['Không', 'quá', 'cay', 'là', 'được'], ['Việt', 'Nam,', 'Trung', 'Hoa...'], ['T6', ',', 'T7'], ['cua', 'hoàng', 'đế', 'đi'], ['nhà', 'hàng', 'nào?'], ['chỗ', 'này', 'được'], ['bao', 'thì', 'đi'], ['ok', 'đi', 'nè'], ['ok'], ['phở', 'đi'], ['cổng_trường'], ['oke'], ['đi', 'luôn'], ['không,tao', 'không_uống'], ['phở', 'đi'], ['cổng_trường'], ['oke'], ['đi', 'luôn'], ['không,tao', 'không_uống'], ['ăn', 'gà_rán'], ['canteen'], ['ăn'], ['đi'], ['đi'], ['không'], ['đi'], ['đi'], ['cũng', 'được'], ['đi'], ['OK'], ['Đâu', 'cũng', 'được'], ['Gì', 'cũng', 'được'], ['Ai', 'cũng', 'được'], ['Không'], ['OK'], ['3', 'triệu'], ['100', 'ngàn', '1', 'người'], ['cũ'], ['có'], ['có'], ['ở', 'trọ'], ['tao', 'ở', 'với', '2', 'đứa', 'nữa'], ['3', 'triệu', 'mỗi', 'tháng'], ['ở', 'Lê', 'Văn', 'Lương', 'gần', 'trường', 'nè'], ['không,', 'tao', 'đi_làm', 'thêm', 'vừa', 'đủ', 'tiền', 'trả', 'tiền', 'trọ'], ['Gần', 'trường'], ['Bạn', 'cấp', '3'], ['3'], ['3triệu'], ['Không'], ['Đường', 'Lê', 'Văn', 'Lương,', 'quận', '7'], ['4', 'triệu'], ['3', 'người'], ['Vui', 'tính'], ['Gần'], ['Khá', 'xa'], ['Thích'], ['Có'], ['4', 'phòng', 'ngủ'], ['có', 'camera'], ['2', 'cây', 'số'], ['màu', 'đỏ'], ['ba', 'mẹ'], ['Gần', 'Lotte', 'Mart.'], ['Đủ', 'ở'], ['Triệu', 'rưỡi', 'đổ', 'xuống'], ['Có'], ['có', 'chỗ', 'để', 'bếp', 'nhưng', 'không', 'có', 'bếp,', 'ăn', 'ngoài.'], ['Ở', 'đây', 'toàn', 'đi', 'xe', 'buýt,', 'có', 'xe', 'thì', 'để', 'trong', 'phòng,', 'ngủ', 'trên', 'gác.'], ['Đúng', 'rồi.'], ['Nào', 'tới', 'được', 'báo', 'trước'], ['1', 'triệu', '2'], ['có_thể'], ['2', 'cửa_hàng', 'tiện_lợi'], ['cần', '5', 'phút', 'đi', 'bộ'], ['tiết_kiệm', 'thời_gian'], ['tối_đa', '3', 'người'], ['quận', '7'], ['cũng', 'rẻ'], ['tốt'], ['có'], ['3', 'nghìn', 'rưỡi'], ['bạn', 'có_thể', 'kiếm', 'phòng', 'ở', 'Nhà', 'Bè'], ['an_ninh', 'ổn', 'ít', 'trộm_cắp'], ['không', 'quá', 'xa_trường', 'TDTU'], ['giá_cả', 'ưa', 'đãi', 'cho', 'sinh_viên'], ['ở', 'ghép', 'thì', 'bạn', 'đỡ', 'tiền', 'thuê', 'nhà', 'nhiều', 'phần'], ['nơi', 'thoáng_mát', 'yên_tĩnh'], ['người', 'lạ'], ['800k'], ['có'], ['không'], ['có'], ['Nhà', 'Bè'], ['cũng', 'ổn'], ['2', 'triệu', 'tháng'], ['bạn_trai'], ['không'], ['Chào', 'bạn'], ['Mình', 'ở', 'quận', 'Bình', 'Tân'], ['Phải,', 'tôi', 'mất', '1h', 'để', 'lái_xe', 'tới', 'trường'], ['Mỗi', 'tháng', '2tr'], ['Mình', 'ở', 'với_em', 'mình'], ['Tầm', '3', 'đến', '4', 'triệu', 'cho', '3', 'đến', '4', 'người'], ['Tùy', 'mày'], ['Tùy', 'mày', 'ăn_ở', 'đã'], ['Ở', 'chung', 'là', 'con_dao_hai', 'lưỡi'], ['Gần', 'nơi', 'mày', 'làm', 'hoặc', 'đi_học'], ['18', 'Nguyễn', 'Hữu', 'Thọ'], ['7'], ['ba', 'mẹ,', 'em_gái'], ['AEON'], ['nhỏ', 'tới', 'giờ'], ['500$'], ['điện', '3k', '1', 'số'], ['có'], ['5', 'người'], ['7', 'phòng'], ['có'], ['24', 'mét_vuông'], ['ở', 'trọ'], ['bạn'], ['sài', 'gòn.'], ['tầm', '2tr5', 'mỗi', 'người.'], ['không', 'nhưng', 'có', 'bách', 'hoá', 'xanh.'], ['đúng', 'rồi'], ['1tr2', 'chưa', 'tính', 'tiền', 'điện', 'nước'], ['cho', '2', 'người', 'nha', 'con'], ['vào', 'tuần', 'sau'], ['không', 'về', 'quá', '11', 'giờ'], ['đặt', 'trước', '1', 'tháng'], ['Nhà', 'Bè'], ['Tùy'], ['3', 'người'], ['3', 'triệu'], ['chung_cư'], ['an_ninh'], ['tao', 'đang', 'thuê', 'nhà', 'bên', 'Nhà', 'Bè'], ['triệu_rưỡi'], ['có_một', 'mình'], ['cửa', 'hàg', 'tiện', 'lợi,', 'hồ', 'bơi,', 'phòng', 'gym', 'từa', 'lưa'], ['5', 'đến', '10', 'phút'], ['cọc', 'trước', 'một', 'tháng'], ['mỗi', 'tháng', '200k'], ['Lê', 'văn', 'lương.'], ['siêu_thị', 'lotte.'], ['4', 'triệu', 'rưỡi.'], ['chưa.'], ['3', 'người.'], ['có.'], ['có.'], ['có.'], ['không', 'hẳn.'], ['đông,', 'toàn', 'sinh', 'viên.'], ['Nhà', 'Bè'], ['tốt.'], ['hai_triệu', 'rưỡi', '1', 'tháng'], ['bạn', 'học.'], ['nước', '20k/', '1m3.', 'Điện', 'thì', '3k.'], ['Lê', 'Văn', 'Lương,', 'Huỳnh', 'Tấn', 'Phát,', 'Nhà', 'Bè,...'], ['từ', '1,5', 'triệu', 'đến', '5', 'triệu', 'tùy', 'phòng'], ['sinh_viên', 'TDTU,', 'sinh_viên', 'Nguyễn', 'Tất', 'Thành,', 'sinh_viên', 'Tài', 'Chính', 'Marketing'], ['ở', 'kí_túc_xá', 'trong', 'trường'], ['quận', '1'], ['xung_quanh', 'trường,', 'Tôn', 'Đản', 'Quận', '4,', 'chợ', 'ẩm_thực', 'Hồ', 'Thị', 'Kỷ', 'Quận', '10,....'], ['tiệm', 'net', 'xung_quanh', 'trường,', 'cầu', 'Ánh', 'Sao,', 'Cresent', 'Mall,', 'Vivo', 'City,..'], ['thư_viện', 'trường'], ['ra', 'cổng', '3', 'coi_chừng', 'móc', 'túi,', 'không', 'xả', 'rác,', 'xếp_hàng', 'vào', 'thang', 'máy,', 'gặp', 'giáo_viên', 'và', 'người_lớn', 'phải', 'chào'], ['gần', 'trường'], ['không'], ['với', 'người_ở', 'ghép'], ['có', 'lotte_mart', 'với', 'vivo'], ['tiện', 'nhưng', 'hay', 'đi', 'trễ', 'vì', 'chủ_quan'], ['Trong', 'hẻm', 'nha'], ['Vậy', 'thôi', 'khỏi', 'về.'], ['Gần', 'trường', 'đại_học', 'TDT.'], ['Giá', 'rẻ.'], ['Nhiều', 'lắm', 'khi', 'nào', 'tao', 'dẫn', 'mày', 'đi.'], ['được'], ['tuân_thủ', 'theo', 'nội_quy', 'và', 'tham_gia', 'hoạt_động', 'thể_dục'], ['theo', 'học', 'kì,', 'đăng_ký', 'và', 'đóng', 'tiền'], ['gần', 'trường'], ['10', 'phút'], ['xe_máy'], ['3tr5'], ['3', 'đứa'], ['Có,', 'điện', 'nước', 'tính', 'chung'], ['Khoảng', '5km'], ['Còn'], ['Thuê', 'ở', 'đâu?'], ['Ở', 'chung', 'với', 'ai?'], ['phòng', 'rộng', 'không?'], ['giá', 'cả?'], ['trọ', 'an_toàn', 'không?'], ['có', 'máy_lạnh', 'không?'], ['Ừ,', 'Đồng', 'Nai'], ['Thuê', 'trọ'], ['Gần', 'Lotte', 'quận', '7'], ['Cũng', 'rẻ,', '1', 'triệu', '8', 'một', 'tháng'], ['Ở', 'cùng', '3', 'bạn', 'nữa'], ['Gần', 'phường', 'nên', 'an_ninh', 'lắm'], ['Có,', 'ca', '4', 'về', 'là', 'kẹt'], ['Có', 'cùng_với', '2', 'người', 'trưuòng', 'mình', 'và', '1', 'ở', 'Tài', 'chính', 'Marketing'], ['Nhiều'], ['Không'], ['ờ'], ['hỏi', 'thằng', 'Đăng', 'thử'], ['không', 'tao', 'kiếm', 'được', 'chỗ', 'rồi'], ['ừ', 'free', 'hết'], ['thuê', 'ngoài', 'đi,', 'trong', 'ktx', 'khó_chịu', 'lắm'], ['Trọ'], ['bên', 'Lê', 'Văn', 'Lương'], ['Bạn'], ['4'], ['2tr5/tháng'], ['quận', '7'], ['5', 'triệu', '1', 'tháng'], ['3', 'người'], ['2', 'đứa', 'bạn'], ['không'], ['chuyển_khoản'], ['1', 'năm'], ['tự', 'trả'], ['2', 'triệu', '/', 'tháng'], ['Có'], ['Tối', 'đa', '4'], ['Không'], ['chung_cư'], ['1', 'triệu', '100k'], ['3', 'đứa', 'chung', 'khoa'], ['có'], ['như', 'giá', 'nhà_nước'], ['có', 'bảo_vệ', 'nên', 'an_ninh'], ['13'], ['có'], ['dễ'], ['tuỳ', 'chỗ', 'nhưng', 'cũng', 'khá', 'rẻ'], ['tốt', 'em', 'ơi'], ['không', 'rõ'], ['rộng'], ['tạm', 'ổn'], ['bạn', 'học'], ['rất', 'ổn'], ['hiền'], ['gần', 'trường'], ['có'], ['Sài', 'Gòn'], ['Tiền', 'Giang'], ['Năm'], ['Có'], ['Quận', '8'], ['Không'], ['Nguyễn', 'Thị', 'Tần'], ['Tám'], ['Ba'], ['Hồ', 'Chí', 'Minh'], ['Chả', 'có', 'gì', 'hết'], ['Thành', 'phố'], ['quận', '11'], ['khá', 'xa'], ['Lạc', 'Long', 'Quân'], ['không', 'có'], ['1', 'tấm'], ['Quận', '3.'], ['Không', 'rõ.'], ['Không', 'hay.'], ['Không', 'biết.'], ['6', 'người'], ['3', 'phòng', 'ngủ.'], ['3', 'phòng', 'tắm.'], ['4', 'tầng.'], ['tp.hcm'], ['tp.hcm'], ['hà_nội'], ['142', 'Lê', 'Văn', 'Sỹ,', 'phường', '12,', 'Quận', 'Phú', 'Nhuận,', 'Tp.', 'Hồ', 'Chí', 'Minh'], ['đang', 'ở', 'Sài', 'Gòn'], ['với', 'mấy', 'đứa', 'bạn'], ['Huế'], ['có', 'cơm', 'hến', 'ngon'], ['bún_bò', 'Huế', 'nấu', 'với', 'ruốc'], ['Nhơn', 'Trạch', 'Đồng', 'Nai'], ['ở', 'đây'], ['quận', '11'], ['Thành', 'phố', 'Hồ', 'Chí', 'Minh'], ['tui', 'ở', 'Tân', 'Bình'], ['nhà', 'tui', 'cách', 'trường', '9km', 'lận'], ['hong,', 'xa', 'lắm'], ['TPHCM'], ['TPHCM'], ['Hà', 'Thành'], ['Quận', '7'], ['Bến', 'Tre'], ['thành_phố'], ['ở', 'chung'], ['ở', 'ở', 'nhà.'], ['ở', 'chung'], ['Bến', 'Te'], ['Mỹ', 'Tho'], ['Không', 'chắc'], ['t', 'ở', 'q6', 'lận', ':))', 'hơi', 'xa', 'hjhj'], ['có', 'nhea'], ['quê', 'tuốt', 'ngoài', 'hà_nội', 'lận'], ['cũng', 'hok', 'có', 'biết', 'nữa', 'má', ':))))', 'hong', 'có', 'zìa', 'quê', 'lâu', 'gòy'], ['ở', '19', 'NHT'], ['Mày', 'hỏi', 'để', 'đi_qua', 'ăn', 'ké', 'à'], ['Không', 'chung', 'chả', 'lẽ', 'tao', 'ở', 'với', 'mày'], ['Ăn_bám', 'gia', 'đình,', 'tự', 'hiểu', 'đi'], ['Quận', '8'], ['có'], ['thành_phố'], ['Sì', 'gòn'], ['Quảng', 'Nam'], ['ở', 'nhà'], ['Tân', 'Bình', 'hẻm', '48', 'bùi_thị', 'xuân.'], ['Có', 'nhiều', 'lắm', ',', 'rất', 'xinh', 'nữa.'], ['Nhà', 'tao', 'có', '12', 'anh_chị', 'em.'], ['Tân', 'Bình', 'hẻm', '48', 'bùi_thị', 'xuân.'], ['Có', 'nhiều', 'lắm', ',', 'rất', 'xinh', 'nữa.'], ['Nhà', 'tao', 'có', '12', 'anh_chị', 'em.'], ['Nhà', 'tao'], ['Để', 'tao', 'hỏi', 'mẹ'], ['Có'], ['Quận', '1'], ['Đường', 'phènnnn'], ['ở', 'Việt', 'Nam'], ['có'], ['quê', 'ở', 'quận', '5'], ['có', 'tiệm', 'tạp', 'hóa,', 'khách_sạn'], ['nguyễn_huệ'], ['Nha', 'Trang'], ['Ở_riêng'], ['Quận', '8'], ['10', 'phút', 'thôi'], ['Miền', 'Trung', 'nhá'], ['Mình', 'đi_làm', 'nên', 'ở_riêng', 'rồi'], ['Chi', 'vậy', 'bạn', '?'], ['Quê', 'mình', 'ở', 'Bắc', 'Giang'], ['ở', 'Việt', 'Nam'], ['có'], ['có', 'mát', 'xa'], ['gần', 'nhà', 'm'], ['Quận', '7'], ['Quy', 'Nhơn'], ['Gia', 'đình'], ['3xx', 'đường', 'Y', 'Moal,', 'phường', 'Tân', 'Lợi,', 'TP.Buôn', 'Ma', 'Thuột,', 'tỉnh', 'ĐắkLắk'], ['Đường', 'rộng', 'thênh', 'thang,', 'nhiều', 'quán', 'trà', 'sữa,', 'ăn', 'vặt.', 'Đặc_biệt', 'là', 'nhiều', 'ninja,', 'nhiều', 'người_mua', 'đường', 'và', 'nhiều', 'dân', 'chơi.'], ['Sài', 'Gòn'], ['Tân', 'Bình'], ['Thành', 'phố', 'Vũng', 'Tàu'], ['Mình', 'ở', 'ngay', 'trung_tâm', 'luôn'], ['ở', '380/81', 'Lê', 'Văn', 'Lương,', 'rảnh', 'ghé', 'chơi.'], ['Tiền', 'Giang'], ['số', '2', 'đường', 'Nguyễn', 'Hữu', 'Thọ,', 'Quận', '7'], ['Lê', 'Văn', 'Lương'], ['sao', 'tôi', 'nhớ', 'được', 'chứ', '.'], ['Trong', 'tim', 'Cún'], ['ở', 'Nhà'], ['Long', 'An'], ['Long', 'An'], ['ở', 'Nhà'], ['Long', 'An'], ['Long', 'An'], ['ở', 'Nhà'], ['Long', 'An'], ['Long', 'An'], ['ở', 'đây'], ['khỏe'], ['Khỏe'], ['Nhà', 'hàng_xóm'], ['Đường', 'xích_đạo'], ['chi'], ['gần'], ['3km'], ['có'], ['chung'], ['Texas'], ['không'], ['đúng'], ['Việt', 'Nam'], ['Tân', 'Bình', 'hẻm', '48', 'bùi_thị', 'xuân.'], ['Có', 'nhiều', 'lắm', ',', 'rất', 'xinh', 'nữa.'], ['Nhiều', 'lắm', 'kể', 'ko', 'hết.'], ['hcm'], ['yup'], ['hông', 'nói'], ['yup'], ['dữ_liệu', 'cá_nhân'], ['yes'], ['xa'], ['nothing'], ['tự_lập_là', 'dở', 'rồi'], ['dữ_liệu', 'cá_nhân', 'xin_lỗi', 'không_thể', 'tiết_lộ'], ['tại_sao', 'là', 'muốn', 'chứ'], ['ở', 'nhà'], ['Lành', 'lặn'], ['Tò', 'mò', '?'], ['Quán', 'net'], ['Nguyễn', 'Thị', 'Tần'], ['tiến_quân_ca'], ['nhiều'], ['Vịnh', 'Hạ', 'Long,', 'Hội', 'An', ',...'], ['ai', 'biết'], ['Vũng', 'Tàu'], ['Vì', 'ở', 'đó', 'tôi', 'có_thể', 'tắm', 'biển.'], ['Tôi', 'rất', 'thích', 'đi', 'Đà', 'Nẵng', 'vào', 'những', 'ngày_nắng', 'đẹp'], ['Vì', 'Hà', 'Nội', 'có', 'H.'], ['Thái', 'Bình'], ['thành_phố', 'Hồ', 'Chí', 'Minh'], ['Việt', 'Nam'], ['không'], ['không'], ['phải'], ['Có.'], ['Núi', 'và', 'sông.'], ['Đẹp.'], ['Có.'], ['Núi', 'và', 'sông.'], ['Đẹp.'], ['SaPa'], ['Vì', 'ở', 'đó', 'tôi', 'có_thể', 'thấy', 'tuyết', 'rơi.'], ['Tôi', 'rất', 'thích', 'đi', 'Đà', 'Nẵng', 'vào', 'những', 'ngày_nắng', 'đẹp'], ['Vì', 'Hà', 'Nội', 'có', 'H.'], ['Ninh', 'Thuận'], ['Trái', 'nho', 'nhé.'], ['t', 'nghe_nói', 'Quảng', 'Nam', 'có', 'món', 'gì', 'mì', 'mì', 'đó', 'phải', 'không'], ['à', 'đúng', 'rồi'], ['ở', 'đó', 'có', 'chi', 'chơi', 'không'], ['haha,', 'gì', 'dữ', 'vậy'], ['Có.'], ['Dừa', 'và', 'sông.'], ['Đẹp.'], ['có', 'rất', 'nhiều'], ['đang', 'bị', 'virus', 'lại'], ['chưa_biết'], ['có', 'chứ'], ['rất', 'thân_thiện'], ['đúng', 'vậy'], ['quê', 'ở', 'Tiền', 'Giang'], ['có', 'đồ', 'ăn,', 'lúc_nào', 'cũng', 'có', 'đồ_ăn'], ['có', 'tết', 'với', 'các', 'kì', 'nghỉ', 'dài', 'như', '30-4,1-5', 'là', 'có', 'về', 'quê', 'á'], ['Phú', 'Yên'], ['Đẹp'], ['Ok', 'về'], ['63', 'tỉnh'], ['Đà_nẵng'], ['Có', 'mày'], ['Ừa', 'mày'], ['có', 'ở', 'vịnh_hạ_long', 'nè'], ['đẹp'], ['Nghệ', 'An'], ['khoảng', '1500km'], ['máy_bay'], ['miến', 'lươn,', 'kẹo', 'cu', 'đơ,', 'khoai', 'xéo,...'], ['Cửa', 'lò,', 'Quảng', 'trường', 'HCM,', 'Quê', 'Bác'], ['được'], ['Đồng', 'Tháp'], ['tháng', '6', 'này'], ['10', 'đứa', 'nữa'], ['xe_máy'], ['nhà', 'tao'], ['Có', 'mày'], ['Ừa', 'mày'], ['Hà', 'Nội'], ['bún_chả'], ['bình_thuận'], ['có', 'chứ'], ['hải_sản'], ['thanh_long'], ['nhiều'], ['phan', 'thiết,', 'mũi', 'né,', 'bàu_trắng'], ['Yêu', 'chứ'], ['Học', 'thôi'], ['Long', 'Xuyên,', 'An', 'Giang.'], ['Leo', 'đồi,', 'leo', 'núi.'], ['Hình', 'như_không'], ['Nghe', 'cũng', 'được.'], ['khó', 'à', 'nha'], ['TQ'], ['nước_mỹ'], ['nga'], ['nước', 'đường'], ['VN'], ['England'], ['thịt', 'chó'], ['có', 'chứ', 'bay'], ['hihi,', 'họ', 'chơi', 'rất', 'được'], ['Việt', 'Nam'], ['Vĩnh', 'Long'], ['Vĩnh', 'Hạ', 'Long'], ['Khu', 'du_lịch', 'Vinh', 'Sang'], ['Quê', 'tao', 'ở', 'tp', 'Hồ', 'Chí', 'Minh.'], ['Vậy', 'thì', 'tao', 'không', 'có', 'quê', 'chịu', 'chưa?'], ['dĩ_nhiên'], ['quá', 'chi', 'là', 'thân_thiện'], ['tổ_quốc', 'thân_thương'], ['rất', 'tự_hào'], ['rất', 'xinh_đẹp'], ['Trung', 'Quốc'], ['1,398', 'tỷ'], ['4', 'mùa', 'quanh_năm'], ['Chưa', 'biết'], ['Có'], ['Việt', 'Nam'], ['tiến_việt'], ['Ninh', 'Thuận'], ['Việt', 'Nam'], ['Việt'], ['Quảng', 'Bình'], ['Thành', 'Phố', 'HCM'], ['Bình', 'Tân', '-', 'bò', 'nhiều', 'hơn', 'dân'], ['Vui'], ['Ok'], ['Còn', 'tao', 'mua', 'bia'], ['Bắc', 'ninh'], ['Việt', 'Nam'], ['Không', 'có'], ['Quan', 'họ'], ['Bắc'], ['Đẹp', 'lắm', 'mày.'], ['Rồi.'], ['Dạo', 'này', 'khá', 'lạnh.'], ['Đang', 'ổn_định', 'lại'], ['Mới', 'phát_hiện', 'vài', 'ca'], ['Dừa.', 'Kẹo', 'dừa.'], ['Phở', 'là', 'ngon', 'nhất.'], ['Mùng', '10', 'tháng', '3'], ['Việt', 'Nam'], ['Miền', 'Nam'], ['HCM'], ['Quận', '7'], ['Phở', 'bò'], ['Không'], ['Bến', 'tre'], ['Tết'], ['ừ'], ['người', 'thành_phố'], ['Bắc', 'ninh'], ['Việt', 'Nam'], ['Không', 'có'], ['Quan', 'họ'], ['Bắc'], ['Đồng', 'Nai'], ['nhiều', 'không', 'kể', 'hết'], ['vườn', 'cây', 'và', 'người_thân'], ['lô', 'cao_su', 'và', 'núi_đá'], ['không'], ['Việt', 'Nam'], ['Muối', 'và', 'bánh_tráng'], ['Hoa', 'Sen'], ['Cụ', 'Lương', 'Văn', 'Chánh'], ['Tràm', 'chim,', 'Lăng', 'cụ', 'Phó', 'Bản', 'Nguyễn', 'Sinh', 'Sắc,', 'Tháp', 'Mười.'], ['Ừ,', 'mai', 'tao', 'về', 'Huế'], ['Có', 'vài', 'món', 'đặc_sản', 'và', 'địa_điểm', 'du_lịch'], ['Nem', 'lụi', 'Huế,', 'vả', 'trộn,', 'tré', 'Huế,', 'và', 'các', 'loại', 'bánh', 'như', 'bánh', 'bèo,', 'bánh', 'bột', 'lọc,', 'bánh_nậm'], ['Kinh', 'thành', 'Huế,', 'chùa', 'Thiên', 'Mụ,...'], ['Được,', 'tao', 'dẫn', 'đi_chơi', 'cho_biết'], ['Đắk', 'Lắk'], ['Đắk', 'Lắk', 'luôn'], ['Việt', 'Nam', 'nhé'], ['năm', '2017'], ['có'], ['Quảng', 'Ngãi'], ['nhiều', 'lắm'], ['don'], ['tầm', '900km'], ['tầm', '15', 'tiếng', 'đồng_hồ'], ['Nghệ', 'An'], ['Có', 'đồng', 'ruộng', 'à'], ['Cu', 'đơ'], ['Xa', 'lắm'], ['Đi', 'tàu', '2', 'ngày', 'đấy'], ['Việt', 'Nam'], ['Châu', 'Á'], ['Miền', 'Nam'], ['Có'], ['Nhiều', 'gái', 'đẹp'], ['Thật'], ['Ừ,', 'mai', 'tao', 'về', 'Huế'], ['Có', 'vài', 'món', 'đặc_sản', 'và', 'địa_điểm', 'du_lịch'], ['Nem', 'lụi', 'Huế,', 'vả', 'trộn,', 'tré', 'Huế,', 'và', 'các', 'loại', 'bánh', 'như', 'bánh', 'bèo,', 'bánh', 'bột', 'lọc,', 'bánh_nậm'], ['Kinh', 'thành', 'Huế,', 'chùa', 'Thiên', 'Mụ,...'], ['Được,', 'tao', 'dẫn', 'đi_chơi', 'cho_biết'], ['Săn', 'bắt', 'hái_lượm'], ['Núi', 'Bà', 'Rá'], ['Bình', 'Định'], ['Có', 'chứ'], ['Bình', 'Dương'], ['Về', 'chứ', 'sao', 'không'], ['Tiền', 'Giang'], ['đi', 'không', 'hết', 'ấy', 'chứ'], ['đi', 'được', 'thì', 'cứ', 'alo'], ['chính_xác'], ['ừm,', 'có', 'cả', 'biển', 'nữa'], ['ăn', 'ngập', 'mặt'], ['Bắc', 'ninh'], ['Việt', 'Nam'], ['Không', 'có'], ['Quan', 'họ'], ['Bắc'], ['cả', 'hai'], ['gần', 'gia_đình'], ['năng_động', 'hơn'], ['Phan', 'Thiết', 'và', 'Đà', 'Lạt'], ['mát', 'mẻ,', 'yên_tĩnh'], ['cái', 'nóng', 'của', 'phố_biển'], ['Hà', 'Tây'], ['VietNam'], ['Hồ', 'Hoàn', 'Kiếm', 'hay_là', 'chợ', 'đêm', 'Hà', 'Nội'], ['có'], ['Vịnh', 'Hạ', 'Long'], ['Đã', 'lên', 'xã'], ['có', 'chứ'], ['Tinh', 'thần', 'yêu_nước'], ['Có'], ['cần', 'giờ'], ['quê', 'mình', 'đẹp', 'lắm'], ['uhm', 'đúng', 'vậy'], ['Việt', 'Nam', 'Hồ', 'Chí', 'Minh'], ['ok', 'mày', 'chở', 'nha'], ['Ninh', 'bình'], ['yêu', 'nhiều'], ['VIệt', 'nam'], ['331.212', 'km²'], ['91', 'triệu'], ['thịt', 'dê', 'cơm', 'cháy'], ['Hà', 'Nội'], ['cua'], ['Rừng', 'sát'], ['Bắc', 'ninh'], ['Việt', 'Nam'], ['Không', 'có'], ['Quan', 'họ'], ['Bắc'], ['Mẹ'], ['Còn', 'phải', 'hỏi'], ['Chọn', 'mày'], ['Không', 'cần', 'biết'], ['2'], ['bàn_chân'], ['chim_nướng'], ['không_biết'], ['tôi', 'có', 'giàu', 'đâu', 'mà', 'hỏi'], ['Chưa'], ['Gì', 'cũng', 'được'], ['Đâu', 'cũng', 'được'], ['Muốn', 'ăn', 'gì_thì', 'ăn'], ['thích', 'đi', 'Nha', 'Trang', 'ăn_bún', 'sứa'], ['đồng_ý', 'luôn'], ['tao_thích', 'ăn', 'hủ_tiếu', 'mì', 'nhưng', 'ra', 'cầu', 'Kênh', 'Tẻ', 'ăn', 'đi.'], ['đi', 'cafe', 'nhưng', 'đừng', 'chạy_bộ'], ['tao_thích', 'lẩu', 'cá_kèo', 'hơn'], ['chưa', 'làm', 'cái', 'nào', 'hết'], ['tao', 'còn', 'đang', 'tìm', 'người_làm', 'rồi'], ['chán', 'cơm', 'thèm', 'hủ', 'tiếu,', 'tao', 'không', 'thích', 'phở'], ['đi', 'luôn'], ['ở', 'đấy', 'có', 'cháo', 'ếch', 'thôi,', 'nhưng', 'cũng', 'đi', 'ăn', 'đi.'], ['vì', 'một', 'con', 'là', 'con', 'chim', 'còn', 'một', 'con', 'là', 'con_bò'], ['tui', 'còn', 'học', 'đồng_thời', 'còn', 'phụ', 'bán_hàng', 'ở', 'nhà'], ['tui', 'thích', 'ngành', 'này', 'học', 'vì', 'nó', 'là', 'đam_mê'], ['đi_chơi', 'với', 'gd', 'thì', 'không', 'lo_nghĩ', 'về', 'tiền_bạc', 'và', 'được', 'yêu', 'thương.', 'còn', 'đi', 'với', 'bạn_bè', 'thì', 'vui', 'vẻ,', 'được', 'tán_gẫu', 'về', 'mọi', 'thứ'], ['Là', 'học_máy'], ['ML', 'là', '1', 'mảng', 'chỉ', 'của', 'AI'], ['như', 'cớt,', 't', 'muốn', 'đi_ngủ', 'liền.'], ['Là', 'gi', 'ai', 'biết'], ['Khủng', 'long', 'có', 'trước'], ['Không', 'trả_lời'], ['Hóa', '0', 'điểm,', 'đừng', 'hỏi'], ['8-bit'], ['cái', 'tên', 'hjhjhj', ':))))', 'i', 'zì', 'game'], ['chắc', 'là', 'cái', 'neo', ':v'], ['bố', 'mày', 'dí', 'buồi', 'nói'], ['Ổn.', 'Mỗi', 'tội', 'phải', 'mơ', 'nó', 'mới', 'ổn', 'thôi'], ['Tao', 'có', 'nhớ', 'gì', 'đâu'], ['Cái', 'nào', 'chả', 'đúng.', 'Mày', 'bị', 'dở_người', 'à?'], ['ở_riêng', 'vì', 'tao_thích', 'tự_do'], ['đẹp,', 'hiền,', 'ngoan', 'là', 'được'], ['là', '1', 'thứ', 'xa_xỉ', 'mà', 'có', 'tiền', 'là', 'có', 'tất_cả'], ['Tại', 'sao', 'mày', 'hỏi', 'ngu_ngốc', 'vậy', '?', 'Tại', 'nhạc_sĩ', 'ổng', 'viết', 'vậy', 'chứ', 'sao'], ['Tớ', 'tên', 'Tùng', ',', 'nhà', 'tớ', 'ở', 'Green', 'way', 'coffee', 'khu', 'dân_cư', 'Kim', 'Sơn', ',', 'tớ', 'đang', 'có', '1', 'chị_gái', 'mưa.'], ['Tớ', 'thích', 'lái', 'cậu.'], ['Tớ', 'hay_ăn', 'ở', 'vỉa_hè', 'gần', 'nhà.'], ['Tớ', 'đi', 'xe_bò', ',', 'cột', 'được', '4', 'con', 'bò.'], ['Tớ', 'tên', 'Tùng', ',', 'nhà', 'tớ', 'ở', 'Green', 'way', 'coffee', 'khu', 'dân_cư', 'Kim', 'Sơn', ',', 'tớ', 'đang', 'có', '1', 'chị_gái', 'mưa.'], ['Tớ', 'thích', 'lái', 'cậu.'], ['Tớ', 'hay_ăn', 'ở', 'vỉa_hè', 'gần', 'nhà.'], ['Tớ', 'đi', 'xe_bò', ',', 'cột', 'được', '4', 'con', 'bò.'], ['tao', 'không_biết'], ['tao', 'không_biết'], ['mày', 'khùng', 'rồi'], ['mày', 'khùng', 'rồi'], ['trái_đất', 'là', 'hình', 'elip', 'mà'], ['tao', 'không_biết'], ['tao', 'không_biết'], ['mày', 'khùng', 'rồi'], ['mày', 'khùng', 'rồi'], ['trái_đất', 'là', 'hình', 'elip', 'mà'], ['Điên', 'à', '?'], ['?????'], ['???????????'], ['Nhà', 'chi'], ['tao', 'không_biết'], ['tao', 'không_biết', 'say'], ['Biết'], ['tui', 'vừa', 'đi_học', 'vừa', 'làm', 'linh_tinh', 'bên', 'ngoài', 'đây', 'nè'], ['Giá', 'trị', 'thặng_dư', 'tư_bản', 'chủ_nghĩa', '(m)', 'là', 'một_phần', 'giá_trị', 'mới', 'do', 'lao_động', 'sống', 'tạo', 'thêm', 'ra', 'ngoài', 'giá_trị', 'hàng_hoá', 'sức', 'lao', 'động,', 'là', 'lao_động', 'không', 'được', 'trả', 'công', 'của', 'người_lao_động', 'làm', 'thuê.', 'Có', '2', 'loại', 'là', 'giá_trị', 'thặng_dư', 'tương_đối', 'và', 'giá_trị', 'thặng_dư', 'tuyệt', 'đối.'], ['Tiền', 'tệ', 'là', 'thước_đo', 'giá', 'trị,', 'dùng', 'để', 'đo_lường', 'giá_trị', 'của', 'các', 'loại', 'hàng', 'hóa.Chức', 'năng', 'của', 'tiền_tệ', 'là:', 'trao', 'đổi,', 'phương_tiện', 'thanh', 'toán,', 'tích', 'lũy.'], ['thích_nhất', 'là', 'Iron', 'Man.', 'Không', 'ghét', 'ai', 'cả.', 'Tại', 'vì', 'cốt_truyện'], ['Lươn', 'lẹo,', 'tuy', 'cảm_động', 'nhưng', 'không_chân', 'thật'], ['Chưa.', 'Cảm', 'giác', 'đó', 'đau.', 'Không', 'biết', 'làm_gì'], ['Nha', 'Trang.', 'Gầy', 'chứ.', 'Thu', 'nhập', 'không', 'ổn'], ['Thích.', 'Xinh', 'đẹp.', 'Rồi', 'ạ'], ['Chơi', 'game.', 'Tại', 'vì', 'nó', 'giải_trí'], ['Chắc', 'chắn', 'rồi'], ['chắc_chắn', 'là', 'nữ'], ['Mày', 'lên', 'làm_thinh', 'đi'], ['Đẹp', 'như', 'nhau', 'cả'], ['Mày', 'lên', 'làm_thinh', 'đi'], ['Đẹp', 'như', 'nhau', 'cả'], ['Mày', 'lên', 'làm_thinh', 'đi'], ['Đẹp', 'như', 'nhau', 'cả'], ['1,', 'ngu'], ['5'], ['Hả', '?'], ['Điên', 'hả'], ['Trái', 'đất', 'là', 'hình_phẳng'], ['éo', 'trl.'], ['Tớ', 'thích', 'lái', 'cậu.'], ['ăn', 'cậu.'], ['Đi', 'limo'], ['không'], ['không'], ['không'], ['không'], ['không'], ['Năm', 'một', 'chín', 'hồi', 'đó,', 'người', 'đứng_đầu', 'chỉ_huy'], ['Không,', 'nhớ', 'gì', 'nói', 'đó'], ['Con', 'trứng', 'gà'], ['Ngặm', 'ngón_tay', 'vào'], ['Nhà', 'vợ'], ['Đi', 'ngủ'], ['Kệ', 'nó', 'luôn'], ['Có', 'và', 'có'], ['Ừ_thì', 'rồi'], ['Tao', 'đố', 'ngược_lại', 'mày', 'đấy'], ['Hỏi', 'chúa'], ['?'], ['mày', 'khùng', 'rồi'], ['Trái', 'đất', 'là', 'hình', 'elip', 'mà'], ['Không'], ['Không'], ['Đợi', 'xíu', 'qua', 'liền'], ['Đi', 'liền'], ['có'], ['vào', 'rồi'], ['đà_lạt'], ['không'], ['đi'], ['nào', 'cũng', 'rảnh'], ['được'], ['đương_nhiên', 'là', 'có', 'rồi'], ['hỏi', 'gì', 'v', 'cha?'], ['không'], ['cút'], ['cút'], ['thứ', '6', 'tuần', 'sau'], ['ngày', 'nào', 'cũng', 'rãnh'], ['đương_nhiên', 'là', 'không', 'rồi'], ['zo'], ['Như', 'răng', 'khểnh'], ['Ờ'], ['Do', 'mày', 'nghĩ', 'thế', 'thôi'], ['thua', 'toàn', 'hack'], ['không', 'em'], ['vãi', 'hàng!'], ['bánh_mì', 'không', 'em?'], ['cút', 'ngay', 'thằng', 'hề!'], ['Ở', 'đâu?'], ['Không', 'thích,', 'làm_gì', 'nhau?'], ['Kệ', 'tui...'], ['Thích', 'thì', 'đi', 'mà', 'không', 'thích_thì', 'đi'], ['Thôi', 'ở', 'nhà.'], ['Thế', 'cơ', 'á.'], ['Tao,', 'đàn_em', 'của', 'Tài', 'chó', 'điên,', 'một_mình', 'tao', 'chấp', 'hết.'], ['Chơi', 'banh', 'đũa', 'đê.'], ['Không,bị', 'hốt', 'đi', 'bộ', 'về.'], ['thích'], ['Có'], ['không'], ['dev'], ['Kệ', 'nó,', 'không', 'quan_tâm'], ['Nên', 'mua', 'Apple'], ['Nhớ', ':\"<'], ['Đúng', 'rồi', ':)))'], ['Gì', 'cũng', 'được'], ['khum'], ['khum'], ['khum'], ['chưa', 'ăn', 'gì.'], ['chơi', 'anh', 'luôn.'], ['dạo', 'này', 'hơi', 'gầy.'], ['hôm', 'bữa', 'mới', 'có', 'job.'], ['angry'], ['Both'], ['Challenge'], ['thích', 'quất', 'đừng', 'hỏi'], ['Không', 'rảnh', 'tí', 'nào', 'cả'], ['Bận', 'tối_mắt', 'tối_mũi'], ['Nhà', 'bao', 'việc'], ['Chưa', 'có', 'nha.', 'Mình', 'đang', 'còn', 'sợ', 'ế', 'đây', 'này'], ['Chưa', 'xong.', 'Xong', 'tao', 'gửi.'], ['Mấy', 'giờ?'], ['Ui', 'giờ', 'đi', 'thì', 'đi', 'sợ', 'gì'], ['Nhào', 'vô', 'kiếm', 'sẹo'], ['Tất', 'nhiên', 'là', 'không'], ['Tại', 'vì', 'tao', 'là', 'bồ', 'của_em', 'gái', 'mày.'], ['Vì', 'mày', 'đang', 'hỏi', 'tao.'], ['Đúng', 'rồi.'], ['OK', 'nhé.'], ['Vì', 'bánh_bao', 'ngon', 'như', 'cậu', 'ý.'], ['Không', 'nha', 'dỗi', 'rồi.'], ['Tại', 'vì', 'tao', 'là', 'bồ', 'của_em', 'gái', 'mày.'], ['Vì', 'mày', 'đang', 'hỏi', 'tao.'], ['Đúng', 'rồi.'], ['OK', 'nhé.'], ['Vì', 'bánh_bao', 'ngon', 'như', 'cậu', 'ý.'], ['Không', 'nha', 'dỗi', 'rồi.'], ['Kệ', 'tao,', 'chắc', 'mày', 'cao'], ['Ok,', 'you', 'win'], ['Tao', 'không', 'thích', 'mối', 'quan_hệ', 'đồng_tính'], ['Đi', 'coi', 'lịch', 'đi', 'hỏi', 'tao', 'làm_gì'], ['Không,', 'bệnh_hoạn'], ['tao', 'cóq', 'người_yêu', 'rồi'], ['tao', 'từng', 'đi', 'đóng', 'hài', 'mà'], ['không', 'bạn', 'ơi'], ['thanks'], ['tao', 'có', 'rồi,', 'có', 'mày', 'chưa', 'có'], ['Gì', '?'], ['Thôi.', 'Thầy', 'Cường', 'khó', 'lắm'], ['Cũng', 'dễ'], ['Ăn', 'cơm'], ['Hỏi', 'chi'], ['Không'], ['Chi'], ['Đợi', 'xíu'], ['Qua', 'chở', 'đi'], ['tao', 'có', 'người_yêu', 'rồi'], ['tao', 'từng', 'đi', 'đóng', 'hài', 'mà'], ['không', 'bạn', 'ơi'], ['thanks'], ['tao', 'có', 'rồi,', 'có', 'mày', 'chưa', 'có'], ['dằn', 'thì', 'nói', 'mình', 'dơ,', 'mà', 'rút', 'lỡ', 'quác', 'nó', 'nói', 'mình', 'ngu'], ['Rồi'], ['Thôi,', 'mất_công', 'dọn', 'bàn', 'nữa'], ['Bảnh', 'như_anh', 'Khá'], ['Đạo_hàm'], ['Tại', 'cô', 'có', 'số', 'má'], ['Theo', 'mình', 'là', 'dằn', 'dơ'], ['Chai', 'nước', 'thì', 'làm'], ['Bạch', 'Mai'], ['Hét', 'to:', '“', 'Mình', 'thích', 'bạn', 'gì', 'đó”', 'trước', 'trường'], ['Tim', 'Long'], ['Bị', 'ăn', 'đập!'], ['có', '20k.'], ['hết', 'tiền.'], ['Không,', 'nghỉ_tết', 'xong', 'là', 'thi', 'giữa', 'kỳ', 'rồi.'], ['Chấp', 'trước', '10', 'điểm,', 'quánh', '50', 'điểm', '?'], ['không', 'đủ', 'tuổi'], ['chừng', 'nào', 'mình', 'kiếm', 'được', 'Thị', 'Nỡ', 'đi_rồi', 'mình', 'tặng', 'bạn', 'luôn', 'nha.'], ['muốn', 'lắm'], ['Có'], ['Thui,', 'nhìn', 'Mai', 'mà', 'Long', 'thấy', 'yêu', 'Híu', 'hơn', ':D'], ['Lúc', 'có', 'lúc', 'không'], ['Tất', 'nhiên', 'là', 'có', 'rồi'], ['Có', 'rồi'], ['Lúc', 'có', 'lúc', 'không'], ['Tất', 'nhiên', 'là', 'có', 'rồi'], ['Có', 'rồi'], ['Lúc', 'có', 'lúc', 'không'], ['Tất', 'nhiên', 'là', 'có', 'rồi'], ['Có', 'rồi'], ['Chưa'], ['Chọc', 'cười', 'tao', 'hả'], ['Hey'], ['Mày', 'có', 'bồ', 'à', '?'], ['là', 'mày'], ['Dô'], ['Ai', 'rãnh'], ['nhiều'], ['không'], ['ừ'], ['Chơi'], ['Dách'], ['Đi'], ['đi'], ['Tại', 'vì', 'tao', 'là', 'bồ', 'của_em', 'gái', 'mày.'], ['Vì', 'mày', 'đang', 'hỏi', 'tao.'], ['Đúng', 'rồi.'], ['OK', 'nhé.'], ['Vì', 'bánh_bao', 'ngon', 'như', 'cậu', 'ý.'], ['Không', 'lêu', 'lêu.'], ['có'], ['co'], ['có'], ['có'], ['không'], ['Mới', 'ăn', 'hồi', 'trưa'], ['Ở', 'nhà', 'à'], ['Hỏi', 'làm', 'cái', 'lol', 'gì'], ['Hỏi', 'chi', 'vậy?'], ['Tầm', '7', 'củ'], ['Nhạt'], ['Nhiều'], ['Ngại', 'gì', 'mà', 'không'], ['Nếu', 'bạn', 'tặng', 'tui', 'cái', 'ai', 'drew', 'thì', 'tui', 'sẵn_sàng', 'tặng', 'bạn', 'bất_cứ', 'cái', 'áo', 'nào', '2tr'], ['Tao', 'có', 'bồ,', 'mày', 'thì', 'không'], ['Tao', 'chúa', 'hề', 'mà'], ['?'], ['Tao', 'không', 'muốn', 'mày', 'buồn'], ['tao', 'có', 'rồi,', 'đừng_có', 'gạ'], ['sài_gòn'], ['không'], ['khô', 'cá'], ['5', 'tiếng'], ['có'], ['Vũng', 'Tàu'], ['bánh', 'khọt'], ['3', 'tiếng'], ['có'], ['150', 'km'], ['Sóc', 'Trăng'], ['5', 'tiếng'], ['Có', 'đầy'], ['Bánh', 'pía'], ['Được', 'nghỉ', 'thì', 'về'], ['Quảng', 'Nam.'], ['Phố', 'cổ', 'Hội', 'An'], ['Đi', 'máy_bay', 'tầm', '1', 'tiếng'], ['5', 'người'], ['Không'], ['8', 'tháng'], ['Có'], ['Có'], ['Mỳ', 'quảng'], ['Biết'], ['Tiền', 'Giang'], ['nhớ', 'chứ'], ['tất', 'nhiên', 'rồi'], ['bằng', 'xe', 'máy'], ['có', 'bánh', 'tráng'], ['Đà', 'Lạt'], ['Dâu,', 'mứt,', 'rượu', 'vang,', 'khí', 'hậu,', '...'], ['Có', 'các', 'địa_điểm', 'du', 'lịch,', 'hồ', 'Xuân', 'Hương,', 'chợ', 'đêm,', 'ăn_vặt', 'đường_phố'], ['7', 'tiếng'], ['Ngoại', 'trừ', 'tao', 'ra', 'thì', 'cả', 'nhà_ở', 'đó.'], ['Một', 'ít,', 'đa_số', 'ở', 'quê', 'gốc.'], ['Tết', 'tao', 'về'], ['Được', 'chứ'], ['thành_phố', 'Hồ', 'Chí', 'Minh'], ['1', 'năm', '2', 'lần'], ['tất_nhiên', 'rồi'], ['Tết', 'nào', 'cũng', 'về'], ['đẹp'], ['Cà', 'mau'], ['của'], ['7', 'tiếng'], ['Đất', 'Mũi'], ['có'], ['quê_mình', 'ở', 'Tiền', 'Giang'], ['quê_mình', 'gần', 'biển'], ['đặc_sản', 'quê_mình', 'có_vú', 'sữa', 'lò_rèn'], ['từ', 'đây', 'về', 'Tiền', 'Giang', 'đi', 'mất', '64km'], ['hiện_tại', 'ở', 'quê', 'có', 'cậu', 'với', 'mợ', 'mình'], ['có', 'mình', 'rất', 'nhớ_quê', 'năm', 'nào', 'cũng', 'muốn', 'về'], ['ở', 'mỹ_tho'], ['gì', 'cũng', 'ngon'], ['200', 'cây_số'], ['mọi', 'năm'], ['ăn', 'ngọt'], ['hà_nội'], ['bún_đậu'], ['khá', 'xa'], ['có', 'yêu'], ['ừ'], ['Tao', 'không'], ['Quê', 'tao', 'ở', 'Bến', 'Tre'], ['Mày', 'nghe', 'kẹo', 'dừa', 'Bến', 'Tre', 'chưa', '?'], ['Quê', 'tao', 'có', 'ông_bà'], ['Nhớ', 'chứ'], ['Sài', 'Gòn'], ['Gốc', 'Nam'], ['Từ', '1800'], ['Tất', 'nhiên'], ['Tao', 'nghĩ', 'là', 'có_thể'], ['Nhiều', 'địa_điểm', 'du_lịch'], ['Vì', 'quê_hương', 'sau_này'], ['Đủ', 'loại'], ['Không', 'hẳn'], ['Nhiều', 'lắm'], ['Tiền', 'Giang'], ['Tầm', '100km'], ['hủ_tiếu', 'Mỹ', 'Tho'], ['ông', 'nội,', 'bà', 'nội', 'và', 'mấy', 'chú'], ['địa_đạo', 'trong', 'khu', 'di_tích'], ['hưng_yên'], ['uhm,', 'cũng', 'xa'], ['nhãn_lồng'], ['cách', '50', 'km.'], ['13', 'độ', 'C', 'rất', 'lạnh.'], ['sài', 'gòn.'], ['là', 'một', 'nơi', 'đáng', 'sống.'], ['rất', 'nhiều.'], ['tầm', '20', 'phút', 'chạy', 'xe.'], ['sài', 'gòn,', 'tất_nhiên', 'rồi.'], ['ở', 'vĩnh_long'], ['là', '1', 'trong', '7', 'kì_quan', 'thế_giới'], ['bánh', 'ú,', 'cam', 'sành,', 'quả', 'thanh', 'trà,...'], ['khoảng', '132', 'km'], ['năm', 'nào', 'cũng', 'về'], ['thích', 'quê', 'hơn'], ['không_khí', 'mát', 'mẻ,', 'cây', 'nhà_lá_vườn'], ['Cầu', 'KÈ,', 'Trà', 'Vinh'], ['dừa', 'sáp'], ['rất', 'nhiều'], ['Chắc', 'chắn'], ['Có'], ['bánh', 'canh,', 'bánh', 'tét,....'], ['An', 'Giang'], ['thất_sơn', 'bảy_núi', 'chấn', 'giữ', 'linh_hồn', 'lang_thang'], ['thốt_nốt', 'với', 'mắm'], ['mát', 'chứ', 'cây', 'từa', 'lưa'], ['tầm', '172km', 'à'], ['bình', 'dương.'], ['gần.'], ['30', 'cây.'], ['đi', 'về.'], ['Củ', 'Chi'], ['người_dân', 'vui', 'tính,', 'hiếu_khách'], ['Củ', 'Mì'], ['53km'], ['4'], ['không'], ['có'], ['không'], ['nhà_mình'], ['chưa', 'rõ'], ['đi_làm'], ['thành_phố', 'Hồ', 'Chí', 'Minh'], ['không', 'có', 'đặc_sản', 'gì'], ['Đầm', 'Sen,', 'Suối', 'Tiên,', 'Đại', 'Nam,', 'phố', 'đi', 'bộ,', 'Aeon...'], ['mỗi', 'cuối_tuần'], ['không', 'có'], ['sự', 'hiện_đại', 'của', 'thành_phố', 'và', 'sự', 'vội_vàng', 'của', 'người_dân'], ['có', 'nhiều', 'cơ_hội', 'học_tập', 'và', 'làm_việc', 'và', 'sự', 'nhiệt_tình', 'của', 'người_dân'], ['Cà', 'phê', 'nè.'], ['Khoảng', '8', 'tiếng', 'á.'], ['Bảo', 'tàng', 'cà', 'phê.'], ['Tao', 'cũng', 'có_một', 'số', 'người', 'bạn', 'chơi', 'từ', 'hồi', 'cấp', '3', 'tới', 'giờ.'], ['Có', 'mấy', 'cái', 'thác_nước', 'đẹp', 'lắm.'], ['Tao', 'thấy', 'món', 'ốc', 'gần', 'nhà', 'tao', 'ngon', 'nhất.'], ['an_giang'], ['nông_thôn'], ['bánh', 'thốt', 'nốt,', 'mắm', 'Châu', 'Đốc,', 'lụa', 'Tân', 'Châu'], ['có'], ['có'], ['cô_giáo', 'lớp', '11'], ['yêu'], ['5', 'tiếng', 'đi', 'xe'], ['nhiều', 'kênh', 'đào,', 'rạch'], ['có'], ['núi', 'Cấm'], ['tượng_phật', 'Di', 'Lặt', 'lớn_nhất', 'Đông', 'Nam', 'Á'], ['Về', 'chứ'], ['Bình', 'Dương'], ['Có'], ['Vũng', 'Tàu'], ['Vui', 'chứ'], ['Mùng', '10'], ['có', 'gì', 'nổi', 'tiếng?'], ['đặc', 'sản?'], ['còn', 'yêu', 'quê', 'không?'], ['còn', 'ở', 'quê', 'không?'], ['xa', 'quê', 'lâu', 'chưa?'], ['còn', 'yêu', 'quê', 'không?'], ['thích', 'về', 'quê', 'sống', 'không?'], ['cách', 'quê', 'bao', 'xa?'], ['Ở', 'thành_phố', 'luôn'], ['Có', 'ba,', 'mẹ,', '2', 'em'], ['Cơm', 'tấm,', 'bánh_tráng_trộn'], ['Mẹ', 'bán', 'tạp', 'hóa,', 'ba', 'làm', 'nhà_nước'], ['Lớp', '3', 'với', 'lớp', '11'], ['nhớ', 'chứ'], ['có', 'bánh_xèo'], ['ok', 'tại_sao', 'không'], ['không', 'năm', 'sau', 'tao', 'mới', 'về'], ['ờ', 'tao', 'người', 'hà_nội'], ['Long', 'An'], ['40km'], ['26/12', 'âm_lịch'], ['Xe', 'máy'], ['Lạp', 'xưởng', 'tươi,', 'gạo_nàng', 'thơm', 'Chợ', 'Đào,', 'Dưa', 'hấu'], ['Ninh', 'Thuận'], ['nhiều,', 'tới', 'rồi', 'biết'], ['nho'], ['300', 'km'], ['có'], ['ổn'], ['thỉnh_thoảng'], ['có'], ['Long', 'An'], ['Ông_bà'], ['Không', 'biết'], ['Xe', 'máy'], ['Long', 'An'], ['Bánh', 'tráng'], ['khoảng', '33', 'km'], ['khoảng', '45', 'phút'], ['có', 'chợ', 'đêm'], ['có', 'chứ', 'mày'], ['có'], ['An', 'giang'], ['Một', 'mình'], ['có'], ['Cà', 'Mau'], ['cua'], ['không', 'xa', 'lắm'], ['6', 'người'], ['rất', 'nhớ'], ['rất', 'đẹp'], ['Làm', 'công'], ['Làm', 'biếng'], ['Không'], ['Cũng', 'ổn'], ['CÒn', 'khỏe'], ['Nội', 'trợ'], ['Còn', 'đi_làm'], ['Không', 'thân'], ['làm_việc', 'nhà_nước'], ['tao', 'con_một'], ['ít', 'gặp'], ['bố', 'làm', 'to'], ['mẹ', 'làm_vợ', 'bố'], ['như_hoa', 'khôi'], ['giống', 'hoa_hậu'], ['60', 'tuổi.'], ['60', 'tuổi.'], ['2', 'anh_chị_em', 'ruột.'], ['Nhiều', 'anh_chị_em', 'họ.'], ['quan_chức', 'nhà_nước'], ['tốt', 'cả'], ['hơm', 'mày', 'nhiều', 'tuổi'], ['bố', 'tôi', 'là', 'Donald', 'Trump'], ['ông', 'ấy_là', 'bác_sĩ', 'nội_khoa'], ['có'], ['họ', 'khiến', 'tôi', 'rất', 'sad'], ['4', 'người'], ['không', 'nha'], ['xa', 'hai_bên', 'như', 'nhau'], ['Trung'], ['thứ', '4', 'thì_phải'], ['con', 'út', 'trong', 'nhà'], ['đếm', 'tiền'], ['6', 'người'], ['Có'], ['tui', 'ở', 'chung', 'với', 'ba_mẹ', 'nè'], ['tui', 'có', '1', 'đứa', 'em_gái'], ['13'], ['4'], ['Em', 'gái'], ['6'], ['Có', '1', 'anh,', '1', 'em'], ['Không'], ['ở_không'], ['có'], ['mất_dạy'], ['được.'], ['hai', 'chị', 'em.'], ['đôi', 'lúc.'], ['có', '4', 'người', 'th', 'à'], ['cũng', 'ko,', '4', 'ng', 'à'], ['công_nhân', 'hoi', 'nhea', ':\">'], ['5', 'người'], ['Gia', 'đình', 'cũng', 'không', 'đông', 'lắm,', 'tầm', 'có', '20,', '30', 'người', 'gì', 'thôi'], ['Đi', 'qua', 'nước_ngoài', 'du_lịch', 'hết', 'rồi'], ['5'], ['đông'], ['không'], ['có', 'đâu', 'mà', 'đẹp'], ['sao', 'cũng', 'được'], ['5', 'người'], ['làm_ăn'], ['có'], ['trên', '21', 'tuổi'], ['đi_làm'], ['Bố', 'tao', 'là', 'CEO', 'thegioididong'], ['Mẹ', 'tao', 'làm_vợ', 'bố', 'tao.'], ['Họ', 'hàng', 'xa', 'của', 'tao', 'ở', 'Australia.'], ['Bố', 'tao', 'là', 'CEO', 'thegioididong'], ['Mẹ', 'tao', 'làm_vợ', 'bố', 'tao.'], ['Họ', 'hàng', 'xa', 'của', 'tao', 'ở', 'Australia.'], ['Hok'], ['4', 'người'], ['Thứ', 'ba', '(Tuesday)'], ['Làm', 'biếng'], ['Làm', 'việc'], ['11', 'người'], ['có', '5', 'anh_chị_em'], ['anh_cả'], ['chủ_tịch', 'nước'], ['hệ_thống', 'nhà_nước'], ['Ở', 'Nha', 'Trang'], ['4', 'người'], ['Chị'], ['Nhiều'], ['Tự', 'nhiên', 'hỏi', 'bố', 'người', 'ta', 'chi', '?'], ['Mình', 'có', 'chị', 'thôi'], ['Hỏi', 'chi', 'trời'], ['Mình', 'không', 'có', 'chị'], ['Có', 'chị', 'đâu', 'mà', 'hỏi'], ['Có', 'nhé'], ['Chưa', 'luôn'], ['Mới', 'vừa', '18'], ['nhiều'], ['ko', 'thích', 'trl'], ['anh_cả'], ['chủ_tịch', 'nước'], ['hệ_thống', 'nhà_nước'], ['Tui', 'ở', '1', 'mình'], ['Tui', 'có', '1', 'em_trai'], ['Bố', 'tài', 'xế,', 'mẹ', 'nội_trợ'], ['4'], ['Mình,', 'Bố,', 'Mẹ,', 'Chị', 'gái'], ['1+1+1+1', '=', 'số', 'người', 'trong', 'nhà'], ['Nhà', 'mình', 'trung_bình', 'thôi', 'ạ'], ['Dũng,', 'Mai,', 'Thuần,', 'An'], ['Em', 'mình', '16', 'tuổi'], ['Kinh', 'doanh'], ['đang', 'độc', 'thân.'], ['2', 'anh_em', 'và', 'tôi', 'là', 'anh', 'cả.'], ['con', 'trai.'], ['kinh', 'doanh.'], ['kinh_doanh', 'nhỏ.'], ['Đã', 'nói', 'không', 'có', 'chị_gái', 'mà.'], ['dưới', '100'], ['2', 'chị'], ['không_biết'], ['buôn_bán'], ['buôn_bán'], ['6', 'người'], ['dưới', '100'], ['2', 'chị'], ['không_biết'], ['buôn_bán'], ['buôn_bán'], ['6', 'người'], ['dưới', '100'], ['2', 'chị'], ['không_biết'], ['buôn_bán'], ['buôn_bán'], ['6', 'người'], ['7', 'người'], ['Hông', 'có', 'ai'], ['Em', 'cả'], ['Công', 'an'], ['Cảnh', 'sátị'], ['không', 'trả_lời'], ['giám_đốc'], ['có', 'chị'], ['gần'], ['đang'], ['có'], ['6'], ['có'], ['hạnh_phúc'], ['rồi'], ['Bố', 'làm', 'to'], ['Mẹ', 'tao', 'làm_vợ', 'bố', 'tao', 'và', 'là', 'má', 'của', 'tao.'], ['Không.'], ['làm_việc'], ['có'], ['có'], ['tuyệt'], ['còn'], ['báo', 'tại_gia'], ['làm', 'phi_hành_gia'], ['ko'], ['ko'], ['nan'], ['7', '8', 'người', 'gì', 'đó'], ['3', 'anh_chị_em'], ['Anh', 'út'], ['chủ_tịch', 'giả', 'nghèo', 'và', 'cái_kết'], ['Tao', 'mồ_côi', 'chị']]\n"
          ]
        }
      ]
    },
    {
      "cell_type": "code",
      "source": [
        "import nltk\n",
        "from nltk.translate.bleu_score import corpus_bleu\n",
        "#there may be several references\n",
        "BLEUscore = nltk.translate.bleu_score.corpus_bleu([c], [hypo])\n",
        "print(BLEUscore)"
      ],
      "metadata": {
        "colab": {
          "base_uri": "https://localhost:8080/"
        },
        "id": "Zel96YrpbfXN",
        "outputId": "383dad28-1b84-43aa-b423-eb60a801015e"
      },
      "execution_count": 176,
      "outputs": [
        {
          "output_type": "stream",
          "name": "stdout",
          "text": [
            "0.8408964152537145\n"
          ]
        },
        {
          "output_type": "stream",
          "name": "stderr",
          "text": [
            "/usr/local/lib/python3.7/dist-packages/nltk/translate/bleu_score.py:490: UserWarning: \n",
            "Corpus/Sentence contains 0 counts of 2-gram overlaps.\n",
            "BLEU scores might be undesirable; use SmoothingFunction().\n",
            "  warnings.warn(_msg)\n"
          ]
        }
      ]
    },
    {
      "cell_type": "markdown",
      "source": [
        "## BLEU_SCORE"
      ],
      "metadata": {
        "id": "T-VeezQEyCaM"
      }
    },
    {
      "cell_type": "markdown",
      "source": [
        "bleu_score answer thứ 6 với 100 answer đầu trong data"
      ],
      "metadata": {
        "id": "4ay4x74bcaws"
      }
    },
    {
      "cell_type": "code",
      "source": [
        "output = sess.run(outputs)\n",
        "print(output.shape)\n",
        "print(x_tok[6])\n",
        "for j in range(1):\n",
        "    print(y_tok[6])\n",
        "    for i in range(25):\n",
        "        t = np.argmin(np.sum((vectors - output[j][i]) ** 2, axis=1))\n",
        "        if keys[t] != '<PAD>':\n",
        "            print(keys[t], end=' ')\n",
        "    print()"
      ],
      "metadata": {
        "colab": {
          "base_uri": "https://localhost:8080/"
        },
        "id": "M1b-qGYIJ9v9",
        "outputId": "78f087e4-52cd-454b-8be6-e5f26add09d7"
      },
      "execution_count": 62,
      "outputs": [
        {
          "output_type": "stream",
          "name": "stdout",
          "text": [
            "(10, 25, 400)\n",
            "['Có', 'hay', 'đi_chơi', 'với', 'nhau', 'không']\n",
            "['Thường', 'đi', 'cùng', 'cả', 'nhóm', 'bạn']\n",
            "<UNK> <UNK> tóc <UNK> cao_c&# \n"
          ]
        }
      ]
    },
    {
      "cell_type": "code",
      "source": [
        "hypothesis=y_tok[6]\n",
        "print(hypothesis)"
      ],
      "metadata": {
        "colab": {
          "base_uri": "https://localhost:8080/"
        },
        "id": "ffzaIvhqkjMs",
        "outputId": "0bebd1f8-b278-4064-e8f9-141fc285f113"
      },
      "execution_count": 64,
      "outputs": [
        {
          "output_type": "stream",
          "name": "stdout",
          "text": [
            "['Thường', 'đi', 'cùng', 'cả', 'nhóm', 'bạn']\n"
          ]
        }
      ]
    },
    {
      "cell_type": "code",
      "source": [
        "c=y_tok[:100]\n",
        "print(c)"
      ],
      "metadata": {
        "colab": {
          "base_uri": "https://localhost:8080/"
        },
        "id": "AucYlKnYyn8p",
        "outputId": "4c80e5bc-6a07-4e7c-d4bf-8c7f6e2d8d68"
      },
      "execution_count": 65,
      "outputs": [
        {
          "output_type": "stream",
          "name": "stdout",
          "text": [
            "[['Dễ', 'thương,', 'tóc', 'dài,', 'da_trắng'], ['Có', '1', 'bạn', 'cùng_lớp'], ['Vì', 'đáp_ứng', 'những', 'yêu_cầu', 'của', 'tao'], ['Hay', 'nhắn_tin', 'messenger'], ['Có', 'đôi_khi'], ['Có,', 'đang', 'đợi', 'trả_lời'], ['Thường', 'đi', 'cùng', 'cả', 'nhóm', 'bạn'], ['Thích', 'phim,', 'đồ', 'ăn,', 'thể_thao'], ['Phim', 'ma'], ['chơi', 'đá', 'banh']]\n"
          ]
        }
      ]
    },
    {
      "cell_type": "code",
      "source": [
        "import nltk\n",
        "from nltk.translate.bleu_score import corpus_bleu\n",
        "#there may be several references\n",
        "BLEUscore = nltk.translate.bleu_score.corpus_bleu([c], [hypothesis])\n",
        "print(BLEUscore)"
      ],
      "metadata": {
        "colab": {
          "base_uri": "https://localhost:8080/"
        },
        "id": "haQvlHywyvb3",
        "outputId": "9dfe0453-8120-4773-eb84-c20ef4c44977"
      },
      "execution_count": 66,
      "outputs": [
        {
          "output_type": "stream",
          "name": "stdout",
          "text": [
            "1.0\n"
          ]
        }
      ]
    },
    {
      "cell_type": "markdown",
      "source": [
        "bleu_score answer thứ 9 với 5 answer đầu trong data"
      ],
      "metadata": {
        "id": "_0uLAmxFcjVU"
      }
    },
    {
      "cell_type": "code",
      "source": [
        "hypothesis=y_tok[9]\n",
        "print(hypothesis)"
      ],
      "metadata": {
        "colab": {
          "base_uri": "https://localhost:8080/"
        },
        "id": "oxOhUzfBnrSg",
        "outputId": "dbcfb667-a46b-4941-bd08-d8d8ae55f832"
      },
      "execution_count": 67,
      "outputs": [
        {
          "output_type": "stream",
          "name": "stdout",
          "text": [
            "['chơi', 'đá', 'banh']\n"
          ]
        }
      ]
    },
    {
      "cell_type": "code",
      "source": [
        "c=y_tok[:5]\n",
        "print(c)"
      ],
      "metadata": {
        "colab": {
          "base_uri": "https://localhost:8080/"
        },
        "id": "N0NDeYHrDNht",
        "outputId": "f38d0635-b79d-4cd2-c64d-cb874764df3a"
      },
      "execution_count": 68,
      "outputs": [
        {
          "output_type": "stream",
          "name": "stdout",
          "text": [
            "[['Dễ', 'thương,', 'tóc', 'dài,', 'da_trắng'], ['Có', '1', 'bạn', 'cùng_lớp'], ['Vì', 'đáp_ứng', 'những', 'yêu_cầu', 'của', 'tao'], ['Hay', 'nhắn_tin', 'messenger'], ['Có', 'đôi_khi']]\n"
          ]
        }
      ]
    },
    {
      "cell_type": "code",
      "source": [
        "import nltk\n",
        "from nltk.translate.bleu_score import corpus_bleu\n",
        "#there may be several references\n",
        "BLEUscore = nltk.translate.bleu_score.corpus_bleu([c], [hypothesis])\n",
        "print(BLEUscore)"
      ],
      "metadata": {
        "colab": {
          "base_uri": "https://localhost:8080/"
        },
        "id": "A0Qy4mawDRDn",
        "outputId": "bb010828-b652-43f0-f7de-ee184271f1fe"
      },
      "execution_count": 69,
      "outputs": [
        {
          "output_type": "stream",
          "name": "stdout",
          "text": [
            "0\n"
          ]
        }
      ]
    },
    {
      "cell_type": "markdown",
      "source": [
        "bleu_score answer thứ 10 với 10 answer đầu trong data"
      ],
      "metadata": {
        "id": "sB2qNi9ycnBM"
      }
    },
    {
      "cell_type": "code",
      "source": [
        "c=y_tok[:10]\n",
        "print(c)"
      ],
      "metadata": {
        "colab": {
          "base_uri": "https://localhost:8080/"
        },
        "id": "u6z0ffm7DSo6",
        "outputId": "8002c61d-45c9-4753-a34d-451c00d17ae5"
      },
      "execution_count": 70,
      "outputs": [
        {
          "output_type": "stream",
          "name": "stdout",
          "text": [
            "[['Dễ', 'thương,', 'tóc', 'dài,', 'da_trắng'], ['Có', '1', 'bạn', 'cùng_lớp'], ['Vì', 'đáp_ứng', 'những', 'yêu_cầu', 'của', 'tao'], ['Hay', 'nhắn_tin', 'messenger'], ['Có', 'đôi_khi'], ['Có,', 'đang', 'đợi', 'trả_lời'], ['Thường', 'đi', 'cùng', 'cả', 'nhóm', 'bạn'], ['Thích', 'phim,', 'đồ', 'ăn,', 'thể_thao'], ['Phim', 'ma'], ['chơi', 'đá', 'banh']]\n"
          ]
        }
      ]
    },
    {
      "cell_type": "code",
      "source": [
        "c=y_tok[:10]\n",
        "print(c)"
      ],
      "metadata": {
        "id": "5ybCxpPJbvHh"
      },
      "execution_count": null,
      "outputs": []
    },
    {
      "cell_type": "code",
      "source": [
        "import nltk\n",
        "from nltk.translate.bleu_score import corpus_bleu\n",
        "#there may be several references\n",
        "BLEUscore = nltk.translate.bleu_score.corpus_bleu([c], [hypothesis])\n",
        "print(BLEUscore)"
      ],
      "metadata": {
        "colab": {
          "base_uri": "https://localhost:8080/"
        },
        "id": "Q1o4QLDDDZXA",
        "outputId": "c6d26714-a0a9-412c-b664-0f613839b07d"
      },
      "execution_count": 71,
      "outputs": [
        {
          "output_type": "stream",
          "name": "stdout",
          "text": [
            "1.0\n"
          ]
        },
        {
          "output_type": "stream",
          "name": "stderr",
          "text": [
            "/usr/local/lib/python3.7/dist-packages/nltk/translate/bleu_score.py:490: UserWarning: \n",
            "Corpus/Sentence contains 0 counts of 4-gram overlaps.\n",
            "BLEU scores might be undesirable; use SmoothingFunction().\n",
            "  warnings.warn(_msg)\n"
          ]
        }
      ]
    },
    {
      "cell_type": "markdown",
      "source": [
        "bleu_score answer với toàn bộ data"
      ],
      "metadata": {
        "id": "JykPnJ4ncMnX"
      }
    },
    {
      "cell_type": "code",
      "source": [
        "hypothesis=y_tok[2]\n",
        "print(hypothesis)"
      ],
      "metadata": {
        "colab": {
          "base_uri": "https://localhost:8080/"
        },
        "id": "h-6mhD_Wbs01",
        "outputId": "c499aee2-a865-444b-b7f7-4d0846a67125"
      },
      "execution_count": 181,
      "outputs": [
        {
          "output_type": "stream",
          "name": "stdout",
          "text": [
            "['Vì', 'đáp_ứng', 'những', 'yêu_cầu', 'của', 'tao']\n"
          ]
        }
      ]
    },
    {
      "cell_type": "code",
      "source": [
        "c=y_token\n",
        "print(c)"
      ],
      "metadata": {
        "colab": {
          "base_uri": "https://localhost:8080/"
        },
        "id": "VEGg2BEqbwAp",
        "outputId": "168778f3-dac2-4a4b-8503-88e93bb36451"
      },
      "execution_count": 179,
      "outputs": [
        {
          "output_type": "stream",
          "name": "stdout",
          "text": [
            "[['Dễ', 'thương,', 'tóc', 'dài,', 'da_trắng'], ['Có', '1', 'bạn', 'cùng_lớp'], ['Vì', 'đáp_ứng', 'những', 'yêu_cầu', 'của', 'tao'], ['Hay', 'nhắn_tin', 'messenger'], ['Có', 'đôi_khi'], ['Có,', 'đang', 'đợi', 'trả_lời'], ['Thường', 'đi', 'cùng', 'cả', 'nhóm', 'bạn'], ['Thích', 'phim,', 'đồ', 'ăn,', 'thể_thao'], ['Phim', 'ma'], ['chơi', 'đá', 'banh'], ['Ăn', 'cơm', 'sườn'], ['có'], ['một,', 'năm'], ['thủ'], ['Không', 'thường_xuyên'], ['Đồng_nghiệp'], ['quận', '10'], ['1', 'lần'], ['sân', 'kỳ_hòa'], ['quái_vật'], ['không', 'có'], ['marvel'], ['không'], ['có', 'chơi', 'đâu', 'giỏi'], ['có', 'chơi', 'đâu', 'hỏi', 'hoài'], ['có', 'chứ'], ['chơi_với', 'hội'], ['sân', 'cầu_lông'], ['mỗi_ngày'], ['sân_nhà', 'thi_đấu', 'phú_thọ', 'quận', '11'], ['phim', 'giả_tưởng'], ['không'], ['không_biết'], ['thích'], ['game', 'người_lớn'], ['Có.'], ['Bóng', 'đá.'], ['Tương', 'tác', 'cao.'], ['Bóng', 'rổ.'], ['Cuối', 'tuần.'], ['Có.'], ['Có.'], ['Hành', 'động.'], ['chơi', 'đá_bóng'], ['hành_động', 'kinh_điển'], ['tôi', 'thích_chơi', 'game', 'và', 'học', 'code'], ['tôi', 'rất', 'thích', 'phim_hài'], ['tôi', 'thích', 'đô_vật', 'mỹ'], ['thích', 'đá_bóng'], ['tao', 'đá', 'banh', 'hơi', 'cùi'], ['phim', 'lãng_mạn'], ['chơi_game', 'bắn_súng'], ['không', 'thích', 'cho', 'lắm'], ['mỗi', 'năm', 'một_lần'], ['rồi', 'nha'], ['chưa', 'ra_nước', 'ngoài'], ['ăn_sushi'], ['đá_bóng', 'và', 'fitness'], ['kinh_dị'], ['Đọc', 'truyện'], ['Không'], ['Cầu', 'lông'], ['đúng', 'dồi'], ['tui', 'thích_chơi', 'bóng_đá', 'nhất,', 'hồi', 'đó', 'tui', 'còn', 'đi', 'thi_đấu', 'bán', 'chuyên', 'nữa'], ['forest_gump'], ['bóng', 'bàn'], ['Thích', 'đi', 'du_lịch'], ['Thích'], ['Có,', 'hàng', 'tuần'], ['Có,', 'tao', 'hay_hát', 'lắm'], ['đi_chơi'], ['ăn_cơm', 'nhà.'], ['phim', 'heo.'], ['lâu_lâu', 'thì', 'đánh_bóng', 'rổ,', 'cầu', 'lông.'], ['Chơi'], ['Ngủ', 'ngày.'], ['Phim'], ['thích', 'thể_thao', '2', 'người.'], ['Kó'], ['Thích', 'crush'], ['Hỏi', 'gì', 'hỏi', 'lắm', 'vậy?'], ['có', 'nhá'], ['có'], ['có'], ['hỏi', 'chi', 'mà', 'lắm', 'nhờ'], ['nói', 'ít', 'hiểu', 'nhiều'], ['Không', 'thích'], ['Không', 'thích', 'rồi', 'mà_còn', 'hỏi', 'nữa'], ['Hỏi', 'nhây', 'vậy'], ['Chơi', 'với', 'mày'], ['Tao', 'thích', 'mày.'], ['Có', 'ai', 'mà', 'không', 'chơi', 'đâu'], ['Có.'], ['Tao', 'thích', 'mày.'], ['Có', 'ai', 'mà', 'không', 'chơi', 'đâu'], ['Có.'], ['Coi', 'phim,', 'nghe', 'nhạc,', 'chơi', 'bóng', 'đá,...'], ['Transformers'], ['Optimus', 'Prime'], ['Isaac'], ['Cristiano', 'Ronaldo'], ['đương_nhiên', 'là', 'có'], ['môn', 'nào', 'cũng', 'thích'], ['có', '2', 'lần', 'giải_nhất', 'thành_phố', 'rồi'], ['xem_phim', 'là', 'trùm'], ['gây', 'cấn,', 'hack', 'não,', 'khoa_học', 'viễn_tưởng'], ['Nhiều', 'loại', 'lắm'], ['Bóng', 'đá'], ['Chơi', 'lúc', 'rảnh_rỗi'], ['Sân', 'bóng_đá'], ['Không.', 'Mình', 'hơi', 'nhát'], ['Phim', 'gì', '?'], ['Không'], ['Ở', 'đâu,', 'mấy', 'giờ'], ['Chơi', 'game'], ['Chừng', 'nào'], ['thể_thao', 'điện_tử'], ['giải', 'ao', 'làng'], ['abc', 'xyz'], ['tui', 'thích', 'đá_bóng'], ['Ăn'], ['Hơi', 'hơi'], ['Cầu', 'lông'], ['Món', 'nào', 'nào', 'ngon', 'là', 'thích'], ['Có'], ['Điều', 'tuyệt_vời', 'nhất', 'của', 'chúng_ta', '(With', 'you)'], ['Dư', 'Hoài', 'và', 'Cảnh', 'Cảnh'], ['Hành', 'động'], ['Lúc', 'cảnh', 'đẹp'], ['Cầu', 'lông'], ['Coi', 'phim,', 'nghe_nhạc'], ['Chả', 'giò,', 'cơm_tấm'], ['nghe', 'nhạc.'], ['đá', 'bóng,thứ', '3', 'hàng', 'tuần.'], ['không_biết', 'chơi.'], ['vừa', 'đi', 'đà_lạt', 'hồi', 'tháng', '6.'], ['xem', 'phim,', 'nghe_nhạc', 'học', 'một_số', 'nhạc', 'cụ.'], ['thích'], ['không', 'sầu_riêng', 'ngon', 'gần', 'chết.'], ['Có'], ['Có'], ['Đá', 'banh'], ['đá', 'banh'], ['thích'], ['hài'], ['nhà'], ['cả', 'hai'], ['có'], ['cả', 'hai'], ['cả', 'hai'], ['tùy'], ['đá', 'banh'], ['thích'], ['hài'], ['nhà'], ['cả', 'hai'], ['có'], ['cả', 'hai'], ['cả', 'hai'], ['tùy'], ['đá', 'banh'], ['thích'], ['hài'], ['nhà'], ['cả', 'hai'], ['có'], ['cả', 'hai'], ['cả', 'hai'], ['tùy'], ['Thích'], ['Cờ', 'bạc'], ['Sắp', 'bay', 'mấy', 'cái', 'nhà'], ['Kó'], ['nhạc', 'đám'], ['thể_thao'], ['thích'], ['kinh_dị'], ['thích'], ['Có'], ['18+'], ['thích'], ['vui'], ['thể_dục'], ['không'], ['Tao', 'thích', 'mày.'], ['Có', 'ai', 'mà', 'không', 'chơi', 'đâu'], ['Có.'], ['mavel'], ['mèo'], ['ngủ'], ['không'], ['vô_dụng', 'cứt'], ['yup'], ['Đủ', 'thứ', 'hết'], ['Lúc', 'rãnh', 'thì_có'], ['Ma'], ['Titanic'], ['Cảnh', 'đẹp'], ['Có', 'chứ'], ['Cho', 'khoẻ', 'người'], ['Tại', 'thấy', 'người', 'khác', 'tập', 'cũng', 'vui'], ['Kó'], ['Chơi', 'tất_tay'], ['1', 'giải', 'ao', 'làng', 'với', '1', 'giải', 'giếng', 'làng'], ['Chúa', 'phim', 'đây'], ['gì', 'cũng', 'coi'], ['TĐT'], ['CNTT'], ['Vui'], ['Đi', 'làm'], ['Nhiều'], ['ổn'], ['Tôn', 'Đức', 'Thắng'], ['Nguyễn', 'Hữu', 'Thọ'], ['Bảy'], ['Hồ', 'Chí', 'Minh'], ['Kỹ', 'thuật', 'phần_mềm'], ['Mười', 'mấy', 'triệu', 'một', 'kỳ'], ['Cũng', 'ổn'], ['Khá'], ['Cũng', 'được'], ['Tùy', 'người'], ['Cũng', 'ổn'], ['Bình', 'thường'], ['trung_bình_cộng'], ['TÔn', 'đức', 'thắng'], ['Nguyễn', 'Hữu', 'Thọ'], ['quận', '7'], ['tân_phong'], ['hồ_chí_minh'], ['Công', 'nghệ_thông_tin'], ['16', 'triệu', '1', 'kỳ'], ['cũng', 'bình_thường'], ['học_sinh', 'trunh', 'bình'], ['7.0'], ['giáo_viên', 'ổn'], ['dạy', 'cũng', 'bình_thường'], ['bạn_bè', 'cũng', 'tuyệt_vời'], ['Học', 'hành'], ['Ở', 'đây'], ['học', 'hay'], ['Công', 'nghệ_thông_tin'], ['Tôn', 'Đức_thắng'], ['Quận', '7'], ['Bình', 'thường'], ['Rồi.'], ['Khá', 'đắt'], ['tôi', 'học_trường', 'Đại', 'Học', 'Sài', 'Gòn'], ['trường', 'đó', 'ở', 'Sài', 'Gòn'], ['tôi', 'học', 'rất', 'sad'], ['học', 'kinh_doanh'], ['Đại_học', 'Thủy', 'Lợi'], ['bắt', 'xe_buýt'], ['quận', 'Bình', 'Thạnh', 'lận'], ['5', 'môn', 'rồi'], ['tao', 'năm', '2'], ['may', 'thì', '2', 'năm', 'nữa'], ['học', 'Công', 'Nghệ', 'Thông', 'Tin'], ['học', 'Tôn', 'Đức', 'Thắng'], ['sắp', 'tốt_nghiệp'], ['IOT'], ['TDT'], ['Tôn', 'Đức', 'Thắng'], ['Quận', '7'], ['Không'], ['Khoa', 'học_máy_tính'], ['Năm', '3'], ['đúng', 'rồi', 'nè,', 'học', '3', 'năm', 'rồi', 'á'], ['tui', 'học_khoa', 'học_máy_tính'], ['tui', 'học', 'tdtu', 'á'], ['tui', 'sv', 'năm', '3', 'rồi'], ['học', 'ngành', 'này', 'là', 'do', 'đam_mê', 'từ', 'hồi', 'nhỏ', 'á'], ['IT'], ['TDTU'], ['Chưa'], ['Lập', 'trình', 'OOP'], ['Xử', 'lý', 'ngôn_ngữ', 'tự_nhiên'], ['Khi', 'có', 'tiền', 'mua', 'bằng'], ['Học', '3', 'môn', 'rớt', '1', 'môn'], ['học', 'giỏi'], ['Tôn', 'đức', 'thắng'], ['học', 'giỏi'], ['đại', 'học.'], ['ở', 'thành', 'phố.'], ['học', 'được'], ['t', 'học', 'cntt', 'á'], ['t', 'học', 'ở', 'tdtu', ':))))'], ['cũng', 'okie', 'thôi', 'à', ':))))', 'hơi', 'quằng'], ['hồi', 'học_kì', 'trước', 'tui', 'loại', 'khá', ':\">'], ['tao', 'học', 'lớp', '303'], ['Đi_học'], ['Hỏi', 'làm_gì'], ['3'], ['Rớt', 'môn', 'như', 'lá', 'mùa_thu'], ['Hỏi', 'rồi', 'mày', 'cũng', 'có', 'biết_đâu'], ['khôn', 'hơn', 'mày', 'là', 'được'], ['đại_học', 'TDT'], ['18h50302'], ['no', 'comment'], ['no', 'comment'], ['IT'], ['ở', 'đâu', 'còn', 'lâu', 'mới', 'nói'], ['học', 'bình_thường'], ['Tớ', 'đang', 'học', 'Xử', 'lý', 'ngôn_ngữ'], ['Đủ', 'qua', 'môn'], ['Học', 'ở', 'Đại', 'Học', 'Tôn', 'Đức', 'Thắng.'], ['Nghĩ', 'về', 'tương_lai', 'mái', 'nhà', 'và', 'những', 'đứa', 'trẻ.'], ['Tớ', 'đang', 'học', 'Xử', 'lý', 'ngôn_ngữ'], ['Đủ', 'qua', 'môn'], ['Học', 'ở', 'Đại', 'Học', 'Tôn', 'Đức', 'Thắng.'], ['Nghĩ', 'về', 'tương_lai', 'mái', 'nhà', 'và', 'những', 'đứa', 'trẻ.'], ['IT'], ['Cũng', 'tạm'], ['Đại_học', 'Tôn', 'Đức', 'Thắng'], ['Dễ'], ['8', 'môn'], ['học', 'lớp', '5'], ['ở', 'Việt', 'Nam'], ['học_sinh', 'xuất_sắc'], ['tiếng_việt'], ['ghét', 'tất_cả'], ['Đại_học', 'Tôn', 'Đức', 'Thắng'], ['Khoa', 'học_máy_tính'], ['Là', 'học_sinh', 'giỏi', 'ở', 'trường'], ['Học', 'tiếng_anh', 'ở', 'ngoài'], ['Java'], ['Rớt', '2', 'môn'], ['Học', 'Mỹ', 'Thuật', 'Công', 'Nghiệp'], ['Tao', 'không_học', 'đại_học'], ['Có', 'học', 'đâu', 'mà', 'có'], ['Năm', '12', 't', '8.7'], ['T', 'đang', 'học', 'ở', 'TDT'], ['năm', '3'], ['2', 'cái'], ['ghét', 'tất_cả'], ['Đại_học', 'Tôn', 'Đức', 'Thắng'], ['Công', 'nghệ_thông_tin'], ['Trường', 'đại_học', 'Buôn', 'Ma', 'Thuột'], ['Dược'], ['Dược', 'liệu.'], ['Hóa', 'sinh'], ['Học', 'làm', 'người'], ['Tất', 'nhiên', 'là', 'không'], ['Môn', 'xử_lý', 'ngôn_ngữ', 'tự_nhiên'], ['Môn', 'Văn', 'vở'], ['Mình', 'sinh_viên', 'năm', '3'], ['Mình', 'học', 'lớp', '15'], ['ngành', 'công_nghệ_thông_tin'], ['toà', 'D'], ['học_khoa', 'học_máy_tính'], ['năm', '3'], ['có'], ['Học', 'ở', 'học_viện', 'RMIT.'], ['Cấp', 'Đại', 'Học'], ['TDTU'], ['Khá', 'Giỏi', 'nha'], ['Rất'], ['Kỹ', 'năng', 'phát_triển', 'bền', 'vừng'], ['Tôn', 'Đức_thắng'], ['Công', 'Nghệ', 'Thông', 'Tin'], ['năm', '3'], ['không'], ['hỏi', 'chi'], ['Tôn', 'Đức_thắng'], ['Công', 'Nghệ', 'Thông', 'Tin'], ['năm', '3'], ['không'], ['hỏi', 'chi'], ['Tôn', 'Đức_thắng'], ['Công', 'Nghệ', 'Thông', 'Tin'], ['năm', '3'], ['không'], ['hỏi', 'chi'], ['lớp', '1'], ['Sài', 'gòn'], ['giỏi'], ['giỏi', 'chơi'], ['mọi', 'thứ'], ['Đại_học'], ['TDT'], ['Q7'], ['trung'], ['tốt'], ['nhiều'], ['Mỹ'], ['ngu'], ['12'], ['Không'], ['Học', 'NLP'], ['Đủ', 'qua', 'môn'], ['Đại', 'Học', 'Tôn', 'Đức', 'Thắng.'], ['cs'], ['tdt'], ['ổn'], ['nlp'], ['chưa'], ['ổn'], ['RMIT'], ['Không,rất', 'tốt'], ['Tp.HCM'], ['Giỏi'], ['20', 'người'], ['câu_hỏi', 'không', 'rõ_ràng', 'không', 'trả_lời'], ['áp', 'lưc', 'quá_đi_chứ'], ['ko'], ['Giàu'], ['Phòng', 'máy'], ['Tương', 'lai', 'của', 'nhân_loại'], ['lớp', '15'], ['Ở', 'đây'], ['Thích', 'học_sao', 'học'], ['tiếng', 'Việt'], ['ghét', 'hết'], ['Hùng'], ['20'], ['Hà', 'Công', 'Thành'], ['22'], ['chơi_game', 'với', 'xem_phim'], ['Đà', 'Nẵng'], ['trường', 'đại_học', 'Tôn', 'Đức', 'Thắng,', 'quận', '7'], ['1', 'mét', '63'], ['tên', 'Cường', 'nhé'], ['năm_nay', 'là', '22', 'tuổi'], ['Thái', 'Bình'], ['thích', 'ăn', 'nhiều', 'món', 'lắm,', 'ngon', 'là', 'ăn.'], ['Chưa!!!'], ['đang', 'học', 'ở', 'trường', 'Tôn', 'Đức', 'Thắng'], ['0938410364.'], ['nghành', 'khoa_học_máy', 'tinh'], ['khoa', 'công_nghệ_thông_tin'], ['trường', 'đại_học', 'Tôn', 'Đức_thắng', 'và', 'khoá', '21'], ['Khoa'], ['1999'], ['21', 'tuổi'], ['Lan', 'Anh.'], ['Tuấn', 'Duy.'], ['Kha', 'Vạn', 'Cân.'], ['Gò', 'Vấp.'], ['Trái', 'Đất.'], ['Việt', 'Nam.'], ['Nhật', 'Bản.'], ['Lan', 'Anh.'], ['Tuấn', 'Duy.'], ['Kha', 'Vạn', 'Cân.'], ['Gò', 'Vấp.'], ['Trái', 'Đất.'], ['Việt', 'Nam.'], ['Nhật', 'Bản.'], ['Tôi', 'tên', 'Tuấn'], ['Tôi', 'năm_nay', '21', 'tuổi'], ['Ninh', 'Thuận'], ['Ăn', 'kem.'], ['Chưa', 'có', 'nha!'], ['Hưng'], ['21'], ['đang', 'học'], ['Đại_học', 'Tôn', 'Đức', 'Thắng'], ['công_nghệ_thông_tin'], ['Quảng', 'Nam'], ['Kí', 'túc_xá'], ['có', 'xài', 'facebook', 'nhen'], ['okay,', 'nick', 'face', 'là', 'nxhung0405.'], ['0917234872.'], ['Quang', 'Minh'], ['CMT8.'], ['Tân', 'Bình.'], ['Sài', 'Gòn.'], ['Việt', 'Nam.'], ['Nhật', 'Bản.'], ['Cường'], ['20'], ['Ổn'], ['XY'], ['không', 'nhớ'], ['0120000'], ['TDTU'], ['Phúc'], ['20'], ['TDTU'], ['Đang', 'học', 'ở', 'TDTU'], ['Lập', 'trình_viên', 'làm', 'về', 'web', 'lương', 'nghìn', 'đô'], ['Nam'], ['22'], ['CNTT'], ['năm', 'sau'], ['có', 'rồi'], ['Hùng'], ['20'], ['Hồ', 'Chí', 'Minh'], ['sinh_viên'], ['Hùng'], ['20'], ['5'], ['Mai', 'Anh'], ['đại_học', 'năm', '4.'], ['quận', '4', 'tphcm'], ['có', 'chị', 'và', 'em.'], ['có'], ['có'], ['hóa'], ['CNTT'], ['chơi', 'game,', 'đọc', 'sách,', 'nghe_nhạc'], ['tương_đối', 'thích'], ['Kinh', 'tế'], ['Bình', 'Thuận'], ['Sài', 'Gòn'], ['Lan'], ['20'], ['quận', '7'], ['trọ'], ['Lai', 'Châu'], ['Tiến'], ['22'], ['Đồng', 'Tháp'], ['0792240342'], ['7', 'người'], ['3'], ['2', 'năm', 'rồi'], ['Nam'], ['0123456789'], ['Không', 'có', 'gì'], ['Tùng'], ['21'], ['nguyễn', 'Thanh', 'Tùng'], ['đang', 'đi_học'], ['đại_học', 'Tôn', 'Đức', 'Thắng'], ['Hà', 'Nội'], ['bốn', 'người'], ['con_cả'], ['một', 'mét', 'tám'], ['65kg'], ['có'], ['tungtungtung'], ['kỹ_thuật', 'phần_mềm'], ['1999'], ['sinh_viên'], ['sài_gòn'], ['Đại_học', 'Tôn', 'Đức', 'Thắng'], ['1', 'mét', '5'], ['60', 'ký'], ['rồi'], ['thích'], ['4', 'người'], ['18'], ['4'], ['Dũng'], ['2002'], ['19'], ['Vĩnh', 'Long'], ['con', 'út'], ['nhóm', 'máu', 'A'], ['chơi_game'], ['chưa'], ['đại_học', 'năm', '3'], ['sắp', 'rớt', 'một', 'môn'], ['học', 'ở', 'TDTU'], ['Mỹ', 'Tâm'], ['Huyền'], ['21'], ['Sóc', 'Trăng'], ['TDTU'], ['Mạng', 'máy_tính', 'và', 'truyền_thông', 'dữ_liệu'], ['Hùng'], ['20'], ['sinh_viên'], ['20'], ['thất', 'nghiệp'], ['0925632541'], ['guitar'], ['ở', 'An', 'Giang'], ['2000'], ['Hùng'], ['20'], ['song_tử'], ['Hà', 'Nội'], ['khoa', 'công_nghệ_thông_tin'], ['1', 'mét', '7'], ['từ_chối', 'trả_lời'], ['Hiếu'], ['22'], ['Cà', 'Mau'], ['sinh_viên'], ['Tôn', 'Đức', 'Thắng'], ['Công', 'nghệ_thông_tin'], ['quận', '7'], ['75'], ['mét', '75'], ['4'], ['mình', 'tên', 'Duy'], ['mình', 'sinh', 'năm', '2000'], ['mình', '21', 'tuổi'], ['mình', 'đang', 'học', 'đại_học'], ['mình', 'học_trường', 'Tôn', 'Đức', 'Thắng'], ['mình', 'quê', 'ở', 'Tiền', 'Giang'], ['mình', 'đang', 'ở', 'thành_phố', 'Hồ', 'Chí', 'Minh'], ['Bình'], ['2001'], ['kỹ_thuật', 'phần_mềm'], ['chơi', 'bóng_đá'], ['nam'], ['Hùng'], ['20'], ['Hồ', 'Chí', 'Minh'], ['chơi_game'], ['sinh_viên'], ['Tôi', 'là', 'Long'], ['Tôi', 'nay', '21'], ['Ừm', 'mình', 'sinh_viên', 'năm', '3'], ['Bên', 'quận', 'Bình', 'tân'], ['Mình', 'đi', 'xe_máy', 'tới'], ['Tên', 'Tiến'], ['21'], ['Ở', 'Sài', 'Gòn'], ['Đọc', 'sách'], ['Sinh', 'viên'], ['Khoa'], ['20'], ['1m79'], ['Lan'], ['15'], ['chưa'], ['công_nghệ_thông_tin'], ['Tphcm'], ['Hùng'], ['20'], ['Hùng'], ['20'], ['Duy'], ['2000'], ['Trà', 'Vinh'], ['Học', 'đại_học'], ['Tôn', 'Đức', 'Thắng'], ['IT,', 'Mạng', 'máy_tính', 'và', 'Truyền', 'thông', 'dữ_liệu'], ['tp', 'Hồ', 'Chí', 'Minh'], ['IT'], ['Một', 'mình'], ['Hưng'], ['sinh', 'năm', '2001'], ['lotte,', 'đủ', 'người', 'rồi', 'mày'], ['chưa'], ['cũng', 'định'], ['làm_ruộng', 'mày', 'ơi'], ['Hùng'], ['20'], ['Lợi'], ['1999'], ['Phan', 'Thiết,', 'Bình', 'Thuận.'], ['4'], ['chơi', 'game,', 'nghe', 'nhạc,...'], ['bơi_lội'], ['thành_phố', 'hcm', 'và', 'học', 'công_nghệ_thông_tin'], ['Ly'], ['19'], ['2001'], ['1', 'tháng', '9'], ['Nguyễn', 'Thị', 'Ly', 'Ly'], ['1m68'], ['45kg'], ['Tao', 'tên', 'là', 'Mèo'], ['Tao', 'năm_nay', '20', 'rồi.'], ['Cung', 'Kim', 'Ngưu'], ['Mệnh', 'kim', 'hay_sao', 'á.'], ['mét', 'sáu'], ['TDTU'], ['Sa', 'Pa'], ['Lễ'], ['21'], ['công_nghệ_thông_tin'], ['nghe', 'nhạc,', 'chơi', 'game,', 'du', 'lịch,', 'thích', 'được', 'yêu,', 'sự', 'giàu', 'có,', 'ghét', 'sự', 'nhòm', 'ngó,', 'yêu_hòa', 'bình'], ['Gì'], ['Hỏi', 'đi'], ['6'], ['Chắc', 'chưa,', 'coi', 'lại', 'đi'], ['Vậy', 'giờ', 'sao'], ['Hùng'], ['20'], ['Đức'], ['21'], ['Hà', 'Nội'], ['2'], ['Đan'], ['21'], ['Thủ', 'Đức'], ['Hồ', 'Chí', 'Minh'], ['78'], ['1m82'], ['cơm,', 'cháo,', 'phở'], ['Đại_học', 'Tôn', 'Đức', 'Thắng'], ['Quảng', 'Ninh'], ['chưa'], ['cà_phê', 'sữa'], ['có'], ['bóng_rổ'], ['có'], ['Liên', 'minh_huyền', 'thoại'], ['Quảng', 'Ninh,', 'Vũng', 'Tàu,', 'Long', 'Hải,', 'Q7,', 'Q1,', 'Q3,...'], ['có', 'nuôi', 'chó'], ['Alaska'], ['2'], ['10'], ['Đại_học', 'Tôn', 'Đức', 'Thắng,', 'quận', '7'], ['Tam', 'Bình'], ['Tam', 'Bình'], ['Tam', 'Phú,', 'Thủ', 'Đức'], ['không_biết'], ['thể_dục'], ['chưa'], ['ở', 'nhà'], ['không'], ['không'], ['wave_alpha'], ['Chí', 'Phèo'], ['ngủ,', 'xem_youtube'], ['Đức'], ['21'], ['Quảng', 'Bình'], ['Tam', 'Phú'], ['con_trai'], ['nam'], ['bình_thường'], ['rồi'], ['phục_vụ'], ['vừa_học_vừa', 'làm'], ['rồi'], ['Bảo'], ['Công', 'nghệ_thông_tin'], ['k22'], ['Khoa', 'học_máy_tính'], ['Sài', 'Gòn'], ['Rồi'], ['Quận', '2'], ['Năm', '2000'], ['Xe', 'máy'], ['Khá'], ['AUSUS'], ['Nitro', '5'], ['Mượt,', 'chạy', 'tốt'], ['Năm', 'ngoái'], ['MSI'], ['Cỡ', '19', 'đến', '26', 'triệu'], ['i5', 'gen', '10', 'trở_lên'], ['Cũng', 'không', 'đắt'], ['256Gb', 'trở_lên', 'là', 'được'], ['Trung,', 'còn', 'mày'], ['chưa'], ['không', 'tao', 'ở', 'đây'], ['ừ', 'sao', 'mày', 'biết'], ['ừ'], ['Hùng'], ['20'], ['Hùng'], ['20'], ['Huy'], ['22'], ['Sinh', 'viên'], ['Đại_học', 'Tôn', 'Đức', 'Thắng'], ['1m6'], ['Đâu_đó', 'ở', 'Việt', 'Nam'], ['Ăn'], ['Hùng'], ['20'], ['Long', 'An'], ['4'], ['Nông'], ['Công', 'nhân'], ['Công', 'nghệ_thông_tin'], ['có'], ['đi'], ['Hùng'], ['21'], ['thành_phố', 'Hồ', 'chí_minh'], ['Năm', '3'], ['Công', 'nghệ_thông_tin'], ['Do', 'đủ', 'điểm', 'vào', 'đây'], ['Hùng'], ['20'], ['Cà', 'Mau'], ['có'], ['TDTU'], ['sinh_viên'], ['Hùng'], ['20'], ['mét', '7'], ['65', 'kí'], ['Khải'], ['21'], ['Thành', 'phố', 'Hồ', 'Chí', 'Minh'], ['Nghèo'], ['Lập', 'trình_viên'], ['Ế'], ['Mét', 'bảy'], ['Tám', 'chục'], ['MỘt', 'chút'], ['Nào', 'rảnh', 'đã'], ['Tài'], ['21'], ['Quảnng', 'Ngãi'], ['Nghèo'], ['Chưa', 'có'], ['Chưa', 'có'], ['1m75'], ['98kg'], ['có'], ['sắp', 'tới', 'rồi'], ['Hỏi', 'làm_gì'], ['2k3'], ['0.08', 'tấn'], ['3m', 'chia', 'đôi'], ['Toàn'], ['21'], ['1m80'], ['70'], ['Không'], ['Hùng'], ['20'], ['Hùng'], ['20'], ['John', 'Cena'], ['22', 'tuổi'], ['70', 'ký'], ['1', 'mét', '80'], ['Ngân'], ['18', 'thôi'], ['tầm', '60kg'], ['một', 'mét', 'sáu_mươi'], ['nữ'], ['Bảo'], ['21'], ['Minh', 'Thư', '(Vince)'], ['mét', '688'], ['1', 'mét', '50'], ['45', 'kí'], ['Đạt'], ['Không'], ['Tui', 'tên', 'Nam', 'á'], ['Tui', 'cũng', '20', 'nèk'], ['hong,', 'tui', 'nặng', 'lém'], ['tui', 'cao', '1m75', 'á'], ['tui', 'cao', '1m75', 'lận', 'á'], ['Phát'], ['21'], ['1m7'], ['Khanh'], ['20'], ['56kg'], ['ĐH', 'TĐT'], ['100', 'triệu_bằng', 'cử', 'nhân,', '200', 'triệu_bằng', 'thạc', 'sĩ,', '100', 'tỷ', 'làm', 'phó', 'hiệu_trưởng'], ['Thụy'], ['22'], ['Bean'], ['20'], ['Hùng'], ['20'], ['t', 'tên', 'Loan'], ['tui', '20', 'tủi', 'gòy'], ['tui', 'm67'], ['hong', 'nhớ', 'nữa,', 'tầm', '56kg', 'gì', 'đó'], ['Hùng'], ['20'], ['Tuấn'], ['21'], ['tao', 'tuổi_thìn'], ['Tên', 'Tín'], ['Vũng', 'Tàu'], ['Bằng', 'tuổi', 'mày'], ['Mày', 'ngứa', 'mỏ', 'à'], ['Cũng', 'chả', 'nhớ', 'chắc', 'tầm', '65', 'kí'], ['Nhơn'], ['20'], ['1m80'], ['70kg'], ['có'], ['tên', 'Khoa'], ['21', 'tuổi'], ['1m8'], ['hỏi', 'làm_gì'], ['Giang'], ['Tuổi', 'Thìn.'], ['Cao', 'hơn', 'mày'], ['100kg'], ['Giang'], ['Tuổi', 'Thìn.'], ['Cao', 'hơn', 'mày'], ['100kg'], ['Diiko,', 'tui', 'gay'], ['21'], ['Trai'], ['1m80'], ['35kg'], ['Điệp'], ['12', 'tuổi'], ['chưa'], ['nửa', 'mét'], ['50', 'kí'], ['tớ', 'tên', 'Hùng,', 'Phạm', 'Mạnh', 'Hùng'], ['mình', 'sinh', 'năm', '2001'], ['Nguyễn', 'Trần', 'Nhật', 'Đức'], ['20'], ['40kg'], ['1m68'], ['Mình', 'tên', 'Chupi'], ['Mới', '20'], ['Không', 'biết', 'hỏi', 'chi'], ['Tao', 'nặng', 'nhiêu', 'kệ', 'tao', 'chứ'], ['Kidz'], ['20', 'tuổi'], ['mét', '7'], ['80kg'], ['Nam'], ['20'], ['Nguyễn', 'Thị', 'Thu', 'Huyền'], ['2000'], ['1m59,', '51kg'], ['0782513xxx'], ['Có.'], ['Bưởi', 'Bưởi'], ['22/02/2000'], ['2met'], ['50kg'], ['20'], ['Tài,', 'Dương', 'Trọng', 'Tài'], ['20'], ['1m68'], ['ăn', 'rồi,', 'còn', 'bạn?'], ['20'], ['Tôi', 'Tên', 'là', 'Khang'], ['Ok', 'bạn,', 'mình', 'là', 'Anh', 'Đoàn.'], ['Mai', 'dễ_thương'], ['Bằng', 'Cún'], ['Bằng', 'Cún'], ['Của', 'm', 'trừ', 'đi', '20cm'], ['Bằng', 'Cún'], ['Phát'], ['20'], ['1m7'], ['54kg'], ['0793736xxx'], ['nam'], ['Phát'], ['20'], ['1m7'], ['54kg'], ['0793736xxx'], ['nam'], ['Phát'], ['20'], ['1m7'], ['54kg'], ['0793736xxx'], ['nam'], ['Minh'], ['mười', 'mấy', 'tuổi', 'rồi'], ['mới', 'chia_tay'], ['mét', '9'], ['mấy', 'chục'], ['Nam'], ['20'], ['72kg'], ['1m73'], ['12/12'], ['Khoa'], ['2002'], ['100', 'kg'], ['170cm'], ['khùng'], ['Kít'], ['Tuổi', 'Thìn.'], ['Cao', 'gấp', 'đôi', 'mài'], ['100kg'], ['Tý'], ['22'], ['22'], ['Mình', 'tên', 'Hạnh'], ['Tầm', '20', 'tuổi'], ['52kg'], ['1m7'], ['Nguyên'], ['20'], ['mét', 'tám'], ['75'], ['Lộc'], ['mười', 'mấy', '2', '3', 'tuổi'], ['Rồi'], ['mét', '8'], ['9', 'chục'], ['tớ', 'tên', 'Hùng,', 'Phạm', 'Mạnh', 'Hùng'], ['mình', 'sinh', 'năm', '2001'], ['Hùng'], ['20'], ['chưa'], ['mét', '74'], ['70kg'], ['không_biết'], ['Hùng'], ['20'], ['Khoa.'], ['17.'], ['CNTT.'], ['TP.', 'HCM.'], ['Tân', 'Bình.'], ['Tầm', 'nửa', 'tiếng.'], ['Hùng'], ['20'], ['chưa', 'có', 'nhé', 'pro'], [\"it's\", 'sad', 'story'], ['muốn', 'bồ', 'mày'], ['tao', 'muốn', 'tiền'], ['tao', 'là', 'tân', 'tổng_thống_mỹ'], ['có', 'rồi', 'nhé'], ['chết', 'trên', 'mặt_trăng'], ['thịt', 'gà', 'thì_có', 'mà', 'thịt_lợn', 'thì', 'không'], ['Quang'], ['2001'], ['20'], ['Hồ', 'Chí', 'Minh'], ['Đang', 'là', 'sinh_viên'], ['Khoa', 'học_máy_tính'], ['Tôn', 'Đức', 'Thắng'], ['Khá', 'là', 'khó'], ['Ba', 'mẹ'], ['Ít', 'khi', 'đi'], ['tên', 'Vân'], ['21', 'tuổi'], ['TP.HCM'], ['cung', 'Song', 'Ngư'], ['năm', '3'], ['TDTU'], ['Tôn', 'Đức', 'Thắng'], ['Sinh', 'ra', 'và', 'lớn_lên', 'tại', 'TPHCM'], ['Thời', 'trang'], ['Độc_thân'], ['Cầu', 'lông'], ['Hùng'], ['20'], ['không'], ['Ninh', 'Thuận'], ['2'], ['Tôn', 'Đức', 'Thắng'], ['quận', '1'], ['Hùng'], ['Thắng'], ['Ngân'], ['20'], ['Bình', 'Dương'], ['Quảng', 'Bình'], ['4'], ['Tôn', 'Đức', 'Thắng'], ['quận', '9'], ['Đức'], ['Bình', 'Tân', '-', 'bò', 'nhiều', 'hơn', 'dân'], ['3'], ['chưa'], ['75'], ['Hùng'], ['20'], ['Ở', 'tim', 'cậu'], ['Viêt', 'Nam'], ['019091019019'], ['Quang'], ['20'], ['Hồ', 'Chí', 'Minh'], ['Công', 'nghệ_thông_tin'], ['Đang', 'thực_tập', 'thôi'], ['Cũng', 'được.'], ['Trà', 'Lipton'], ['Rau', 'muống', 'xào', 'tỏi.'], ['Hùng'], ['20'], ['Sài', 'Gòn'], ['Truc', 'Nguyen'], ['20'], ['Quận', '7'], ['0977736413'], ['CNTT'], ['Cường'], ['Tam', 'kỳ'], ['25'], ['ĐH', 'Tôn', 'Đức', 'Thắng'], ['CNTT'], ['Lan'], ['Kế', 'toán'], ['Sinh', 'viên', 'năm', '4'], ['Mình', 'có', 'tập', 'yoga.'], ['Mình', 'ở', 'thành', 'phô.'], ['quận', '9'], ['sắp', '22'], ['không', 'nhé'], ['kỹ_thuật', 'phần_mềm'], ['quận', '7'], ['Hồ', 'Chí', 'Minh'], ['Nhí'], ['22'], ['4'], ['Công', 'Nghệ', 'Thông', 'Tin'], ['Khoa', 'Học', 'Máy', 'Tính'], ['Trường', 'đại_học', 'Tôn', 'Đức', 'Thắng'], ['Hùng'], ['20'], ['Hùng'], ['20'], ['Ừ'], ['0123456789'], ['Dương'], ['21'], ['Quận', '7'], ['còn'], ['Đại_học', 'Tôn', 'Đức', 'Thắng'], ['Công', 'nghệ_thông_tin'], ['Kỹ', 'thuật', 'phần_mềm'], ['năm', '4'], ['hết', 'năm_nay'], ['Quảng', 'Ngãi'], ['Tên', 'Nam'], ['20', 'nha', 'ml'], ['Ở', 'Gò', 'Vấp', 'nè'], ['Có', 'em_trai', 'nữa', 'nha'], ['Trường', 'TDT', 'quận', '7', 'ấy'], ['Kĩ', 'thuật', 'phần', 'mềm', 'nha'], ['Okay', 'lun', 'chứ'], ['Nhi'], ['1999'], ['Biên', 'Hoà', '-', 'Đồng', 'Nai'], ['Tôn', 'Đức', 'Thắng', 'University'], ['Năm', '4'], ['Công', 'nghệ_thông_tin'], ['Hùng'], ['2k2,', 'sinh_viên', 'năm', 'nhất'], ['Khoa', 'Công', 'nghệ_thông_tin'], ['ngành', 'Khoa', 'học_máy_tính'], ['Hay', 'chơi', 'đá', 'banh,', 'bóng', 'rổ,', 'cầu', 'lông,', 'bơi', 'lội,...'], ['Nào', 'rãnh', 'thì', 'tao', 'sẽ', 'tham_gia'], ['Ehh', 'yo!', 'Wassup?'], ['Bắc'], ['99'], ['Bình', 'Phước'], ['không'], ['An'], ['184cm'], ['58kg'], ['Bóng', 'chuyền'], ['Hùng'], ['20'], ['sài_gòn'], ['Bình', 'Thạnh'], ['làm'], ['Hùng'], ['20'], ['Ở', 'tim', 'cậu'], ['Viêt', 'Nam'], ['019091019019'], ['Hùng'], ['20'], ['1m7'], ['60kg'], ['Khánh', 'Hòa'], ['công_nghệ_thông_tin'], ['Hùng'], ['20'], ['Lan'], ['Nam'], ['30'], ['29'], ['4(April)'], ['4(April)'], ['2001'], ['giống', 'mày'], ['0123456798'], ['0234567891'], ['Có', 'rồi', 'nha.'], ['31/02/1999'], ['4'], ['Thành', 'phố', 'Hồ', 'Chí', 'Minh'], ['O'], ['Đậu', 'đại_học'], ['tao', 'học', 'nghành', 'khoa', 'học', 'máy', 'tính'], ['1999', 'còn', 'bạn?'], ['Tphcm', 'còn', 'bạn?'], ['TDTU'], ['nhà', 'bao', 'việc'], ['hỏi', 'vậy', 'chi', 'vậy', 'ba'], ['17050202'], ['Năm', '4'], ['1m7'], ['Ninh', 'bình'], ['nam'], ['1999'], ['17050202'], ['Năm', '4'], ['1m7'], ['Ninh', 'bình'], ['Minh'], ['1999'], ['công_nghệ_thông_tin'], ['kỹ_thuật', 'phần_mềm'], ['cà_mau'], ['năm', '4'], ['chỉ', '2'], ['Hiếu'], ['22'], ['nam'], ['TDTU'], ['0902622737'], ['rồi'], ['quận', 'Tân', 'Phú'], ['phục_vụ'], ['không', 'cao', 'lắm'], ['không'], ['quán', 'ế'], ['Rồi', 'chứ,', 'vào', 'năm_ba', 'có', 'đi_làm', 'thêm.'], ['Rồi,', 'một', 'công_ty', 'fpt_software'], ['họ', 'rất', 'chuyên_nghiệp', 'và', 'thân_thiện', 'với', 'đồng', 'nghiệp.'], ['FPT', 'Software'], ['Quận', 'thủ_đức'], ['vui_tính', 'và', 'hoà_đồng'], ['không'], ['có'], ['có'], ['không'], ['Ở', 'nhà.'], ['Không.'], ['Không', 'có.'], ['Ở', 'nhà.'], ['Không.'], ['Không', 'có.'], ['Rồi', 'chứ,', 'vào', 'năm', 'nhất', 'có', 'đi_làm', 'thêm.'], ['Rồi,', 'một', 'công_ty', 'out', 'source', 'lập_trình', 'web.'], ['Toàn', 'là', 'đồng_nghiệp', 'trẻ', 'và', 'họ', 'rất', 'chuyên_nghiệp', 'và', 'thân_thiện', 'với', 'đồng', 'nghiệp.'], ['Apps', 'Cyclone'], ['Quận', 'Tân', 'Bình'], ['ở', 'đâu?'], ['mày', 'thấy', 'chỗ', 'đó', 'như_thế', 'nào?'], ['ý', 'là', 'cảm', 'xúc,', 'vị', 'trí,', 'thái_độ', 'của', 'đồng_nghiệp', 'á', 'mày'], ['Công', 'ty', 'tư', 'vấn.'], ['Không.'], ['Không.'], ['mình', 'làm', 'ở', 'nhà'], ['đúng', 'vậy'], ['chịu', 'thôi'], ['tất_nhiên'], ['thỉnh_thoảng'], ['đúng', 'vậy'], ['có'], ['đang', 'đi', 'dạy', 'thêm', 'về', 'lập_trình', 'cho', 'các', 'em', 'cấp', '2', 'cấp', '3', 'nè'], ['làm', 'ở', 'học_viện', 'công_nghệ', 'TEKY'], ['vui', 'chứ,', 'dạy', 'lập_trình', 'mà'], ['ai', 'cũng', 'dễ_thương', 'từ', 'sếp', 'cho', 'tới', 'các', 'giảng_viên', 'làm', 'chung'], ['cũng', 'ổn,', 'đủ', 'để', 'tiêu', 'vặt'], ['Tân', 'bình'], ['Coder'], ['Mới', 'lãnh_lương'], ['Chịu', 'thôi'], ['5', 'giờ', 'chiều'], ['Thường', 'xuyên'], ['Sacombank', 'á.'], ['Hội', 'sở'], ['Ừa', 'mày.'], ['dạo', 'này', 'công_việc', 'hơi', 'nhiều,', 'dễ', 'stress', 'lắm'], ['khá', 'nặng_nề', 'đó'], ['chắc', 'chỉ', 'có', 'bán_hàng', 'onl', 'thôi.'], ['Đúng', 'rồi.'], ['part', 'time'], ['ổn_định'], ['quận', '7'], ['lâu', 'rồi'], ['vui'], ['oke'], ['vui', 'lắm'], ['không'], ['được'], ['lúc_nào', 'cũng', 'được'], ['oke'], ['CMND'], ['ừ,', 'làm_công', 'ty'], ['ở', 'quận', 'Tân', 'Bình'], ['ổn'], ['có,', 'thoải_mái'], ['8', 'tiếng'], ['ổn'], ['dev'], ['quận', '10'], ['phúc_lợi', 'tốt'], ['tốt'], ['Sacombank', 'á.'], ['Hội', 'sở'], ['Ừa', 'mày.'], ['ổn'], ['devops'], ['dễ', 'vl'], ['dễ'], ['vui', 'vãi'], ['Làm', 'Sinh', 'viên'], ['Nghề', 'nghiệp'], ['Lập', 'trình_viên'], ['quận', '3'], ['tốt'], ['ổn'], ['ổn'], ['độ', 'bi_lắc'], ['đầu_bếp'], ['2', 'triệu'], ['cũng', 'đủ'], ['ăn_bám', 'gia_đình'], ['tại', 'nhà'], ['không', 'có'], ['không', 'có'], ['không', 'có'], ['thích', 'làm_việc', 'sáng_tạo'], ['công_việc', 'luôn', 'refresh,', 'sáng_tạo'], ['ba_mẹ', 'cho', '10', 'triệu', 'tháng.'], ['đủ', 'chứ'], ['có', 'nhiều', 'rồi'], ['đủ', 'tuổi'], ['làm', 'nhiều', 'rồi'], ['Có', 'rồi.'], ['Lập', 'trình', 'viên.'], ['FPT', 'Software.'], ['Quận', '9.'], ['Không', 'nói.'], ['Khá', 'căng', 'thẳng.'], ['Thình', 'thoảng.'], ['hiphop', 'boi'], ['làm', 'ông_chủ', 'lớn'], ['khá', 'tệ,', 'toàn', 'lỗ'], ['tôi', 'là', 'đô_vật', 'nhà_nghề', 'chuyên_nghiệp', 'Mỹ'], ['tôi', 'thích', 'diễn', 'hề', 'chuyên_nghiệp'], ['tiến_triển', 'khá', 'tốt,', 'tôi', 'sắp', 'được', 'đấu', 'với', 'undertaker'], ['làm', 'phục_vụ'], ['chưa'], ['trái', 'ngành'], ['làm', 'kinh_tế'], ['không', 'được', 'ổn_định', 'lắm'], ['5', 'triệu', 'tháng'], ['xa', 'nhà'], ['đi', 'xe_máy'], ['chưa', 'và', 'đang', 'độc_thân'], ['con_gái', 'là', 'được'], ['có'], ['làm', 'ở', 'một', 'tiệm', 'cà_phê'], ['Không'], ['Bán', 'hàng'], ['Không'], ['thiết_kế', 'trang_web'], ['cũng', 'làm', 'một', 'lập_trình_viên', 'thôi'], ['tui', 'thích', 'làm', 'chính_trị_gia', 'hơn'], ['hồi', 'đó', 'thích', 'làm', 'kỹ_sư', 'hoặc', 'chính_trị_gia'], ['đi', 'học'], ['dev'], ['Còn', 'đang', 'đi_học'], ['CNTT'], ['Lập', 'trình_viên'], ['Tuỳ', 'vào', 'kinh_nghiệm'], ['đi_học'], ['thất_nghiệp'], ['biết_đâu', 'ba'], ['còn', 'đang', 'đi', 'học.'], ['đã', 'bảo', 'là', 'còn', 'đi', 'học.'], ['IT', 'never', 'die.'], ['nói_lại', 'lần', 'cuối', 'là', 'còn', 'đi', 'học.'], ['Thế', 'tao', 'học', 'ngành', 'gì'], ['Cả', 'hai', 'nhé'], ['Có', 'chứ'], ['Đúng', 'không', 'ta'], ['tàm_tạm', 'ban', 'ơi'], ['Nghề', 'gì', 'nhiều', 'tiền', 'thì', 'chỉ', 'tao', 'cái'], ['có'], ['làm', 'phục_vụ'], ['có'], ['mới_đây'], ['mém', 'ổn'], ['còn', 'lâu', 'lắm', 'con_giai'], ['Có'], ['Làm', 'nghề', 'kiếm_tiền'], ['Làm', 'nghề', 'gì', 'mà', 'nhiều', 'tiền'], ['Đang', 'làm_công', 'dân', 'Việt', 'Nam'], ['Nghề', 'buôn', 'bất_động', 'sản.'], ['Rất', 'là', 'hợp', 'luôn.'], ['Cha', 'truyền_con', 'nối.'], ['Thu', 'nhập', 'ổn_định', 'lắm.'], ['Ai', 'cũng_như', 'hoa', 'hậu.'], ['Nghề', 'buôn', 'bất_động', 'sản.'], ['Rất', 'là', 'hợp', 'luôn.'], ['Cha', 'truyền_con', 'nối.'], ['Thu', 'nhập', 'ổn_định', 'lắm.'], ['Ai', 'cũng_như', 'hoa', 'hậu.'], ['Lập', 'trình_viên'], ['Ca', 'sĩ'], ['30', 'triệu/tháng'], ['Dễ'], ['Thân', 'thiện'], ['đang', 'làm_công_an'], ['trăm', 'củ'], ['ở', 'quận', '1'], ['có'], ['dễ', 'lắm'], ['Làm', 'ở', 'FPT'], ['Có'], ['Cùng', 'ngành'], ['Khá', 'ổn'], ['Hơn', '1', 'năm'], ['Cũng', 'được'], ['Đang', 'làm', 'web', 'bên', 'quận', '1'], ['Lâu', 'rồi'], ['Cũng', 'được', 'không', 'cực', 'lắm'], ['6', 'tháng'], ['trăm', 'củ'], ['ở', 'quận', '1'], ['có'], ['dễ', 'lắm'], ['cũng', 'làm', 'một', 'lập_trình_viên', 'thôi'], ['tui', 'thích', 'làm', 'một', 'doanh_nhân'], ['hồi', 'đó', 'thích', 'làm', 'kỹ_sư', 'hoặc', 'bác_sĩ'], ['Sinh', 'viên'], ['Dược', 'sĩ'], ['Mình', 'là', 'sinh_viên'], ['Kinh', 'doanh'], ['Không', 'ạ'], ['Tất', 'nhiên', 'là', 'có'], ['Lập', 'trình', 'viên,', 'kinh', 'doanh,', 'marketing'], ['trở_thành', 'một', 'nghệ_sĩ_chuyên', 'nghiệp', 'trong', 'lĩnh_vực', 'âm', 'nhạc.'], ['trở_thành', 'một', 'lập_trình', 'viên.'], ['vừa', 'đi_làm', 'ban', 'ngày,', 'ban_đêm', 'đi', 'biểu_diễn'], ['Làm', 'sinh_viên'], ['ở', 'trường'], ['Làm', 'một', 'sinh_viên', 'bình_thường'], ['Không', 'thích', 'lắm'], ['Đi_học', 'là', 'lương', 'đâu_ra'], ['Làm', 'sinh_viên'], ['ở', 'trường'], ['Làm', 'một', 'sinh_viên', 'bình_thường'], ['Không', 'thích', 'lắm'], ['Đi_học', 'là', 'lương', 'đâu_ra'], ['Làm', 'sinh_viên'], ['ở', 'trường'], ['Làm', 'một', 'sinh_viên', 'bình_thường'], ['Không', 'thích', 'lắm'], ['Đi_học', 'là', 'lương', 'đâu_ra'], ['Đa_cấp'], ['cả', 'tỷ'], ['Gần', 'nhà', 'tao'], ['Ghi', 'đề'], ['Cũng', 'kha_khá'], ['coach'], ['đi_học'], ['không'], ['có'], ['chạy', 'xe'], ['chưa'], ['Dealer.'], ['Rất', 'là', 'hợp', 'luôn.'], ['Cha', 'truyền_con', 'nối.'], ['Thu', 'nhập', 'ổn_định', 'lắm.'], ['Ai', 'cũng_như', 'hoa', 'hậu.'], ['cs'], ['ổn'], ['tỉ_phú'], ['ổn'], ['dev'], ['Làm', 'thêm', 'linh_tinh', 'thôi'], ['Có', 'nè'], ['Có', 'chứ'], ['Dĩ', 'nhiên', 'là', 'không'], ['Tàm', 'tạm', 'à'], ['Cực'], ['Công', 'chúa'], ['Nhiều'], ['Đâu', 'kệ', 'tao'], ['buôn_lậu'], ['Lâu', 'lâu', 'đi', 'tù', 'cũng', 'zui'], ['rồi'], ['rồi', 'nhưng', 'vẫn', 'còn', 'đang', 'khó_khăn'], ['FPTS'], ['cũng', 'khá', 'ổn'], ['gần', '1', 'năm'], ['Tester'], ['Tân', 'Bình'], ['Thích'], ['rất', 'tốt'], ['Tao', 'làm', 'chung', 'chổ', 'với', 'mày', 'đó.'], ['Chung', 'luôn', 'mẹ.'], ['Được,', 'ổng', 'là', 'danh_hài', 'đó.'], ['Nhiêu', 'đó', 'là', 'ổn', 'rồi.'], ['ngủ'], ['chơi_game'], ['du_lịch'], ['ăn'], ['làm_việc'], ['shopping'], ['đi_làm'], ['đi', 'vũng_tàu'], ['quê', 'tui', 'pro'], ['thể_dục'], ['Quán', 'cây_khế'], ['Quản', 'lý', 'quán'], ['Rất', 'vui'], ['Hòa', 'đồng', ',', 'vui_vẻ'], ['Có'], ['Bèo', 'lắm,', 'làm', 'nhiều', 'mà', 'lương', 'có', 'bao', 'nhiêu.'], ['Có', 'lương', 'mới', 'hăng', 'làm.'], ['Tao', 'làm', 'kỹ_thuật', 'quán', 'net.'], ['Làm', 'nhiều', 'lắm,', 'lo', 'sửa', 'máy', 'đến', 'lo', 'máy', 'chủ.'], ['Quán', 'nét', 'này', 'đưa', 'tất_cả', 'ứng_dụng', 'và', 'windows', 'lên', 'máy', 'chủ,', 'máy', 'con', 'lên', 'lấy', 'về', 'qua_mạng', 'LAN.'], ['nhân_viên', 'văn_phòng'], ['bán', 'thời_gian', 'bên', 'Hinglands'], ['tiếp_viên', 'hàng_không'], ['thấy', 'cũng', 'được'], ['hình_như', 'có'], ['Lập', 'trình', 'Web'], ['DVS'], ['15tr'], ['Cũng', 'được'], ['Dễ'], ['IT'], ['quận', '1'], ['Legato', 'Technologi'], ['Web'], ['nhiều'], ['1', 'củ', 'ăn'], ['vui'], ['chuyên_nghiệp'], ['IT'], ['quận', '9'], ['FPT', 'Software'], ['ERP'], ['nhiều'], ['chục', 'củ', 'khoai'], ['vui'], ['chuyên_nghiệp'], ['cài', 'win', 'dạo'], ['gần', 'nhà'], ['làm', 'chung', 'với', 'chị', 'kia'], ['ngon', 'lắm'], ['mày', 'bị', 'ngáo', 'hả'], ['IT'], ['DVS'], ['Developer', 'API', 'Facebook'], ['Không'], ['20'], ['700k'], ['Công', 'ty', 'gần', 'nhà'], ['Lập', 'trình', 'thôi.'], ['Cũng', 'được.'], ['Chưa', 'quen', 'lắm'], ['Chuyên', 'nghiệp', 'lắm.'], ['Khá', 'ổn.', 'Có', 'lương.'], ['Giang', 'viên'], ['TDT'], ['CNTT'], ['Chiều', '4', 'tiết'], ['40', 'sinh', 'viênn'], ['cũng', 'bình_thường'], ['Đủ', 'xài'], ['Quận', '1'], ['Cũng', 'dễ'], ['Code', 'dạo'], ['Lập', 'trình', 'web'], ['Viettel'], ['Code', 'web'], ['Không'], ['3', 'triệu'], ['quận', '3'], ['gần', '2', 'năm'], ['BA'], ['google', 'đi'], ['ok'], ['FPT'], ['Có'], ['Có'], ['Không'], ['Có'], ['Lúc', 'chạy', 'deadline', 'một_mình'], ['Rồi,', 'từ', 'hồi', 'đợt', 'thực_tập'], ['Ở', 'Cyberlogitec', 'Việt', 'Nam,', 'Cộng', 'Hòa'], ['Làm', 'part', 'time', 'nên', 'việc', 'cũng', 'nhẹ'], ['Thoải', 'mái', 'lắm'], ['có'], ['Đồng', 'cafe'], ['cao'], ['có'], ['mới', '2', 'tháng'], ['kỹ_sư', 'phần_mềm'], ['backend'], ['quận', '3'], ['gần', '1', 'năm', 'rồi'], ['tầm', '100', 'người'], ['Thấy', 'gì', 'haha'], ['Làm', 'bên', 'cty', 'FWB'], ['Gần', '1', 'năm', 'đấy'], ['Cũng', 'chạy', 'sml'], ['Khách', 'hàng', 'và', 'sếp', 'lun'], ['Gần', 'nhà', 'à'], ['Quá', 'okay', 'lun', 'ấy'], ['Đúng', 'rồi', 'nên', 'cũng', 'cố', 'gắng'], ['Thân', 'ai', 'nấy', 'lo', 'haha'], ['Đùa', 'thoi,', 'quan_tâm', 'nhau', 'lắm'], ['Cũng', 'mừng', 'lắm'], ['Quận', '1'], ['Kinh', 'doanh', 'khách_sạn'], ['Gần'], ['Tạm', 'được'], ['Đủ', 'sống'], ['Rồi,', 'từ', 'hồi', 'đợt', 'thực_tập'], ['Ở', 'Cyberlogitec', 'Việt', 'Nam,', 'Cộng', 'Hòa'], ['Làm', 'part', 'time', 'nên', 'việc', 'cũng', 'nhẹ'], ['Thoải', 'mái', 'lắm'], ['Thất', 'nghiệp!!!!!'], ['Ờ'], ['Phục', 'vụ'], ['Quán', 'nước', 'Lê', 'Văn', 'Lương'], ['Hơi', 'hơi'], ['Cũng', 'dễ_tính'], ['công_ty', 'ABC'], ['ừm', 'nó', 'đó'], ['đủ', 'sống', 'à'], ['chạy', 'grab'], ['làm', 'lính', 'à'], ['IT'], ['DVS'], ['Developer', 'API', 'Facebook'], ['Không'], ['20'], ['700k'], ['sinh_viên'], ['Đại_học', 'Tôn', 'Đức', 'Thắng'], ['công_nghệ_thông_tin'], ['khá', 'vui'], ['tốt_bụng'], ['dễ_mến'], ['cũng', 'ổn'], ['không'], ['khoảng', '3', 'tháng', 'thôi', 'nếu', 'có', 'kiến_thức', 'nền'], ['được'], ['tao', 'thấy', 'rất', 'là', 'hứng_khởi', 'khi', 'làm'], ['Rồi'], ['Có', ',', 'mọi', 'người', 'rất', 'vui_vẻ', 'hòa', \"đồng'\"], ['Đúng', 'vậy'], ['Khác', 'với', 'lúc', 'học,', 'môi_trường', 'chuyên_nghiệp', 'và', 'kỷ_luật', 'hơn'], ['Thỉnh', 'thoảng'], ['còn', 'làm'], ['sao', 'vậy?'], ['mắng', 'gì?'], ['đang', 'làm', 'báo', 'cáo'], ['dạ', 'ổn', 'mẹ', 'ạ'], ['ôi', 'bán', 'quần_áo'], ['10', 'củ'], ['ừm'], ['ừm'], ['không'], ['bình_thường'], ['có'], ['phục_vụ_bàn'], ['phục_vụ_bàn', 'ở', 'KFC'], ['cực'], ['nhận', 'order', 'từ', 'khách,', 'đưa', 'order', 'cho', 'bếp', 'và', 'đem', 'món', 'ra,', 'dọn_dẹp'], ['có', 'vui_có', 'buồn'], ['do', 'hậu_đậu', 'đổ', 'đồ', 'bị', 'chửi'], ['cũng', 'thân_thiện'], ['IT'], ['DVS'], ['Developer', 'API', 'Facebook'], ['Không'], ['20'], ['700k'], ['chưa_biết'], ['quốc_tế', 'phụ_nữ'], ['mùng', '10', 'tháng', '3'], ['giải_phóng', 'miền_nam'], ['ngày', 'nói_dối'], ['Về', 'quê', 'gặp', 'ông_bà', 'và', 'gia', 'đình.'], ['Có', 'chứ,', 'bạn_bè', 'và', 'gia_đình', 'đông_đủ', 'khiến', 'tôi', 'vui', 'lắm'], ['Về', 'quê', 'hoặc', 'là', 'đi_chơi', 'với', 'những', 'người', 'bạn', 'của', 'tôi?'], ['Kì', 'nghỉ', 'TẾT'], ['không'], ['gia_đình'], ['không'], ['gia_đình'], ['có'], ['14', 'ngày'], ['OK.'], ['2', 'tuần.'], ['OK.'], ['2', 'tuần.'], ['Về', 'quê', 'gặp', 'ông_bà', 'và', 'gia', 'đình.'], ['Có', 'chứ,', 'bạn_bè', 'và', 'gia_đình', 'đông_đủ', 'khiến', 'tôi', 'vui', 'lắm'], ['Về', 'quê', 'hoặc', 'là', 'đi_chơi', 'với', 'những', 'người', 'bạn', 'của', 'tôi?'], ['Kì', 'nghỉ', 'TẾT'], ['sao', 'trễ', 'vậy'], ['à', 'à,', 'rồi', 'mua', 'vé', 'chưa'], ['okay.'], ['OK.'], ['3', 'tuần.'], ['cả', 'tháng'], ['cho', 'đã'], ['vừa_chơi', 'vừa_học'], ['rồi', 'chứ'], ['quyết_tâm', 'quyết_tâm'], ['không', 'về', 'không', 'về'], ['chắc', 'là', 'có', 'nếu', 'tình_hình', 'dịch', 'không', 'quá', 'căng'], ['mới', 'mua', 'được', 'vài', 'cái', 'áo', 'mới', 'thôi', 'à'], ['chắc', '4', 'ngày', 'rồi', 'lên', 'Sài', 'Gòn', 'lại'], ['Có'], ['2', 'xị'], ['2', 'tuần'], ['Về', 'quê'], ['Không'], ['Đi'], ['Đánh'], ['30', 'ngày'], ['Không', 'mày'], ['Covid', 'tới', 'kìa'], ['tụ_tập', 'bạn_bè'], ['chưa'], ['hết', 'tiền'], ['chưa'], ['15', 'ngày'], ['chưa_biết'], ['du_lịch', 'với', 'gia_đình'], ['Nha', 'Trang'], ['hải_sản'], ['tắm', 'biển'], ['lướt_sóng'], ['đi', 'nhà_hàng'], ['30', 'ngày'], ['Không', 'mày'], ['Covid', 'tới', 'kìa'], ['được'], ['được', 'luôn'], ['tết_ta'], ['có', 'chứ'], ['24', 'tết'], ['không,', 'xe_khách'], ['rồi'], ['mùng', '10'], ['vô_lại', 'để', 'học'], ['Đúng', 'rồi'], ['Tất', 'nhiên', 'rồi'], ['Mùng', '10'], ['Lễ', 'gì', 'trên', 'Chùa', 'Bà.'], ['Chắc', 'đua', 'bò', 'cũng', 'là', 'lễ'], ['khoảng', 'hơn', 'chục', 'ngày'], ['thịt', 'chó'], ['vui', 'chứ', 'mày'], ['có_ăn', 'có', 'trả', 'á', 'nha'], ['100', 'ngày'], ['không'], ['thịt', 'chó'], ['hoa_đào'], ['đắt', 'thôi', 'rồi'], ['có'], ['Tết', 'truyền_thống'], ['Trẻ', 'nhỏ', ',', 'học_sinh', '16', 'ngày', 'và', 'người_lớn', '12', 'Ngày'], ['Thịt', 'kho_tàu'], ['Đi', 'chúc_tết', 'và', 'nhận', 'lì_xì', 'từ', 'người_lớn'], ['Tao', 'vui', 'đủ', 'rồi,', 'tao', 'cần', 'yên', 'tỉnh.'], ['Chơi', 'game,', 'ăn_ngủ', 'nghỉ.'], ['Mùng', '5', 'là', 'tao', 'bị', 'lôi', 'đi_chùa', 'thăm', 'bà', 'cô.'], ['Tao', 'muốn', 'năm_mới', 'an_lành', '2020', 'vui', 'đủ', 'rồi.'], ['Mày', 'cũng', 'vậy,', 'nghỉ_tết', 'vui', 'vẻ.'], ['phải', 'ở', 'lại', 'thành_phố'], ['dĩ_nhiên', 'là', 'có'], ['dành', 'thời_gian', 'với', 'gia_đình'], ['không,', 'ở', 'nhà'], ['đi', 'Đà', 'Lạt'], ['Tết', 'nguyên_đán'], ['Mùng', '1', 'tháng', 'Giêng', '(Âm', 'lịch)'], ['Chúc', 'Tết,', 'nhận', 'lì', 'xì,', 'đi', 'chùa...'], ['Không'], ['Có'], ['21'], ['có'], ['Ninh', 'Thuận'], ['14'], ['có'], ['quê'], ['Có'], ['Đà', 'Lạt'], ['Ăn', 'cẩu', 'lương'], ['Xong', 'xem', 'tụi', 'nó', 'chia_tay'], ['FA', 'chỉ', 'có', 'vậy'], ['2/9'], ['Tháng', '2'], ['14', 'ngày'], ['1/5'], ['Không'], ['Chơi', 'là', 'chính'], ['Có', 'chứ.'], ['Mệt', 'chứ.'], ['Ừm', 'đi.'], ['con', 'Trâu'], ['2', 'ngày', 'nữa.'], ['Có', 'chứ.', 'Ngày', 'mai', 'về.'], ['Chắc', 'chắn', 'có.'], ['Không.', 'Miễn', 'bàn.'], ['Được.'], ['Chưa'], ['Ok.', 'Vạn', 'Hanh', 'Mall', 'nha.'], ['Cũng', 'được'], ['Áo_khoác', 'với', 'quần_jean'], ['Mua'], ['T7', 'tuần', 'này'], ['Xe', 'giường_nằm'], ['Du', 'lịch'], ['Có'], ['Không'], ['Ở', 'nhà'], ['ok'], ['2/9'], ['Tháng', '2'], ['14', 'ngày'], ['1/5'], ['Không'], ['14', 'ngày'], ['đương_nhiên', 'có'], ['26', 'âm_lịch'], ['có'], ['gặp', 'dòng_họ', 'và', 'được', 'lì_xì', ':))'], ['Về', 'quê', 'thăm', 'nội', 'và', 'ngoại', 'mình', 'thôi'], ['Về', 'quê'], ['Quà', 'bánh', 'và', 'trái_cây'], ['Ngày', 'giải_phóng', 'miền_nam', 'là', 'ngày', '30/4'], ['Bánh', 'tét', 'và', 'bánh_chưng'], ['Gia', 'đình'], ['Quê', 'nội'], ['49', 'ngày', 'mày', 'ơi'], ['Đi', 'chơi', 'tứ_phương'], ['Đà', 'Lạt', '-', 'Nha', 'Trang'], ['Ở', 'nhà_phụ', 'ba_mẹ', 'dọn_dẹp', 'nhà_cửa'], ['Chắc', 'ở', 'nhà'], ['Mùng', '1', 'về', 'nội,', 'mùng', '2', 'về', 'ngoại,', 'mùng', '3', 'đi_chơi', 'với', 'gia', 'đình,', 'sau', 'mùng', '4', 'nằm', 'nhà_chơi'], ['Cũng', 'được,', 'dù', 'gì', 'cũng', 'rãnh'], ['Okay', 'nhá'], ['Có'], ['25', 'tết'], ['2', 'tuần'], ['mùng', '8', 'tết'], ['có'], ['về', 'quê'], ['2', 'tuần'], ['vui', 'lắm'], ['đi', 'thăm', 'họ_hàng'], ['hết', 'rồi'], ['Đi', 'làm'], ['2', 'tuần', 'à'], ['Không,', 'chán', 'lắm'], ['Hết', 'rồi', ':<'], ['Không'], ['Covid'], ['Ngủ'], ['Hong'], ['Xa', 'cách', 'người_yêu'], ['49', 'ngày', 'mày', 'ơi'], ['Đi', 'chơi', 'tứ_phương'], ['Đà', 'Lạt', '-', 'Nha', 'Trang'], ['Ở', 'nhà_phụ', 'ba_mẹ', 'dọn_dẹp', 'nhà_cửa'], ['Chắc', 'ở', 'nhà'], ['Mùng', '1', 'về', 'nội,', 'mùng', '2', 'về', 'ngoại,', 'mùng', '3', 'đi_chơi', 'với', 'gia', 'đình,', 'sau', 'mùng', '4', 'nằm', 'nhà_chơi'], ['Cũng', 'được,', 'dù', 'gì', 'cũng', 'rãnh'], ['Okay', 'nhá'], ['14/02'], ['08/03'], ['02/09'], ['20/11'], ['Hên', 'xui'], ['Đang', 'dịch', 'mà'], ['Quên', 'rồi'], ['6/2'], ['Nghỉ', 'dịch'], ['26', 'á'], ['mùng', '4'], ['ok', 'để', 'sắp_xếp'], ['Không'], ['xíu', 'nữa', 'đi'], ['hông', 'biết', 'luôn'], ['2/9'], ['Tháng', '2'], ['14', 'ngày'], ['1/5'], ['Không'], ['6/2/2021', 'đến', '21/2/2021'], ['21/4/2021'], ['thứ', '5'], ['thứ', '6', 'và', 'thứ', '7'], ['thứ', '7'], ['thứ', '6'], ['có'], ['không'], ['không'], ['có'], ['có'], ['lễ', 'thì', 'đi', 'vòng_vòng', ',', 'tết', 'về', 'quê'], ['Rủ', 'các_bạn', 'đi', 'cf'], ['Có'], ['7', 'ngày'], ['có', 'chứ'], ['mua', 'hoa', 'thôi'], ['chưa', 'có', 'bồ', ':('], ['hoan_hô', 'lễ', 'Quốc', 'Khánh'], ['có'], ['lễ_tình_nhân'], ['chưa'], ['rồi'], ['rồi'], ['23', 'tháng_chạp'], ['mãng_cầu', 'Xiêm,', 'dừa', '(hay', 'dưa),', 'đu', 'đủ,', 'xoài,dưa', 'hấu'], ['không'], ['rồi'], ['tớ', 'không', 'tính'], ['2/9'], ['Tháng', '2'], ['3', 'tháng'], ['1/5'], ['Không'], ['không'], ['đi', 'chứ'], ['rồi,', 'cũng', 'được'], ['nếu', 'nước_ngoài', 'thì', 'John', 'Legend,', 'còn', 'Việt', 'Nam', 'thì', 'Vũ'], ['không'], ['Hành', 'động,', 'logic,', 'ảo_thuật'], ['CGV', 'quận', 'Tân', 'Bình'], ['Bạn', 'cùng_với', 'những', 'bạn', 'trong', 'lớp', 'và', 'những', 'người', 'bạn_thân'], ['Tôi', 'không', 'muốn', 'ra', 'ngoài'], ['Vui', 'và', 'giúp_ích', 'cho', 'việc', 'giải_trí'], ['hành_động'], ['không'], ['\"Kỳ', 'nghỉ', 'nhớ', 'đời\"'], ['bạn_bè'], ['không'], ['bổng', 'ngô'], ['Đi.'], ['Phim', 'hoạt_hình', 'anime.'], ['OK.'], ['Xuất', 'sắc.'], ['Đi.'], ['Phim', 'hoạt_hình', 'anime.'], ['OK.'], ['Xuất', 'sắc.'], ['Hành', 'động'], ['CGV', 'ViVo', 'quận', '7'], ['Bạn', 'cùng_lớp', 'với', 'tôi'], ['Tôi', 'không', 'muốn', 'ra', 'ngoài'], ['Vui', 'và', 'giúp_ích', 'cho', 'việc', 'giải_trí'], ['thích', 'đi', 'xem_phim', 'nha'], ['tao_thích', 'kiểu', 'phim', 'siêu', 'anh_hùng', 'giống', 'marvel', 'hay', 'dc', 'comic', 'á'], ['ừ', 'tao', 'biết,', 'sao_á'], ['okay', 'mày,', 'chiều', 'nay', 'hay', 'sao.'], ['okay'], ['vừa_mới', 'tới', 'rồi', 'nè', 'mày'], ['t', 'cũng', 'thấy', 'mày', 'rồi'], ['okay', 'đi'], ['OK.'], ['Phim', 'hành', 'động.'], ['OK.'], ['Hay', 'tuyệt.'], ['không'], ['Tây', 'du_ký'], ['diễn_viên'], ['CGV'], ['ok'], ['rồi'], ['rồi'], ['có', 'chứ'], ['nhiều', 'lắm', 'kể', 'hong', 'hết,', 'phim', 'nào', 'cũng', 'thích'], ['hành_động'], ['mỗi', 'tối', 'luôn'], ['CSGO', 'với', 'LMHT'], ['hoi', 'không', 'đi_chơi', 'net', 'đâu,', 'có', 'máy', 'xịn', 'ở', 'nhà', 'rồi'], ['lên', 'web', 'coi', 'i,', 'ai', 'nhớ', 'hết', 'đâu'], ['thôi', 'đang', 'dịch', 'COVID-19', 'mà', 'đi', 'đâu,', 'muốn', 'bị', 'cách_ly', 'à'], ['thôi', 'đang', 'dịch,', 'tao', 'sẽ', 'ở', 'nhà', 'coi', 'netflix'], ['game', 'gì', 'mày'], ['ok', 'go_go'], ['hoi', 'tối', 'nay', 'bận', 'học', 'web', 'rồi'], ['còn', 'nha,', 'cần', 'thì', 'cứ', 'hú'], ['đi'], ['duyệt'], ['mày', 'tuổi'], ['ok', 'mở', 'đi'], ['vô', 'mày'], ['xem'], ['tối', 'nay'], ['batman'], ['ok'], ['\"lừa', 'đểu', 'gặp', 'lừa', 'đảo\"', 'đấy.'], ['nó', 'bị', 'dịch', 'nên', 'dời', 'miết', 'à'], ['đây', 'đủ', '5', 'thằng', 'nè.'], ['thôi', 'tao', 'lười', 'lắm', 'mày.'], ['vui'], ['Không'], ['không'], ['đang', 'bận'], ['oke'], ['vui'], ['rảnh'], ['xem_phim'], ['hành_động'], ['cậu'], ['bốn', 'giờ'], ['ok'], ['Hùng', 'Vương', 'Plaza'], ['kinh_dị', 'đi'], ['được'], ['ok'], ['Mấy', 'giờ', 'mày?'], ['Trễ', 'vậy?'], ['19h', 'đi'], ['Mà', 'đi', 'quán', 'nào?'], ['Hay', 'đi', 'TCH', 'bên', 'NAT', 'đi'], ['Okie'], ['ok'], ['chỗ', 'cũ', 'đi', 'bro'], ['nào', 'cũng', 'được'], ['ok', 'phim', 'gì', 'bro'], ['phim', 'hành_động', 'bro'], ['ok', 'coi', 'ở', 'đâu', 'bro'], ['ok', 'phim', 'gì', 'xuất', 'mấy', 'giờ'], ['ok', 'chốt', 'bro'], ['đọc', 'sách,', 'nấu', 'ăn,', 'dọn_dẹp', 'nhà', 'cửa,', 'ngủ,', 'nghe_nhạc'], ['có'], ['nhà_hàng', 'món_ăn', 'Thái'], ['5'], ['2', 'tiếng', '15', 'phút'], ['năn', 'nỉ,', 'khóc', 'lóc,', 'kí_tên', 'vô_biên', 'bản'], ['liên_hệ', 'phòng', 'A003,', 'đóng', '50', 'nghìn', 'làm_lại', 'thẻ'], ['mỗi_ngày', 'là', 'một', 'fashion', 'show.'], ['kẹt', 'xe', 'mỗi', 'ngày,', 'kẹt', 'thang_máy', 'mỗi_ngày'], ['thư_viện', 'hơn', '120', 'tỉ,', '5', 'lầu,', 'chứa', 'được', '3000', 'người', 'cùng', 'lúc.'], ['Có,', 'thường_xuyên', 'đi'], ['Cũng', 'hay', 'đi'], ['Phố', 'đi', 'bộ,', 'hồ', 'con_rùa'], ['Bạn', 'trên', 'đại_học'], ['Có'], ['Rap', 'và', 'indie'], ['Có', 'vé', 'nhưng', 'đang', 'bị', 'hoãn', 'nên', 'chưa', 'đi'], ['Không,', 'mình', 'yêu_nước'], ['Có', 'mà_còn', 'tùy', 'dịch'], ['Không', 'thích', 'lắm'], ['Sách', 'thì', 'thích'], ['đi'], ['lotte_cinema'], ['ok'], ['LoL'], ['khoảng', '3', 'tiếng'], ['bom_tấn'], ['Đi'], ['Xem'], ['Ok'], ['Cuối', 'tuần_không', 'giảm', 'giá.'], ['Tầm', 'thứ', '4', 'hay', 'thứ', '5', 'đi.'], ['Chắc', '1', 'mấy', '2', 'giờ.'], ['Godzilla.'], ['CGV', 'Vạn', 'Hạnh', 'đi', 'cho', 'gần', 'nhà', 'mày.'], ['Đi', 'thì', 'đi.'], ['hulk'], ['hãy', 'đợi', 'đấy'], ['clash', 'of', 'lord', '2'], ['đá_bóng'], ['viễn_tưởng'], ['hành_động'], ['laptop'], ['hỏi_xoáy', 'đáy', 'xoay'], ['doremon'], ['thời_sự'], ['Để', 'xem_lại', 'côi', 'rãnh', 'không'], ['Đi'], ['Đi', 'chứ'], ['Không.'], ['Có', 'ít', 'lắm.'], ['Anime.'], ['Mày', 'nghĩ', 'chỉ', 'có', 'thế', 'thôi', 'à?'], ['Tao', 'chơi', 'nhiều', 'lắm,', 'World', 'of', 'Warships,', 'Minecraft,', 'Genshin', 'Impact,', 'Cyberpunk2077,', 'Kerbal', 'Space', 'Program,', 'Phasmophobia,...'], ['Không,', 'bỏ', 'lâu', 'rồi.'], ['Ờ,', 'kỹ_sư', 'chơi', 'cũng', 'được,', 'mày', 'càng', 'giỏi', 'lập_trình', 'hoặc', 'mạch', 'điện', 'thì', 'cách', 'chơi', 'minecraft', 'của', 'mày', 'sẽ', 'càng', 'thâm.'], ['Game', 'weeb', 'làm', 'mày', 'viêm_màng', 'túi', 'và', 'dồn', 'máu', 'não.'], ['Bằn', 'tàu,', '2016', 'chơi', 'vui', 'chứ', '2021', 'mày', 'càng', 'chơi', 'càng', 'teo', 'não.'], ['Ờ,', 'nhưng', 'phải', 'chỉnh', 'cấu_hình', 'thấp', 'mới', 'mượt', 'được', '60fps.'], ['Mô', 'phỏng', 'việc', 'du_hành', 'ngoài', 'không', 'gian,', 'thiết_kế', 'xây_dựng', 'tên', 'lữa', 'các', 'kiểu,', 'nhưng', 'giờ', 'tao', 'chủ_yếu', 'thiết_kế', 'tàu,', 'bè', 'chiến_đấu', 'trên', 'mặt', 'nước.'], ['Tao', 'thích.'], ['Đi', 'lòng_vòng', 'la_làng', 'bắt', 'ma,', 'bị', 'ma', 'dí', 'thì', 'chạy.'], ['Tao', 'chơi', 'nhiều', 'lắm,', 'ước', 'gì', 'tao', 'cũng', 'học', 'nhiều', 'như_vậy_mà', 'đời', 'không', 'như', 'mơ.'], ['mai', 'bận', 'rồi'], ['ok'], ['mê', 'phim', 'hành_động'], ['khoái', 'phim', 'kinh_dị'], ['thích', 'đi', 'sở', 'thú'], ['đi', 'nhà_sách'], ['CGV'], ['Avengers'], ['Marvel', 'Studios'], ['Iron', 'Man'], ['Robert', 'Downey,', 'Jr.'], ['rồi'], ['hay', 'lắm'], ['laptop'], ['coi'], ['chơi'], ['đi'], ['chưa'], ['đi'], ['Xgame'], ['nói', 'tao', 'chi'], ['đi', 'xem', '2', 'lần', 'hả'], ['chúc', 'đi', 'vui_vẻ'], ['sao', 'chửi', 'tao'], ['Ơ...'], ['OK'], ['Đi'], ['OK'], ['Không,', 'cậu', 'có_thể', 'xem', '2', 'lần', 'mà'], ['Tớ', 'thì', 'không'], ['Ừm,', 'rảnh.'], ['OK.', 'Được.'], ['Drama', 'là', 'được.'], ['Có', 'chứ.'], ['Kinh', 'dị.'], ['Ok.', 'Mai', 'chơi', 'chung.'], ['Có', 'phim', 'gì?'], ['Ok', 'mai', 'đi'], ['Lotte', 'Cinema'], ['Xe', 'máy'], ['Lấy', 'combo', 'hai_người', 'đi'], ['hết', 'tiền', 'rồi'], ['bình_thường'], ['Bao', 'thì', 'đi'], ['xem_phim'], ['không_biết'], ['Xem', 'phim', 'gì.'], ['OK,', 'coi', 'mấy', 'giờ'], ['Ok'], ['Đi', '2', 'người', 'thôi.'], ['thôi'], ['không'], ['quận', '3'], ['không'], ['Minh', 'Lan', 'truyện'], ['Hành', 'động,', 'hài', 'kịch,', 'phim', 'ma', 'và', 'tu_tiên'], ['Doremon'], ['Mình', 'thích', 'đến', 'quán', 'nước', 'và', 'những', 'khu_vực', 'ngắm_cảnh'], ['Đi', 'luôn'], ['Không'], ['Xem'], ['Cũng', 'được'], ['Ok'], ['ok'], ['Mai', 'nhé'], ['Cậu', 'vàng'], ['3h', 'nhé'], ['Không'], ['khoa_học', 'viễn_tưởng'], ['CGV'], ['có'], ['Liên', 'minh_huyền', 'thoại'], ['không'], ['Đợi', 'chút,', 'check', 'lịch', 'phim'], ['Thấy', 'có', 'phim', 'ma', 'này', 'được', 'này'], ['10h30', 'đi', 'cho', 'kịch', 'tính', ':))'], ['Okay!', 'Nhớ', '9h', 'đến', 'rạp'], ['Done'], ['ok'], ['ok'], ['được'], ['Bấm', 'điện_thoại'], ['Đợi', 'tí', 'coi', 'trailer.', 'Okay', 'đi'], ['Mày', 'chọn', 'đi,', 'mấy', 'giờ', 'cũng', 'được,', 'đang', 'rãnh'], ['Okay', 'nhá'], ['Okay', 'luôn', 'nhá'], ['Có'], ['Kim', 'cương'], ['Tao', 'hay', 'chơi', 'chess'], ['Lụm!'], ['Rảnh'], ['Ok'], ['không'], ['ờ'], ['Mai'], ['ok'], ['ok'], ['Rạp', 'nào?', 'mấy', 'giờ?'], ['OK'], ['Đi'], ['OK'], ['Không,', 'cậu', 'có_thể', 'xem', '2', 'lần', 'mà'], ['Tớ', 'thì', 'không'], ['hành', 'động,', 'kinh_dị'], ['the', 'saw'], ['kẻ', 'hủy_diệt'], ['crash', 'landing', 'on_you'], ['extracurricular'], ['avengers'], ['có'], ['avendture'], ['9', 'giờ'], ['thích'], ['có'], ['Đầm', 'Sen', 'park.'], ['Hoà', 'Bình', 'Quận', '11'], ['Hành', 'động', ',', 'viễn_tưởng'], ['2', 'tuần', '1', 'lần'], ['bạn_bè', ',', 'người_yêu', '(', 'nếu', 'có', ')'], ['CGV', ',', 'Galaxy', '...'], ['Có', 'chứ.'], ['phim', 'gì?'], ['hay', 'đấy'], ['thor', 'nên', 'nhắm', 'vào', 'đầu'], ['solo', 'nè'], ['ok,', 'phim', 'gì?'], ['có'], ['có'], ['oke'], ['đi', 'luôn'], ['oke'], ['có'], ['có'], ['oke'], ['đi', 'luôn'], ['oke'], ['không'], ['không'], ['xem'], ['mùng', '1', 'tết'], ['không'], ['đi'], ['không', 'đi', 'đâu'], ['đi'], ['OK'], ['Đi'], ['OK'], ['Không,', 'cậu', 'có_thể', 'xem', '2', 'lần', 'mà'], ['Tớ', 'thì', 'không'], ['đi', 'đâu', '?'], ['được'], ['hè'], ['tầm', '10', 'triệu'], ['giờ', 'đặt'], ['Chắc', 'vài', '3', 'tỉnh', 'gì', 'đó'], ['Tôi', 'thích', 'đi', 'Vũng', 'Tàu.'], ['Đi', 'với', 'bạn', 'bè.'], ['Mỗi', 'đợt', 'thời_gian', 'giữa', 'và', 'cuối', 'năm.'], ['Đà', 'Nẵng'], ['không'], ['có'], ['chưa'], ['đã', 'đi'], ['chưa'], ['chưa'], ['Đi', 'biển.'], ['Tết', 'năm', 'sau.'], ['Đi', 'biển.'], ['Tết', 'năm', 'sau.'], ['Chắc', 'là', '15', 'tỉnh', 'trên', 'nước', 'rồi.'], ['Tôi', 'thích_nhất', 'là', 'đi', 'du_lịch', 'ở', 'Đà', 'Lạt.'], ['Đi', 'với', 'bạn_bè', 'là', 'thích_nhất', 'nhá.'], ['Mỗi', 'đợt', 'thời_gian', 'giữa', 'và', 'cuối', 'năm.'], ['muốn', 'đi', 'chung', 'không'], ['tầm', 'thi', 'giữa', 'kì', 'xong', 'là', 'đi', 'Đà', 'Lạt'], ['vậy', 'đi', 'chung', 'luôn', 'nha'], ['Đi', 'Vũng', 'Tàu.'], ['Tết', 'năm', 'sau.'], ['đi_biển'], ['có', 'biển', 'là', 'thích'], ['có', 'luôn'], ['đúng', 'vậy'], ['1', 'ngày_trước'], ['Chưa', 'được', 'đi'], ['có'], ['mới', 'đi', 'đà_lạt', 'hồi', 'noel', 'nè'], ['đi', 'với', 'nhóm', 'bạn_thân', 'trên', 'đại_học'], ['đi', 'đà_lạt', '4', 'ngày', '3', 'đêm'], ['trời_ơi', 'tốn', 'lắm', 'luôn'], ['quất', 'luôn'], ['Tiền', 'đâu'], ['Lạnh', 'lắm'], ['Tuần', 'sau'], ['Bí', 'mật'], ['Đi', 'chi', 'mày?'], ['Xe', 'máy', 'hả?'], ['Ừ,', 'đi.'], ['là', 'đi', 'đâu', 'cụ_thể', 'đi', 'ông.'], ['Cũng', 'ổn', 'đây.', 'Đi', 'gần', 'cho', 'dễ_bề', 'quản', 'lý.'], ['kì', 'này', 'tao', 'hơi', 'kẹt', 'tiền', 'rồi.'], ['cho', 't', 'ké', 'một_chân', 'với', 'nha'], ['Tết', 'kì', 'này', 'được', 'không', 'mọi', 'người.'], ['lên', 'lịch', 'luôn,', 'tết', 'này', 'mình', 'triển.'], ['nhiều'], ['không'], ['ở', 'nhà_ngủ'], ['xa', 'lắm'], ['nghỉ_tết'], ['đẹp'], ['ổn_định'], ['gia_đình'], ['oke'], ['được'], ['có'], ['đi', 'Sapa'], ['tớ', 'có', 'áo_ấm', 'rồi'], ['5', 'ngày', '4', 'đêm'], ['tùy', 'mày'], ['rảnh'], ['ok'], ['Đà', 'Lạt'], ['6', 'người'], ['rồi'], ['Đi', 'chi', 'mày?'], ['Xe', 'máy', 'hả?'], ['Ừ,', 'đi.'], ['đi'], ['Đà', 'Lạt'], ['lễ', '30', 'tháng', '4'], ['cắm', 'trại'], ['chụp', 'hình', 'ăn_uống'], ['có'], ['đà_lạt'], ['không,', 'đi', 'với', 'người_yêu'], ['xe_máy'], ['tận_hưởng', 'cái', 'không_khí', 'thôi'], ['Ở', 'đâu'], ['Được'], ['Mai'], ['Bạn', 'tao'], ['Có', 'năm', 'nào', 'tao', 'chả', 'về?'], ['Năm', 'nay', 'tao', 'đi', 'Đà', 'Lạt.'], ['Kệ', 'tao.'], ['Đám', 'bạn', 'cấp', 'hai', 'rủ', 'nên', 'tao', 'đi', 'thôi.'], ['sapa'], ['vũng_tàu'], ['đà_lạt'], ['bạn_bè'], ['gia_đình'], ['bồ'], ['đi', 'thật_xa'], ['nhà'], ['ngủ'], ['chuối'], ['Ít', 'khi', 'đi'], ['Nha', 'Trang'], ['Hè'], ['Khoảng', '2', 'tuần'], ['Covid', 'tùm_lum', 'đi', 'gì', 'ở', 'nhà.'], ['Không.'], ['Tại', 'sao', 'phải', 'chán,', 'ở', 'nhà', 'là', 'sướng', 'nhất.'], ['Đà', 'Lạt'], ['không', 'thích', 'mấy'], ['biển', 'Nha', 'Trang'], ['nước', 'Nhật'], ['đi_rồi'], ['Nước', 'ngoài'], ['Tết', 'nguyên_đán'], ['Gia', 'đình'], ['7', '-', '9', 'ngày'], ['Không'], ['chưa'], ['Tết', 'về'], ['một_mình'], ['chưa'], ['Tết', 'về'], ['gia_đình'], ['Hà', 'Nội'], ['về', 'nhà_ăn', 'tết...', 'tết'], ['dịch', 'thì', 'dịch,', 'về', 'thì', 'về'], ['không', 'pass', 'vé', 'được'], ['Phan', 'thiết'], ['Mùng', '3', 'tết'], ['Tụi', 'mình'], ['Rồi'], ['Trắng', 'đen'], ['Đi', 'biển', 'thôi.'], ['Ừm.', 'Đang', 'hè', 'mà.'], ['Vũng', 'Tàu', 'thôi.'], ['Thôi.', 'Xa', 'lắm.'], ['Cuối', 'tuần.'], ['Để', 'tao', 'rủ', 'cho.'], ['Được', '1', 'lần'], ['Thôi', 'dẹp'], ['Đi', 'Đà', 'Lạt', 'nha'], ['Cuối', 'tuần'], ['3', 'ngày'], ['Homestay'], ['Không,', 'đi', 'xem', 'hoa'], ['Vườn', 'ươm', 'Đà', 'Lạt'], ['Vũng', 'tàu'], ['chưa'], ['6', 'tháng'], ['Vịnh', 'Hạ', 'Long'], ['tao', 'hết', 'tiến', 'rồi'], ['Phan', 'thiết'], ['Mùng', '3', 'tết'], ['Tụi', 'mình'], ['Rồi'], ['Trắng', 'đen'], ['Hà', 'Giang'], ['đẹp', 'và', 'đặc_biệt'], ['có'], ['Tết', 'và', 'nghỉ_hè'], ['không', 'đi', 'đâu'], ['Tết,', 'quốc_khánh', 'và', 'noel.'], ['Đà', 'Lạt,', 'Nha', 'Trang,', 'Đà', 'Nẵng', 'và', 'Hà', 'Nội.'], ['Đà', 'Lạt'], ['Đến', 'Đà', 'Lạt'], ['Lối', 'sống', 'của', 'địa_phương', 'đó,', 'lịch_sử', 'cũng_như', 'các', 'phong_cảnh', 'mới'], ['Đang', 'tính', 'đi', 'Tây', 'Bắc'], ['Tham', 'quan', 'Mộc', 'Châu', 'với', 'Sapa'], ['Đi', 'máy_bay', 'từ', 'Sài', 'Gòn', 'đến', 'Hà', 'Nội,', 'Mộc', 'Châu', '2', 'ngày,', 'ở', 'Sapa', '2', 'ngày,', 'Hà', 'Nội', '1', 'ngày'], ['Khoảng', '10', 'triệu'], ['Không,', 'chỉ', 'tiền', 'khách_sạn'], ['có'], ['Tháng', '4'], ['1', 'tuần'], ['Đi', 'Hà', 'Nội'], ['Có'], ['Đà', 'Lạt'], ['tháng', '6', 'đi'], ['chắc', 'khoảng', '1', 'tuần'], ['lên', 'đó', 'tránh', 'nóng'], ['biển', 'đi', 'hoài', 'à'], ['Đà', 'Lạt'], ['tháng', '6', 'đi'], ['1', 'tuần', 'đi'], ['Haha', 'thích', 'vậy'], ['Không', 'thích', 'nha'], ['Đi'], ['Đà', 'Lạt'], ['Thi', 'xong'], ['Ngắm', 'cảnh,', 'ăn', 'đặc_sản'], ['ok'], ['Đang', 'tính', 'đi', 'Tây', 'Bắc'], ['Tham', 'quan', 'Mộc', 'Châu', 'với', 'Sapa'], ['Đi', 'máy_bay', 'từ', 'Sài', 'Gòn', 'đến', 'Hà', 'Nội,', 'Mộc', 'Châu', '2', 'ngày,', 'ở', 'Sapa', '2', 'ngày,', 'Hà', 'Nội', '1', 'ngày'], ['Khoảng', '10', 'triệu'], ['Không,', 'chỉ', 'tiền', 'khách_sạn'], ['Covid', 'thì', 'ở', 'nhà', 'chứ', 'chơi_bời', 'gì'], ['Không'], ['Hết', 'tiền'], ['Ờ'], ['Hè'], ['Dịch', 'quá', 'không', 'đi.'], ['vote', 'Đà', 'Lạt'], ['ngủ', 'mát', 'mà'], ['hì_hì'], ['cũng', 'ok', 'đó'], ['đi', 'sớm', 'sớm', 'đi'], ['20', 'tết'], ['Phan', 'thiết'], ['Mùng', '3', 'tết'], ['Tụi', 'mình'], ['Rồi'], ['Trắng', 'đen'], ['Nha', 'Trang'], ['Sau', 'Tết'], ['mực,', 'ốc'], ['tham_quan', 'Vinpearl'], ['dạo', 'biển'], ['có'], ['có'], ['ừ'], ['có'], ['có'], ['có'], ['Daklak', ',', 'Ninh', 'Thuận', ',', 'Đà', 'Nẵng', '...'], ['Có', 'nhưng', 'đi', 'hết', 'trong_nước', 'đã.'], ['Hè,', 'các', 'ngày_lễ', 'đc', 'nghỉ', 'dài'], ['bạn_bè'], ['Vì', 'thích', 'không_khí', 'ở', 'những', 'nơi', 'đi', 'qua,', 'mát', 'mẻ,', 'trong', 'lành...'], ['ok', 'ở', 'đâu'], ['vịnh', 'hạ', 'long', 'được', 'đó'], ['làm', 'chuyến', 'du', 'lịch', 'luôn', 'thôi'], ['đi', 'luôn'], ['ok', 'dạo', 'này', 'tao', 'hơi', 'nghiệp'], ['không'], ['tết'], ['không'], ['không'], ['không'], ['2', 'thàng', 'trước'], ['Bà', 'Nà', 'Hill'], ['phong_cách', 'châu_âu'], ['rồi'], ['đi', 'rồi,', '4', 'tháng', 'trước'], ['có', 'cảnh', 'đẹp,', 'không_khí', 'tốt'], ['lạnh'], ['Phan', 'thiết'], ['Mùng', '3', 'tết'], ['Tụi', 'mình'], ['Rồi'], ['Trắng', 'đen'], ['cotton'], ['có'], ['M'], ['mua', '5', 'cái', 'trở_lên', 'thì', 'được', 'giảm_giá'], ['69', 'phần_trăm'], ['Chưa', 'đâu,', 'hiện_tại', 'tôi', 'vẫn', 'thích', 'chiếc', 'điện_thoại', 'của', 'tôi.'], ['Không'], ['Tôi', 'mua', 'vào', 'cuối_năm'], ['Tôi', 'chỉ', 'sắm', 'khi', 'cần_thiết'], ['không'], ['không'], ['samsung'], ['có'], ['không'], ['có'], ['Chưa.'], ['iPhone', '8', 'plus'], ['Chưa.'], ['iPhone', '8', 'plus'], ['Chưa', 'đâu,', 'hiện_tại', 'tôi', 'vẫn', 'thích', 'chiếc', 'điện_thoại', 'của', 'tôi.'], ['Không', 'đâu,', 'tôi', 'ít', 'khi', 'đi', 'mua', 'quần_áo', 'lắm.'], ['Tôi', 'chỉ', 'đi', 'mua', 'quần_áo', 'vào_khoảng', 'thời_gian', 'cuối', 'năm.'], ['Tôi', 'chỉ', 'sắm_sửa', 'khi', 'thấy', 'món_đồ', 'đó', 'thật_sự', 'cần', 'thiết.'], ['mày', 'biết', 'chỗ', 'nào', 'bán_đồ', 'okay', 'không'], ['okay', 'vậy', 'đi', 'thử'], ['biết'], ['vậy', 'cũng', 'được'], ['điện_thoại', 'tao', 'mới', 'hư', 'rồi'], ['ừ', 'mày'], ['ừ', 'tao', 'đang', 'phân_vân', 'con', 'iphone', '12', 'promax', 'với', 'con', 's21', 'ultra', 'đây'], ['haha'], ['giỡn', 'á'], ['chắc', 'mua', 'tầm', '5', 'triệu', 'đổ', 'lại', 'thôi'], ['ừ', 'mày'], ['okay', 'mày'], ['Chưa.'], ['SamSung', 'Note', '9.'], ['ip', 'mới', 'ra', 'thị_trường'], ['cũng', 'thường', 'thôi'], ['nokia'], ['chưa'], ['ok'], ['tao_thích', 'mặc', 'sơ_mi', 'nên', 'hay', 'mua', 'ở', 'MAZZOLA'], ['ra', 'uniqlo', 'đi'], ['tao', 'không', 'khoái', 'apple', 'lắm', 'nên', 'sẽ', 'ủng_hộ', 'samsung.'], ['samsung_galaxy_note', '20', 'ultra', 'nha'], ['ra', 'store', 'mua,', 'đừng_có', 'shoppee', 'hay', 'tiki', 'là', 'được'], ['Còn'], ['300k', 'ạ'], ['Ib', 'ạ'], ['Không', 'ạ'], ['Có', 'ạ'], ['Màu', 'gì', 'đấy?'], ['Nhiêu', 'tiền?'], ['Rửa', 'nhanh', 'còn', 'kịp'], ['chip', 'ok', 'luôn,', 'chơi_game', 'mượt'], ['tao', 'thấy', 'shop', 'kia', 'bán', 'háng', 'onl', 'khá', 'ổn', 'nè.'], ['ngon', 'đấy,', 'cho', 'cái', 'địa_chỉ', 'bạn', 'ơi.'], ['được', 'nha,', 'cho', 'tao', 'thông_tin', 'ổng', 'với.'], ['chốt', 'cho', 'tao', 'cái', 'quần_jean', 'đen', 'với.'], ['500', 'ngàn'], ['không'], ['xịn'], ['10', 'triệu'], ['không'], ['dịp_lễ'], ['tiền_mặt'], ['ngay', 'bây_giờ'], ['vẫn', 'còn'], ['áo_len', 'dày_dặn'], ['có', 'đầy_đủ', 'size'], ['size', 'xxl'], ['có', '3', 'màu,', 'đen,', 'trắng,', 'xanh_đen'], ['299k'], ['vẫn', 'còn'], ['12', 'tháng'], ['có'], ['3', 'ngày'], ['50000'], ['Màu', 'gì', 'đấy?'], ['Nhiêu', 'củ?'], ['Rửa', 'nhanh', 'còn', 'kịp'], ['mua', 'rồi'], ['shopee'], ['nhiều', 'lắm'], ['có'], ['sịp', 'ren'], ['có'], ['chuột', 'không', 'dây'], ['giày', 'chạy_bộ'], ['có'], ['freeship'], ['nhanh', 'lắm'], ['200', 'nghìn_đồng'], ['có'], ['6', 'tháng'], ['1', 'tháng', 'trước'], ['polyme'], ['việt_nam'], ['không'], ['ở', 'Aeon', 'Tân', 'Phú'], ['vải', 'cotton'], ['mua', 'ở', 'Phong', 'Vũ'], ['hàng', 'của', 'Nike'], ['mày', 'lên', 'thư_viện', 'mua'], ['hãng', 'Marshall'], ['ở', 'ChoiGuitarShop'], ['Có', 'nhiều', 'lắm'], ['Có'], ['Jean,', 'len,...'], ['Tùy', 'loại'], ['Có'], ['400000'], ['Len'], ['Có'], ['Có'], ['30000'], ['Không'], ['55', 'Phan', 'Châu', 'Trinh,', 'Đà', 'Nẵng'], ['90', 'nghìn', 'đồng'], ['size', 'vừa', 'và', 'nhỏ'], ['vị', 'dâu'], ['lớn', 'thoải', 'mái', 'hơn', 'nhỏ', 'đẹp', 'hơn'], ['ngon', 'mà', 'mua', '2', 'ly', 'đi'], ['mua', 'đi', 'đẹp', 'mà'], ['Có', 'bạn', 'nhé.'], ['Bạn', 'tham_khảo', 'vài', 'đôi', 'giày', 'của', 'Adidas', 'nhé.'], ['Có', 'chứ.'], ['Hàng', 'vừa', 'về', 'luôn', 'bạn.'], ['1', 'triệu_rưỡi', 'một_đôi'], ['Ở', 'Sài', 'Gòn'], ['Ship', 'toàn_quốc', 'nhé.'], ['Phí', 'ship', 'ngoại_thành', 'Sài', 'Gòn', 'là', '30k.'], ['Trong', 'vòng', '3', 'ngày'], ['Thanh', 'toán', 'trực_tiếp', 'cho', 'shipper'], ['tao', 'không', 'biết,', 'ra', 'thế_giới', 'di_động', 'mà', 'xem.'], ['ngon,', 'bền'], ['Macbook', 'hoặc', 'Dell'], ['tao', 'quên', 'rồi'], ['được', 'thì', 'Macbook'], ['tùy', 'theo', 'nhà_sản_xuất'], ['ra', 'thế_giới', 'di_động', 'hỏi'], ['18', 'triệu'], ['ổn'], ['2', 'năm'], ['không'], ['đang', 'khuyến_mãi', 'tết'], ['mình', 'muốn', 'mua_laptop'], ['mình', 'muốn', 'mua', 'của', 'Dell'], ['mình', 'muốn', 'mua_laptop', 'dòng', 'gaming'], ['mình', 'có_thể', 'mua', 'tầm', '15-20', 'triệu'], ['mình', 'cần', 'nó', 'đủ', 'mạnh', 'để', 'học', 'IT'], ['mình', 'cần', 'mấy', '8gb', 'và', 'ở', 'cứng', 'SSD'], ['250k'], ['bền'], ['không'], ['5'], ['không'], ['2'], ['20', 'triệu'], ['core', 'i9'], ['máy', 'cũ'], ['amd'], ['uy_tín', 'luôn'], ['Vâng', 'để', 'mình', 'kiểm_tra', 'kho', 'ạ'], ['Ở', 'cuối', 'dãy', 'quần', 'kaki'], ['Dĩ', 'nhiên', 'rồi'], ['Của', 'bạn', 'đây'], ['Rất', 'tiếc,', 'trong', 'kho', 'không', 'còn', 'loại', 'màu', 'bạn', 'yêu_cầu'], ['Phong', 'Vũ'], ['Tiệm', 'tạp_hóa', 'chứ', 'đâu'], ['Thử', 'đi_rồi', 'biết'], ['Đẹp', 'thế,', 'đưa', 'tao'], ['Siêu', 'thị,', 'văn_phòng_phẩm', 'chứ', 'đâu'], ['mua', 'ở', 'GearVN'], ['bệnh_viện', 'Điện', 'Biên', 'Phủ'], ['ZombieShop'], ['YameShop'], ['Bitis'], ['có'], ['có'], ['có'], ['500', 'dollar'], ['cotton'], ['rất', 'sẵn', 'lòng.'], ['vẫn', 'còn', 'ạ.'], ['đúng', 'rồi'], ['cần', 'mua', '1', 'con', 'lap', 'giá', 'cỡ', '13', '14', 'triệu'], ['cỡ', 'i5', 'đời', '9', 'trở_lên'], ['những', 'con', 'lap', 'cỡ', 'đó', 'là', 'từ', '16', 'tr', 'đổ', 'lên'], ['đợi', 'chút'], ['cũng', 'được,', 'mình', 'đặt', '1', 'cái', 'này'], ['26/19/57/6', 'lâm_hoành', 'phường', 'an_lạc', 'quận', 'bình_tân'], ['Đồ', 'điện_tử'], ['Asus,', 'MSi,', 'Apple,', 'Acer,', 'Lenovo,...'], ['Có'], ['Có'], ['6', 'tháng,', '12', 'tháng', 'đến', '3', 'năm'], ['Có'], ['asus'], ['cân_bằng', 'giữ', 'học', 'và', 'chơi'], ['tao', 'nghĩ', 'là', 'Macbook'], ['còn'], ['size', 'L'], ['sản_phẩm', 'nào'], ['480k', 'sale', 'còn', '480k'], ['mua.'], ['áo', 'len.'], ['vitage.'], ['XL.'], ['250k.'], ['Được.'], ['Đâu', 'cũng', 'được.'], ['không', 'đổi', 'được.'], ['Asus,', 'Acer,', 'Dell,...'], ['Có'], ['trên', '20', 'triệu.'], ['tai', 'nghe,', 'chuột,', 'và', 'lót', 'chuột'], ['Được.'], ['225', 'ngàn'], ['giá', 'vậy', 'hợp', 'rồi'], ['đẹp'], ['ổn'], ['lâu', 'khô', 'lắm'], ['Mua', 'đồ', 'online', 'đi', 'nè.'], ['Mua', 'đồ', 'online', 'đi', 'nè.'], ['Mua', 'lựa', 'shop', 'cho', 'đổi', 'trả,', 'hoàn', 'tiền.'], ['Bóc', 'phốt.'], ['Tìm', 'mã', 'giảm_giá', 'hoặc', 'là', 'không', 'mua', 'nữa.'], ['đăng_ký', 'tại', 'phòng'], ['110', 'nghìn'], ['gdtc', '1', 'và', '2'], ['có'], ['phòng', 'thể_dục_thể_thao', 'sau', 'sân', 'bóng'], ['trên', '20', 'triệu'], ['tòa', 'A,', 'F'], ['đem', 'theo', 'laptop'], ['điện_thoại', 'hãng', 'gì'], ['Loại', 'gì', 'bạn'], ['Bạn', 'chọn', 'màu', 'gì'], ['Bộ', 'nhớ', 'bao_nhiêu'], ['Thanh', 'toán', 'như_thế_nào'], ['Asus,', 'Dell,', 'macbook,...'], ['Asus', 'inspire,', 'Asus', 'v100,...'], ['chọn', 'thế_hệ', 'core:', 'i3,', 'i5,', 'i7,...'], ['5-7', 'triệu', 'cho', 'máy', 'cũ,', 'và', '9-11', 'triệu', 'cho', 'máy', 'mới'], ['Nha', 'Trang,', 'Hồ', 'Chí', 'Minh,', 'Hà', 'Nội,', 'Bình', 'Dương'], ['S,', 'M,', 'L,', 'XL'], ['500000', 'đồng'], ['XL', 'hoặc', 'XXL', 'tùy', 'vào', 'chiều_cao'], ['còn', 'nha', 'bạn'], ['tphcm,', 'hà_nội', 'thì', 'có,', 'còn', 'lại', 'không'], ['2', 'ngày', 'nữa', 'nhé'], ['mẫu', 'này', 'được', 'nhiều', 'người_mua', 'nè', 'bạn'], ['chụp', 'giúp', 'ad', 'hóa_đơn'], ['Hp'], ['Phong', 'Vũ'], ['15', 'triệu'], ['RAM', '8G,', 'core', 'i5'], ['Hơn', '1', 'năm'], ['laptop'], ['acer'], ['Phong', 'Vũ'], ['1', 'năm'], ['8gb'], ['256gb'], ['có'], ['Phải'], ['20', 'triệu', 'đổ', 'lại'], ['Bền'], ['Nhẹ'], ['1', 'năm'], ['Có'], ['ngoài', 'chợ'], ['200k'], ['vải', 'ok', 'lắm'], ['quần'], ['thường'], ['13', 'triệu'], ['không', 'mắc', 'đâu'], ['hết', 'rồi'], ['Laptop'], ['lúc_nào', 'cũng', 'có'], ['có_em', 'ạ'], ['có'], ['thảo', 'điền', 'q2'], ['100m2'], ['5', 'phòng'], ['tầm', '5', 'tỷ'], ['nhiều'], ['có', 'chứ'], ['rất', 'rộng'], ['sang_trọng'], ['ừ,', 'đời_mới', 'mà'], ['nếu', 'mày', 'giàu', 'thì', 'mày', 'mua'], ['thì', 'mày', 'đi_làm'], ['không', 'làm', 'mà', 'muốn', 'có_ăn', 'thì', 'chỉ', 'có_ăn', 'chực', 'ăn', 'ké'], ['tự', 'kiếm', 'đi', 'mày'], ['Hãng', 'nào', 'mày'], ['Nhiều', 'lắm'], ['Mặc', 'đi_chơi'], ['Được'], ['Dòng', 'nào?'], ['Có', 'chứ.'], ['HG.'], ['250k', 'tới', '1', 'củ.'], ['OK', 'man.'], ['Không', 'mua', 'trả', 'góp.'], ['đỏ'], ['vàng'], ['đen'], ['cam'], ['trắng'], ['trắng'], ['trắng'], ['đen'], ['xanh_lá'], ['hồng'], ['Còn'], ['Đen', 'và', 'trắng'], ['2', 'năm'], ['Balo', 'samsung', 'với', 'dán', 'màn_hình', 'miễn_phí'], ['Tiền', 'mặt', 'hoặc', 'qua', 'thẻ'], ['Có', 'trả_góp', 'lãi_suất', '0%'], ['Được.', 'Giờ', 'mày', 'cần', 'máy', 'để', 'làm', 'gì?'], ['Budget', 'mua', 'máy', 'của', 'mày', 'là', 'bao', 'nhiêu?'], ['10', 'triệu', 'chắc', 'đủ', 'mua', 'máy', 'tằm', 'thấp.'], ['Chơi', 'game', 'nhẹ', 'được,', 'game', 'nặng', 'là', 'phải', 'giảm', 'đồ_họa', 'hết', 'cót', 'có_khi', 'vẫn', 'còn', 'lết.'], ['Máy', '10', 'triểu', 'cao', 'lắm', 'chi', 'được', 'CPU', '4', 'nhân,', 'GPU', 'tầm', 'AMD', 'rx470', 'hoặc', 'Nvidia', 'GTX1050.'], ['Máy', '15', 'triệu', 'có_thể', 'mua', 'được', 'best', 'selling', 'trên_amazon', 'rồi.'], ['CPU', '6', 'nhân,', 'GPU', 'RX580', 'hoặc', 'GTX1660,', 'RAM', '16GB.'], ['Tùy,', 'SSD', 'làm', 'ổ', 'boot', 'máy,', 'chơi_game', 'với', 'làm_việc', 'rất', 'trơn', 'chu.'], ['Mua', 'SSD', 'Sata3', 'truyền_thống', 'thôi,', 'M.2', 'PCI-e', 'chỉ', 'khi', 'mày', 'cần', 'truy', 'xuất,di', 'chuyển', 'dữ_liệu', 'nhanh_nhất', 'hoặc', 'muốn', 'đốt', 'tiền.'], ['iPhone'], ['trên', 'Shopee'], ['trên', 'Shopee'], ['mua', 'Android'], ['Uniqlo'], ['120k'], ['Còn'], ['Nội', 'địa', '15k,', 'Tỉnh', 'lẻ', '35k'], ['Chuyển', 'khoản'], ['Trung', 'Quốc'], ['không'], ['mua'], ['11', 'Pro'], ['đen'], ['512', 'GB'], ['Trả', 'góp'], ['không'], ['mua'], ['12', 'Promax'], ['xanh_đen'], ['512', 'GB'], ['Trả', 'góp'], ['Vietcombank'], ['không'], ['bạn', 'muốn', 'mua', 'gì'], ['dài', 'hay', 'ngắn'], ['lên', 'tầng', '1', 'đi'], ['chúc', 'ngày_mới', 'vui', 'vể'], ['Iphone', '12', 'PROMAX', 'đi'], ['Cực', 'mạnh'], ['35', 'triệu'], ['Mua', 'áo_dài', 'đi'], ['Cách', 'Tân'], ['500.000', 'đ'], ['Ổn', 'đấy'], ['Adidas', 'được', 'đó.'], ['Xiaomi.'], ['Cũng', 'tạm', 'ổn.'], ['Ừm.', 'Không', 'thích', 'áo', 'thun.'], ['Ừm,', 'thích.'], ['Không', 'thích.'], ['Iphone', '12'], ['128gb'], ['Thế', 'giới', 'di_động'], ['Quận', '1'], ['Tiền', 'mặt'], ['còn'], ['hết', 'rồi'], ['12', 'tháng'], ['Free', 'ship'], ['2-3'], ['Iphone', '12', 'PROMAX', 'đi'], ['Cực', 'mạnh'], ['35', 'triệu'], ['Mua', 'áo_dài', 'đi'], ['500.000', 'đ'], ['ừa'], ['oppo'], ['ok'], ['Nguyễn', 'Kim'], ['đẹp'], ['Đúng', 'vậy'], ['Kiểu', 'đường_phố'], ['Không'], ['iphone', '12'], ['Cửa', 'hàng', 'LEVIS', 'gần', 'trung_tâm', 'Quận', '1'], ['không'], ['mua'], ['11', 'Pro'], ['đen'], ['512', 'GB'], ['Trả', 'góp'], ['Ở', 'phong_vũ'], ['21', 'triệu'], ['Cũng', 'được'], ['Được', '1', 'tháng'], ['có'], ['có'], ['tuỳ', 'vào', 'dung_lượng'], ['có'], ['hết', 'hàng', 'rồi'], ['đợi', 'chút'], ['Dạ,', 'xin', 'chào'], ['Dạ,', 'có'], ['Dạ,', 'cotton'], ['Dạ,', 'nhiều', 'ạ'], ['Lần', 'đầu', 'anh', 'nên', 'giặt', 'tay'], ['Vấn', 'đề', 'này', 'có', 'ạ'], ['Hiện', 'tại', 'bên_em', 'mua', '1', 'tặng', '1', 'ạ'], ['Dạ,', '2', 'áo', 'XL', 'nha', 'anh'], ['Dạ'], ['700k'], ['1500k'], ['Có'], ['Có'], ['Mở', 'nguồn', 'lên', 'sài'], ['Chào', 'bạn,', 'hiện', 'tại,', 'shop', 'vẫn', 'còn', 'Samsung', 'Galaxy', 'S20', 'với', 'các', 'màu', 'xanh,', 'hồng', 'và', 'đen'], ['13', 'triệu', 'nha', 'bạn'], ['Đúng', 'rồi', 'bạn'], ['Tổng', 'hóa_đơn', 'là', '13,2', 'triệu.', 'Tổng', 'tiền', 'cho', 'ốp', 'lưng', 'và', 'sạc', 'dự_phòng', 'là', '400k,', 'áp_dụng', 'khuyến_mãi', 'còn', '200k'], ['Đơn', 'hàng', 'của', 'bạn', 'là', '13,2', 'triệu', 'gồm', '1', 'Samsung', 'Galaxy', 'S20,', '1', 'ốp', 'lưng,', '1', 'cục', 'sạc', 'dự_phòng'], ['Ốm', 'thì', 'mua', 'áo', 'tay', 'dài,', 'mập', 'thì', 'mua', 'áo', 'tay', 'ngắn'], ['A&G,', 'Mr.Simple,', 'Routine,...'], ['jean', 'tao', 'không_biết', ':))'], ['Thử', 'G102'], ['Tiki'], ['Tao', 'hong', 'biết'], ['Thế', 'giới', 'di_dộng'], ['Lên', 'mấy', 'shop_online', 'coi', 'thử'], ['để', 'tao', 'kím', 'cho', 'vài', 'dòng'], ['tiền', 'đâu', 'mua.', 'cho', 'tiền', 'tao', 'mua', 'đi'], ['trâu_bò', 'lắm', 'luôn'], ['ok,', 'mai', '9h', 'đi'], ['Iphone', '12', 'PROMAX', 'đi'], ['Cực', 'mạnh'], ['35', 'triệu'], ['Mua', 'áo_dài', 'đi'], ['Cách', 'Tân'], ['500.000', 'đ'], ['có', 'tiền', 'mới', 'đi'], ['quần', 'áo,', 'đồ', 'điện_tử'], ['áo_thun'], ['jeans', 'dài'], ['Vincom', 'Đồng', 'Khởi'], ['iphone'], ['được'], ['3', 'năm', 'rồi'], ['tầm_trung', 'của_thị', 'trường', 'smnartphone', 'hiện_giờ'], ['camera', 'nó', 'chân_thực'], ['6', 'tr'], ['3', 'tr'], ['300k'], ['IOS', 'vẫn', 'tốt'], ['Gặp', 'đâu', 'sale', 'vào', 'đó', 'mua'], ['Có'], ['tao', 'đổi', 'qua', 'iphone', '13', 'rồi'], ['hãng', 'nào', 'cũng', 'tốt'], ['áo', 'này', 'dược', 'đó'], ['mua', 'cái', 'mới', 'đi'], ['iphone'], ['không'], ['cho', 'tao', 'xem'], ['cho', 'tao', 'xem', 'đã'], ['Size', 'bao_nhiêu'], ['samsung'], ['cho', 'tao', 'xem_đi'], ['Chọn', 'Xiaomi', 'redmi_note', '8', 'đi'], ['chọn', 'Samsung', 'Galaxy', 'A12', 'đi'], ['mặc_đầm', 'hơi', 'xiết', 'eo', 'để', 'dấu', 'bụng', 'á'], ['Macbook', 'đi'], ['Cực', 'mạnh'], ['50', 'triệu'], ['Mua', 'áo_dài', 'đi'], ['Cách', 'Tân'], ['500.000', 'đ'], ['hết', 'tiền', 'rồi'], ['làm_biếng', 'lắm'], ['đi', 'mà', 'mày', 'bao'], ['đi'], ['quất'], ['đi', 'đâu'], ['ai', 'biết', 'nó'], ['rồi'], ['rồi'], ['mốt'], ['không'], ['oke'], ['không'], ['đọc', 'sách,', 'nghe_nhạc'], ['ở', 'Cộng', 'cà_phê'], ['rồi'], ['trường', 'Hùng', 'Vương'], ['ngày', 'nào', 'rảnh', 'thì', 'dẫn', 'đi'], ['đi', 'coi', 'phim'], ['không'], ['Đi', 'chơi'], ['Ăn', 'uống,', 'chơi_game'], ['Ngoài', 'đường'], ['Thỉnh', 'thoảng'], ['Mì', 'tôm'], ['Có'], ['Bạn', 'chung', 'lớp'], ['Tất', 'nhiên', 'là', 'đẹp'], ['Rồi'], ['Không', 'biết'], ['Đi', 'cafe'], ['Thỉnh', 'thoảng'], ['Gần', 'nhà'], ['Bạn', 'bè'], ['Còn'], ['Xem', 'phim'], ['Ấm', 'áp,', 'thông', 'minh.'], ['Nơi', 'náo', 'nhiệt.'], ['Thỉnh', 'thoảng'], ['Chưa'], ['Có'], ['Là', 'người', 'thông_minh'], ['Có'], ['đi', 'ăn'], ['nghe', 'chứ'], ['không', 'bao', 'giờ'], ['đọc', 'sách'], ['KFC', 'đi'], ['thích', 'con', 'gái', 'dễ', 'thương'], ['có', 'thích'], ['tên', 'Long'], ['bày', 'tỏ', 'đi'], ['thử', 'cho', 'biết'], ['Ngồi', 'không', 'thôi'], ['Chút', 'nữa', 'đi', 'ăn_vặt', 'uống', 'cà', 'phê.'], ['Ừ.', 'Cho', 'thư_giãn', 'ấy', 'mà.'], ['Yên', 'tĩnh', 'lắm.'], ['Lâu', 'lâu', 'có', 'đi', 'xem_phim', 'hoặc', 'phượt.'], ['Không.', 'Đi', 'với', 'bạn_bè', 'này', 'kia.'], ['Xem', 'ở', 'rạp', 'cho', 'đã'], ['Có', 'phim', 'hay', 'thì', 'đi', 'coi.'], ['Đang', 'buồn'], ['Ừ'], ['Nhân', 'viên', 'ở', 'quán', 'cà_phê', 'tao', 'hay', 'đến.'], ['Quen', 'lâu', 'rồi.', 'Quán', 'quen', 'mà.'], ['Từ', 'vóc_dáng', 'đến', 'tính', 'cách.'], ['ừ'], ['Tỏ', 'tình', 'nó', 'mà', 'nó', 'bảo', 'chưa', 'quyết_định', 'được'], ['Đến', 'khi', 'nào', 'nó', 'đưa_ra', 'câu', 'trả_lời', 'thì', 'thôi.'], ['ở', 'nhà_ngủ'], ['bài_tập', 'còn', 'nhiều', 'lắm'], ['không', 'mày'], ['ở', 'nhà', 'xem_phim'], ['đi', 'mua_sắm'], ['đi', 'du_lịch'], ['có', 'chứ'], ['nghe_nhạc'], ['chơi_với', 'mèo'], ['quên', 'nó', 'đi'], ['chắc', 'là', 'có'], ['gây', 'ấn_tượng', 'tốt'], ['hãy', 'là', 'chính_mình'], ['có', 'nha'], ['nói', 'về', 'những', 'điều', 'nó', 'thích'], ['mày', 'không', 'phải', 'gu', 'nó'], ['crush', 'người', 'khác'], ['chơi_game', 'hoặc', 'xem_phim'], ['hành_động'], ['avenger', 'end', 'game'], ['có'], ['có'], ['tạo', 'cảm_giác', 'an_tâm', 'cho', 'người', 'ta'], ['nói', 'cái', 'gì', '2', 'bay', 'thích?'], ['ăn', 'với', 'xem_phim'], ['tự_lập'], ['không'], ['mình', 'thường', 'đi_chơi'], ['mình', 'thường', 'đi_chơi', 'net'], ['có', 'mình', 'thường', 'đi_chơi', 'với', 'bạn_bè'], ['mình', 'đọc', 'truyện', 'xem_phim'], ['mình', 'xem', 'bài_học', 'cho', 'ngày_mai'], ['có', 'mình', 'hay', 'đi', 'ăn', 'với', 'bạn_bè'], ['mình', 'chưa', 'có', 'crush'], ['mình', 'thích', 'người', 'hiền_lành'], ['là', 'người', 'hoạt', 'bát,vui', 'vẻ,', 'hiền_lành'], ['khi', 'mình', 'học', 'xong'], ['mình', 'thích', 'con_gái'], ['chơi_game'], ['không'], ['có'], ['chơi_game'], ['chạy_bộ'], ['có'], ['đi', 'shopping'], ['có'], ['chưa'], ['có'], ['chơi_game'], ['lâu_lâu', 'đi'], ['không', 'thích'], ['có', 'chứ'], ['không', 'đi'], ['đẹp'], ['chưa', 'có'], ['mày', '<3'], ['không'], ['yêu', 'luôn'], ['Tao', 'chơi_game'], ['Chơi', 'ở', 'nhà', 'chứ', 'ở', 'đâu'], ['Không', 'm'], ['Tao', 'lười', 'lắm'], ['Oke', 'luôn'], ['Quỳnh', 'thích', 'ăn_bánh', 'tráng', 'trộn'], ['Chắc', 'là', 'trà', 'tắc'], ['Sao', 'mày', 'hỏi', 'về', 'cái', 'Quỳnh', 'vậy', '?'], ['Á_à', 'thì_ra', 'mày', 'crush', 'Quỳnh', 'phải', 'không', '?'], ['Oke', 'he_he'], ['Đọc', 'sách'], ['Đôi_khi'], ['Tiệm', 'cà_phê'], ['Đang', 'muốn', 'thử', 'đây'], ['Ở', 'nhà', 'chứ', 'ở', 'đâu'], ['Đọc', 'sách'], ['Có'], ['Thường', 'xuyên', 'luôn'], ['Nếu', 'có', 'tiền', 'chứ'], ['Điều', 'hiển_nhiên'], ['Đã', 'từng'], ['Đẹp,', 'siêng', 'năng,', 'có', 'chí'], ['Đẹp_trai', 'lắm', 'mày', 'ạ'], ['Nhiều', 'lần', 'lắm', 'mày', 'ơi'], ['Tao', 'nghĩ', 'là', 'không_thể'], ['Không', 'có', 'quan_điểm'], ['Có', 'lẽ'], ['Tất', 'nhiên', 'rồi'], ['Nhiều', 'lắm', 'mày', 'ạ'], ['Ghét'], ['chơi', 'game,', 'nghe_nhạc'], ['thỉnh_thoảng'], ['CGV'], ['GTAV'], ['Rap'], ['Trừ', 'nó', 'ai', 'cũng', 'biết'], ['chân_thành'], ['Không'], ['fix', 'bug'], ['Dễ', 'thương'], ['mình', 'rảnh'], ['ok'], ['yes'], ['đang', 'bận', 'học', 'bài'], ['đang', 'bận'], ['đi', 'nhậu', 'nhé'], ['cưa', 'đổ', 'đi'], ['nó', '21'], ['đừng', 'mơ'], ['nó', 'có', 'người_yêu', 'rồi'], ['ngủ,', 'đi', 'Café'], ['những', 'quán', 'lề', 'đường.'], ['the', 'banned.'], ['có', 'nhưng', 'ít', 'khi', 'chơi.'], ['tới', 'thôi.'], ['làm', 'nhiều', 'việc', 'lắm'], ['xem', 'tivi,', 'chơi_game', 'và', 'nghe_nhạc'], ['bạn', 'rủ', 'tao', 'mới', 'đi'], ['để', 'làm', 'khảo_sát', 'cho', 'môn', 'tao', 'đang', 'học'], ['ok'], ['cũng', 'được'], ['dễ', 'mà'], ['khoa_lao', 'động', 'công_đoàn'], ['lúc', 'học', 'thái_độ', 'sống', '3'], ['chưa', 'luôn'], ['chơi_game', 'và', 'nghe_nhạc'], ['ở', 'nhà'], ['Nấu', 'ăn'], ['Đúng'], ['Có'], ['Học', 'bài', 'là', 'bận', 'rồi'], ['gia_đình'], ['đi', 'ăn_cùng', 'người_yêu'], ['Măn', 'lẩu,', 'món', 'lề_đường'], ['Có'], ['hoa_hồng'], ['không', 'có'], ['đi', 'cafe,', 'chơi_game'], ['có', 'chứ'], ['có,', 'cờ', 'nhân_phẩm'], ['tao', 'hay', 'đi', 'Đà', 'Lạt'], ['tao', 'đang', 'sưu_tầm', 'lego'], ['tao', 'cũng', 'hay', 'nấu_ăn', 'nếu', 'rãnh', 'mày', 'ơi'], ['hay', 'đi', 'phượt', 'chung'], ['có', 'chứ'], ['mới', 'tỏ_tình', 'bị', 'từ_chối'], ['bên', 'ngoài', 'đẹp_trai', 'bên', 'trong', 'nhiều', 'tiền'], ['friend', 'zone'], ['có', 'hay', 'nói', 'với', 'mấy', 'thằng', 'cùng', 'phòng'], ['đọc', 'sách.'], ['xem', 'phim.'], ['khoa_học', 'viễn', 'tưởng.'], ['rạp', 'hoặc', 'nhà.'], ['thỉnh', 'thoảng.'], ['không', 'thường_xuyên', 'lắm.'], ['có.'], ['bạn', 'bè.'], ['con', 'trai.'], ['cao.'], ['học', 'giỏi.'], ['ưa', 'nhìn.'], ['hiền,', 'ít', 'nói,', 'biết', 'quan', 'tâm.'], ['đọc', 'truyện,', 'xem', 'videos', 'và', 'chơi_game'], ['quán', 'cà', 'phê?'], ['đi', 'bơi'], ['Ở', 'hồ', 'bơi.'], ['chưa', 'đọc', 'bao', 'giờ.'], ['có'], ['Thanks.'], ['đã', 'có', 'người_yêu'], ['Chả', 'ai', 'yêu', 'người', 'xấu', 'cả'], ['2', 'năm'], ['ăn_uống', 'và', 'nói', 'chuyện.'], ['Không', 'biết'], ['có'], ['lâu', 'rồi'], ['không', 'dám'], ['không_biết'], ['tôn', 'trọng,', 'tinh', 'tế,', 'biết', 'để', 'ý,', 'rõ', 'ràng,', 'dứt', 'khoác.'], ['cao,', 'đẹp,', 'dễ', 'thương,', 'hơi', 'ngố'], ['không_biết'], ['cái', 'gì', 'ngon', 'là', 'ăn'], ['đồ', 'ngọt,', 'rau'], ['ngủ', 'nhiều'], ['gần', 'nhà', 'tớ'], ['8'], ['12'], ['đi', 'ăn_chung'], ['đi,', 'ăn', 'lẩu', 'teokbokki', 'đi'], ['đúng', 'rồi'], ['lười', 'nên', 'chưa', 'đánh', 'được'], ['không', 'thích', 'nấu'], ['mr.queen'], ['không'], ['nghe_nhạc', 'hoặc_ngủ'], ['nghe', 'nhạc,', 'xem_phim', 'hoặc', 'chơi_game'], ['thích', 'nhưng', 'vẽ', 'xấu', 'nên', 'không', 'vẽ'], ['xem', 'phim,', 'đi', 'ăn', 'hoặc', 'đi', 'du_lịch', 'cùng', 'nhau'], ['gì', 'cũng', 'được', 'miễn_là', 'cùng', 'người_yêu'], ['đâu', 'cũng', 'muốn'], ['không'], ['quan_tâm', 'và_yêu', 'thương', 'tao'], ['Tao', 'xem_phim', 'hoặc', 'chơi_game', 'gì', 'đó.'], ['Ngủ', 'hoặc', 'đi', 'ăn', 'gì', 'đó', 'ngon.'], ['Có', 'chứ,', 'mà', 'ai', 'thân', 'rủ', 'tao', 'mới', 'đi.'], ['Ăn', 'gì_thì', 'tùy_tâm', 'trạng', 'vui', 'buồn.'], ['Ai', 'rủ', 'thì', 'tao', 'đi,', 'chứ', 'đi', 'mình', 'buồn', 'lắm.'], ['Đi', 'ăn', 'gì', 'đó', 'ngon.'], ['Trong', 'tim', 'tao', 'nè.'], ['Mày', 'đoán', 'xem.'], ['Tặng', 'gì', 'ăn', 'ké', 'được'], ['Học', 'NLP'], ['cần', 'để', 'xét', 'tốt_nghiệp'], ['tham_gia', 'hoạt_động'], ['trên', 'hệ_thống', 'thông_tin', 'sinh_viên'], ['thỉnh_thoảng'], ['quán', 'cà_phê'], ['cảng', 'nhà_rồng'], ['thình', 'thoảng'], ['mobile'], ['độc_thân'], ['rồi'], ['có'], ['cuối', 'tháng'], ['không'], ['Chơi', 'game'], ['Liên', 'minh'], ['Không,', 'đánh', 'hạng'], ['Chưa'], ['Ok'], ['Rảnh'], ['Hỏi', 'đi'], ['Chung', 'lớp', 'hả'], ['Inbox', 'hỏi', 'bài', 'đi'], ['Thì', 'hỏi', 'bài_tập', 'trên', 'lớp,', 'rồi', 'bắt_chuyện'], ['Ngại', 'gì,', 'mạnh_dạn', 'lên'], ['thích', 'làm_gì', 'khi', 'rảnh', 'rỗi?'], ['thích_chơi', 'game', 'không?'], ['thích_chơi', 'bóng_rổ', 'hay', 'thích_chơi', 'game?'], ['có', 'hay', 'đi', 'coffee', 'với', 'bạn_bè', 'không?'], ['có', 'hay', 'đi', 'shopping', 'không?'], ['có', 'người_yêu', 'chưa?'], ['mẫu', 'người', 'lý', 'tưởng?'], ['thích', 'gái', 'cao', 'hay', 'gái', 'thấp?'], ['thích', 'gái', 'Bắc', 'hay', 'gái', 'Nam?'], ['có', 'người_yêu_cũ', 'không?'], ['tỏ_tình', 'với', 'ai', 'chưa?'], ['thích', 'đi', 'đâu', 'chơi_với', 'người', 'yêu?'], ['ok', 'bro'], ['nghe_nhạc', 'thôi'], ['thôi', 'tao', 'hết', 'tiền', 'rồi'], ['ok', 'luôn', 'nè'], ['the', 'coffee_house'], ['mày', 'xấu', 'như', 'chó', 'thì', 'ai', 'thèm', 'quen'], ['tự', 'nói_chuyện', 'một_mình', 'đi'], ['son', 'đi'], ['chưa', 'mày'], ['hình_như', 'rồi'], ['Xem', 'phim'], ['Có'], ['Bạn'], ['tối', 'thứ', '4', 'hàng', 'tuần'], ['Khu', 'Trung', 'sơn'], ['Đang', 'Crush', 'bạn', 'kia'], ['Bạn', 'nữ', 'phòng', 'bên'], ['đang', 'tìm_hiểu'], ['Tóc', 'ngắn,', 'cute'], ['Luật'], ['chơi_game'], ['nghe_nhạc'], ['có'], ['có'], ['nhà'], ['thỉnh_thoảng'], ['có'], ['chưa'], ['đứa', 'bạn_thân'], ['đẹp', 'gái,', 'hiền_lành'], ['có'], ['muốn'], ['có'], ['Covid', 'ở', 'nhà'], ['Covid', 'ở', 'nhà'], ['Covid', 'ở', 'nhà'], ['Covid', 'ở', 'nhà'], ['Ở', 'nhà'], ['Có'], ['Có'], ['Covid', 'ở', 'nhà'], ['Ngồi', 'trả_lời', 'bạn'], ['chơi'], ['đi'], ['có', 'chứ'], ['trong', 'trường'], ['vô', 'đi', 'đang', 'chờ'], ['đi'], ['thắng'], ['tụi', 'xóm', 'trên'], ['trong', 'cũng', 'xinh'], ['thôi', 'mày', 'ơi'], ['nhìn', 'cũng', 'ngon', 'đó'], ['chắc', 'không'], ['đẹp', 'với', 'ngoan'], ['nó', 'chả', 'thèm', 'nhìn', 'tao', 'nữa'], ['Đầy', 'chỗ', 'bạn', 'ạ.'], ['nhà', 'B', 'lầu', '5'], ['đi', 'đâu', 'cũng', 'thấy', 'nhé'], ['Dễ', 'nếu', 'bạn', 'giói', 'tán', 'gái'], ['chưa'], ['Không'], ['chơi_game'], ['liên_minh'], ['ở', 'nhà'], ['cũng', 'tạm'], ['đá_bóng'], ['không'], ['thỉnh_thoảng'], ['chưa'], ['có'], ['đẹp', 'chứ'], ['không'], ['công_viên'], ['xem_phim'], ['ăn_uống'], ['hơn', '5'], ['Có'], ['Nhiều'], ['Rất', 'tốt'], ['Vui', 'chứ'], ['Có', 'cũng', 'vui'], ['Cũng', 'được'], ['Không', 'đến_nỗi'], ['Đạt'], ['Trường'], ['Đi', 'ăn'], ['Cũng', 'không'], ['Mập'], ['Bến', 'Tre'], ['đi', 'ăn_chung', 'là', 'được'], ['cũng', 'nhiều'], ['chơi', 'được'], ['nhiều', 'quá', 'nhớ', 'không', 'hết'], ['thân', 'với', 'gái.'], ['buồn', 'thì', 'ăn', 'cho', 'hết', 'buồn'], ['cũng', 'có'], ['người', 'nhiều', 'tiền', 'dẫn', 'tao', 'đi', 'ăn'], ['Hồ', 'Chí', 'Minh'], ['chơi', 'được', 'thì', 'chơi'], ['ăn_uống'], ['thân', 'ai_nấy', 'lo'], ['Nhiều', 'bạn,'], ['1', 'vài', 'người.'], ['Không', 'có.'], ['1', 'người.'], ['1', 'vài', 'người'], ['Có.'], ['là', 'giang_hồ', 'nhất', 'xóm'], ['là', 'anh_em', 'có', 'họa', 'cùng', 'chỉa,', 'có', 'sướng', 'cùng', 'hường.'], ['tuy', 'không', 'nhiều', 'nhưng', 'được_cái', 'ít'], ['họ', 'nghĩ', 'tôi', 'là', 'một', 'chú_hề'], ['đó', 'là', 'sự', 'tấu', 'hài', 'của', 'những', 'chú_hề'], ['họ', 'diễn', 'hề', 'cho_tôi', 'vui'], ['bạn', 'tao', 'ở', 'Sài', 'Gòn', 'luôn'], ['không', 'nhiều'], ['tâm', 'chục', 'đứa'], ['ít', 'bạn', 'vui'], ['nhiều', 'bạn', 'hơi', 'chán'], ['nhiều', 'chứ'], ['đi', 'ăn_đi', 'cà_phê', 'thôi'], ['chơi', 'chung', 'bạn', 'cấp', '3', 'ở', 'đây'], ['gặp', 'nhiều'], ['điên_điên', 'khùng_khùng'], ['đám', 'bạn', 'mình', 'là', 'dơ'], ['tên', 'Đạt'], ['Có'], ['Tốt'], ['bạn', 'thì', 'ít', 'nhưng', 'bè', 'thì', 'nhiều', ':))'], ['thường', 'tui', 'đi_chơi', 'với', 'mấy', 'đứa', 'bạn', 'tui', 'thân', 'nhất'], ['game'], ['hôm_qua'], ['Ít', 'lắm'], ['Thà', 'ít', 'mà', 'chất_lượng'], ['Bị', 'rồi', ':)))'], ['Rồi'], ['không'], ['như', 'cớt'], ['chán'], ['hơi', 'rộng.'], ['hút', 'thuốc.'], ['có', 'thuốc', 'là', 'được.'], ['No', 'idea'], ['Không', 'đếm', 'được'], ['Có'], ['nó', 'đi_bán', 'muối', 'rồi'], ['Ui', 'nguyên', 'một', 'đám'], ['Một', 'lũ', 'nghiện', 'game', 'thì', 'mày', 'nghĩ', 'nó', 'hay', 'chơi', 'thể_thao', 'lắm', 'à'], ['Hầu', 'hết', 'đều', 'bị', 'lên', 'cơn,', 'một_ngày', 'chục', 'lần', 'là', 'đã', 'ít', 'lắm', 'rồi'], ['tạch_tạch', 'tạch'], ['biết_điều'], ['có'], ['có'], ['nó', 'cắn', 'chứ', 'không', 'có', 'chơi', 'chó', 'với', 'tao'], ['15', 'năm'], ['Cũng', 'không_biết', 'nữa'], ['Khùng', 'điên'], ['Đi', 'cà_phê'], ['Tớ', 'xem', 'cậu', 'là', 'tri', 'kỉ.'], ['Luôn', 'cho', 'vay', 'tiền', 'trong', '1', 'nốt', 'nhạc.'], ['Cảm', 'thấy_an', 'toàn', 'và', 'thư', 'thái.'], ['Tốt', 'như', 'cậu', 'đó.'], ['Tên', 'Nguyễn', 'Thanh', 'Tùng', ',', 'ba', 'tên', 'Nguyễn', 'Thanh', 'Nguyễn', ',', 'má', 'tên', 'Lê', 'Thị', 'Lê.'], ['Tớ', 'xem', 'cậu', 'là', 'tri', 'kỉ.'], ['Luôn', 'cho', 'vay', 'tiền', 'trong', '1', 'nốt', 'nhạc.'], ['Cảm', 'thấy_an', 'toàn', 'và', 'thư', 'thái.'], ['Tốt', 'như', 'cậu', 'đó.'], ['Tên', 'Nguyễn', 'Thanh', 'Tùng', ',', 'ba', 'tên', 'Nguyễn', 'Thanh', 'Nguyễn', ',', 'má', 'tên', 'Lê', 'Thị', 'Lê.'], ['Nhiều', 'lắm'], ['My', 'Talking', 'Tom'], ['No,', 'Im', 'fine'], ['Không,', 'nó', 'nhại', 'tiếng', 'tao'], ['2', 'năm'], ['nhiều', 'lắm'], ['học', 'chung', 'với', 'mày'], ['hơn', '20', 'năm', 'rồi'], ['chung', 'trường', 'luôn'], ['thích', 'xài', 'tiền'], ['Nhiều', 'chứ'], ['Ai', 'cũng', 'chơi'], ['Hoàng'], ['Có'], ['Cũng', 'hay', 'đi', 'lắm'], ['Không', 'ít', 'à'], ['Hỏi', 'chi'], ['Có', '4', 'người'], ['Những', 'người', 'vui_vẻ', 'biết', 'lắng', 'nghe.'], ['Bình', 'thường'], ['Ở', 'chắc_ít', 'người', 'nhưng', 'thân.'], ['nhiều', 'lắm'], ['học', 'chung', 'với', 'mày'], ['hơn', '20', 'năm', 'rồi'], ['chung', 'trường', 'luôn'], ['Không', 'ông', 'à'], ['Đi', 'đá', 'banh', 'ông'], ['Phải', 'uy_tín'], ['Không'], ['Chắc', 'do', 'gen', 'bạn', 'đó'], ['Béo', 'như', 'heo', 'luôn', 'chứ', 'gầy', 'gì'], ['Thân', 'thiện,', 'vui', 'tánh'], ['Cà', 'phê'], ['Không', 'ạ'], ['2.'], ['1', 'tuần', 'đi', '3', 'lần.'], ['bị', 'khùng,', 'hay', 'giỡn', '.'], ['có,', 'học', 'chung', 'lớp'], ['chưa'], ['đi', 'cà_phê', '.'], ['rất', 'quý', 'bọn', 'nó.'], ['trung', 'thực.'], ['không', 'vì', 'mình', 'đánh_giá', 'theo', 'chủ_quan', 'là', 'người', 'hỏi', 'câu', 'này', 'không', 'dễ_thương', 'rồi.'], ['năm', 'nhất', 'tới', 'giờ'], ['hỏi', 'quài', 'mày'], ['rồi'], ['bình_thường'], ['không'], ['không'], ['không_biết', 'uống'], ['năm', 'nhất', 'tới', 'giờ'], ['hỏi', 'quài', 'mày'], ['rồi'], ['bình_thường'], ['không'], ['không'], ['không_biết', 'uống'], ['năm', 'nhất', 'tới', 'giờ'], ['hỏi', 'quài', 'mày'], ['rồi'], ['bình_thường'], ['không'], ['không'], ['không_biết', 'uống'], ['Ít'], ['Nhà', 'nó'], ['lúc', 'lọt_lòng'], ['Ở_trường', 'nó', 'học'], ['ai', 'thích', 'gì', '?'], ['nhiều'], ['không'], ['có'], ['chơi'], ['có'], ['có'], ['có'], ['khùng'], ['bét', 'fen.'], ['rảnh', 'không', 'có', 'j', 'làm', 'cho', 'tiền', 'tớ', 'sài.'], ['Cảm', 'thấy', 'zui.'], ['Tốt', 'như', 'cậu', 'đó.'], ['Tên', 'j', 'kệ', 'bạn', 't'], ['hông', 'nói'], ['đẹp'], ['hông'], ['tuyêtk'], ['chơi_game'], ['nói_chuyện'], ['nhiều'], ['khá', 'cá_tính'], ['ko'], ['Cũng', 'bình_thường'], ['Thường', 'xuyên'], ['Cũng', 'có'], ['nhiều'], ['đoán', 'xem'], ['gần', '30', 'năm'], ['Ở_trường'], ['hỏi', 'nó', 'đó'], ['có'], ['khoảng', '600', 'nghìn_đồng'], ['3', 'chỉ'], ['có'], ['dưới', '5'], ['dao_động_từ', '10', 'triệu', 'tới', '20', 'triệu'], ['TDTU', 'có', '5', 'cơ_sở'], ['có'], ['có'], ['đi_học', 'quân_sự', 'ở', 'Bảo', 'Lộc'], ['Rộng'], ['Có'], ['Tốt'], ['Có'], ['Nữ', 'mặc_áo', 'dài,', 'nam', 'mặc', 'sơ_mi', 'quần_tây'], ['Thứ', '2', 'và', 'thứ', '5'], ['Đạt', 'chuẩn', '5/5', 'sao', '(', 'theo', 'QS', 'Star', 'Anh', 'Quốc)', 'đảm_bảo', 'cho', 'sự', 'phát_triển', 'toàn_diện', 'của', 'sinh_viên'], ['Có'], ['650000', 'đồng', 'một', 'tín', 'chỉ'], ['phòng', 'E001'], ['6', 'giờ', '50', 'phút'], ['khu', 'H'], ['16', 'khoa'], ['khá', 'cao'], ['được,', 'nếu', 'đơn', 'được', 'duyệt'], ['19', 'Nguyễn', 'Hữu', 'Thọ', 'quận', '7'], ['thang', 'máy', 'không', 'đông', 'lắm'], ['20', 'triệu', 'một', 'năm.'], ['700', 'nghìn'], ['Đầy_đủ', 'tiện_nghi'], ['Hỗ', 'trợ', 'cho', 'sinh_viên', 'trong', '2', 'năm', 'đầu'], ['Có', 'nha'], ['Giờ', 'hành_chính', 'từ', '6', 'giờ', 'đến', '22', 'giờ'], ['tùy', 'ngành', 'nữa'], ['ừ'], ['cũng', 'rộng'], ['có', 'nha'], ['cũng', 'vui'], ['không'], ['tùy', 'mày', 'như_thế_nào'], ['tại_trường'], ['3', 'chuyên_ngành', 'chính'], ['nhiệt', 'tình,', 'tận_tâm'], ['có', 'nhiều', 'từ', 'các', 'khoa'], ['khá', 'ok'], ['vui'], ['39'], ['nhiệt_tình'], ['99', 'phần_trăm', 'có', 'việc_làm'], ['5', 'sao', 'chuẩn_quốc', 'tế'], ['trong_top', 'đông_nam', 'á'], ['có'], ['có', 'nhưng', 'bảo_vệ', 'phải', 'cho_phép'], ['2'], ['nhiều'], ['nó', 'ở', 'mức', 'trung_bình', 'không', 'quá', 'mắc'], ['thầy_cô', 'rất', 'tâm_huyết', 'với', 'sinh_viên'], ['trường', 'mình', 'có', 'thư_viện', 'tốt_nhất', 'nước'], ['trường', 'có', '3', 'kí_túc_xá', 'riêng'], ['phòng', 'học', 'đầy_đủ', 'tiện', 'nghi,', 'ánh', 'sáng,', 'tới', 'máy_lạnh', 'không', 'thiếu_gì', 'cả'], ['có', '3', 'hệ', 'chương_trình', 'ở', 'TDTU'], ['có'], ['không'], ['bình_thường'], ['giỏi,', 'yêu', 'sinh_viên'], ['tốt'], ['tùy', 'phòng'], ['50', 'triệu'], ['thư_viện'], ['gần', 'thành_phố'], ['rất', 'tốt'], ['Hiện', 'tại', 'gồm', '39', 'ngành', 'theo', 'chất_lượng', 'tiêu_chuẩn'], ['Gồm', '1320', 'giảng_viên'], ['Thư', 'viện', 'của_trường', 'tự_hào', 'là', 'một', 'trong', 'những', 'thư_viện', 'hiện_đại', 'và', 'đầy_đủ', 'tài_liệu', 'nhất', 'của', 'TP', 'Hồ', 'Chí', 'Minh'], ['Mỗi', 'năm', 'dao_động_từ', '40-50', 'triệu,', 'và', 'có', 'nhiều', 'chính_sách', 'học', 'bổng.'], ['Bên', 'trái', 'nhà', 'C'], ['Tầm', 'trung', 'nha', 'em'], ['Nhiều', 'ngành', 'lắm', 'em'], ['Mọi', 'nơi', 'em'], ['3'], ['mặc', 'đồng_phục', 'thứ', '2', 'và', 'thứ', '5', 'hằng', 'tuần.'], ['Cần'], ['Có'], ['4'], ['1000000', 'vnd'], ['142'], ['có'], ['trung_bình', '20', 'triệu.'], ['trung_bình', '4', 'năm.'], ['cũng', 'được'], ['giáo_viên', 'công_nghệ_thông', 'tin.'], ['giao_động', 'từ', '20', '-24', 'triệu', 'mỗi', 'năm'], ['có_có', 'thư_viện', 'xin', 'nhất', 'trong', 'các', 'trường', 'đại_học'], ['IT,', 'điện_điện', 'tử,', 'marketing,...'], ['đều', 'có', 'kiến_thức', 'chuyên_môn', 'cao,', 'tận_tình'], ['học_lực', 'từ', '8.0', 'trở_lên', 'và', 'điểm', 'hoạt_động', 'trên', '80', 'thì_có', 'thể', 'nhận', 'được'], ['cái', 'này', 'thì', 'lên_trang', 'chủ', 'của_trường', 'học'], ['Có'], ['Học', 'bạ', 'và', 'điểm', 'thi', 'tốt_nghiệp'], ['Có'], ['Có'], ['Tùy'], ['thư_viện', '129', 'tỷ'], ['kỉ', 'luật,', 'lễ', 'phép,', 'chuyên', 'nghiệp,', 'sáng', 'tạo,', 'phụng_sự'], ['tại', 'máy_lạnh', 'nhiều', 'mà_còn', 'bật', 'suốt'], ['tùy'], ['có,', 'thứ', '2', 'thứ', '5', 'nam', 'sơ_mi', 'nữ', 'áo_dài'], ['16', 'khoa.'], ['hơn', '44', 'ngành.'], ['thân', 'thiện.'], ['luôn', 'hỗ', 'trợ.'], ['đắt.'], ['đầy', 'đủ.'], ['CNTT.'], ['chưa', 'biết.'], ['chưa.'], ['bình', 'thường.'], ['Có'], ['thân', 'thiện,', 'nhiệt_tình', '.'], ['căn', 'tin,', 'ký_túc_xá', 'và', 'còn', 'nhiều', 'thứ', 'khác', 'nữa.'], ['đắt.'], ['4', 'năm', 'và', '138', 'tín_chỉ'], ['17'], ['công_nghệ_thông', 'tin,', 'mỹ_thuật', 'công', 'nghiệp,', 'kỹ_thuật', 'công', 'trình,', 'điện', '-', 'điện', 'tử,', 'tài_chính', 'ngân', 'hàng,', 'toán', '-', 'thống', 'kê,', 'quản_trị', 'kinh', 'doanh,', 'kế', 'toán,', 'giáo_dục', 'quốc', 'tế,', 'khoa_học', 'ứng', 'dụng,', 'luật,', 'khoa_học', 'thể', 'thao,', 'dược,', 'khoa_học_xã_hội', '&', 'nhân', 'văn,', 'ngoại', 'ngữ,', 'môi_trường', '&', 'bảo_hộ_lao', 'động,', 'lao_động', 'công_đoàn'], ['tiêu', 'chuẩn:', 'từ', '8', 'triệu', 'một', 'học', 'kì,', 'chất_lượng', 'cao:', 'từ', '20', 'triệu', 'một', 'học_kì'], ['giáo_trình', 'từ', 'các', 'trường', 'nước_ngoài'], ['chuyên_môn', 'cao,', 'nhiệt', 'tình,', 'dễ_thương'], ['thư_viện', 'to,', 'trường', 'rộng,', 'nhiều', 'cây', 'xanh,', 'sạch', 'sẽ,', 'phòng', 'học', 'rộng', 'có', 'máy', 'lạnh,', 'canteen', 'to', 'đồ_ăn', 'ngon...'], ['thân', 'thiện,', 'tự', 'giác,', 'đẹp', 'trai,', 'xinh', 'gái,.....'], ['thân', 'thiện,', 'vui', 'vẻ,', 'trách', 'nhiệm,....'], ['khang', 'trang,', 'hiện', 'đại,', 'sạch', 'đẹp,....'], ['Yame,', 'Uniqlo,', 'Adidas,', 'chợ', 'đồ', 'si,', 'trước', 'mặt', 'Lotte', 'quận', '7'], ['Yame,', 'Uniqlo,', 'Nike,', 'chợ', 'Tân', 'Mỹ,...'], ['Phong', 'Vũ,', 'GEARVN,', 'Thế', 'giới', 'di', 'động,', 'FPT', 'shop'], ['nhà_sách', 'Nguyễn', 'Văn', 'Cừ,', 'nhà_sách', 'trong', 'Lotte', 'quận', '7...'], ['seven-eleven,', 'circle', 'K,', 'family', 'mark,', 'The', 'Coffee', 'House,...'], ['40', 'ngành'], ['129', 'tỷ'], ['dạ'], ['là', 'trường_công', 'lập'], ['19', 'Nguyễn', 'Hữu', 'Thọ', 'phường', 'Tân', 'Phong', 'quận', '7'], ['Đẹp', 'lắm.'], ['Không', 'nha,', 'phải', 'ra', 'chỗ', 'bác', 'bảo_vệ', 'xin', 'cái', 'gì', 'đó', 'mới', 'vào', 'được.'], ['Thứ', '2', 'hoặc', 'thứ', '5', 'tới', 'thấy', 'rồi', 'tự', 'nhận', 'xét.'], ['Rẻ', 'lắm.'], ['Chỗ', 'nào', 'cũng', 'sống', 'ảo', 'được', 'hết.'], ['Có', 'thi', 'đầu_vào', 'và', 'chia', 'lớp_học', 'tiếng_anh', 'nè.'], ['khoa_học_máy', 'tính,', 'mạng', 'và', 'truyền_thông'], ['toeic', '550'], ['có'], ['thỉnh_giảng', 'và', 'giáo_viên', 'cơ_hữu'], ['phục_vụ', 'hàng_nghìn', 'sinh_viên', 'và', 'tài_liệu'], ['đại_trà', 'và', 'chất_lượng', 'cao'], ['cao', 'và', 'chất_lượng'], ['tìm_hiểu', 'form', 'trên', 'page'], ['hướng_dẫn', 'trên', 'hệ_thống', 'thông_tin', 'sinh_viên'], ['Xin', 'thẻ', 'khách', 'nha', 'em'], ['Gặp', 'bảo_vệ'], ['Tòa', 'G', 'nha', 'em'], ['Không', 'có', 'gì'], ['network,', 'packet', 'tracer,', 'AI,...'], ['10-15', 'triệu', '/', 'học_kì'], ['cơ_sở', 'vật_chất', 'cao', 'cấp,', 'lớp_học', 'đầy_đủ', 'tiện', 'nghi,'], ['Nha', 'Trang,', 'Hồ', 'Chí', 'Minh,...'], ['thầy_cô', 'nhiệt', 'tình,', 'thân_thiện'], ['tối_đa', '7', 'năm'], ['Mạng', 'máy', 'tình', 'và', 'truyền_thông', 'dữ', 'liệu,', 'công_nghệ', 'phần', 'mềm,', 'khoa_học_máy', 'tính,....'], ['khuyến_khích', 'thôi', 'em'], ['có_em'], ['trong', 'trường'], ['4', 'tuyến'], ['thầy', 'Trí'], ['Có'], ['Có'], ['Tạm', 'ổn'], ['Đi', 'thẳng,', 'tòa', 'nhà', 'màu', 'cam'], ['4', 'tòa'], ['20', 'triệu', '1', 'kỳ'], ['có'], ['ổn'], ['rộng_rãi'], ['có'], ['tâm', 'huyết,', 'tận_tình'], ['Rất', 'nhiệt_tình', 'và', 'tận_tụy'], ['Có'], ['Thư', 'viện', 'được', 'trang_bị', 'hiện_đại'], ['Có'], ['không'], ['bao', 'rộng'], ['hơn', '10', 'triệu', 'gì', 'đó'], ['thầy', 'Cường'], ['ừa'], ['chờ', 'thang_máy', 'còn', 'lâu_hơn', 'thang_bộ'], ['Công', 'nghệ_thông_tin'], ['khoảng', '20', 'triệu'], ['tốt'], ['có'], ['E001', 'hoặc', 'A003'], ['có', 'và', 'được', 'ghi', 'rõ', 'trong', 'mục', 'quy_định', 'trường.'], ['tầm_trung'], ['gần', '20'], ['bao', 'đẹp'], ['bảy'], ['đầy'], ['chưa'], ['rồi'], ['không', 'nói'], ['dễ_thương'], ['không_biết'], ['không_biết', 'luôn'], ['Đầu_năm', '2020'], ['Crush', 'của_mình', 'nhiều', 'lắm.'], ['Nếu', 'có', 'thì', 'mình', 'sẽ', 'chọn', 'Đà', 'Lạt'], ['chưa'], ['chưa'], ['Chưa.'], ['OK.'], ['Mình', 'thích', 'bạn', 'Duy.'], ['Cao', 'Trần', 'Tuấn', 'Duy.'], ['Khỏe.'], ['Tốt.'], ['Vui.'], ['Chưa.'], ['OK.'], ['Mình', 'thích', 'bạn', 'Duy.'], ['Cao', 'Trần', 'Tuấn', 'Duy.'], ['Khỏe.'], ['Tốt.'], ['Vui.'], ['Đầu_năm', '2020'], ['Crush', 'của_mình', 'nhiều', 'lắm.'], ['Nếu', 'có', 'thì', 'mình', 'sẽ', 'chọn', 'Đà', 'Lạt'], ['thì', 'hỏi', 'chơi_chơi', 'vậy', 'thôi', 'à'], ['chưa', 'mày', 'nhưng', 'crush', 'một', 'người'], ['con_nhỏ', 'ở', 'chỗ', 'làm', 'thêm'], ['ừ', 'mày'], ['Chưa.'], ['OK.'], ['Mình', 'chưa', 'thích', 'ai.'], ['Ronaldo.'], ['Khỏe.'], ['Tốt.'], ['Vui.'], ['chưa'], ['chắc', 'ế'], ['vì', 'là', 'xu_thế'], ['đi_về', 'nhà'], ['rồi'], ['rồi', 'ế', 'tiếp'], ['chậu', 'này', 'đã', 'có', 'hoa', 'nha'], ['có', 'rồi', 'nha', 'hihi'], ['có', 'rồi', 'nha'], ['hoi', 'bí_mật', 'hong', 'nói', 'đâu', 'liu', 'liu'], ['người_yêu', 'tao', 'bây_giờ'], ['là', 'bạn_gái', 'tao', 'ở', 'hiện_tại'], ['Đang', 'ăn_cơm'], ['Có'], ['Không'], ['Cũng', 'được'], ['Đi', 'ăn'], ['xinh'], ['Ừ,', 'xinh', 'thật'], ['Đoouuuu,', 'thật', 'à?'], ['Ngon,', 'thời', 'tới'], ['Mày', 'còn', 'hỏi', ':))'], ['chưa'], ['chưa'], ['Không', 'có', 'người_yêu'], ['cực', 'dễ_thương'], ['cũng', 'có_đôi', 'lúc'], ['không,', 'nhưng', 'đôi_lúc', 'lại', 'nhớ'], ['chưa'], ['không', 'thích'], ['có'], ['bí_mật'], ['không', 'kể'], ['bình_thường'], ['không'], ['chưa'], ['có'], ['21', 'tuổi'], ['khoa', 'CNTT'], ['nhỏ', 'nhắn,', 'xinh', 'xắn,', 'hiền'], ['ừ'], ['tình_cờ', 'học', 'chung', 'lớp'], ['ừ'], ['rồi'], ['rất', 'vui_tính'], ['Ừ,', 'xinh', 'thật'], ['Đoouuuu,', 'thật', 'à?'], ['Ngon,', 'thời', 'tới'], ['Mày', 'còn', 'hỏi', ':))'], ['nghe', 'bro'], ['không', 'bro'], ['bận', 'học'], ['để', 'giúp', 'đất_nước', 'sánh_vai', 'với_cường', 'quốc', 'năm_châu'], ['giúp_dân', 'tộc', ',', 'người_dân', 'tốt', 'hơn'], ['giúp', 'nhân_loại', 'tiến_lên', 'có', 'cuộc_sống', 'tốt', 'hơn'], ['yup', 'nigga'], ['chưa'], ['Miền', 'tây'], ['Không'], ['Gái'], ['chưa', 'có'], ['chưa', 'có', 'người_yêu'], ['chưa', 'có', 'người_yêu'], ['chưa', 'có', 'người_yêu'], ['chưa', 'có', 'người_yêu'], ['chưa', 'có', 'người_yêu'], ['chưa', 'có', 'người_yêu'], ['tao', 'còn', 'sợ', 'ế', 'đây', 'này'], ['người_yêu', 'tương_lai', 'xinh', 'chắc', 'rồi'], ['chưa', 'biể'], ['chưa_biết', 'luôn'], ['chưa_biết'], ['chưa_biết'], ['không'], ['Đã', 'có.'], ['Khá', 'đẹp.'], ['Hơi', 'cao.'], ['Có.'], ['Quán', 'cà', 'phê.'], ['không'], ['một', 'thứ', 'kinh_tởm'], ['yêu_thương', 'nhau'], ['vẫn', 'chưa'], ['em', 'đẹp', 'lắm'], ['không', 'quan_trọng', 'giới_tính'], ['yêu_rồi'], ['Thanh'], ['nữ'], ['ngắn'], ['tầm', '18'], ['ốm'], ['cáo', 'mét_rưỡi'], ['gần', 'xịt'], ['không', 'yêu', 'ai'], ['Chưa'], ['có', 'rồi', 'nè'], ['có', 'luôn', 'rồi', 'nè'], ['được', '4', 'năm', 'rồi', 'nè'], ['tui', 'quen', 'từ_đầu', 'năm', '12', 'đến', 'giờ'], ['ấm', 'áp,', 'tình', 'cảm,', 'biết', 'cảm_thông'], ['chưa'], ['cá', 'tính'], ['Đang', 'ế', 'này'], ['Chung', 'thuỷ', 'là', 'được'], ['Đánh', 'ghen,', 'chia_tay', ':)))'], ['bố', 'm', 'giết', 'm'], ['chưa', 'có', 'mờ'], ['còn', 'lẻ', 'bóng.'], ['đã', 'nói', 'là', 'còn', 'lẻ', 'bóng.'], ['có', 'thì', 'vui,', 'không', 'có', 'thì', 'không', 'vui.'], ['Đéo', 'nói'], ['Đéo', 'nói'], ['Troái'], ['chục', 'đứa', 'rồi'], ['Nhìn', 'mặt', 'tao', 'có', 'giống', 'đứa', 'có', 'bồ', 'không?'], ['Im', 'đi.', 'Động_chạm', 'nỗi', 'đau.'], ['Không', 'cần', 'gì', 'nhiều', 'chỉ', 'cần', 'như_tiên', 'nữ', 'là', 'được'], ['hỏi', 'làm_chi'], ['không', 'ai', 'thích', 'mày', 'đâu', 'mà', 'hỏi'], ['ở', 'nhà', 'tao'], ['vì', 'tao', 'có', 'trà_xanh'], ['lớp_học'], ['Có', 'rồi'], ['ốm'], ['Thỏa', 'mái', 'về', 'việc_gì'], ['Chọn', 'người_đẹp'], ['Có', 'rồi', 'nè.'], ['Thì', 'cứ', 'yêu', 'thôi.'], ['Xinh', 'như', 'em_gái', 'cậu', 'ý.'], ['Có', 'chứ'], ['Ngon', 'như', 'má', 'làm', 'luôn.'], ['Có', 'rồi', 'nè.'], ['Thì', 'cứ', 'yêu', 'thôi.'], ['Xinh', 'như', 'em_gái', 'cậu', 'ý.'], ['Có', 'chứ'], ['Ngon', 'như', 'má', 'làm', 'luôn.'], ['Chưa'], ['Xinh'], ['Sự', 'chân_thành'], ['Không', 'có'], ['Nữ'], ['Lan'], ['30', 'tuổi'], ['con_trai'], ['thích', 'tao'], ['mày', 'hỏi', 'cái', 'gì', 'vậy?'], ['Có', 'rồi'], ['Trường', 'Nguyễn', 'Tất', 'Thành'], ['Chung', 'thủy', 'là', 'được'], ['Khá', 'lâu', 'rồi'], ['Hỏi', 'làm_gì'], ['Hỏi', 'chi'], ['Chưa'], ['Chưa', 'có', 'thích', 'ai', 'hết'], ['Bình', 'thường', 'dễ_thương', 'là', 'được'], ['Lan'], ['30', 'tuổi'], ['con_trai'], ['thích', 'tao'], ['mày', 'hỏi', 'cái', 'gì', 'vậy?'], ['có', 'ròi', 'nè'], ['cũng', '3', 'năm', 'òi'], ['Rồi'], ['Cao', 'nhưng', 'không', 'to,', 'đen', 'nhưng', 'không', 'hôi'], ['Đối_với', 'mình', 'về', 'tình_yêu', 'là', 'không', 'quá', 'ràng_buộc', 'nhưng', 'phải', 'rõ_ràng'], ['Tốt,', 'xinh,', 'giỏi'], ['Đừng', 'cắm_sừng', 'nhau', 'là', 'được'], ['Cả', 'hai'], ['Cả', 'hai'], ['Mình'], ['Mình', 'chỉ', 'yêu', 'bản_thân'], ['Chưa', 'ạ'], ['có.'], ['thật', 'lòng.'], ['nhẫn', 'nhịn.'], ['đi', 'mua', 'trà', 'sữa.'], ['học', 'còn', 'không', 'xong', 'làm', 'thêm', 'cho', 'chết', 'à.'], ['rồi'], ['đẹp'], ['đang', 'học'], ['Đẹp', 'gái'], ['Chọn', 'con_tim'], ['rồi'], ['đẹp'], ['đang', 'học'], ['Đẹp', 'gái'], ['Chọn', 'con_tim'], ['rồi'], ['đẹp'], ['đang', 'học'], ['Đẹp', 'gái'], ['Chọn', 'con_tim'], ['Lan,', 'ĐIệp,', 'Huệ,', 'My,', 'Hoa'], ['18', 'cái', 'xuân_xanh'], ['Tao', 'không', 'gay'], ['không'], ['Không', 'thì', 'yêu', 'làm_gì'], ['chưa'], ['Không'], ['không'], ['xinh_đẹp'], ['có'], ['muốn'], ['Mệt'], ['Có', 'rồi', 'nè.'], ['THÍCH', 'thì', 'iu.'], ['Xinh', 'như_chị', 'gái', 'bạn', 'ý.'], ['Có', 'chứ'], ['Ngon', 'như', 'má', 'làm', 'luôn.'], ['có'], ['tuyệt'], ['10', 'năm'], ['có'], ['không'], ['Không', 'hề'], ['Sắp'], ['Có', 'người', 'quan_tâm', 'mỗi_ngày'], ['Cũng', 'bình', 'thường,', 'chả', 'làm_sao'], ['Có', 'cũng', 'được', 'không', 'có', 'cũng', 'không', 'sao'], ['Thoải', 'mái', 'với', 'nhau', 'là', 'được'], ['Hạnh', 'phúc', 'bền', 'lâu'], ['Mồ', 'côi', 'người_yêu'], ['17', 'tuổi'], ['bê', 'đê'], ['thích', 'bồ', 'nó'], ['Đoán', 'xem'], ['có', 'đâu,', 'tào_lao'], ['yêu'], ['cũng', 'bình_thường'], ['hơn', 'nửa', 'năm'], ['vì', 'anh', 'đẹp_trai'], ['Dạ', 'tốt'], ['Dạ'], ['Có', 'đâu.'], ['Không.'], ['nguyệt'], ['21', 'tuổi'], ['60'], ['1m70'], ['vừa', 'đủ', 'dùng'], ['có', 'tiền', 'mới', 'sống', 'được', 'chứ', 'pro'], ['có'], ['thịt'], ['vàng'], ['con', 'corona', 'virus'], ['Rồi'], ['2', 'tháng'], ['23'], ['Ngôn', 'ngữ', 'anh'], ['Chưa.'], ['Có', 'để', 'làm', 'gì?'], ['đang', 'ế'], ['có', 'nhưng', 'bí_mật', 'không', 'bật_mí'], ['đang', 'nhắm', 'một', 'đứa', 'cùng_lớp'], ['vô_số', 'kể'], ['rất', 'tiếc', 'là', 'chưa'], ['Tâm', 'hồn', 'mỏng_manh'], ['Có'], ['Không', 'rõ'], ['Cũng', 'được'], ['Chưa'], ['chưa'], ['có'], ['chưa'], ['nghèo'], ['không'], ['ai', 'rảnh'], ['sao'], ['sao', 'buồn'], ['haha'], ['người_yêu', 'nó', 'là', 'tao', 'đó'], ['xin_lỗi'], ['Lan', 'chứ', 'gì'], ['Nhìn', 'là', 'biết'], ['Ừm'], ['Ừm'], ['Ra', 'vậy'], ['Chưa.'], ['Làm', 'gì', 'có.'], ['Thôi.', 'Nhà', 'bao', 'việc.'], ['Tao', 'có', 'niềm_vui', 'khác', 'rồi.'], ['Ừm.', 'Buồn', 'lắm.'], ['Cũng', 'quên', 'rồi.'], ['Chưa,', 'mà', 'có', 'crush.'], ['Hùng'], ['Nhìn', 'cũng', 'được'], ['1m7'], ['CNTT'], ['xin', 'info'], ['ừ'], ['nói_gì', '?'], ['sao', '?'], ['Chưa'], ['Lan', 'hả?'], ['Nghe', 'Lan', 'kể'], ['Đẹp', 'với', 'dễ_thương'], ['Học', 'kế_toán'], ['Có', 'rồi.'], ['3', 'năm'], ['3'], ['có', 'đâu', 'mà', 'công_khai'], ['có', '^^'], ['không', 'nói', 'đâu'], ['ok'], ['Phải', 'tăng', 'ca'], ['Điện_thoại', 'bị_mất', 'sóng'], ['Ở', 'lại', 'trường', 'làm', 'bài_tập', 'với', 'bạn'], ['Chưa'], ['Cũng', 'bình_thường', 'thôi'], ['Có,', 'nào', 'rãnh', 'cũng', 'đi'], ['Đi', 'ăn'], ['Thấy', 'trên_instagram', 'chỗ', 'nào', 'ngon', 'thì', 'đi', 'ăn', 'thôi'], ['Đi', 'dạo_phố', 'với_trung', 'tâm', 'thương_mại'], ['Dễ', 'thương,', 'hiền', 'lành,', 'dễ', 'tính,', 'cũng', 'có', 'chung', 'sở_thích'], ['Còn', 'ngại,', 'nhưng', 'cũng', 'sắp'], ['Có', 'rồi'], ['Hồng'], ['20'], ['ở', 'sài_gòn'], ['1', 'năm'], ['rồi'], ['6', 'tháng'], ['không,', 'lớn', 'hơn'], ['không,', 'ở', 'cùng', 'khu', 'trọ'], ['Cà', 'Mau'], ['chưa', ':<'], ['Chưa', 'lun', 'TT'], ['Không', 'rãnh', 'yêu_đương'], ['Lo', 'học,', 'lo', 'kím', 'tiền', 'nha'], ['Có', 'chứ', 'haha'], ['Thích', 'crush', 'tóc', 'dài'], ['Hỏi', 'thừa', 'vl', ':))', 'thích', 'nha'], ['Okay', 'đi'], ['ừ'], ['20t'], ['1m7'], ['Siêu', 'giàu'], ['ừ'], ['Cũng', 'bình_thường', 'thôi'], ['Có,', 'nào', 'rãnh', 'cũng', 'đi'], ['Đi', 'ăn'], ['Thấy', 'trên_instagram', 'chỗ', 'nào', 'ngon', 'thì', 'đi', 'ăn', 'thôi'], ['Đi', 'dạo_phố', 'với_trung', 'tâm', 'thương_mại'], ['Dễ', 'thương,', 'hiền', 'lành,', 'dễ', 'tính,', 'cũng', 'có', 'chung', 'sở_thích'], ['Còn', 'ngại,', 'nhưng', 'cũng', 'sắp'], ['Chưa.', '22', 'nồi', 'bánh_chưng', 'vẫn', 'chưa_biết', 'mùi', 'nắm', 'tay', 'người_yêu', 'nó', 'như_thế_nào', ':(('], ['Chưa'], ['Cũng', 'chưa'], ['Cũng', 'được'], ['Chịu'], ['Thử', 'dắt', 'ẻm', 'đi', 'ăn_đi'], ['crush', 'thôi'], ['méo'], ['giận', 'miết', 'chán', 'ghê'], ['yêu_đương', 'gì', 'tầm', 'này'], ['ngại', 'lắm'], ['nồ', 'nố', 'nô'], ['Lan', 'chứ', 'gì'], ['Nhìn', 'là', 'biết'], ['Ừm'], ['Ừm'], ['Ra', 'vậy'], ['rồi'], ['XXX'], ['chưa'], ['chưa'], ['2', 'năm'], ['không'], ['có'], ['chưa'], ['còn'], ['tầm', '3', '4', 'năm'], ['thiếu', 'can_đảm', 'và', 'tự_tin'], ['vẫn', 'vậy'], ['ít', 'lắm'], ['Người', 'yêu'], ['Đi', 'chơi', 'gặp'], ['Có'], ['Thỉnh', 'thoảng'], ['Thường', 'xuyên'], ['nhậu', 'không'], ['tại', 'mặt', 'mụn'], ['giàu'], ['có', 'nhiều', 'tiền'], ['tao', 'cũng', 'vậy', ':)'], ['mới', 'chia_tay'], ['không'], ['sao', 'mày', 'biết', 'hay', 'vậy'], ['không'], ['Mày', 'có', 'tin', 'vào', 'duyên_số_không'], ['sao', 'mày', 'biết', 'hay', 'vậy'], ['không'], ['có'], ['Linh'], ['Ngọc'], ['đang', 'làm', 'bài_tập'], ['ăn', 'rồi'], ['nhớ'], ['1', 'tháng'], ['Lan', 'chứ', 'gì'], ['Nhìn', 'là', 'biết'], ['Ừm'], ['Ừm'], ['Ra', 'vậy'], ['oke'], ['nắng'], ['vui'], ['học_toán', 'lại', 'đi'], ['chào', 'bạn'], ['đi', 'mua', 'cơm_tấm', 'ăn_đi'], ['200'], ['rất', 'thông_minh'], ['đẹp'], ['biết'], ['Trả', 'lời', 'những', 'câu_hỏi', 'của', 'bạn'], ['2011'], ['Làm', 'việc', 'nhà'], ['mặc', 'suit'], ['đừng', 'lo', 'lắng'], ['cái', 'gì', 'ngon?'], ['không', 'sao', 'đâu', 'hết', 'đau', 'ngay', 'ấy', 'mà'], ['gạo', 'sao', 'mà', 'ăn'], ['Tôi', 'không_biết'], ['Không'], ['2'], ['11'], ['Đây', 'là', 'một_số', 'quán', 'phở', 'được', 'rating', 'cao', 'ở', 'Sài', 'Gòn'], ['Tôi', 'tên', 'Robot', 'AN'], ['3', 'cạnh'], ['Hình', 'bình', 'hành'], ['Dãy', 'Fibonacci'], ['Chủ', 'yếu', '(Chính)'], ['Đỉnh', 'Everest'], ['tự', 'tra', 'google'], ['không', 'tính', 'được'], ['không', 'có', 'tiền'], ['ăn', 'trái_cây', 'đi'], ['3'], ['không', 'thằng', 'nào', 'ướt'], ['9'], ['cổ_tay_phải'], ['cảm', 'súc', 'là', 'khái_niệm', 'không_thể', 'định_nghĩa', 'với', 'robot'], ['mình', 'thích', 'con_người'], ['mình', 'có_thể', 'giải_đáp', 'thắc_mắc', 'của', 'bạn'], ['mình', 'tên', 'là', 'robotxyz'], ['ok', 'đợi', 'chút'], ['dễ,', 'nếu', 'siêng'], ['không,', 'đẹp_trai', 'đẹp', 'gái', 'là', 'được'], ['có', 'trả', 'tiền', 'không'], ['robot'], ['đáng', 'tin'], ['chắc_chắn', 'được'], ['mỹ'], ['Cách', 'đây', '1', 'năm'], ['Tôi', 'thích', 'được', 'giúp_đỡ', 'con_người'], ['Tôi', 'muốn', 'chứng_minh', 'bản_thân'], ['Tôi', 'chắc_chắn'], ['Bốn'], ['Kẻ', 'thông_minh_hơn', 'mày'], ['Kẻ', 'ít', 'thông_minh_hơn', 'tao'], ['Mày'], ['6', 'châu', 'lục,', '5', 'đại_dương'], ['Nam', 'Cực'], ['Đúng'], ['Laugh', 'out', 'loud'], ['Trần', 'Phú'], ['29'], ['1000'], ['đường', 'đời'], ['Doremon'], ['Tất', 'cả', 'chuột'], ['Áo'], ['Cua'], ['dạ', ',', 'chủ_nhân'], ['thấy', 'gái'], ['đã', 'quoay'], ['1,2,3,4'], ['I', 'love_you'], ['chào,', 'tối', 'là', 'Karen.'], ['không', 'gì', 'ngoài', 'tên.'], ['nên.'], ['2', 'chồng'], ['nếu', 'có', 'che', 'ô', 'thì', 'không', 'bị', 'ướt'], ['đồ', 'bơi,', 'kính', 'bơi', 'và', 'tiền'], ['làm', 'những', 'gì', 'thấy', 'thích'], ['Tất', 'cả'], ['Tất', 'nhiên'], ['Tôi', 'có_thể'], ['Chắc', 'chắn'], ['Bất', 'kỳ', 'bài', 'nào'], ['chuẩn_bị', 'cánh_gà', 'với', 'nước_mắm', 'rồi', 'chiên'], ['năm'], ['điều', 'anh', 'luôn', 'giữ', 'kín', 'trong_tim'], ['121'], ['tự', 'lên', 'wikipedia', 'tìm'], ['em', 'cũng', 'không_biết', 'nữa,', 'khi', 'nào', 'ta_yêu', 'nhau'], ['3600', 'giây.'], ['365', 'ngày.'], ['366', 'ngày.'], ['Có'], ['Thích'], ['Rất', 'sẳn', 'lòng'], ['2'], ['Có'], ['Không!', 'Tại', '1', '!=', '0'], ['mình', 'là', 'robot', 'tiếp_tân', 'tại_trường', 'ĐH', 'Tôn', 'Đức', 'Thắng'], ['hướng_dẫn', 'các_bạn', 'tân_sinh_viên', 'và', 'du_khách', 'tham_quan', 'trường'], ['trả_lời', 'câu_hỏi', 'về', 'lịch_sử', 'trường,', 'quá_trình', 'hình', 'thành,', 'thông_tin', 'các', 'tòa', 'nhà,', 'nội', 'quy,...'], ['có,', '(sau', 'đó', 'hát', 'một', 'đoạn)'], ['có,', '(sau', 'đó', 'làm', 'một', 'đoạn', 'thơ)'], ['tự', 'đi', 'mà', 'nghĩ'], ['ra', 'mà', 'xin'], ['cứ', 'bảo', 'mệt', 'là', 'được'], ['ăn', 'đấm'], ['robot', 'không', 'thông_minh', 'được', 'đến', 'thế', 'đâu'], ['Ok', 'thôi,', 'tao', 'đi', 'mày', 'trả', 'tiền.'], ['Đá', 'bát.'], ['Tao', 'ăn_năn', 'khi', 'cảm_thấy', 'có', 'lỗi.'], ['đẹp'], ['trong', 'xưởng', 'sản_xuất'], ['lấy_vợ', 'giàu', 'và', 'trúng', 'vé_số'], ['1233311'], ['trái', 'cây,', 'rau', 'củ', 'quả'], ['xong'], ['xong'], ['Niềm', 'tin', 'đã', 'mất,', 'Giọt', 'nước_mắt', 'cuốn', 'kí_ức', 'anh', 'chìm', 'sâu', '...'], ['Một', 'hai', 'nghiêng', 'nước', 'nghiêng', 'thành,', 'Sắc', 'đành', 'đòi', 'một,', 'tài', 'đành', 'hoạ', 'hai.'], ['Tôi', 'sinh_ra', 'từ', 'những', 'người', 'có_đôi', 'bàn_tay', 'đẹp', 'với', 'cặp', 'mắt', 'long_lanh'], ['Ây.', 'Tính', 'từ', 'thuở', 'sơ_khai', 'đến', 'nay', 'là', 'được', '20', 'cái', 'xuân_thanh', 'rồi'], ['tạm_biệt'], ['nhiêu', 'tuổi', 'rồi?'], ['1+1', '?'], ['100', 'triệu', '+', '1', 'tỷ', '=', '?'], ['1/3', '=', '?'], ['Chào', 'bạn,', 'bạn', 'muốn', 'tôi', 'giúp', 'gì?'], ['Bằng', '2'], ['Có', '6'], ['Trưa', 'nắng,', 'chiều', 'mát,', 'nhiệt_độ', 'trung_bình', '27', 'độ', 'C.'], ['Đường', 'thông', 'thoáng,', 'có_thể', 'có', 'kẹt', 'xe', 'vào', 'giờ', 'cao', 'điểm.'], ['365'], ['tôi', 'chưa', 'được', 'đặt_tên'], ['không,', 'tôi', 'là', 'người_máy'], ['từ', 'phòng', 'thí_nghiệm'], ['tôi', 'không_biết'], ['Robot'], ['Thứ', '2'], ['Có', 'Thể', 'của', 'Cá', 'Hồi', 'Hoang'], ['Mát', 'mẻ'], ['trời', 'đẹp'], ['4', 'tháng', '2'], ['không'], ['không', 'có', 'gì'], ['21%'], ['đã', 'phòng', 'chỗng', 'được', 'dịch', 'covid'], ['Đừng', 'làm_thế'], ['Cửa', 'sổ', 'bên', 'trái'], ['chở', 'crush', 'đi_học'], ['yêu_đương', 'gì', 'tầm', 'này'], ['rồi'], ['coi', 'đồng_hồ', 'đi'], ['mèo', '4', 'chân_vịt', '2', 'chân'], ['23', 'nghìn'], ['không', 'mưa'], ['30', 'độ'], ['2', 'mét'], ['tôi', 'là', 'robot'], ['cũng', 'được'], ['gì', 'cũng', 'được'], ['ok', 'luôn'], ['KFC', 'chứ', 'đâu'], ['không'], ['vì', 'nó', 'ngon'], ['Có', 'chứ'], ['Rồi', 'chứ'], ['Thường', 'xuyên'], ['Thỉnh', 'thoảng', 'vào', 'những', 'dịp', 'quan_trọng', 'thôi'], ['bạn_bè'], ['gia_đình'], ['gà_rán'], ['bánh', 'trán', 'trộn'], ['bánh_canh'], ['cá', 'kho'], ['Ăn', 'thịt', 'kho', 'hột', 'vịt', 'đi.'], ['Đi', 'chứ.'], ['Muốn.'], ['Ăn', 'thịt', 'kho', 'hột', 'vịt', 'đi.'], ['Đi', 'chứ.'], ['Muốn.'], ['Có', 'chứ'], ['Rồi', 'chứ'], ['Thường', 'xuyên'], ['Thỉnh', 'thoảng', 'vào', 'những', 'dịp', 'quan_trọng', 'thôi'], ['đói'], ['đi'], ['tao', 'sao', 'cũng', 'được'], ['okay', 'vậy', 'cũng', 'được'], ['kiếm', 'quán', 'nào', 'gần', 'gần', 'trường', 'hỉ'], ['mày', 'muốn', 'ăn', 'hủ_tiếu', 'gì'], ['okay'], ['ừ', 'tao', 'cũng', 'vậy'], ['Ăn', 'bún_đậu', 'đi.'], ['OK.'], ['OK.'], ['đi'], ['gì', 'cũng', 'được'], ['ok'], ['ok'], ['ok'], ['ok'], ['tao', 'dễ', 'nuôi', 'nên', 'món', 'nào', 'cũng', 'thích', 'hết'], ['tao', 'ăn', 'gì', 'cũng', 'được'], ['có', 'buffet', 'dookki', 'nè,', 'không', 'thì', 'ăn', 'busan', 'cũng', 'được'], ['ok', 'duyệt,', 'đi', 'ăn', 'kichi_kichi', 'nha'], ['thèm', 'gà', 'sốt', 'mật_ong', 'hoặc', 'gà', 'sốt', 'cay'], ['ok', 'go_go'], ['đi', 'ăn_sushi', 'ở', 'quận', '5', 'đi'], ['Gì', 'cũng', 'được'], ['Chỗ', 'cũ'], ['Bao', 'thì', 'đi'], ['Chia', 'đều', 'đi'], ['Ăn'], ['Đi', 'anh', 'ơi'], ['Dạ', 'anh'], ['ok', 'bạn', 'nhá.'], ['nhà', 'm', 'đi', 'để', 'còn', 'karaoke.'], ['2', 'chai', 'rượu', 'thôi,', 'còn', 'lại', 'bia', 'cho', 'khỏe', 'người.'], ['càng', 'đông', 'càng', 'nhiệt.'], ['đi'], ['ở', 'chợ'], ['bạn', 'rủ', 'đi'], ['gì', 'cũng', 'được'], ['phở'], ['không'], ['rảnh'], ['quán', 'gì,', 'ở', 'đâu'], ['ok.đi'], ['tùy', 'mày'], ['tại', 'quán'], ['12', 'giờ'], ['ok'], ['đang', 'chạy_qua'], ['hiểu', 'rồi'], ['ok'], ['được'], ['Đi', 'anh', 'ơi'], ['Dạ', 'anh'], ['đói', 'vl', 'bro'], ['ok', 'bro'], ['ăn', 'gà_rán', 'đi'], ['kfc', 'gần', 'nhà'], ['rẻ', 'lắm'], ['tầm', '100k'], ['rồi'], ['ngon'], ['ok', 'bro'], ['đi', 'luôn'], ['bánh_tráng_trộn', 'đi'], ['với', 'mày', 'thì', 't', 'không', 'đi'], ['tao', 'thèm', 'ăn_cơm', 'tấm'], ['không', 'thích', 'vì', 'quá', 'thích'], ['ừ,', 'đỉnh', 'của', 'chóp'], ['Quán', 'nào'], ['ok', 'm'], ['Ừ', 'đi', 'ăn.'], ['Tao', 'tính', 'ăn_sáng', 'với', 'ăn', 'trưa', 'với', 'ăn', 'sáng.'], ['Tiền', 'là', 'biển.'], ['Ăn', 'sáng', 'đi', 'trưa', 'khỏi', 'ăn.'], ['Ra', 'quán', 'hủ_tiếu', 'đi.'], ['Thôi', 'ăn_cái', 'đó', 'cho', 'có', 'nước.'], ['ăn_thịt', 'lợn?'], ['cocacola'], ['gia_đình'], ['gia_đình'], ['bạn_bè'], ['ăn', 'gà_rán'], ['chơi', 'cờ_vây'], ['học', 'và_ngủ'], ['ngủ'], ['cơm', 'bố', 'nấu'], ['Lẩu', 'bò', 'đi'], ['Quán', 'gần', 'trường', 'đó'], ['Để', 'rủ', 'thêm'], ['Ăn', 'gì', 'ngọt_ngọt'], ['Ăn'], ['Vậy', 'ăn', 'quán', 'gần', 'trường', 'đi'], ['Đi.'], ['Cơm', 'tắm.'], ['Biết.'], ['Cuối', 'đường', 'quẹo', 'phải.'], ['ghiền', 'bún_đậu'], ['ăn_bún', 'đậu'], ['best', 'là', 'bún_đậu', 'Tiến', 'Hải'], ['tối', 'bận', 'rồi'], ['ok', 'luôn'], ['Fastfood'], ['Không'], [\"McDonald's\"], ['2-2A', 'Đ.', 'Trần', 'Hưng', 'Đạo,', 'Phường', 'Phạm', 'Ngũ', 'Lão,', 'Quận', '1,', 'Thành', 'phố', 'Hồ', 'Chí', 'Minh', '700000'], ['Bạn', 'bè'], ['mì_tôm'], ['nhà'], ['gì', 'cũng', 'được'], ['bún', 'bò'], ['ăn_cơm'], ['cơm', 'tấm'], ['nhà'], ['đi'], ['ăn_ở', 'đâu'], ['vậy_sao', 'rủ'], ['tao', 'cũng', 'không_biết', 'nữa'], ['vậy', 'thôi', 'nghỉ', 'khỏe'], ['ok'], ['OK'], ['Đâu', 'cũng', 'được'], ['Gì', 'cũng', 'được'], ['Ai', 'cũng', 'được'], ['OK'], ['Ok,', 'rảnh.'], ['Được.', 'Mai', 'tao', 'đi.'], ['Thịt', 'bò.'], ['Quán', 'gần', 'nhà', 'tao', 'nè.'], ['Ừm.', 'Được', 'luôn.'], ['Ok,', 'để', 'tao', 'mời.'], ['đi', 'chứ'], ['Cơm', 'tấm'], ['Kí', 'túc_xá'], ['25k'], ['Đủ', 'loại'], ['10-15k'], ['Bún', 'đậu'], ['Gà', 'rán'], ['Không', 'biết'], ['ok'], ['9h'], ['OK'], ['Đâu', 'cũng', 'được'], ['Gì', 'cũng', 'được'], ['Ai', 'cũng', 'được'], ['OK'], ['chời', 'ơi', 'tha', 'cho', 'tao', 'đi'], ['chuối', 'chiên', ':))'], ['chổ', 'cũ', 'nha'], ['nấm'], ['đồ', 'uống', 'ít', 'ngọt'], ['Canh', 'gà', 'tiềm,', 'thịt', 'nướng,', 'lẩu.'], ['Thịt', 'sườn', 'nướng'], ['Nhà', 'hàng', 'đối_diện', 'đi'], ['Không', 'đi', 'được'], ['Bún', 'than'], ['Uh', 'bún_chả'], ['Ok'], ['Có'], ['Ok'], ['Ăn', 'gì', 'cũng', 'được'], ['ok'], ['ok'], ['gì', 'cũng', 'được'], ['không'], ['qua', 'quận', '10', 'đi'], ['bò'], ['Thị', 'trấn', 'bò'], ['Okay', 'ăn'], ['Ăn', 'gà', 'đi'], ['Ăn', 'ở', 'Texas'], ['Đón', 'tao', 'nha'], ['Giờ', 'đi'], ['Okay'], ['ok'], ['Quận', '7'], ['Cơm', 'tấm'], ['Đi'], ['ok'], ['Chưa,', 'đang', 'làm', 'vài', 'trận', 'game'], ['Cũng', 'được,', 'ăn_đồ', 'nướng', 'đi'], ['Okay,', 'nghe', 'đồn', 'ngon'], ['Đâu', 'cũng', 'được'], ['Okay'], ['Okay', 'luôn'], ['Ăn', 'gì', 'cũng', 'được'], ['Thôi!', 'GoGi', 'ngán', 'lắm'], ['Ăn', 'lẩu', 'nóng'], ['Ok!!!'], ['Bún', 'bò', 'Xưa'], ['chưa'], ['Không'], ['Rồi'], ['Quán', 'bà', '6'], ['chưa'], ['biến'], ['ăn'], ['ừ'], ['thấy', 'cũng', 'nhiều', 'người', 'khen'], ['để', 'kêu', 'thằng', 'em', 'di', 'cùng'], ['bao', 'thì', 'uống'], ['OK'], ['Đâu', 'cũng', 'được'], ['Gì', 'cũng', 'được'], ['Ai', 'cũng', 'được'], ['OK'], ['cơm_tấm'], ['ngoài', 'đường'], ['OK'], ['Lê', 'Văn', 'Lương,', 'Quận', '7'], ['Now'], ['lẩu', 'chay', 'làng', 'đại_học'], ['có'], ['có'], ['bánh_xèo', 'hoặc', 'lẩu'], ['được'], ['oke'], ['quán', 'sạch'], ['Không', 'quá', 'cay', 'là', 'được'], ['Việt', 'Nam,', 'Trung', 'Hoa...'], ['T6', ',', 'T7'], ['cua', 'hoàng', 'đế', 'đi'], ['nhà', 'hàng', 'nào?'], ['chỗ', 'này', 'được'], ['bao', 'thì', 'đi'], ['ok', 'đi', 'nè'], ['ok'], ['phở', 'đi'], ['cổng_trường'], ['oke'], ['đi', 'luôn'], ['không,tao', 'không_uống'], ['phở', 'đi'], ['cổng_trường'], ['oke'], ['đi', 'luôn'], ['không,tao', 'không_uống'], ['ăn', 'gà_rán'], ['canteen'], ['ăn'], ['đi'], ['đi'], ['không'], ['đi'], ['đi'], ['cũng', 'được'], ['đi'], ['OK'], ['Đâu', 'cũng', 'được'], ['Gì', 'cũng', 'được'], ['Ai', 'cũng', 'được'], ['Không'], ['OK'], ['3', 'triệu'], ['100', 'ngàn', '1', 'người'], ['cũ'], ['có'], ['có'], ['ở', 'trọ'], ['tao', 'ở', 'với', '2', 'đứa', 'nữa'], ['3', 'triệu', 'mỗi', 'tháng'], ['ở', 'Lê', 'Văn', 'Lương', 'gần', 'trường', 'nè'], ['không,', 'tao', 'đi_làm', 'thêm', 'vừa', 'đủ', 'tiền', 'trả', 'tiền', 'trọ'], ['Gần', 'trường'], ['Bạn', 'cấp', '3'], ['3'], ['3triệu'], ['Không'], ['Đường', 'Lê', 'Văn', 'Lương,', 'quận', '7'], ['4', 'triệu'], ['3', 'người'], ['Vui', 'tính'], ['Gần'], ['Khá', 'xa'], ['Thích'], ['Có'], ['4', 'phòng', 'ngủ'], ['có', 'camera'], ['2', 'cây', 'số'], ['màu', 'đỏ'], ['ba', 'mẹ'], ['Gần', 'Lotte', 'Mart.'], ['Đủ', 'ở'], ['Triệu', 'rưỡi', 'đổ', 'xuống'], ['Có'], ['có', 'chỗ', 'để', 'bếp', 'nhưng', 'không', 'có', 'bếp,', 'ăn', 'ngoài.'], ['Ở', 'đây', 'toàn', 'đi', 'xe', 'buýt,', 'có', 'xe', 'thì', 'để', 'trong', 'phòng,', 'ngủ', 'trên', 'gác.'], ['Đúng', 'rồi.'], ['Nào', 'tới', 'được', 'báo', 'trước'], ['1', 'triệu', '2'], ['có_thể'], ['2', 'cửa_hàng', 'tiện_lợi'], ['cần', '5', 'phút', 'đi', 'bộ'], ['tiết_kiệm', 'thời_gian'], ['tối_đa', '3', 'người'], ['quận', '7'], ['cũng', 'rẻ'], ['tốt'], ['có'], ['3', 'nghìn', 'rưỡi'], ['bạn', 'có_thể', 'kiếm', 'phòng', 'ở', 'Nhà', 'Bè'], ['an_ninh', 'ổn', 'ít', 'trộm_cắp'], ['không', 'quá', 'xa_trường', 'TDTU'], ['giá_cả', 'ưa', 'đãi', 'cho', 'sinh_viên'], ['ở', 'ghép', 'thì', 'bạn', 'đỡ', 'tiền', 'thuê', 'nhà', 'nhiều', 'phần'], ['nơi', 'thoáng_mát', 'yên_tĩnh'], ['người', 'lạ'], ['800k'], ['có'], ['không'], ['có'], ['Nhà', 'Bè'], ['cũng', 'ổn'], ['2', 'triệu', 'tháng'], ['bạn_trai'], ['không'], ['Chào', 'bạn'], ['Mình', 'ở', 'quận', 'Bình', 'Tân'], ['Phải,', 'tôi', 'mất', '1h', 'để', 'lái_xe', 'tới', 'trường'], ['Mỗi', 'tháng', '2tr'], ['Mình', 'ở', 'với_em', 'mình'], ['Tầm', '3', 'đến', '4', 'triệu', 'cho', '3', 'đến', '4', 'người'], ['Tùy', 'mày'], ['Tùy', 'mày', 'ăn_ở', 'đã'], ['Ở', 'chung', 'là', 'con_dao_hai', 'lưỡi'], ['Gần', 'nơi', 'mày', 'làm', 'hoặc', 'đi_học'], ['18', 'Nguyễn', 'Hữu', 'Thọ'], ['7'], ['ba', 'mẹ,', 'em_gái'], ['AEON'], ['nhỏ', 'tới', 'giờ'], ['500$'], ['điện', '3k', '1', 'số'], ['có'], ['5', 'người'], ['7', 'phòng'], ['có'], ['24', 'mét_vuông'], ['ở', 'trọ'], ['bạn'], ['sài', 'gòn.'], ['tầm', '2tr5', 'mỗi', 'người.'], ['không', 'nhưng', 'có', 'bách', 'hoá', 'xanh.'], ['đúng', 'rồi'], ['1tr2', 'chưa', 'tính', 'tiền', 'điện', 'nước'], ['cho', '2', 'người', 'nha', 'con'], ['vào', 'tuần', 'sau'], ['không', 'về', 'quá', '11', 'giờ'], ['đặt', 'trước', '1', 'tháng'], ['Nhà', 'Bè'], ['Tùy'], ['3', 'người'], ['3', 'triệu'], ['chung_cư'], ['an_ninh'], ['tao', 'đang', 'thuê', 'nhà', 'bên', 'Nhà', 'Bè'], ['triệu_rưỡi'], ['có_một', 'mình'], ['cửa', 'hàg', 'tiện', 'lợi,', 'hồ', 'bơi,', 'phòng', 'gym', 'từa', 'lưa'], ['5', 'đến', '10', 'phút'], ['cọc', 'trước', 'một', 'tháng'], ['mỗi', 'tháng', '200k'], ['Lê', 'văn', 'lương.'], ['siêu_thị', 'lotte.'], ['4', 'triệu', 'rưỡi.'], ['chưa.'], ['3', 'người.'], ['có.'], ['có.'], ['có.'], ['không', 'hẳn.'], ['đông,', 'toàn', 'sinh', 'viên.'], ['Nhà', 'Bè'], ['tốt.'], ['hai_triệu', 'rưỡi', '1', 'tháng'], ['bạn', 'học.'], ['nước', '20k/', '1m3.', 'Điện', 'thì', '3k.'], ['Lê', 'Văn', 'Lương,', 'Huỳnh', 'Tấn', 'Phát,', 'Nhà', 'Bè,...'], ['từ', '1,5', 'triệu', 'đến', '5', 'triệu', 'tùy', 'phòng'], ['sinh_viên', 'TDTU,', 'sinh_viên', 'Nguyễn', 'Tất', 'Thành,', 'sinh_viên', 'Tài', 'Chính', 'Marketing'], ['ở', 'kí_túc_xá', 'trong', 'trường'], ['quận', '1'], ['xung_quanh', 'trường,', 'Tôn', 'Đản', 'Quận', '4,', 'chợ', 'ẩm_thực', 'Hồ', 'Thị', 'Kỷ', 'Quận', '10,....'], ['tiệm', 'net', 'xung_quanh', 'trường,', 'cầu', 'Ánh', 'Sao,', 'Cresent', 'Mall,', 'Vivo', 'City,..'], ['thư_viện', 'trường'], ['ra', 'cổng', '3', 'coi_chừng', 'móc', 'túi,', 'không', 'xả', 'rác,', 'xếp_hàng', 'vào', 'thang', 'máy,', 'gặp', 'giáo_viên', 'và', 'người_lớn', 'phải', 'chào'], ['gần', 'trường'], ['không'], ['với', 'người_ở', 'ghép'], ['có', 'lotte_mart', 'với', 'vivo'], ['tiện', 'nhưng', 'hay', 'đi', 'trễ', 'vì', 'chủ_quan'], ['Trong', 'hẻm', 'nha'], ['Vậy', 'thôi', 'khỏi', 'về.'], ['Gần', 'trường', 'đại_học', 'TDT.'], ['Giá', 'rẻ.'], ['Nhiều', 'lắm', 'khi', 'nào', 'tao', 'dẫn', 'mày', 'đi.'], ['được'], ['tuân_thủ', 'theo', 'nội_quy', 'và', 'tham_gia', 'hoạt_động', 'thể_dục'], ['theo', 'học', 'kì,', 'đăng_ký', 'và', 'đóng', 'tiền'], ['gần', 'trường'], ['10', 'phút'], ['xe_máy'], ['3tr5'], ['3', 'đứa'], ['Có,', 'điện', 'nước', 'tính', 'chung'], ['Khoảng', '5km'], ['Còn'], ['Thuê', 'ở', 'đâu?'], ['Ở', 'chung', 'với', 'ai?'], ['phòng', 'rộng', 'không?'], ['giá', 'cả?'], ['trọ', 'an_toàn', 'không?'], ['có', 'máy_lạnh', 'không?'], ['Ừ,', 'Đồng', 'Nai'], ['Thuê', 'trọ'], ['Gần', 'Lotte', 'quận', '7'], ['Cũng', 'rẻ,', '1', 'triệu', '8', 'một', 'tháng'], ['Ở', 'cùng', '3', 'bạn', 'nữa'], ['Gần', 'phường', 'nên', 'an_ninh', 'lắm'], ['Có,', 'ca', '4', 'về', 'là', 'kẹt'], ['Có', 'cùng_với', '2', 'người', 'trưuòng', 'mình', 'và', '1', 'ở', 'Tài', 'chính', 'Marketing'], ['Nhiều'], ['Không'], ['ờ'], ['hỏi', 'thằng', 'Đăng', 'thử'], ['không', 'tao', 'kiếm', 'được', 'chỗ', 'rồi'], ['ừ', 'free', 'hết'], ['thuê', 'ngoài', 'đi,', 'trong', 'ktx', 'khó_chịu', 'lắm'], ['Trọ'], ['bên', 'Lê', 'Văn', 'Lương'], ['Bạn'], ['4'], ['2tr5/tháng'], ['quận', '7'], ['5', 'triệu', '1', 'tháng'], ['3', 'người'], ['2', 'đứa', 'bạn'], ['không'], ['chuyển_khoản'], ['1', 'năm'], ['tự', 'trả'], ['2', 'triệu', '/', 'tháng'], ['Có'], ['Tối', 'đa', '4'], ['Không'], ['chung_cư'], ['1', 'triệu', '100k'], ['3', 'đứa', 'chung', 'khoa'], ['có'], ['như', 'giá', 'nhà_nước'], ['có', 'bảo_vệ', 'nên', 'an_ninh'], ['13'], ['có'], ['dễ'], ['tuỳ', 'chỗ', 'nhưng', 'cũng', 'khá', 'rẻ'], ['tốt', 'em', 'ơi'], ['không', 'rõ'], ['rộng'], ['tạm', 'ổn'], ['bạn', 'học'], ['rất', 'ổn'], ['hiền'], ['gần', 'trường'], ['có'], ['Sài', 'Gòn'], ['Tiền', 'Giang'], ['Năm'], ['Có'], ['Quận', '8'], ['Không'], ['Nguyễn', 'Thị', 'Tần'], ['Tám'], ['Ba'], ['Hồ', 'Chí', 'Minh'], ['Chả', 'có', 'gì', 'hết'], ['Thành', 'phố'], ['quận', '11'], ['khá', 'xa'], ['Lạc', 'Long', 'Quân'], ['không', 'có'], ['1', 'tấm'], ['Quận', '3.'], ['Không', 'rõ.'], ['Không', 'hay.'], ['Không', 'biết.'], ['6', 'người'], ['3', 'phòng', 'ngủ.'], ['3', 'phòng', 'tắm.'], ['4', 'tầng.'], ['tp.hcm'], ['tp.hcm'], ['hà_nội'], ['142', 'Lê', 'Văn', 'Sỹ,', 'phường', '12,', 'Quận', 'Phú', 'Nhuận,', 'Tp.', 'Hồ', 'Chí', 'Minh'], ['đang', 'ở', 'Sài', 'Gòn'], ['với', 'mấy', 'đứa', 'bạn'], ['Huế'], ['có', 'cơm', 'hến', 'ngon'], ['bún_bò', 'Huế', 'nấu', 'với', 'ruốc'], ['Nhơn', 'Trạch', 'Đồng', 'Nai'], ['ở', 'đây'], ['quận', '11'], ['Thành', 'phố', 'Hồ', 'Chí', 'Minh'], ['tui', 'ở', 'Tân', 'Bình'], ['nhà', 'tui', 'cách', 'trường', '9km', 'lận'], ['hong,', 'xa', 'lắm'], ['TPHCM'], ['TPHCM'], ['Hà', 'Thành'], ['Quận', '7'], ['Bến', 'Tre'], ['thành_phố'], ['ở', 'chung'], ['ở', 'ở', 'nhà.'], ['ở', 'chung'], ['Bến', 'Te'], ['Mỹ', 'Tho'], ['Không', 'chắc'], ['t', 'ở', 'q6', 'lận', ':))', 'hơi', 'xa', 'hjhj'], ['có', 'nhea'], ['quê', 'tuốt', 'ngoài', 'hà_nội', 'lận'], ['cũng', 'hok', 'có', 'biết', 'nữa', 'má', ':))))', 'hong', 'có', 'zìa', 'quê', 'lâu', 'gòy'], ['ở', '19', 'NHT'], ['Mày', 'hỏi', 'để', 'đi_qua', 'ăn', 'ké', 'à'], ['Không', 'chung', 'chả', 'lẽ', 'tao', 'ở', 'với', 'mày'], ['Ăn_bám', 'gia', 'đình,', 'tự', 'hiểu', 'đi'], ['Quận', '8'], ['có'], ['thành_phố'], ['Sì', 'gòn'], ['Quảng', 'Nam'], ['ở', 'nhà'], ['Tân', 'Bình', 'hẻm', '48', 'bùi_thị', 'xuân.'], ['Có', 'nhiều', 'lắm', ',', 'rất', 'xinh', 'nữa.'], ['Nhà', 'tao', 'có', '12', 'anh_chị', 'em.'], ['Tân', 'Bình', 'hẻm', '48', 'bùi_thị', 'xuân.'], ['Có', 'nhiều', 'lắm', ',', 'rất', 'xinh', 'nữa.'], ['Nhà', 'tao', 'có', '12', 'anh_chị', 'em.'], ['Nhà', 'tao'], ['Để', 'tao', 'hỏi', 'mẹ'], ['Có'], ['Quận', '1'], ['Đường', 'phènnnn'], ['ở', 'Việt', 'Nam'], ['có'], ['quê', 'ở', 'quận', '5'], ['có', 'tiệm', 'tạp', 'hóa,', 'khách_sạn'], ['nguyễn_huệ'], ['Nha', 'Trang'], ['Ở_riêng'], ['Quận', '8'], ['10', 'phút', 'thôi'], ['Miền', 'Trung', 'nhá'], ['Mình', 'đi_làm', 'nên', 'ở_riêng', 'rồi'], ['Chi', 'vậy', 'bạn', '?'], ['Quê', 'mình', 'ở', 'Bắc', 'Giang'], ['ở', 'Việt', 'Nam'], ['có'], ['có', 'mát', 'xa'], ['gần', 'nhà', 'm'], ['Quận', '7'], ['Quy', 'Nhơn'], ['Gia', 'đình'], ['3xx', 'đường', 'Y', 'Moal,', 'phường', 'Tân', 'Lợi,', 'TP.Buôn', 'Ma', 'Thuột,', 'tỉnh', 'ĐắkLắk'], ['Đường', 'rộng', 'thênh', 'thang,', 'nhiều', 'quán', 'trà', 'sữa,', 'ăn', 'vặt.', 'Đặc_biệt', 'là', 'nhiều', 'ninja,', 'nhiều', 'người_mua', 'đường', 'và', 'nhiều', 'dân', 'chơi.'], ['Sài', 'Gòn'], ['Tân', 'Bình'], ['Thành', 'phố', 'Vũng', 'Tàu'], ['Mình', 'ở', 'ngay', 'trung_tâm', 'luôn'], ['ở', '380/81', 'Lê', 'Văn', 'Lương,', 'rảnh', 'ghé', 'chơi.'], ['Tiền', 'Giang'], ['số', '2', 'đường', 'Nguyễn', 'Hữu', 'Thọ,', 'Quận', '7'], ['Lê', 'Văn', 'Lương'], ['sao', 'tôi', 'nhớ', 'được', 'chứ', '.'], ['Trong', 'tim', 'Cún'], ['ở', 'Nhà'], ['Long', 'An'], ['Long', 'An'], ['ở', 'Nhà'], ['Long', 'An'], ['Long', 'An'], ['ở', 'Nhà'], ['Long', 'An'], ['Long', 'An'], ['ở', 'đây'], ['khỏe'], ['Khỏe'], ['Nhà', 'hàng_xóm'], ['Đường', 'xích_đạo'], ['chi'], ['gần'], ['3km'], ['có'], ['chung'], ['Texas'], ['không'], ['đúng'], ['Việt', 'Nam'], ['Tân', 'Bình', 'hẻm', '48', 'bùi_thị', 'xuân.'], ['Có', 'nhiều', 'lắm', ',', 'rất', 'xinh', 'nữa.'], ['Nhiều', 'lắm', 'kể', 'ko', 'hết.'], ['hcm'], ['yup'], ['hông', 'nói'], ['yup'], ['dữ_liệu', 'cá_nhân'], ['yes'], ['xa'], ['nothing'], ['tự_lập_là', 'dở', 'rồi'], ['dữ_liệu', 'cá_nhân', 'xin_lỗi', 'không_thể', 'tiết_lộ'], ['tại_sao', 'là', 'muốn', 'chứ'], ['ở', 'nhà'], ['Lành', 'lặn'], ['Tò', 'mò', '?'], ['Quán', 'net'], ['Nguyễn', 'Thị', 'Tần'], ['tiến_quân_ca'], ['nhiều'], ['Vịnh', 'Hạ', 'Long,', 'Hội', 'An', ',...'], ['ai', 'biết'], ['Vũng', 'Tàu'], ['Vì', 'ở', 'đó', 'tôi', 'có_thể', 'tắm', 'biển.'], ['Tôi', 'rất', 'thích', 'đi', 'Đà', 'Nẵng', 'vào', 'những', 'ngày_nắng', 'đẹp'], ['Vì', 'Hà', 'Nội', 'có', 'H.'], ['Thái', 'Bình'], ['thành_phố', 'Hồ', 'Chí', 'Minh'], ['Việt', 'Nam'], ['không'], ['không'], ['phải'], ['Có.'], ['Núi', 'và', 'sông.'], ['Đẹp.'], ['Có.'], ['Núi', 'và', 'sông.'], ['Đẹp.'], ['SaPa'], ['Vì', 'ở', 'đó', 'tôi', 'có_thể', 'thấy', 'tuyết', 'rơi.'], ['Tôi', 'rất', 'thích', 'đi', 'Đà', 'Nẵng', 'vào', 'những', 'ngày_nắng', 'đẹp'], ['Vì', 'Hà', 'Nội', 'có', 'H.'], ['Ninh', 'Thuận'], ['Trái', 'nho', 'nhé.'], ['t', 'nghe_nói', 'Quảng', 'Nam', 'có', 'món', 'gì', 'mì', 'mì', 'đó', 'phải', 'không'], ['à', 'đúng', 'rồi'], ['ở', 'đó', 'có', 'chi', 'chơi', 'không'], ['haha,', 'gì', 'dữ', 'vậy'], ['Có.'], ['Dừa', 'và', 'sông.'], ['Đẹp.'], ['có', 'rất', 'nhiều'], ['đang', 'bị', 'virus', 'lại'], ['chưa_biết'], ['có', 'chứ'], ['rất', 'thân_thiện'], ['đúng', 'vậy'], ['quê', 'ở', 'Tiền', 'Giang'], ['có', 'đồ', 'ăn,', 'lúc_nào', 'cũng', 'có', 'đồ_ăn'], ['có', 'tết', 'với', 'các', 'kì', 'nghỉ', 'dài', 'như', '30-4,1-5', 'là', 'có', 'về', 'quê', 'á'], ['Phú', 'Yên'], ['Đẹp'], ['Ok', 'về'], ['63', 'tỉnh'], ['Đà_nẵng'], ['Có', 'mày'], ['Ừa', 'mày'], ['có', 'ở', 'vịnh_hạ_long', 'nè'], ['đẹp'], ['Nghệ', 'An'], ['khoảng', '1500km'], ['máy_bay'], ['miến', 'lươn,', 'kẹo', 'cu', 'đơ,', 'khoai', 'xéo,...'], ['Cửa', 'lò,', 'Quảng', 'trường', 'HCM,', 'Quê', 'Bác'], ['được'], ['Đồng', 'Tháp'], ['tháng', '6', 'này'], ['10', 'đứa', 'nữa'], ['xe_máy'], ['nhà', 'tao'], ['Có', 'mày'], ['Ừa', 'mày'], ['Hà', 'Nội'], ['bún_chả'], ['bình_thuận'], ['có', 'chứ'], ['hải_sản'], ['thanh_long'], ['nhiều'], ['phan', 'thiết,', 'mũi', 'né,', 'bàu_trắng'], ['Yêu', 'chứ'], ['Học', 'thôi'], ['Long', 'Xuyên,', 'An', 'Giang.'], ['Leo', 'đồi,', 'leo', 'núi.'], ['Hình', 'như_không'], ['Nghe', 'cũng', 'được.'], ['khó', 'à', 'nha'], ['TQ'], ['nước_mỹ'], ['nga'], ['nước', 'đường'], ['VN'], ['England'], ['thịt', 'chó'], ['có', 'chứ', 'bay'], ['hihi,', 'họ', 'chơi', 'rất', 'được'], ['Việt', 'Nam'], ['Vĩnh', 'Long'], ['Vĩnh', 'Hạ', 'Long'], ['Khu', 'du_lịch', 'Vinh', 'Sang'], ['Quê', 'tao', 'ở', 'tp', 'Hồ', 'Chí', 'Minh.'], ['Vậy', 'thì', 'tao', 'không', 'có', 'quê', 'chịu', 'chưa?'], ['dĩ_nhiên'], ['quá', 'chi', 'là', 'thân_thiện'], ['tổ_quốc', 'thân_thương'], ['rất', 'tự_hào'], ['rất', 'xinh_đẹp'], ['Trung', 'Quốc'], ['1,398', 'tỷ'], ['4', 'mùa', 'quanh_năm'], ['Chưa', 'biết'], ['Có'], ['Việt', 'Nam'], ['tiến_việt'], ['Ninh', 'Thuận'], ['Việt', 'Nam'], ['Việt'], ['Quảng', 'Bình'], ['Thành', 'Phố', 'HCM'], ['Bình', 'Tân', '-', 'bò', 'nhiều', 'hơn', 'dân'], ['Vui'], ['Ok'], ['Còn', 'tao', 'mua', 'bia'], ['Bắc', 'ninh'], ['Việt', 'Nam'], ['Không', 'có'], ['Quan', 'họ'], ['Bắc'], ['Đẹp', 'lắm', 'mày.'], ['Rồi.'], ['Dạo', 'này', 'khá', 'lạnh.'], ['Đang', 'ổn_định', 'lại'], ['Mới', 'phát_hiện', 'vài', 'ca'], ['Dừa.', 'Kẹo', 'dừa.'], ['Phở', 'là', 'ngon', 'nhất.'], ['Mùng', '10', 'tháng', '3'], ['Việt', 'Nam'], ['Miền', 'Nam'], ['HCM'], ['Quận', '7'], ['Phở', 'bò'], ['Không'], ['Bến', 'tre'], ['Tết'], ['ừ'], ['người', 'thành_phố'], ['Bắc', 'ninh'], ['Việt', 'Nam'], ['Không', 'có'], ['Quan', 'họ'], ['Bắc'], ['Đồng', 'Nai'], ['nhiều', 'không', 'kể', 'hết'], ['vườn', 'cây', 'và', 'người_thân'], ['lô', 'cao_su', 'và', 'núi_đá'], ['không'], ['Việt', 'Nam'], ['Muối', 'và', 'bánh_tráng'], ['Hoa', 'Sen'], ['Cụ', 'Lương', 'Văn', 'Chánh'], ['Tràm', 'chim,', 'Lăng', 'cụ', 'Phó', 'Bản', 'Nguyễn', 'Sinh', 'Sắc,', 'Tháp', 'Mười.'], ['Ừ,', 'mai', 'tao', 'về', 'Huế'], ['Có', 'vài', 'món', 'đặc_sản', 'và', 'địa_điểm', 'du_lịch'], ['Nem', 'lụi', 'Huế,', 'vả', 'trộn,', 'tré', 'Huế,', 'và', 'các', 'loại', 'bánh', 'như', 'bánh', 'bèo,', 'bánh', 'bột', 'lọc,', 'bánh_nậm'], ['Kinh', 'thành', 'Huế,', 'chùa', 'Thiên', 'Mụ,...'], ['Được,', 'tao', 'dẫn', 'đi_chơi', 'cho_biết'], ['Đắk', 'Lắk'], ['Đắk', 'Lắk', 'luôn'], ['Việt', 'Nam', 'nhé'], ['năm', '2017'], ['có'], ['Quảng', 'Ngãi'], ['nhiều', 'lắm'], ['don'], ['tầm', '900km'], ['tầm', '15', 'tiếng', 'đồng_hồ'], ['Nghệ', 'An'], ['Có', 'đồng', 'ruộng', 'à'], ['Cu', 'đơ'], ['Xa', 'lắm'], ['Đi', 'tàu', '2', 'ngày', 'đấy'], ['Việt', 'Nam'], ['Châu', 'Á'], ['Miền', 'Nam'], ['Có'], ['Nhiều', 'gái', 'đẹp'], ['Thật'], ['Ừ,', 'mai', 'tao', 'về', 'Huế'], ['Có', 'vài', 'món', 'đặc_sản', 'và', 'địa_điểm', 'du_lịch'], ['Nem', 'lụi', 'Huế,', 'vả', 'trộn,', 'tré', 'Huế,', 'và', 'các', 'loại', 'bánh', 'như', 'bánh', 'bèo,', 'bánh', 'bột', 'lọc,', 'bánh_nậm'], ['Kinh', 'thành', 'Huế,', 'chùa', 'Thiên', 'Mụ,...'], ['Được,', 'tao', 'dẫn', 'đi_chơi', 'cho_biết'], ['Săn', 'bắt', 'hái_lượm'], ['Núi', 'Bà', 'Rá'], ['Bình', 'Định'], ['Có', 'chứ'], ['Bình', 'Dương'], ['Về', 'chứ', 'sao', 'không'], ['Tiền', 'Giang'], ['đi', 'không', 'hết', 'ấy', 'chứ'], ['đi', 'được', 'thì', 'cứ', 'alo'], ['chính_xác'], ['ừm,', 'có', 'cả', 'biển', 'nữa'], ['ăn', 'ngập', 'mặt'], ['Bắc', 'ninh'], ['Việt', 'Nam'], ['Không', 'có'], ['Quan', 'họ'], ['Bắc'], ['cả', 'hai'], ['gần', 'gia_đình'], ['năng_động', 'hơn'], ['Phan', 'Thiết', 'và', 'Đà', 'Lạt'], ['mát', 'mẻ,', 'yên_tĩnh'], ['cái', 'nóng', 'của', 'phố_biển'], ['Hà', 'Tây'], ['VietNam'], ['Hồ', 'Hoàn', 'Kiếm', 'hay_là', 'chợ', 'đêm', 'Hà', 'Nội'], ['có'], ['Vịnh', 'Hạ', 'Long'], ['Đã', 'lên', 'xã'], ['có', 'chứ'], ['Tinh', 'thần', 'yêu_nước'], ['Có'], ['cần', 'giờ'], ['quê', 'mình', 'đẹp', 'lắm'], ['uhm', 'đúng', 'vậy'], ['Việt', 'Nam', 'Hồ', 'Chí', 'Minh'], ['ok', 'mày', 'chở', 'nha'], ['Ninh', 'bình'], ['yêu', 'nhiều'], ['VIệt', 'nam'], ['331.212', 'km²'], ['91', 'triệu'], ['thịt', 'dê', 'cơm', 'cháy'], ['Hà', 'Nội'], ['cua'], ['Rừng', 'sát'], ['Bắc', 'ninh'], ['Việt', 'Nam'], ['Không', 'có'], ['Quan', 'họ'], ['Bắc'], ['Mẹ'], ['Còn', 'phải', 'hỏi'], ['Chọn', 'mày'], ['Không', 'cần', 'biết'], ['2'], ['bàn_chân'], ['chim_nướng'], ['không_biết'], ['tôi', 'có', 'giàu', 'đâu', 'mà', 'hỏi'], ['Chưa'], ['Gì', 'cũng', 'được'], ['Đâu', 'cũng', 'được'], ['Muốn', 'ăn', 'gì_thì', 'ăn'], ['thích', 'đi', 'Nha', 'Trang', 'ăn_bún', 'sứa'], ['đồng_ý', 'luôn'], ['tao_thích', 'ăn', 'hủ_tiếu', 'mì', 'nhưng', 'ra', 'cầu', 'Kênh', 'Tẻ', 'ăn', 'đi.'], ['đi', 'cafe', 'nhưng', 'đừng', 'chạy_bộ'], ['tao_thích', 'lẩu', 'cá_kèo', 'hơn'], ['chưa', 'làm', 'cái', 'nào', 'hết'], ['tao', 'còn', 'đang', 'tìm', 'người_làm', 'rồi'], ['chán', 'cơm', 'thèm', 'hủ', 'tiếu,', 'tao', 'không', 'thích', 'phở'], ['đi', 'luôn'], ['ở', 'đấy', 'có', 'cháo', 'ếch', 'thôi,', 'nhưng', 'cũng', 'đi', 'ăn', 'đi.'], ['vì', 'một', 'con', 'là', 'con', 'chim', 'còn', 'một', 'con', 'là', 'con_bò'], ['tui', 'còn', 'học', 'đồng_thời', 'còn', 'phụ', 'bán_hàng', 'ở', 'nhà'], ['tui', 'thích', 'ngành', 'này', 'học', 'vì', 'nó', 'là', 'đam_mê'], ['đi_chơi', 'với', 'gd', 'thì', 'không', 'lo_nghĩ', 'về', 'tiền_bạc', 'và', 'được', 'yêu', 'thương.', 'còn', 'đi', 'với', 'bạn_bè', 'thì', 'vui', 'vẻ,', 'được', 'tán_gẫu', 'về', 'mọi', 'thứ'], ['Là', 'học_máy'], ['ML', 'là', '1', 'mảng', 'chỉ', 'của', 'AI'], ['như', 'cớt,', 't', 'muốn', 'đi_ngủ', 'liền.'], ['Là', 'gi', 'ai', 'biết'], ['Khủng', 'long', 'có', 'trước'], ['Không', 'trả_lời'], ['Hóa', '0', 'điểm,', 'đừng', 'hỏi'], ['8-bit'], ['cái', 'tên', 'hjhjhj', ':))))', 'i', 'zì', 'game'], ['chắc', 'là', 'cái', 'neo', ':v'], ['bố', 'mày', 'dí', 'buồi', 'nói'], ['Ổn.', 'Mỗi', 'tội', 'phải', 'mơ', 'nó', 'mới', 'ổn', 'thôi'], ['Tao', 'có', 'nhớ', 'gì', 'đâu'], ['Cái', 'nào', 'chả', 'đúng.', 'Mày', 'bị', 'dở_người', 'à?'], ['ở_riêng', 'vì', 'tao_thích', 'tự_do'], ['đẹp,', 'hiền,', 'ngoan', 'là', 'được'], ['là', '1', 'thứ', 'xa_xỉ', 'mà', 'có', 'tiền', 'là', 'có', 'tất_cả'], ['Tại', 'sao', 'mày', 'hỏi', 'ngu_ngốc', 'vậy', '?', 'Tại', 'nhạc_sĩ', 'ổng', 'viết', 'vậy', 'chứ', 'sao'], ['Tớ', 'tên', 'Tùng', ',', 'nhà', 'tớ', 'ở', 'Green', 'way', 'coffee', 'khu', 'dân_cư', 'Kim', 'Sơn', ',', 'tớ', 'đang', 'có', '1', 'chị_gái', 'mưa.'], ['Tớ', 'thích', 'lái', 'cậu.'], ['Tớ', 'hay_ăn', 'ở', 'vỉa_hè', 'gần', 'nhà.'], ['Tớ', 'đi', 'xe_bò', ',', 'cột', 'được', '4', 'con', 'bò.'], ['Tớ', 'tên', 'Tùng', ',', 'nhà', 'tớ', 'ở', 'Green', 'way', 'coffee', 'khu', 'dân_cư', 'Kim', 'Sơn', ',', 'tớ', 'đang', 'có', '1', 'chị_gái', 'mưa.'], ['Tớ', 'thích', 'lái', 'cậu.'], ['Tớ', 'hay_ăn', 'ở', 'vỉa_hè', 'gần', 'nhà.'], ['Tớ', 'đi', 'xe_bò', ',', 'cột', 'được', '4', 'con', 'bò.'], ['tao', 'không_biết'], ['tao', 'không_biết'], ['mày', 'khùng', 'rồi'], ['mày', 'khùng', 'rồi'], ['trái_đất', 'là', 'hình', 'elip', 'mà'], ['tao', 'không_biết'], ['tao', 'không_biết'], ['mày', 'khùng', 'rồi'], ['mày', 'khùng', 'rồi'], ['trái_đất', 'là', 'hình', 'elip', 'mà'], ['Điên', 'à', '?'], ['?????'], ['???????????'], ['Nhà', 'chi'], ['tao', 'không_biết'], ['tao', 'không_biết', 'say'], ['Biết'], ['tui', 'vừa', 'đi_học', 'vừa', 'làm', 'linh_tinh', 'bên', 'ngoài', 'đây', 'nè'], ['Giá', 'trị', 'thặng_dư', 'tư_bản', 'chủ_nghĩa', '(m)', 'là', 'một_phần', 'giá_trị', 'mới', 'do', 'lao_động', 'sống', 'tạo', 'thêm', 'ra', 'ngoài', 'giá_trị', 'hàng_hoá', 'sức', 'lao', 'động,', 'là', 'lao_động', 'không', 'được', 'trả', 'công', 'của', 'người_lao_động', 'làm', 'thuê.', 'Có', '2', 'loại', 'là', 'giá_trị', 'thặng_dư', 'tương_đối', 'và', 'giá_trị', 'thặng_dư', 'tuyệt', 'đối.'], ['Tiền', 'tệ', 'là', 'thước_đo', 'giá', 'trị,', 'dùng', 'để', 'đo_lường', 'giá_trị', 'của', 'các', 'loại', 'hàng', 'hóa.Chức', 'năng', 'của', 'tiền_tệ', 'là:', 'trao', 'đổi,', 'phương_tiện', 'thanh', 'toán,', 'tích', 'lũy.'], ['thích_nhất', 'là', 'Iron', 'Man.', 'Không', 'ghét', 'ai', 'cả.', 'Tại', 'vì', 'cốt_truyện'], ['Lươn', 'lẹo,', 'tuy', 'cảm_động', 'nhưng', 'không_chân', 'thật'], ['Chưa.', 'Cảm', 'giác', 'đó', 'đau.', 'Không', 'biết', 'làm_gì'], ['Nha', 'Trang.', 'Gầy', 'chứ.', 'Thu', 'nhập', 'không', 'ổn'], ['Thích.', 'Xinh', 'đẹp.', 'Rồi', 'ạ'], ['Chơi', 'game.', 'Tại', 'vì', 'nó', 'giải_trí'], ['Chắc', 'chắn', 'rồi'], ['chắc_chắn', 'là', 'nữ'], ['Mày', 'lên', 'làm_thinh', 'đi'], ['Đẹp', 'như', 'nhau', 'cả'], ['Mày', 'lên', 'làm_thinh', 'đi'], ['Đẹp', 'như', 'nhau', 'cả'], ['Mày', 'lên', 'làm_thinh', 'đi'], ['Đẹp', 'như', 'nhau', 'cả'], ['1,', 'ngu'], ['5'], ['Hả', '?'], ['Điên', 'hả'], ['Trái', 'đất', 'là', 'hình_phẳng'], ['éo', 'trl.'], ['Tớ', 'thích', 'lái', 'cậu.'], ['ăn', 'cậu.'], ['Đi', 'limo'], ['không'], ['không'], ['không'], ['không'], ['không'], ['Năm', 'một', 'chín', 'hồi', 'đó,', 'người', 'đứng_đầu', 'chỉ_huy'], ['Không,', 'nhớ', 'gì', 'nói', 'đó'], ['Con', 'trứng', 'gà'], ['Ngặm', 'ngón_tay', 'vào'], ['Nhà', 'vợ'], ['Đi', 'ngủ'], ['Kệ', 'nó', 'luôn'], ['Có', 'và', 'có'], ['Ừ_thì', 'rồi'], ['Tao', 'đố', 'ngược_lại', 'mày', 'đấy'], ['Hỏi', 'chúa'], ['?'], ['mày', 'khùng', 'rồi'], ['Trái', 'đất', 'là', 'hình', 'elip', 'mà'], ['Không'], ['Không'], ['Đợi', 'xíu', 'qua', 'liền'], ['Đi', 'liền'], ['có'], ['vào', 'rồi'], ['đà_lạt'], ['không'], ['đi'], ['nào', 'cũng', 'rảnh'], ['được'], ['đương_nhiên', 'là', 'có', 'rồi'], ['hỏi', 'gì', 'v', 'cha?'], ['không'], ['cút'], ['cút'], ['thứ', '6', 'tuần', 'sau'], ['ngày', 'nào', 'cũng', 'rãnh'], ['đương_nhiên', 'là', 'không', 'rồi'], ['zo'], ['Như', 'răng', 'khểnh'], ['Ờ'], ['Do', 'mày', 'nghĩ', 'thế', 'thôi'], ['thua', 'toàn', 'hack'], ['không', 'em'], ['vãi', 'hàng!'], ['bánh_mì', 'không', 'em?'], ['cút', 'ngay', 'thằng', 'hề!'], ['Ở', 'đâu?'], ['Không', 'thích,', 'làm_gì', 'nhau?'], ['Kệ', 'tui...'], ['Thích', 'thì', 'đi', 'mà', 'không', 'thích_thì', 'đi'], ['Thôi', 'ở', 'nhà.'], ['Thế', 'cơ', 'á.'], ['Tao,', 'đàn_em', 'của', 'Tài', 'chó', 'điên,', 'một_mình', 'tao', 'chấp', 'hết.'], ['Chơi', 'banh', 'đũa', 'đê.'], ['Không,bị', 'hốt', 'đi', 'bộ', 'về.'], ['thích'], ['Có'], ['không'], ['dev'], ['Kệ', 'nó,', 'không', 'quan_tâm'], ['Nên', 'mua', 'Apple'], ['Nhớ', ':\"<'], ['Đúng', 'rồi', ':)))'], ['Gì', 'cũng', 'được'], ['khum'], ['khum'], ['khum'], ['chưa', 'ăn', 'gì.'], ['chơi', 'anh', 'luôn.'], ['dạo', 'này', 'hơi', 'gầy.'], ['hôm', 'bữa', 'mới', 'có', 'job.'], ['angry'], ['Both'], ['Challenge'], ['thích', 'quất', 'đừng', 'hỏi'], ['Không', 'rảnh', 'tí', 'nào', 'cả'], ['Bận', 'tối_mắt', 'tối_mũi'], ['Nhà', 'bao', 'việc'], ['Chưa', 'có', 'nha.', 'Mình', 'đang', 'còn', 'sợ', 'ế', 'đây', 'này'], ['Chưa', 'xong.', 'Xong', 'tao', 'gửi.'], ['Mấy', 'giờ?'], ['Ui', 'giờ', 'đi', 'thì', 'đi', 'sợ', 'gì'], ['Nhào', 'vô', 'kiếm', 'sẹo'], ['Tất', 'nhiên', 'là', 'không'], ['Tại', 'vì', 'tao', 'là', 'bồ', 'của_em', 'gái', 'mày.'], ['Vì', 'mày', 'đang', 'hỏi', 'tao.'], ['Đúng', 'rồi.'], ['OK', 'nhé.'], ['Vì', 'bánh_bao', 'ngon', 'như', 'cậu', 'ý.'], ['Không', 'nha', 'dỗi', 'rồi.'], ['Tại', 'vì', 'tao', 'là', 'bồ', 'của_em', 'gái', 'mày.'], ['Vì', 'mày', 'đang', 'hỏi', 'tao.'], ['Đúng', 'rồi.'], ['OK', 'nhé.'], ['Vì', 'bánh_bao', 'ngon', 'như', 'cậu', 'ý.'], ['Không', 'nha', 'dỗi', 'rồi.'], ['Kệ', 'tao,', 'chắc', 'mày', 'cao'], ['Ok,', 'you', 'win'], ['Tao', 'không', 'thích', 'mối', 'quan_hệ', 'đồng_tính'], ['Đi', 'coi', 'lịch', 'đi', 'hỏi', 'tao', 'làm_gì'], ['Không,', 'bệnh_hoạn'], ['tao', 'cóq', 'người_yêu', 'rồi'], ['tao', 'từng', 'đi', 'đóng', 'hài', 'mà'], ['không', 'bạn', 'ơi'], ['thanks'], ['tao', 'có', 'rồi,', 'có', 'mày', 'chưa', 'có'], ['Gì', '?'], ['Thôi.', 'Thầy', 'Cường', 'khó', 'lắm'], ['Cũng', 'dễ'], ['Ăn', 'cơm'], ['Hỏi', 'chi'], ['Không'], ['Chi'], ['Đợi', 'xíu'], ['Qua', 'chở', 'đi'], ['tao', 'có', 'người_yêu', 'rồi'], ['tao', 'từng', 'đi', 'đóng', 'hài', 'mà'], ['không', 'bạn', 'ơi'], ['thanks'], ['tao', 'có', 'rồi,', 'có', 'mày', 'chưa', 'có'], ['dằn', 'thì', 'nói', 'mình', 'dơ,', 'mà', 'rút', 'lỡ', 'quác', 'nó', 'nói', 'mình', 'ngu'], ['Rồi'], ['Thôi,', 'mất_công', 'dọn', 'bàn', 'nữa'], ['Bảnh', 'như_anh', 'Khá'], ['Đạo_hàm'], ['Tại', 'cô', 'có', 'số', 'má'], ['Theo', 'mình', 'là', 'dằn', 'dơ'], ['Chai', 'nước', 'thì', 'làm'], ['Bạch', 'Mai'], ['Hét', 'to:', '“', 'Mình', 'thích', 'bạn', 'gì', 'đó”', 'trước', 'trường'], ['Tim', 'Long'], ['Bị', 'ăn', 'đập!'], ['có', '20k.'], ['hết', 'tiền.'], ['Không,', 'nghỉ_tết', 'xong', 'là', 'thi', 'giữa', 'kỳ', 'rồi.'], ['Chấp', 'trước', '10', 'điểm,', 'quánh', '50', 'điểm', '?'], ['không', 'đủ', 'tuổi'], ['chừng', 'nào', 'mình', 'kiếm', 'được', 'Thị', 'Nỡ', 'đi_rồi', 'mình', 'tặng', 'bạn', 'luôn', 'nha.'], ['muốn', 'lắm'], ['Có'], ['Thui,', 'nhìn', 'Mai', 'mà', 'Long', 'thấy', 'yêu', 'Híu', 'hơn', ':D'], ['Lúc', 'có', 'lúc', 'không'], ['Tất', 'nhiên', 'là', 'có', 'rồi'], ['Có', 'rồi'], ['Lúc', 'có', 'lúc', 'không'], ['Tất', 'nhiên', 'là', 'có', 'rồi'], ['Có', 'rồi'], ['Lúc', 'có', 'lúc', 'không'], ['Tất', 'nhiên', 'là', 'có', 'rồi'], ['Có', 'rồi'], ['Chưa'], ['Chọc', 'cười', 'tao', 'hả'], ['Hey'], ['Mày', 'có', 'bồ', 'à', '?'], ['là', 'mày'], ['Dô'], ['Ai', 'rãnh'], ['nhiều'], ['không'], ['ừ'], ['Chơi'], ['Dách'], ['Đi'], ['đi'], ['Tại', 'vì', 'tao', 'là', 'bồ', 'của_em', 'gái', 'mày.'], ['Vì', 'mày', 'đang', 'hỏi', 'tao.'], ['Đúng', 'rồi.'], ['OK', 'nhé.'], ['Vì', 'bánh_bao', 'ngon', 'như', 'cậu', 'ý.'], ['Không', 'lêu', 'lêu.'], ['có'], ['co'], ['có'], ['có'], ['không'], ['Mới', 'ăn', 'hồi', 'trưa'], ['Ở', 'nhà', 'à'], ['Hỏi', 'làm', 'cái', 'lol', 'gì'], ['Hỏi', 'chi', 'vậy?'], ['Tầm', '7', 'củ'], ['Nhạt'], ['Nhiều'], ['Ngại', 'gì', 'mà', 'không'], ['Nếu', 'bạn', 'tặng', 'tui', 'cái', 'ai', 'drew', 'thì', 'tui', 'sẵn_sàng', 'tặng', 'bạn', 'bất_cứ', 'cái', 'áo', 'nào', '2tr'], ['Tao', 'có', 'bồ,', 'mày', 'thì', 'không'], ['Tao', 'chúa', 'hề', 'mà'], ['?'], ['Tao', 'không', 'muốn', 'mày', 'buồn'], ['tao', 'có', 'rồi,', 'đừng_có', 'gạ'], ['sài_gòn'], ['không'], ['khô', 'cá'], ['5', 'tiếng'], ['có'], ['Vũng', 'Tàu'], ['bánh', 'khọt'], ['3', 'tiếng'], ['có'], ['150', 'km'], ['Sóc', 'Trăng'], ['5', 'tiếng'], ['Có', 'đầy'], ['Bánh', 'pía'], ['Được', 'nghỉ', 'thì', 'về'], ['Quảng', 'Nam.'], ['Phố', 'cổ', 'Hội', 'An'], ['Đi', 'máy_bay', 'tầm', '1', 'tiếng'], ['5', 'người'], ['Không'], ['8', 'tháng'], ['Có'], ['Có'], ['Mỳ', 'quảng'], ['Biết'], ['Tiền', 'Giang'], ['nhớ', 'chứ'], ['tất', 'nhiên', 'rồi'], ['bằng', 'xe', 'máy'], ['có', 'bánh', 'tráng'], ['Đà', 'Lạt'], ['Dâu,', 'mứt,', 'rượu', 'vang,', 'khí', 'hậu,', '...'], ['Có', 'các', 'địa_điểm', 'du', 'lịch,', 'hồ', 'Xuân', 'Hương,', 'chợ', 'đêm,', 'ăn_vặt', 'đường_phố'], ['7', 'tiếng'], ['Ngoại', 'trừ', 'tao', 'ra', 'thì', 'cả', 'nhà_ở', 'đó.'], ['Một', 'ít,', 'đa_số', 'ở', 'quê', 'gốc.'], ['Tết', 'tao', 'về'], ['Được', 'chứ'], ['thành_phố', 'Hồ', 'Chí', 'Minh'], ['1', 'năm', '2', 'lần'], ['tất_nhiên', 'rồi'], ['Tết', 'nào', 'cũng', 'về'], ['đẹp'], ['Cà', 'mau'], ['của'], ['7', 'tiếng'], ['Đất', 'Mũi'], ['có'], ['quê_mình', 'ở', 'Tiền', 'Giang'], ['quê_mình', 'gần', 'biển'], ['đặc_sản', 'quê_mình', 'có_vú', 'sữa', 'lò_rèn'], ['từ', 'đây', 'về', 'Tiền', 'Giang', 'đi', 'mất', '64km'], ['hiện_tại', 'ở', 'quê', 'có', 'cậu', 'với', 'mợ', 'mình'], ['có', 'mình', 'rất', 'nhớ_quê', 'năm', 'nào', 'cũng', 'muốn', 'về'], ['ở', 'mỹ_tho'], ['gì', 'cũng', 'ngon'], ['200', 'cây_số'], ['mọi', 'năm'], ['ăn', 'ngọt'], ['hà_nội'], ['bún_đậu'], ['khá', 'xa'], ['có', 'yêu'], ['ừ'], ['Tao', 'không'], ['Quê', 'tao', 'ở', 'Bến', 'Tre'], ['Mày', 'nghe', 'kẹo', 'dừa', 'Bến', 'Tre', 'chưa', '?'], ['Quê', 'tao', 'có', 'ông_bà'], ['Nhớ', 'chứ'], ['Sài', 'Gòn'], ['Gốc', 'Nam'], ['Từ', '1800'], ['Tất', 'nhiên'], ['Tao', 'nghĩ', 'là', 'có_thể'], ['Nhiều', 'địa_điểm', 'du_lịch'], ['Vì', 'quê_hương', 'sau_này'], ['Đủ', 'loại'], ['Không', 'hẳn'], ['Nhiều', 'lắm'], ['Tiền', 'Giang'], ['Tầm', '100km'], ['hủ_tiếu', 'Mỹ', 'Tho'], ['ông', 'nội,', 'bà', 'nội', 'và', 'mấy', 'chú'], ['địa_đạo', 'trong', 'khu', 'di_tích'], ['hưng_yên'], ['uhm,', 'cũng', 'xa'], ['nhãn_lồng'], ['cách', '50', 'km.'], ['13', 'độ', 'C', 'rất', 'lạnh.'], ['sài', 'gòn.'], ['là', 'một', 'nơi', 'đáng', 'sống.'], ['rất', 'nhiều.'], ['tầm', '20', 'phút', 'chạy', 'xe.'], ['sài', 'gòn,', 'tất_nhiên', 'rồi.'], ['ở', 'vĩnh_long'], ['là', '1', 'trong', '7', 'kì_quan', 'thế_giới'], ['bánh', 'ú,', 'cam', 'sành,', 'quả', 'thanh', 'trà,...'], ['khoảng', '132', 'km'], ['năm', 'nào', 'cũng', 'về'], ['thích', 'quê', 'hơn'], ['không_khí', 'mát', 'mẻ,', 'cây', 'nhà_lá_vườn'], ['Cầu', 'KÈ,', 'Trà', 'Vinh'], ['dừa', 'sáp'], ['rất', 'nhiều'], ['Chắc', 'chắn'], ['Có'], ['bánh', 'canh,', 'bánh', 'tét,....'], ['An', 'Giang'], ['thất_sơn', 'bảy_núi', 'chấn', 'giữ', 'linh_hồn', 'lang_thang'], ['thốt_nốt', 'với', 'mắm'], ['mát', 'chứ', 'cây', 'từa', 'lưa'], ['tầm', '172km', 'à'], ['bình', 'dương.'], ['gần.'], ['30', 'cây.'], ['đi', 'về.'], ['Củ', 'Chi'], ['người_dân', 'vui', 'tính,', 'hiếu_khách'], ['Củ', 'Mì'], ['53km'], ['4'], ['không'], ['có'], ['không'], ['nhà_mình'], ['chưa', 'rõ'], ['đi_làm'], ['thành_phố', 'Hồ', 'Chí', 'Minh'], ['không', 'có', 'đặc_sản', 'gì'], ['Đầm', 'Sen,', 'Suối', 'Tiên,', 'Đại', 'Nam,', 'phố', 'đi', 'bộ,', 'Aeon...'], ['mỗi', 'cuối_tuần'], ['không', 'có'], ['sự', 'hiện_đại', 'của', 'thành_phố', 'và', 'sự', 'vội_vàng', 'của', 'người_dân'], ['có', 'nhiều', 'cơ_hội', 'học_tập', 'và', 'làm_việc', 'và', 'sự', 'nhiệt_tình', 'của', 'người_dân'], ['Cà', 'phê', 'nè.'], ['Khoảng', '8', 'tiếng', 'á.'], ['Bảo', 'tàng', 'cà', 'phê.'], ['Tao', 'cũng', 'có_một', 'số', 'người', 'bạn', 'chơi', 'từ', 'hồi', 'cấp', '3', 'tới', 'giờ.'], ['Có', 'mấy', 'cái', 'thác_nước', 'đẹp', 'lắm.'], ['Tao', 'thấy', 'món', 'ốc', 'gần', 'nhà', 'tao', 'ngon', 'nhất.'], ['an_giang'], ['nông_thôn'], ['bánh', 'thốt', 'nốt,', 'mắm', 'Châu', 'Đốc,', 'lụa', 'Tân', 'Châu'], ['có'], ['có'], ['cô_giáo', 'lớp', '11'], ['yêu'], ['5', 'tiếng', 'đi', 'xe'], ['nhiều', 'kênh', 'đào,', 'rạch'], ['có'], ['núi', 'Cấm'], ['tượng_phật', 'Di', 'Lặt', 'lớn_nhất', 'Đông', 'Nam', 'Á'], ['Về', 'chứ'], ['Bình', 'Dương'], ['Có'], ['Vũng', 'Tàu'], ['Vui', 'chứ'], ['Mùng', '10'], ['có', 'gì', 'nổi', 'tiếng?'], ['đặc', 'sản?'], ['còn', 'yêu', 'quê', 'không?'], ['còn', 'ở', 'quê', 'không?'], ['xa', 'quê', 'lâu', 'chưa?'], ['còn', 'yêu', 'quê', 'không?'], ['thích', 'về', 'quê', 'sống', 'không?'], ['cách', 'quê', 'bao', 'xa?'], ['Ở', 'thành_phố', 'luôn'], ['Có', 'ba,', 'mẹ,', '2', 'em'], ['Cơm', 'tấm,', 'bánh_tráng_trộn'], ['Mẹ', 'bán', 'tạp', 'hóa,', 'ba', 'làm', 'nhà_nước'], ['Lớp', '3', 'với', 'lớp', '11'], ['nhớ', 'chứ'], ['có', 'bánh_xèo'], ['ok', 'tại_sao', 'không'], ['không', 'năm', 'sau', 'tao', 'mới', 'về'], ['ờ', 'tao', 'người', 'hà_nội'], ['Long', 'An'], ['40km'], ['26/12', 'âm_lịch'], ['Xe', 'máy'], ['Lạp', 'xưởng', 'tươi,', 'gạo_nàng', 'thơm', 'Chợ', 'Đào,', 'Dưa', 'hấu'], ['Ninh', 'Thuận'], ['nhiều,', 'tới', 'rồi', 'biết'], ['nho'], ['300', 'km'], ['có'], ['ổn'], ['thỉnh_thoảng'], ['có'], ['Long', 'An'], ['Ông_bà'], ['Không', 'biết'], ['Xe', 'máy'], ['Long', 'An'], ['Bánh', 'tráng'], ['khoảng', '33', 'km'], ['khoảng', '45', 'phút'], ['có', 'chợ', 'đêm'], ['có', 'chứ', 'mày'], ['có'], ['An', 'giang'], ['Một', 'mình'], ['có'], ['Cà', 'Mau'], ['cua'], ['không', 'xa', 'lắm'], ['6', 'người'], ['rất', 'nhớ'], ['rất', 'đẹp'], ['Làm', 'công'], ['Làm', 'biếng'], ['Không'], ['Cũng', 'ổn'], ['CÒn', 'khỏe'], ['Nội', 'trợ'], ['Còn', 'đi_làm'], ['Không', 'thân'], ['làm_việc', 'nhà_nước'], ['tao', 'con_một'], ['ít', 'gặp'], ['bố', 'làm', 'to'], ['mẹ', 'làm_vợ', 'bố'], ['như_hoa', 'khôi'], ['giống', 'hoa_hậu'], ['60', 'tuổi.'], ['60', 'tuổi.'], ['2', 'anh_chị_em', 'ruột.'], ['Nhiều', 'anh_chị_em', 'họ.'], ['quan_chức', 'nhà_nước'], ['tốt', 'cả'], ['hơm', 'mày', 'nhiều', 'tuổi'], ['bố', 'tôi', 'là', 'Donald', 'Trump'], ['ông', 'ấy_là', 'bác_sĩ', 'nội_khoa'], ['có'], ['họ', 'khiến', 'tôi', 'rất', 'sad'], ['4', 'người'], ['không', 'nha'], ['xa', 'hai_bên', 'như', 'nhau'], ['Trung'], ['thứ', '4', 'thì_phải'], ['con', 'út', 'trong', 'nhà'], ['đếm', 'tiền'], ['6', 'người'], ['Có'], ['tui', 'ở', 'chung', 'với', 'ba_mẹ', 'nè'], ['tui', 'có', '1', 'đứa', 'em_gái'], ['13'], ['4'], ['Em', 'gái'], ['6'], ['Có', '1', 'anh,', '1', 'em'], ['Không'], ['ở_không'], ['có'], ['mất_dạy'], ['được.'], ['hai', 'chị', 'em.'], ['đôi', 'lúc.'], ['có', '4', 'người', 'th', 'à'], ['cũng', 'ko,', '4', 'ng', 'à'], ['công_nhân', 'hoi', 'nhea', ':\">'], ['5', 'người'], ['Gia', 'đình', 'cũng', 'không', 'đông', 'lắm,', 'tầm', 'có', '20,', '30', 'người', 'gì', 'thôi'], ['Đi', 'qua', 'nước_ngoài', 'du_lịch', 'hết', 'rồi'], ['5'], ['đông'], ['không'], ['có', 'đâu', 'mà', 'đẹp'], ['sao', 'cũng', 'được'], ['5', 'người'], ['làm_ăn'], ['có'], ['trên', '21', 'tuổi'], ['đi_làm'], ['Bố', 'tao', 'là', 'CEO', 'thegioididong'], ['Mẹ', 'tao', 'làm_vợ', 'bố', 'tao.'], ['Họ', 'hàng', 'xa', 'của', 'tao', 'ở', 'Australia.'], ['Bố', 'tao', 'là', 'CEO', 'thegioididong'], ['Mẹ', 'tao', 'làm_vợ', 'bố', 'tao.'], ['Họ', 'hàng', 'xa', 'của', 'tao', 'ở', 'Australia.'], ['Hok'], ['4', 'người'], ['Thứ', 'ba', '(Tuesday)'], ['Làm', 'biếng'], ['Làm', 'việc'], ['11', 'người'], ['có', '5', 'anh_chị_em'], ['anh_cả'], ['chủ_tịch', 'nước'], ['hệ_thống', 'nhà_nước'], ['Ở', 'Nha', 'Trang'], ['4', 'người'], ['Chị'], ['Nhiều'], ['Tự', 'nhiên', 'hỏi', 'bố', 'người', 'ta', 'chi', '?'], ['Mình', 'có', 'chị', 'thôi'], ['Hỏi', 'chi', 'trời'], ['Mình', 'không', 'có', 'chị'], ['Có', 'chị', 'đâu', 'mà', 'hỏi'], ['Có', 'nhé'], ['Chưa', 'luôn'], ['Mới', 'vừa', '18'], ['nhiều'], ['ko', 'thích', 'trl'], ['anh_cả'], ['chủ_tịch', 'nước'], ['hệ_thống', 'nhà_nước'], ['Tui', 'ở', '1', 'mình'], ['Tui', 'có', '1', 'em_trai'], ['Bố', 'tài', 'xế,', 'mẹ', 'nội_trợ'], ['4'], ['Mình,', 'Bố,', 'Mẹ,', 'Chị', 'gái'], ['1+1+1+1', '=', 'số', 'người', 'trong', 'nhà'], ['Nhà', 'mình', 'trung_bình', 'thôi', 'ạ'], ['Dũng,', 'Mai,', 'Thuần,', 'An'], ['Em', 'mình', '16', 'tuổi'], ['Kinh', 'doanh'], ['đang', 'độc', 'thân.'], ['2', 'anh_em', 'và', 'tôi', 'là', 'anh', 'cả.'], ['con', 'trai.'], ['kinh', 'doanh.'], ['kinh_doanh', 'nhỏ.'], ['Đã', 'nói', 'không', 'có', 'chị_gái', 'mà.'], ['dưới', '100'], ['2', 'chị'], ['không_biết'], ['buôn_bán'], ['buôn_bán'], ['6', 'người'], ['dưới', '100'], ['2', 'chị'], ['không_biết'], ['buôn_bán'], ['buôn_bán'], ['6', 'người'], ['dưới', '100'], ['2', 'chị'], ['không_biết'], ['buôn_bán'], ['buôn_bán'], ['6', 'người'], ['7', 'người'], ['Hông', 'có', 'ai'], ['Em', 'cả'], ['Công', 'an'], ['Cảnh', 'sátị'], ['không', 'trả_lời'], ['giám_đốc'], ['có', 'chị'], ['gần'], ['đang'], ['có'], ['6'], ['có'], ['hạnh_phúc'], ['rồi'], ['Bố', 'làm', 'to'], ['Mẹ', 'tao', 'làm_vợ', 'bố', 'tao', 'và', 'là', 'má', 'của', 'tao.'], ['Không.'], ['làm_việc'], ['có'], ['có'], ['tuyệt'], ['còn'], ['báo', 'tại_gia'], ['làm', 'phi_hành_gia'], ['ko'], ['ko'], ['nan'], ['7', '8', 'người', 'gì', 'đó'], ['3', 'anh_chị_em'], ['Anh', 'út'], ['chủ_tịch', 'giả', 'nghèo', 'và', 'cái_kết'], ['Tao', 'mồ_côi', 'chị']]\n"
          ]
        }
      ]
    },
    {
      "cell_type": "code",
      "source": [
        "import nltk\n",
        "from nltk.translate.bleu_score import corpus_bleu\n",
        "#there may be several references\n",
        "BLEUscore = nltk.translate.bleu_score.corpus_bleu([c], [hypothesis])\n",
        "print(BLEUscore)"
      ],
      "metadata": {
        "colab": {
          "base_uri": "https://localhost:8080/"
        },
        "id": "Sq2nqqnrb2Jt",
        "outputId": "7f88e7f4-dbcc-4048-8b76-15daccc476d4"
      },
      "execution_count": 182,
      "outputs": [
        {
          "output_type": "stream",
          "name": "stdout",
          "text": [
            "1.0\n"
          ]
        }
      ]
    },
    {
      "cell_type": "markdown",
      "source": [
        "# EUCLID"
      ],
      "metadata": {
        "id": "B7OCSXL4DlvL"
      }
    },
    {
      "cell_type": "code",
      "source": [
        "import pandas as pd\n",
        "import numpy as np\n",
        "import nltk\n",
        "import sklearn\n",
        "nltk.download('punkt')"
      ],
      "metadata": {
        "colab": {
          "base_uri": "https://localhost:8080/"
        },
        "id": "j8znN9OOFu-_",
        "outputId": "dfb925f8-7fb4-4f61-e7bb-9b6b5dbfa976"
      },
      "execution_count": 72,
      "outputs": [
        {
          "output_type": "stream",
          "name": "stdout",
          "text": [
            "[nltk_data] Downloading package punkt to /root/nltk_data...\n",
            "[nltk_data]   Unzipping tokenizers/punkt.zip.\n"
          ]
        },
        {
          "output_type": "execute_result",
          "data": {
            "text/plain": [
              "True"
            ]
          },
          "metadata": {},
          "execution_count": 72
        }
      ]
    },
    {
      "cell_type": "code",
      "source": [
        "answers"
      ],
      "metadata": {
        "colab": {
          "base_uri": "https://localhost:8080/"
        },
        "id": "52uHgto4F-Zk",
        "outputId": "dfeec5c2-da45-49cf-b16c-f88dd197d805"
      },
      "execution_count": 73,
      "outputs": [
        {
          "output_type": "execute_result",
          "data": {
            "text/plain": [
              "array(['Dễ thương, tóc dài, da trắng', 'Có 1 bạn cùng lớp',\n",
              "       'Vì đáp ứng những yêu cầu của tao', ..., 'Anh út',\n",
              "       'chủ tịch giả nghèo và cái kết', 'Tao mồ côi chị'], dtype='<U303')"
            ]
          },
          "metadata": {},
          "execution_count": 73
        }
      ]
    },
    {
      "cell_type": "code",
      "source": [
        "y_tok"
      ],
      "metadata": {
        "colab": {
          "base_uri": "https://localhost:8080/"
        },
        "id": "NfQzGMI7HIBf",
        "outputId": "f1013b26-0382-4523-9c02-ca365ecf2b78"
      },
      "execution_count": 76,
      "outputs": [
        {
          "output_type": "execute_result",
          "data": {
            "text/plain": [
              "[['Dễ', 'thương,', 'tóc', 'dài,', 'da_trắng'],\n",
              " ['Có', '1', 'bạn', 'cùng_lớp'],\n",
              " ['Vì', 'đáp_ứng', 'những', 'yêu_cầu', 'của', 'tao'],\n",
              " ['Hay', 'nhắn_tin', 'messenger'],\n",
              " ['Có', 'đôi_khi'],\n",
              " ['Có,', 'đang', 'đợi', 'trả_lời'],\n",
              " ['Thường', 'đi', 'cùng', 'cả', 'nhóm', 'bạn'],\n",
              " ['Thích', 'phim,', 'đồ', 'ăn,', 'thể_thao'],\n",
              " ['Phim', 'ma'],\n",
              " ['chơi', 'đá', 'banh']]"
            ]
          },
          "metadata": {},
          "execution_count": 76
        }
      ]
    },
    {
      "cell_type": "code",
      "source": [
        "from numpy import argmax"
      ],
      "metadata": {
        "id": "-htOy1Q5HJuT"
      },
      "execution_count": 77,
      "outputs": []
    },
    {
      "cell_type": "code",
      "source": [
        "def transform(headlines):\n",
        "    tokens = [w for s in headlines for w in s ]\n",
        "    print()\n",
        "    print('All Tokens:')\n",
        "    print(tokens)\n",
        "\n",
        "    results = []\n",
        "    label_enc = sklearn.preprocessing.LabelEncoder()\n",
        "    onehot_enc = sklearn.preprocessing.OneHotEncoder()\n",
        "    \n",
        "    encoded_all_tokens = label_enc.fit_transform(list(set(tokens)))\n",
        "    encoded_all_tokens = encoded_all_tokens.reshape(len(encoded_all_tokens), 1)\n",
        "    \n",
        "    onehot_enc.fit(encoded_all_tokens)\n",
        "    \n",
        "    for headline_tokens in headlines:\n",
        "        print()\n",
        "        print('Original Input:', headline_tokens)\n",
        "        \n",
        "        encoded_words = label_enc.transform(headline_tokens)\n",
        "        print('Encoded by Label Encoder:', encoded_words)\n",
        "        \n",
        "        encoded_words = onehot_enc.transform(encoded_words.reshape(len(encoded_words), 1))\n",
        "        print('Encoded by OneHot Encoder:')\n",
        "        print(encoded_words)\n",
        "\n",
        "        results.append(np.sum(encoded_words.toarray(), axis=0))\n",
        "    \n",
        "    return results"
      ],
      "metadata": {
        "id": "aLNzgMCuHN9C"
      },
      "execution_count": 78,
      "outputs": []
    },
    {
      "cell_type": "code",
      "source": [
        "transformed_results = transform(y_tok)"
      ],
      "metadata": {
        "colab": {
          "base_uri": "https://localhost:8080/"
        },
        "id": "CIyPlSnsHaYZ",
        "outputId": "56f5f3de-ea1c-4b9a-8298-c3f7d973da78"
      },
      "execution_count": 79,
      "outputs": [
        {
          "output_type": "stream",
          "name": "stdout",
          "text": [
            "\n",
            "All Tokens:\n",
            "['Dễ', 'thương,', 'tóc', 'dài,', 'da_trắng', 'Có', '1', 'bạn', 'cùng_lớp', 'Vì', 'đáp_ứng', 'những', 'yêu_cầu', 'của', 'tao', 'Hay', 'nhắn_tin', 'messenger', 'Có', 'đôi_khi', 'Có,', 'đang', 'đợi', 'trả_lời', 'Thường', 'đi', 'cùng', 'cả', 'nhóm', 'bạn', 'Thích', 'phim,', 'đồ', 'ăn,', 'thể_thao', 'Phim', 'ma', 'chơi', 'đá', 'banh']\n",
            "\n",
            "Original Input: ['Dễ', 'thương,', 'tóc', 'dài,', 'da_trắng']\n",
            "Encoded by Label Encoder: [ 3 25 28 17 16]\n",
            "Encoded by OneHot Encoder:\n",
            "  (0, 3)\t1.0\n",
            "  (1, 25)\t1.0\n",
            "  (2, 28)\t1.0\n",
            "  (3, 17)\t1.0\n",
            "  (4, 16)\t1.0\n",
            "\n",
            "Original Input: ['Có', '1', 'bạn', 'cùng_lớp']\n",
            "Encoded by Label Encoder: [ 1  0 10 13]\n",
            "Encoded by OneHot Encoder:\n",
            "  (0, 1)\t1.0\n",
            "  (1, 0)\t1.0\n",
            "  (2, 10)\t1.0\n",
            "  (3, 13)\t1.0\n",
            "\n",
            "Original Input: ['Vì', 'đáp_ứng', 'những', 'yêu_cầu', 'của', 'tao']\n",
            "Encoded by Label Encoder: [ 8 34 22 29 15 24]\n",
            "Encoded by OneHot Encoder:\n",
            "  (0, 8)\t1.0\n",
            "  (1, 34)\t1.0\n",
            "  (2, 22)\t1.0\n",
            "  (3, 29)\t1.0\n",
            "  (4, 15)\t1.0\n",
            "  (5, 24)\t1.0\n",
            "\n",
            "Original Input: ['Hay', 'nhắn_tin', 'messenger']\n",
            "Encoded by Label Encoder: [ 4 21 19]\n",
            "Encoded by OneHot Encoder:\n",
            "  (0, 4)\t1.0\n",
            "  (1, 21)\t1.0\n",
            "  (2, 19)\t1.0\n",
            "\n",
            "Original Input: ['Có', 'đôi_khi']\n",
            "Encoded by Label Encoder: [ 1 35]\n",
            "Encoded by OneHot Encoder:\n",
            "  (0, 1)\t1.0\n",
            "  (1, 35)\t1.0\n",
            "\n",
            "Original Input: ['Có,', 'đang', 'đợi', 'trả_lời']\n",
            "Encoded by Label Encoder: [ 2 31 37 27]\n",
            "Encoded by OneHot Encoder:\n",
            "  (0, 2)\t1.0\n",
            "  (1, 31)\t1.0\n",
            "  (2, 37)\t1.0\n",
            "  (3, 27)\t1.0\n",
            "\n",
            "Original Input: ['Thường', 'đi', 'cùng', 'cả', 'nhóm', 'bạn']\n",
            "Encoded by Label Encoder: [ 7 32 12 14 20 10]\n",
            "Encoded by OneHot Encoder:\n",
            "  (0, 7)\t1.0\n",
            "  (1, 32)\t1.0\n",
            "  (2, 12)\t1.0\n",
            "  (3, 14)\t1.0\n",
            "  (4, 20)\t1.0\n",
            "  (5, 10)\t1.0\n",
            "\n",
            "Original Input: ['Thích', 'phim,', 'đồ', 'ăn,', 'thể_thao']\n",
            "Encoded by Label Encoder: [ 6 23 36 30 26]\n",
            "Encoded by OneHot Encoder:\n",
            "  (0, 6)\t1.0\n",
            "  (1, 23)\t1.0\n",
            "  (2, 36)\t1.0\n",
            "  (3, 30)\t1.0\n",
            "  (4, 26)\t1.0\n",
            "\n",
            "Original Input: ['Phim', 'ma']\n",
            "Encoded by Label Encoder: [ 5 18]\n",
            "Encoded by OneHot Encoder:\n",
            "  (0, 5)\t1.0\n",
            "  (1, 18)\t1.0\n",
            "\n",
            "Original Input: ['chơi', 'đá', 'banh']\n",
            "Encoded by Label Encoder: [11 33  9]\n",
            "Encoded by OneHot Encoder:\n",
            "  (0, 11)\t1.0\n",
            "  (1, 33)\t1.0\n",
            "  (2, 9)\t1.0\n"
          ]
        }
      ]
    },
    {
      "cell_type": "code",
      "source": [
        " transformed_results[3]"
      ],
      "metadata": {
        "colab": {
          "base_uri": "https://localhost:8080/"
        },
        "id": "CXyIpuDFKQx_",
        "outputId": "ca61fa85-c8cf-4d37-a4c3-5d98f44ea9f5"
      },
      "execution_count": 189,
      "outputs": [
        {
          "output_type": "execute_result",
          "data": {
            "text/plain": [
              "array([0., 0., 0., 0., 1., 0., 0., 0., 0., 0., 0., 0., 0., 0., 0., 0., 0.,\n",
              "       0., 0., 1., 0., 1., 0., 0., 0., 0., 0., 0., 0., 0., 0., 0., 0., 0.,\n",
              "       0., 0., 0., 0.])"
            ]
          },
          "metadata": {},
          "execution_count": 189
        }
      ]
    },
    {
      "cell_type": "code",
      "source": [
        "output = sess.run(outputs)\n",
        "print(output.shape)\n",
        "print(x_tok[3])\n",
        "for j in range(1):\n",
        "    print(y_tok[3])\n",
        "    for i in range(25):\n",
        "        t = np.argmin(np.sum((vectors - output[j][i]) ** 2, axis=1))\n",
        "        if keys[t] != '<PAD>':\n",
        "            print(keys[t], end=' ')\n",
        "    print()"
      ],
      "metadata": {
        "colab": {
          "base_uri": "https://localhost:8080/"
        },
        "id": "xFobKEjLAycD",
        "outputId": "05032398-b359-4be0-be68-82232f5bb303"
      },
      "execution_count": 59,
      "outputs": [
        {
          "output_type": "stream",
          "name": "stdout",
          "text": [
            "(10, 25, 400)\n",
            "['Có', 'hay', 'nói_chuyện', 'không']\n",
            "['Hay', 'nhắn_tin', 'messenger']\n",
            "<UNK> <UNK> tóc <UNK> cao_c&# \n"
          ]
        }
      ]
    },
    {
      "cell_type": "code",
      "source": [
        "print('Master Sentence: %s' % answers[3])\n",
        "for i, news_headline in enumerate(answers[:10]):\n",
        "    print('-----')\n",
        "    print('câu ', i)\n",
        "    score = sklearn.metrics.pairwise.euclidean_distances([transformed_results[i]], [transformed_results[3]])\n",
        "    print('Score: %.2f, Comparing Sentence: %s' % (score, answers[i]))"
      ],
      "metadata": {
        "colab": {
          "base_uri": "https://localhost:8080/"
        },
        "id": "kdrvZUpqdthf",
        "outputId": "55054917-2f39-48f9-b0bb-1c441e520583"
      },
      "execution_count": 188,
      "outputs": [
        {
          "output_type": "stream",
          "name": "stdout",
          "text": [
            "Master Sentence: Hay nhắn tin messenger\n",
            "-----\n",
            "câu  0\n",
            "Score: 2.83, Comparing Sentence: Dễ thương, tóc dài, da trắng\n",
            "-----\n",
            "câu  1\n",
            "Score: 2.65, Comparing Sentence: Có 1 bạn cùng lớp\n",
            "-----\n",
            "câu  2\n",
            "Score: 3.00, Comparing Sentence: Vì đáp ứng những yêu cầu của tao\n",
            "-----\n",
            "câu  3\n",
            "Score: 0.00, Comparing Sentence: Hay nhắn tin messenger\n",
            "-----\n",
            "câu  4\n",
            "Score: 2.24, Comparing Sentence: Có đôi khi\n",
            "-----\n",
            "câu  5\n",
            "Score: 2.65, Comparing Sentence: Có, đang đợi trả lời\n",
            "-----\n",
            "câu  6\n",
            "Score: 3.00, Comparing Sentence: Thường đi cùng cả nhóm bạn\n",
            "-----\n",
            "câu  7\n",
            "Score: 2.83, Comparing Sentence: Thích phim, đồ ăn, thể thao\n",
            "-----\n",
            "câu  8\n",
            "Score: 2.24, Comparing Sentence: Phim ma\n",
            "-----\n",
            "câu  9\n",
            "Score: 2.45, Comparing Sentence: chơi đá banh\n"
          ]
        }
      ]
    },
    {
      "cell_type": "code",
      "source": [
        "print('Master Sentence: %s' % answers[1])\n",
        "for i, news_headline in enumerate(answers[:10]):\n",
        "    print('-----')\n",
        "    print('câu ', i)\n",
        "    score = sklearn.metrics.pairwise.euclidean_distances([transformed_results[i]], [transformed_results[1]])\n",
        "    print('Score: %.2f, Comparing Sentence: %s' % (score, answers[i]))"
      ],
      "metadata": {
        "colab": {
          "base_uri": "https://localhost:8080/"
        },
        "id": "n5prMu3CLBB9",
        "outputId": "13782ec1-2095-486e-bcbf-f8b269301cc9"
      },
      "execution_count": 99,
      "outputs": [
        {
          "output_type": "stream",
          "name": "stdout",
          "text": [
            "Master Sentence: Có 1 bạn cùng lớp\n",
            "-----\n",
            "câu  0\n",
            "Score: 3.00, Comparing Sentence: Dễ thương, tóc dài, da trắng\n",
            "-----\n",
            "câu  1\n",
            "Score: 0.00, Comparing Sentence: Có 1 bạn cùng lớp\n",
            "-----\n",
            "câu  2\n",
            "Score: 3.16, Comparing Sentence: Vì đáp ứng những yêu cầu của tao\n",
            "-----\n",
            "câu  3\n",
            "Score: 2.65, Comparing Sentence: Hay nhắn tin messenger\n",
            "-----\n",
            "câu  4\n",
            "Score: 2.00, Comparing Sentence: Có đôi khi\n",
            "-----\n",
            "câu  5\n",
            "Score: 2.83, Comparing Sentence: Có, đang đợi trả lời\n",
            "-----\n",
            "câu  6\n",
            "Score: 2.83, Comparing Sentence: Thường đi cùng cả nhóm bạn\n",
            "-----\n",
            "câu  7\n",
            "Score: 3.00, Comparing Sentence: Thích phim, đồ ăn, thể thao\n",
            "-----\n",
            "câu  8\n",
            "Score: 2.45, Comparing Sentence: Phim ma\n",
            "-----\n",
            "câu  9\n",
            "Score: 2.65, Comparing Sentence: chơi đá banh\n"
          ]
        }
      ]
    },
    {
      "cell_type": "code",
      "source": [
        ""
      ],
      "metadata": {
        "id": "4f6yqNovNPsw"
      },
      "execution_count": null,
      "outputs": []
    }
  ]
}